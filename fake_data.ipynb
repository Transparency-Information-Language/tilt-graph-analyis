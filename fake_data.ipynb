{
 "cells": [
  {
   "cell_type": "markdown",
   "metadata": {},
   "source": [
    "# Generating fake data for neo4j analysis \n",
    "\n",
    "## Tasks \n",
    "\n",
    "* implement a way to test graph be"
   ]
  },
  {
   "cell_type": "code",
   "execution_count": 6,
   "metadata": {},
   "outputs": [],
   "source": [
    "import pandas as pd\n",
    "import numpy as np\n",
    "import requests\n",
    "from bs4 import BeautifulSoup\n",
    "import time\n",
    "import random as rd\n",
    "from scipy.stats import poisson\n",
    "import neo4j\n",
    "import matplotlib.pyplot as plt\n",
    "import seaborn as sns\n",
    "import pickle\n",
    "from tqdm import tqdm"
   ]
  },
  {
   "cell_type": "code",
   "execution_count": 7,
   "metadata": {},
   "outputs": [],
   "source": [
    "def get_table(url):\n",
    "    page = requests.get(url)\n",
    "    soup = BeautifulSoup(page.text, 'html.parser')\n",
    "    \n",
    "    elems = []\n",
    "    for child in soup.find_all('table')[0].children:\n",
    "\n",
    "        for some in child:\n",
    "            row = []\n",
    "            for i,td in enumerate(some):\n",
    "                try:\n",
    "                    row.append(td.text.replace('\\n',\"\"))\n",
    "                except:\n",
    "                    continue\n",
    "                if len(row) > 0:\n",
    "                    elems.append(row)\n",
    "\n",
    "    return elems\n",
    "    \n",
    "\n",
    "table = get_table(\"https://www.zyxware.com/articles/4344/list-of-fortune-500-companies-and-their-websites\")\n",
    "subset = [[table[i][1],table[i][3], table[i][5]]   for i in range(0,len(table), 7)]\n",
    "fortune_500 = pd.DataFrame(subset[1:], columns=subset[0])"
   ]
  },
  {
   "cell_type": "code",
   "execution_count": 8,
   "metadata": {},
   "outputs": [],
   "source": [
    "#fortune_500.to_csv(\"fortune_500\")\n",
    "\n",
    "fortune_500 = pd.read_csv('fortune_500')\n",
    "\n",
    "with open ('categories_tilt', 'rb') as fp:\n",
    "    categories = pickle.load(fp)\n",
    "\n",
    "with open ('purpose_tilt', 'rb') as fp:\n",
    "    purpose = pickle.load(fp)"
   ]
  },
  {
   "cell_type": "markdown",
   "metadata": {},
   "source": [
    "## Using the Python Driver"
   ]
  },
  {
   "cell_type": "code",
   "execution_count": 128,
   "metadata": {},
   "outputs": [],
   "source": [
    "from neo4j import GraphDatabase\n",
    "\n",
    "class exampleTilt:\n",
    "\n",
    "    \"\"\"\n",
    "    class:  exampleTilt\n",
    "    input:  - uri: bolt uri from neo4j\n",
    "            - auth: credentials for neo4j\n",
    "            - no_nodes: number of nodes to create \n",
    "            - comp_df:  dataframe with company names and websites\n",
    "            - mu_poisson_*: average no. of samples for poisson distribution\n",
    "            - reset: whether to delete all nodes in database (default False, meant for experimentation)\n",
    "\n",
    "    \"\"\"\n",
    "\n",
    "    def __init__(self, uri, auth, no_nodes, comp_df, category_list, purpose_list, mu_poisson_dataDisclosed = 2,  mu_poisson_recipients = 2, reset = False, no_clusters = 5, cluster_weight = 3):\n",
    "        self.driver = GraphDatabase.driver(uri, auth=auth)\n",
    "        self.categories = category_list\n",
    "        self.purposes = purpose_list\n",
    "        self.reset = reset\n",
    "\n",
    "        #number of nodes to push\n",
    "        self.no_nodes = no_nodes\n",
    "        \n",
    "        #company names\n",
    "        self.company_df = comp_df.head(no_nodes)\n",
    "\n",
    "        #hyperparameters\n",
    "        self.mu_poisson_dataDisclosed = mu_poisson_dataDisclosed\n",
    "        self.mu_poisson_recipients = mu_poisson_recipients\n",
    "        self.no_clusters = no_clusters\n",
    "        \n",
    "        #sort into fake clusters \n",
    "        self.company_df['cluster'] = [str(rd.randrange(no_clusters)) for _ in range(len(self.company_df))]\n",
    "\n",
    "        self.weight_scaler = cluster_weight\n",
    "        self.same_cluster = [0, 0]\n",
    "\n",
    "\n",
    "    def close(self):\n",
    "        self.driver.close()\n",
    "\n",
    "    # Create a person node.\n",
    "    @classmethod\n",
    "    def createTilt(cls, tx, id, comp_name, url, cluster):\n",
    "        tx.run(\"MERGE (t:tilt {id: 0})-[:has_meta]->(m:meta {_id: $id, name: $company_name, created: $created, modified: $placeholder, version: $placeholder, language: $placeholder,  status: $placeholder, url: $url, cluster: $cluster, _hash: $placeholder}) \",\n",
    "            id=id, \n",
    "            cluster = int(cluster),\n",
    "            company_name = comp_name, \n",
    "            created = 3, #time.strftime(\"%Y:%m:%d, %H:%M:%S\"),  we cannot use it with the merge statements because it makes the meta node unique. might have to come up with something here. placeholder it for now.\n",
    "            url = url, \n",
    "            placeholder = 'None')\n",
    "            \n",
    "    def createDataDisclosed(self, tx,comp_name, _id, cluster):\n",
    "        tx.run(\"MATCH (t:tilt)-[:has_meta]->(m:meta {name: $company_name}) \"\n",
    "               \"MERGE (t)-[:has_dataDisclosed]->(d:dataDisclosed {_id: $_id, category: $placeholder, legalBases: $placeholder, legitimateInterests: $placeholder, nonDisclosure: $placeholder, storage: $placeholder}) \"\n",
    "               \"MERGE (d)-[:has_purpose]->(p:purpose {purpose: $purpose, description: $placeholder}) \",\n",
    "                company_name = comp_name, \n",
    "                purpose = rd.choice(self.purposes),\n",
    "                _id=str(_id), \n",
    "                placeholder = 'Lorem Ipsum'      \n",
    "        )\n",
    "\n",
    "        # define weights dict\n",
    "        weights = {}\n",
    "\n",
    "        # fill with no of clusters \n",
    "        for n in range(self.no_clusters):\n",
    "            weights[f'{n}'] = 1/self.no_clusters\n",
    "\n",
    "        # increase weight for cluster of company\n",
    "        weights[cluster] = weights[cluster]*self.weight_scaler  # another hyperparameter can be how much the weight is scaled\n",
    "\n",
    "        # scale the weights\n",
    "        scaled_weights = (pd.Series(weights) / self.company_df.cluster.value_counts(normalize=True))\n",
    "\n",
    "        exclusion_list = [comp_name]\n",
    "\n",
    "        # add recipients (as many as drawn from poisson)\n",
    "        for _ in range(poisson.rvs(self.mu_poisson_recipients, size=1)[0]):\n",
    "            self.same_cluster[1] += 1\n",
    "\n",
    "            # select company to share info with df.loc[df['column_name'] == some_value]\n",
    "            possible_comps = self.company_df.loc[~self.company_df['Company'].isin(exclusion_list)]\n",
    "  \n",
    "            shared_with_comp = possible_comps.sample(n=1, weights=possible_comps.cluster.map(scaled_weights))['Company'].values[0]\n",
    "\n",
    "            if cluster == (possible_comps[possible_comps['Company'] == shared_with_comp]['cluster'].values[0]):\n",
    "                self.same_cluster[0] += 1\n",
    "\n",
    "            # create recipient\n",
    "            tx.run(\"MATCH (d:dataDisclosed {_id: $_id}) \" \n",
    "                    \"MERGE (d)-[:has_recipient]->(r:recipient {name: $name, division: $placeholder, address: $placeholder, country: $placeholder, representative: $placeholder, email: $placeholder, phone: $placeholder, category: $placeholder}) \",\n",
    "                    name = shared_with_comp,\n",
    "                    placeholder = \"Lorem Ipsum\",\n",
    "                    _id = str(_id)\n",
    "                    )\n",
    "            exclusion_list.append(shared_with_comp)\n",
    "\n",
    "    # Match and display all friendships.\n",
    "    def get_query(self, query):\n",
    "\n",
    "        \"\"\"\n",
    "        get results of any query. \n",
    "        This is not part of any of the actual main methods but allows to query the graph using cypher\n",
    "\n",
    "        \"\"\"\n",
    "\n",
    "        with self.driver.session(default_access_mode=neo4j.READ_ACCESS) as session_query:\n",
    "            tx = session_query.begin_transaction()\n",
    "            result = tx.run(query)\n",
    "            tx.commit()\n",
    "            tx.close()\n",
    "        \n",
    "        return result\n",
    "\n",
    "    @classmethod\n",
    "    def delete_nodes(cls, tx):\n",
    "        tx.run(\"MATCH (n) detach delete n\")\n",
    "\n",
    "    \n",
    "    def get_sorensen(self, tx, threshold = .99):\n",
    "        out = tx.run(\n",
    "                \"MATCH (m_1:meta)-[:has_meta]-(t:tilt)-[:has_dataDisclosed]-(d:dataDisclosed)-[:has_recipient]-(r:recipient), (m:meta) \"\n",
    "                \"WITH m_1, m, r, apoc.text.sorensenDiceSimilarity(apoc.text.clean(m.name), apoc.text.clean(r.name)) as w \"\n",
    "                #\"WITH apoc.text.levenshteinSimilarity(apoc.text.clean(m.name), apoc.text.clean(r.name)) AS w \"\n",
    "                f\"WHERE w >= {threshold} \"\n",
    "                #\"CREATE (m_1)-[c:has_sorensen]->(m) \"\n",
    "                #f\"WHERE apoc.text.sorensenDiceSimilarity(apoc.text.clean(m.name), apoc.text.clean(r.name)) >= {threshold} \"\n",
    "                            \n",
    "                \"CREATE (m_1)-[c:has_sorensen]->(m) \"\n",
    "                \"SET c.weight = w \"\n",
    "                \"RETURN COUNT(c)\")\n",
    "\n",
    "        print(\"Sorensen-relationships created:\", out.single()[0])\n",
    "\n",
    "\n",
    "    def main(self):\n",
    "        saved_bookmarks = []  # To collect the session bookmarks\n",
    "\n",
    "        if self.reset:\n",
    "            with self.driver.session() as session_del:\n",
    "                session_del.write_transaction(self.delete_nodes)\n",
    "                saved_bookmarks.append(session_del.last_bookmark())\n",
    "            print(\"Graph has been cleared\")\n",
    "\n",
    "\n",
    "        for i in tqdm(range(self.no_nodes)):\n",
    "            \n",
    "            with self.driver.session() as session_a: \n",
    "                session_a.write_transaction(self.createTilt, \n",
    "                                            str(self.company_df['Rank'][i]), \n",
    "                                            self.company_df['Company'][i], \n",
    "                                            self.company_df['Website'][i], \n",
    "                                            str(self.company_df['cluster'][i]))\n",
    "\n",
    "                for d in range(poisson.rvs(self.mu_poisson_dataDisclosed, size=1)[0]):\n",
    "                    session_a.write_transaction(self.createDataDisclosed, \n",
    "                                                self.company_df['Company'][i], \n",
    "                                                str(i)+str(d), str(self.company_df['cluster'][i]))\n",
    "                saved_bookmarks.append(session_a.last_bookmark())\n",
    "\n",
    "        print(\"recipients were created: \",self.same_cluster[1])\n",
    "\n",
    "        with self.driver.session() as session_sorensen: \n",
    "            session_sorensen.write_transaction(self.get_sorensen)\n",
    "\n",
    "            print(f\"{self.same_cluster[0]/self.same_cluster[1]*100}% of recipients were in the same cluster\")\n"
   ]
  },
  {
   "cell_type": "code",
   "execution_count": 129,
   "metadata": {},
   "outputs": [
    {
     "name": "stderr",
     "output_type": "stream",
     "text": [
      "/var/folders/zb/r42lnkhn1vjgbg6gmbnqxz6h0000gn/T/ipykernel_21717/3196366715.py:34: SettingWithCopyWarning: \n",
      "A value is trying to be set on a copy of a slice from a DataFrame.\n",
      "Try using .loc[row_indexer,col_indexer] = value instead\n",
      "\n",
      "See the caveats in the documentation: https://pandas.pydata.org/pandas-docs/stable/user_guide/indexing.html#returning-a-view-versus-a-copy\n",
      "  self.company_df['cluster'] = [str(rd.randrange(no_clusters)) for _ in range(len(self.company_df))]\n"
     ]
    },
    {
     "name": "stdout",
     "output_type": "stream",
     "text": [
      "Graph has been cleared\n"
     ]
    },
    {
     "name": "stderr",
     "output_type": "stream",
     "text": [
      "100%|██████████| 50/50 [00:03<00:00, 15.63it/s]\n"
     ]
    },
    {
     "name": "stdout",
     "output_type": "stream",
     "text": [
      "recipients were created:  114\n",
      "Sorensen-relationships created: 114\n",
      "94.73684210526315% of recipients were in the same cluster\n"
     ]
    }
   ],
   "source": [
    "fakeTilt = exampleTilt(uri = 'bolt://localhost:11003', \n",
    "                    auth = ('neo4j', 'letmein'), \n",
    "                    no_nodes= 50,\n",
    "                    comp_df= fortune_500,\n",
    "                    category_list = categories, \n",
    "                    purpose_list = purpose,\n",
    "                    mu_poisson_dataDisclosed = 1,\n",
    "                    mu_poisson_recipients= 2,\n",
    "                    cluster_weight = 100,\n",
    "                    reset=True)\n",
    "fakeTilt.main()"
   ]
  },
  {
   "cell_type": "markdown",
   "metadata": {},
   "source": [
    "## Using the GDS library for python\n",
    "\n",
    "- documentation https://neo4j.com/docs/graph-data-science-client/current/getting-started/\n",
    "- Louvain algorithm: https://www.youtube.com/watch?v=0zuiLBOIcsw\n"
   ]
  },
  {
   "cell_type": "code",
   "execution_count": 39,
   "metadata": {},
   "outputs": [],
   "source": [
    "from graphdatascience import GraphDataScience"
   ]
  },
  {
   "cell_type": "code",
   "execution_count": 40,
   "metadata": {},
   "outputs": [
    {
     "data": {
      "text/html": [
       "<div>\n",
       "<style scoped>\n",
       "    .dataframe tbody tr th:only-of-type {\n",
       "        vertical-align: middle;\n",
       "    }\n",
       "\n",
       "    .dataframe tbody tr th {\n",
       "        vertical-align: top;\n",
       "    }\n",
       "\n",
       "    .dataframe thead th {\n",
       "        text-align: right;\n",
       "    }\n",
       "</style>\n",
       "<table border=\"1\" class=\"dataframe\">\n",
       "  <thead>\n",
       "    <tr style=\"text-align: right;\">\n",
       "      <th></th>\n",
       "      <th>degreeDistribution</th>\n",
       "      <th>graphName</th>\n",
       "      <th>database</th>\n",
       "      <th>memoryUsage</th>\n",
       "      <th>sizeInBytes</th>\n",
       "      <th>nodeCount</th>\n",
       "      <th>relationshipCount</th>\n",
       "      <th>configuration</th>\n",
       "      <th>density</th>\n",
       "      <th>creationTime</th>\n",
       "      <th>modificationTime</th>\n",
       "      <th>schema</th>\n",
       "    </tr>\n",
       "  </thead>\n",
       "  <tbody>\n",
       "  </tbody>\n",
       "</table>\n",
       "</div>"
      ],
      "text/plain": [
       "Empty DataFrame\n",
       "Columns: [degreeDistribution, graphName, database, memoryUsage, sizeInBytes, nodeCount, relationshipCount, configuration, density, creationTime, modificationTime, schema]\n",
       "Index: []"
      ]
     },
     "execution_count": 40,
     "metadata": {},
     "output_type": "execute_result"
    }
   ],
   "source": [
    "gds = GraphDataScience('bolt://localhost:11003', \n",
    "                    auth = ('neo4j', 'letmein'))\n",
    "\n",
    "gds.graph.list()"
   ]
  },
  {
   "cell_type": "markdown",
   "metadata": {},
   "source": [
    "### Analysis"
   ]
  },
  {
   "cell_type": "code",
   "execution_count": 77,
   "metadata": {},
   "outputs": [
    {
     "name": "stderr",
     "output_type": "stream",
     "text": [
      "/var/folders/zb/r42lnkhn1vjgbg6gmbnqxz6h0000gn/T/ipykernel_21717/313661213.py:34: SettingWithCopyWarning: \n",
      "A value is trying to be set on a copy of a slice from a DataFrame.\n",
      "Try using .loc[row_indexer,col_indexer] = value instead\n",
      "\n",
      "See the caveats in the documentation: https://pandas.pydata.org/pandas-docs/stable/user_guide/indexing.html#returning-a-view-versus-a-copy\n",
      "  self.company_df['cluster'] = [str(rd.randrange(no_clusters)) for _ in range(len(self.company_df))]\n"
     ]
    },
    {
     "name": "stdout",
     "output_type": "stream",
     "text": [
      "Graph has been cleared\n"
     ]
    },
    {
     "name": "stderr",
     "output_type": "stream",
     "text": [
      "100%|██████████| 50/50 [00:02<00:00, 18.73it/s]\n"
     ]
    },
    {
     "name": "stdout",
     "output_type": "stream",
     "text": [
      "recipients were created:  45\n",
      "Sorensen-relationships created: 45\n",
      "15.555555555555555% of recipients were in the same cluster\n"
     ]
    },
    {
     "name": "stderr",
     "output_type": "stream",
     "text": [
      "/var/folders/zb/r42lnkhn1vjgbg6gmbnqxz6h0000gn/T/ipykernel_21717/313661213.py:34: SettingWithCopyWarning: \n",
      "A value is trying to be set on a copy of a slice from a DataFrame.\n",
      "Try using .loc[row_indexer,col_indexer] = value instead\n",
      "\n",
      "See the caveats in the documentation: https://pandas.pydata.org/pandas-docs/stable/user_guide/indexing.html#returning-a-view-versus-a-copy\n",
      "  self.company_df['cluster'] = [str(rd.randrange(no_clusters)) for _ in range(len(self.company_df))]\n"
     ]
    },
    {
     "name": "stdout",
     "output_type": "stream",
     "text": [
      "Graph has been cleared\n"
     ]
    },
    {
     "name": "stderr",
     "output_type": "stream",
     "text": [
      "100%|██████████| 50/50 [00:02<00:00, 17.87it/s]\n",
      "/var/folders/zb/r42lnkhn1vjgbg6gmbnqxz6h0000gn/T/ipykernel_21717/313661213.py:34: SettingWithCopyWarning: \n",
      "A value is trying to be set on a copy of a slice from a DataFrame.\n",
      "Try using .loc[row_indexer,col_indexer] = value instead\n",
      "\n",
      "See the caveats in the documentation: https://pandas.pydata.org/pandas-docs/stable/user_guide/indexing.html#returning-a-view-versus-a-copy\n",
      "  self.company_df['cluster'] = [str(rd.randrange(no_clusters)) for _ in range(len(self.company_df))]\n"
     ]
    },
    {
     "name": "stdout",
     "output_type": "stream",
     "text": [
      "recipients were created:  59\n",
      "Sorensen-relationships created: 59\n",
      "71.1864406779661% of recipients were in the same cluster\n",
      "Graph has been cleared\n"
     ]
    },
    {
     "name": "stderr",
     "output_type": "stream",
     "text": [
      "100%|██████████| 50/50 [00:02<00:00, 17.26it/s]\n",
      "/var/folders/zb/r42lnkhn1vjgbg6gmbnqxz6h0000gn/T/ipykernel_21717/313661213.py:34: SettingWithCopyWarning: \n",
      "A value is trying to be set on a copy of a slice from a DataFrame.\n",
      "Try using .loc[row_indexer,col_indexer] = value instead\n",
      "\n",
      "See the caveats in the documentation: https://pandas.pydata.org/pandas-docs/stable/user_guide/indexing.html#returning-a-view-versus-a-copy\n",
      "  self.company_df['cluster'] = [str(rd.randrange(no_clusters)) for _ in range(len(self.company_df))]\n"
     ]
    },
    {
     "name": "stdout",
     "output_type": "stream",
     "text": [
      "recipients were created:  43\n",
      "Sorensen-relationships created: 43\n",
      "86.04651162790698% of recipients were in the same cluster\n",
      "Graph has been cleared\n"
     ]
    },
    {
     "name": "stderr",
     "output_type": "stream",
     "text": [
      "100%|██████████| 50/50 [00:03<00:00, 16.32it/s]\n",
      "/var/folders/zb/r42lnkhn1vjgbg6gmbnqxz6h0000gn/T/ipykernel_21717/313661213.py:34: SettingWithCopyWarning: \n",
      "A value is trying to be set on a copy of a slice from a DataFrame.\n",
      "Try using .loc[row_indexer,col_indexer] = value instead\n",
      "\n",
      "See the caveats in the documentation: https://pandas.pydata.org/pandas-docs/stable/user_guide/indexing.html#returning-a-view-versus-a-copy\n",
      "  self.company_df['cluster'] = [str(rd.randrange(no_clusters)) for _ in range(len(self.company_df))]\n"
     ]
    },
    {
     "name": "stdout",
     "output_type": "stream",
     "text": [
      "recipients were created:  51\n",
      "Sorensen-relationships created: 51\n",
      "92.15686274509804% of recipients were in the same cluster\n",
      "Graph has been cleared\n"
     ]
    },
    {
     "name": "stderr",
     "output_type": "stream",
     "text": [
      "100%|██████████| 50/50 [00:02<00:00, 19.01it/s]\n"
     ]
    },
    {
     "name": "stdout",
     "output_type": "stream",
     "text": [
      "recipients were created:  42\n",
      "Sorensen-relationships created: 42\n",
      "85.71428571428571% of recipients were in the same cluster\n"
     ]
    },
    {
     "name": "stderr",
     "output_type": "stream",
     "text": [
      "/var/folders/zb/r42lnkhn1vjgbg6gmbnqxz6h0000gn/T/ipykernel_21717/313661213.py:34: SettingWithCopyWarning: \n",
      "A value is trying to be set on a copy of a slice from a DataFrame.\n",
      "Try using .loc[row_indexer,col_indexer] = value instead\n",
      "\n",
      "See the caveats in the documentation: https://pandas.pydata.org/pandas-docs/stable/user_guide/indexing.html#returning-a-view-versus-a-copy\n",
      "  self.company_df['cluster'] = [str(rd.randrange(no_clusters)) for _ in range(len(self.company_df))]\n"
     ]
    },
    {
     "name": "stdout",
     "output_type": "stream",
     "text": [
      "Graph has been cleared\n"
     ]
    },
    {
     "name": "stderr",
     "output_type": "stream",
     "text": [
      "100%|██████████| 50/50 [00:02<00:00, 17.39it/s]\n",
      "/var/folders/zb/r42lnkhn1vjgbg6gmbnqxz6h0000gn/T/ipykernel_21717/313661213.py:34: SettingWithCopyWarning: \n",
      "A value is trying to be set on a copy of a slice from a DataFrame.\n",
      "Try using .loc[row_indexer,col_indexer] = value instead\n",
      "\n",
      "See the caveats in the documentation: https://pandas.pydata.org/pandas-docs/stable/user_guide/indexing.html#returning-a-view-versus-a-copy\n",
      "  self.company_df['cluster'] = [str(rd.randrange(no_clusters)) for _ in range(len(self.company_df))]\n"
     ]
    },
    {
     "name": "stdout",
     "output_type": "stream",
     "text": [
      "recipients were created:  57\n",
      "Sorensen-relationships created: 57\n",
      "91.22807017543859% of recipients were in the same cluster\n",
      "Graph has been cleared\n"
     ]
    },
    {
     "name": "stderr",
     "output_type": "stream",
     "text": [
      "100%|██████████| 50/50 [00:02<00:00, 16.79it/s]\n"
     ]
    },
    {
     "name": "stdout",
     "output_type": "stream",
     "text": [
      "recipients were created:  71\n",
      "Sorensen-relationships created: 71\n",
      "90.14084507042254% of recipients were in the same cluster\n"
     ]
    },
    {
     "name": "stderr",
     "output_type": "stream",
     "text": [
      "/var/folders/zb/r42lnkhn1vjgbg6gmbnqxz6h0000gn/T/ipykernel_21717/313661213.py:34: SettingWithCopyWarning: \n",
      "A value is trying to be set on a copy of a slice from a DataFrame.\n",
      "Try using .loc[row_indexer,col_indexer] = value instead\n",
      "\n",
      "See the caveats in the documentation: https://pandas.pydata.org/pandas-docs/stable/user_guide/indexing.html#returning-a-view-versus-a-copy\n",
      "  self.company_df['cluster'] = [str(rd.randrange(no_clusters)) for _ in range(len(self.company_df))]\n"
     ]
    },
    {
     "name": "stdout",
     "output_type": "stream",
     "text": [
      "Graph has been cleared\n"
     ]
    },
    {
     "name": "stderr",
     "output_type": "stream",
     "text": [
      "100%|██████████| 50/50 [00:02<00:00, 17.48it/s]\n",
      "/var/folders/zb/r42lnkhn1vjgbg6gmbnqxz6h0000gn/T/ipykernel_21717/313661213.py:34: SettingWithCopyWarning: \n",
      "A value is trying to be set on a copy of a slice from a DataFrame.\n",
      "Try using .loc[row_indexer,col_indexer] = value instead\n",
      "\n",
      "See the caveats in the documentation: https://pandas.pydata.org/pandas-docs/stable/user_guide/indexing.html#returning-a-view-versus-a-copy\n",
      "  self.company_df['cluster'] = [str(rd.randrange(no_clusters)) for _ in range(len(self.company_df))]\n"
     ]
    },
    {
     "name": "stdout",
     "output_type": "stream",
     "text": [
      "recipients were created:  57\n",
      "Sorensen-relationships created: 57\n",
      "98.24561403508771% of recipients were in the same cluster\n",
      "Graph has been cleared\n"
     ]
    },
    {
     "name": "stderr",
     "output_type": "stream",
     "text": [
      "100%|██████████| 50/50 [00:02<00:00, 17.91it/s]\n"
     ]
    },
    {
     "name": "stdout",
     "output_type": "stream",
     "text": [
      "recipients were created:  51\n",
      "Sorensen-relationships created: 51\n",
      "96.07843137254902% of recipients were in the same cluster\n"
     ]
    },
    {
     "name": "stderr",
     "output_type": "stream",
     "text": [
      "/var/folders/zb/r42lnkhn1vjgbg6gmbnqxz6h0000gn/T/ipykernel_21717/313661213.py:34: SettingWithCopyWarning: \n",
      "A value is trying to be set on a copy of a slice from a DataFrame.\n",
      "Try using .loc[row_indexer,col_indexer] = value instead\n",
      "\n",
      "See the caveats in the documentation: https://pandas.pydata.org/pandas-docs/stable/user_guide/indexing.html#returning-a-view-versus-a-copy\n",
      "  self.company_df['cluster'] = [str(rd.randrange(no_clusters)) for _ in range(len(self.company_df))]\n"
     ]
    },
    {
     "name": "stdout",
     "output_type": "stream",
     "text": [
      "Graph has been cleared\n"
     ]
    },
    {
     "name": "stderr",
     "output_type": "stream",
     "text": [
      "100%|██████████| 50/50 [00:02<00:00, 19.19it/s]\n"
     ]
    },
    {
     "name": "stdout",
     "output_type": "stream",
     "text": [
      "recipients were created:  50\n",
      "Sorensen-relationships created: 50\n",
      "98.0% of recipients were in the same cluster\n"
     ]
    },
    {
     "data": {
      "image/png": "[encoded data removed]",
      "text/plain": [
       "<Figure size 432x288 with 1 Axes>"
      ]
     },
     "metadata": {
      "needs_background": "light"
     },
     "output_type": "display_data"
    }
   ],
   "source": [
    "## Some analysis\n",
    "\n",
    "rd.seed(10)\n",
    "\n",
    "#set up outcome collectors\n",
    "community_counts = []\n",
    "community_dfs = []\n",
    "\n",
    "recipient_in_cluster = []\n",
    "\n",
    "#begin the figure\n",
    "plt.figure()\n",
    "\n",
    "#iterate through a hyper parameter: here how much do we increase the weight of same cluster nodes for recipient sharing\n",
    "for prob_scale in range(1,100,10): #add the values to be iterated through\n",
    "\n",
    "    # make an instance of a database\n",
    "    fakeTilt = exampleTilt(uri = 'bolt://localhost:11003', \n",
    "                    auth = ('neo4j', 'letmein'), \n",
    "                    no_nodes= 50,\n",
    "                    comp_df= fortune_500,\n",
    "                    category_list = categories, \n",
    "                    purpose_list = purpose,\n",
    "                    mu_poisson_dataDisclosed = 1,\n",
    "                    mu_poisson_recipients= 1,\n",
    "                    cluster_weight = prob_scale,  ### Define the hyperparameter \n",
    "                    no_clusters=5,\n",
    "                    reset=True) #reset has to be true so new graphs are created\n",
    "\n",
    "    fakeTilt.main() #generate the graph\n",
    "\n",
    "    recipient_in_cluster.append(fakeTilt.same_cluster[0]/fakeTilt.same_cluster[1])\n",
    "\n",
    "    try: # get a projection of the graph \n",
    "        G,_ = gds.graph.project('prob_scale',\n",
    "                            ['meta', \n",
    "                            #'dataDisclosed', 'tilt', 'recipient'\n",
    "                                ], \n",
    "                            {#'has_meta': {\"orientation\": \"UNDIRECTED\"}, \n",
    "                            #'has_dataDisclosed': {\"orientation\": \"UNDIRECTED\"},\n",
    "                            #'has_recipient': {\"orientation\": \"UNDIRECTED\"}, \n",
    "                            'has_sorensen': {\"orientation\": \"UNDIRECTED\"}}\n",
    "                        )\n",
    "    except: \n",
    "        G.drop() # if the projection already exists, delete it and make anew\n",
    "        G,_ = gds.graph.project('prob_scale',\n",
    "                            ['meta', \n",
    "                            #'dataDisclosed', 'tilt', 'recipient'\n",
    "                                ], \n",
    "                            {#'has_meta': {\"orientation\": \"UNDIRECTED\"}, \n",
    "                            #'has_dataDisclosed': {\"orientation\": \"UNDIRECTED\"},\n",
    "                            #'has_recipient': {\"orientation\": \"UNDIRECTED\"}, \n",
    "                            'has_sorensen': {\"orientation\": \"UNDIRECTED\"}}\n",
    "                        )\n",
    "    \n",
    "    # run the louvain algorithm. \n",
    "    res = gds.louvain.mutate(G, mutateProperty = 'community', nodeLabels = ['meta'], tolerance = 10**(-5))\n",
    "    \n",
    "    # get the number of communities found\n",
    "    community_counts.append(res['communityCount'])\n",
    "\n",
    "    # collect the number of nodes in each community\n",
    "    louvain_df = gds.graph.streamNodeProperty(G, 'community')\n",
    "    community_dfs.append(louvain_df)\n",
    "    \n",
    "    #print(gds.graph.streamNodeProperties(G, ['community'], separate_property_columns=True))\n",
    "\n",
    "    # plot a k-density plot of the page-rank distribution\n",
    "    sns.kdeplot(gds.pageRank.stream(G)['score'], label = f\"{prob_scale}\")\n",
    "    plt.title(\"Page Rank distribution\")\n",
    "    \n",
    "    # delete the graph projection\n",
    "    G.drop()\n",
    "\n",
    "plt.legend()\n",
    "plt.show()"
   ]
  },
  {
   "cell_type": "code",
   "execution_count": 84,
   "metadata": {},
   "outputs": [
    {
     "name": "stdout",
     "output_type": "stream",
     "text": [
      "14\n"
     ]
    }
   ],
   "source": [
    "print(len(np.unique(louvain_df['propertyValue'])))"
   ]
  },
  {
   "cell_type": "code",
   "execution_count": 79,
   "metadata": {},
   "outputs": [
    {
     "data": {
      "image/png": "[encoded data removed]",
      "text/plain": [
       "<Figure size 432x288 with 1 Axes>"
      ]
     },
     "metadata": {
      "needs_background": "light"
     },
     "output_type": "display_data"
    }
   ],
   "source": [
    "# plotting the number of community members \n",
    "plt.figure()\n",
    "\n",
    "for it, df in enumerate(community_dfs):\n",
    "\n",
    "    sns.kdeplot(df.value_counts('propertyValue'), label = f'{it+1}')\n",
    "\n",
    "plt.title(\"Density of nodes per community\")\n",
    "plt.legend()\n",
    "plt.show()"
   ]
  },
  {
   "cell_type": "code",
   "execution_count": 80,
   "metadata": {},
   "outputs": [
    {
     "data": {
      "text/plain": [
       "Text(0, 0.5, 'No. communities')"
      ]
     },
     "execution_count": 80,
     "metadata": {},
     "output_type": "execute_result"
    },
    {
     "data": {
      "image/png": "[encoded data removed]",
      "text/plain": [
       "<Figure size 432x288 with 1 Axes>"
      ]
     },
     "metadata": {
      "needs_background": "light"
     },
     "output_type": "display_data"
    }
   ],
   "source": [
    "#plotting the number of communities \n",
    "plt.plot(range(1,100, 10), community_counts)\n",
    "plt.title(\"Number of communities detected\")\n",
    "plt.xlabel(\"Probability Scaler\")\n",
    "plt.ylabel(\"No. communities\")"
   ]
  },
  {
   "cell_type": "code",
   "execution_count": 81,
   "metadata": {},
   "outputs": [
    {
     "name": "stderr",
     "output_type": "stream",
     "text": [
      "/var/folders/zb/r42lnkhn1vjgbg6gmbnqxz6h0000gn/T/ipykernel_21717/313661213.py:34: SettingWithCopyWarning: \n",
      "A value is trying to be set on a copy of a slice from a DataFrame.\n",
      "Try using .loc[row_indexer,col_indexer] = value instead\n",
      "\n",
      "See the caveats in the documentation: https://pandas.pydata.org/pandas-docs/stable/user_guide/indexing.html#returning-a-view-versus-a-copy\n",
      "  self.company_df['cluster'] = [str(rd.randrange(no_clusters)) for _ in range(len(self.company_df))]\n"
     ]
    },
    {
     "name": "stdout",
     "output_type": "stream",
     "text": [
      "Graph has been cleared\n"
     ]
    },
    {
     "name": "stderr",
     "output_type": "stream",
     "text": [
      "100%|██████████| 100/100 [00:05<00:00, 17.60it/s]"
     ]
    },
    {
     "name": "stdout",
     "output_type": "stream",
     "text": [
      "recipients were created:  84\n",
      "Sorensen-relationships created: 84\n",
      "100.0% of recipients were in the same cluster\n"
     ]
    },
    {
     "name": "stderr",
     "output_type": "stream",
     "text": [
      "\n"
     ]
    }
   ],
   "source": [
    "fakeTilt = exampleTilt(uri = 'bolt://localhost:11003', \n",
    "                    auth = ('neo4j', 'letmein'), \n",
    "                    no_nodes= 100,\n",
    "                    comp_df= fortune_500,\n",
    "                    category_list = categories, \n",
    "                    purpose_list = purpose,\n",
    "                    mu_poisson_dataDisclosed = 1,\n",
    "                    mu_poisson_recipients= 1,\n",
    "                    cluster_weight = 10**8,  ### Define the hyperparameter \n",
    "                    no_clusters=2,\n",
    "                    reset=True) #reset has to be true so new graphs are created\n",
    "\n",
    "fakeTilt.main() #generate the graph"
   ]
  },
  {
   "cell_type": "markdown",
   "metadata": {},
   "source": [
    "## Visuals\n",
    "\n",
    "Use cypher queries to get an visualualise our database in directly in a jupyter notebook using graphistry\n",
    "\n",
    "#### Doku\n",
    "- https://hub.graphistry.com/docs/ui/index/\n",
    "- https://github.com/graphistry/pygraphistry/blob/master/demos/demos_databases_apis/neo4j/official/graphistry_bolt_tutorial_public.ipynb\n",
    "- https://hub.graphistry.com/"
   ]
  },
  {
   "cell_type": "code",
   "execution_count": 11,
   "metadata": {},
   "outputs": [],
   "source": [
    "#!pip install --user graphistry\n",
    "\n",
    "import graphistry"
   ]
  },
  {
   "cell_type": "code",
   "execution_count": 12,
   "metadata": {},
   "outputs": [],
   "source": [
    "NEO4J = {\n",
    "        'uri':'bolt://localhost:11003', \n",
    "        'auth' : ('neo4j', 'letmein')\n",
    "}\n",
    "\n",
    "graphistry.register(api=3, username='j_halkenhaeusser', password='longlivetransparency22', protocol='https', server='hub.graphistry.com')\n",
    "graphistry.register(bolt=NEO4J)\n"
   ]
  },
  {
   "cell_type": "code",
   "execution_count": 15,
   "metadata": {},
   "outputs": [
    {
     "data": {
      "text/html": [
       "\n",
       "            <iframe id=\"fd3cc94f-2766-44ba-a5c6-660f37f56757\" src=\"https://hub.graphistry.com/graph/graph.html?dataset=db796954f1a24f76aa03c4fa9744d1fa&type=arrow&viztoken=ef7708f6-66c0-4a52-bbfe-fed3a395aae4&usertag=3aa6a284-pygraphistry-0.27.1&splashAfter=1663155180&info=true\"\n",
       "                    allowfullscreen=\"true\" webkitallowfullscreen=\"true\" mozallowfullscreen=\"true\"\n",
       "                    oallowfullscreen=\"true\" msallowfullscreen=\"true\"\n",
       "                    style=\"width:100%; height:500px; border: 1px solid #DDD; overflow: hidden\"\n",
       "                    \n",
       "            >\n",
       "            </iframe>\n",
       "        \n",
       "            <script>\n",
       "                try {\n",
       "                  $(\"#fd3cc94f-2766-44ba-a5c6-660f37f56757\").bind('mousewheel', function(e) { e.preventDefault(); });\n",
       "                } catch (e) { console.error('exn catching scroll', e); }\n",
       "            </script>\n",
       "        "
      ],
      "text/plain": [
       "<IPython.core.display.HTML object>"
      ]
     },
     "execution_count": 15,
     "metadata": {},
     "output_type": "execute_result"
    }
   ],
   "source": [
    "graphistry.cypher(\"\"\"\n",
    "      match (m:meta)-[s:has_sorensen]-(n:meta), (t:meta) return t, m, s, n\n",
    "  \"\"\").plot()"
   ]
  },
  {
   "cell_type": "code",
   "execution_count": 5,
   "metadata": {},
   "outputs": [
    {
     "data": {
      "text/html": [
       "\n",
       "            <iframe id=\"74469be7-e449-4428-b7d8-6b4f36837e47\" src=\"https://hub.graphistry.com/graph/graph.html?dataset=20172b19b0704d4f83cfeb0f69db4937&type=arrow&viztoken=f0937831-77d1-4bb3-a495-9483dc6603a4&usertag=3aa6a284-pygraphistry-0.27.1&splashAfter=1663072524&info=true\"\n",
       "                    allowfullscreen=\"true\" webkitallowfullscreen=\"true\" mozallowfullscreen=\"true\"\n",
       "                    oallowfullscreen=\"true\" msallowfullscreen=\"true\"\n",
       "                    style=\"width:100%; height:500px; border: 1px solid #DDD; overflow: hidden\"\n",
       "                    \n",
       "            >\n",
       "            </iframe>\n",
       "        \n",
       "            <script>\n",
       "                try {\n",
       "                  $(\"#74469be7-e449-4428-b7d8-6b4f36837e47\").bind('mousewheel', function(e) { e.preventDefault(); });\n",
       "                } catch (e) { console.error('exn catching scroll', e); }\n",
       "            </script>\n",
       "        "
      ],
      "text/plain": [
       "<IPython.core.display.HTML object>"
      ]
     },
     "execution_count": 5,
     "metadata": {},
     "output_type": "execute_result"
    }
   ],
   "source": [
    "graphistry.cypher(\"\"\"\n",
    "      match (m:meta)-[s:has_sorensen]-(n:meta) return m, s, n\n",
    "  \"\"\").plot()"
   ]
  },
  {
   "cell_type": "markdown",
   "metadata": {},
   "source": [
    "## Histograms for various graph attributes"
   ]
  },
  {
   "cell_type": "code",
   "execution_count": 106,
   "metadata": {},
   "outputs": [
    {
     "data": {
      "text/html": [
       "<div>\n",
       "<style scoped>\n",
       "    .dataframe tbody tr th:only-of-type {\n",
       "        vertical-align: middle;\n",
       "    }\n",
       "\n",
       "    .dataframe tbody tr th {\n",
       "        vertical-align: top;\n",
       "    }\n",
       "\n",
       "    .dataframe thead th {\n",
       "        text-align: right;\n",
       "    }\n",
       "</style>\n",
       "<table border=\"1\" class=\"dataframe\">\n",
       "  <thead>\n",
       "    <tr style=\"text-align: right;\">\n",
       "      <th></th>\n",
       "      <th>degreeDistribution</th>\n",
       "      <th>graphName</th>\n",
       "      <th>database</th>\n",
       "      <th>memoryUsage</th>\n",
       "      <th>sizeInBytes</th>\n",
       "      <th>nodeCount</th>\n",
       "      <th>relationshipCount</th>\n",
       "      <th>configuration</th>\n",
       "      <th>density</th>\n",
       "      <th>creationTime</th>\n",
       "      <th>modificationTime</th>\n",
       "      <th>schema</th>\n",
       "    </tr>\n",
       "  </thead>\n",
       "  <tbody>\n",
       "  </tbody>\n",
       "</table>\n",
       "</div>"
      ],
      "text/plain": [
       "Empty DataFrame\n",
       "Columns: [degreeDistribution, graphName, database, memoryUsage, sizeInBytes, nodeCount, relationshipCount, configuration, density, creationTime, modificationTime, schema]\n",
       "Index: []"
      ]
     },
     "execution_count": 106,
     "metadata": {},
     "output_type": "execute_result"
    }
   ],
   "source": [
    "gds.graph.list()"
   ]
  },
  {
   "cell_type": "code",
   "execution_count": 132,
   "metadata": {},
   "outputs": [
    {
     "name": "stdout",
     "output_type": "stream",
     "text": [
      "meta    [cluster]\n",
      "dtype: object\n"
     ]
    },
    {
     "data": {
      "image/png": "[encoded data removed]",
      "text/plain": [
       "<Figure size 432x288 with 1 Axes>"
      ]
     },
     "metadata": {
      "needs_background": "light"
     },
     "output_type": "display_data"
    }
   ],
   "source": [
    "def get_histogram(node_type,\n",
    "                    attribute, \n",
    "                    bolt, \n",
    "                    auth,\n",
    "                    plot_type = 'histogram'): \n",
    "    \n",
    "    gds = GraphDataScience('bolt://localhost:11003', \n",
    "                    auth = ('neo4j', 'letmein'))\n",
    "\n",
    "    #make a graph projection (/get all the relevant nodes)\n",
    "    try: # get a projection of the graph \n",
    "        G,_ = gds.graph.project('make_hist',\n",
    "                    {node_type: {\"properties\": attribute}}, ### does not work because property is a string???  and it only lets me use strings to create node properties???\n",
    "                    ['has_sorensen']\n",
    "                )\n",
    "    except: \n",
    "        G = gds.graph.get('make_hist')\n",
    "        G.drop()\n",
    "        G,_ = gds.graph.project('make_hist',\n",
    "                            {node_type: {\"properties\": attribute}}, ### does not work because property is a string???  and it only lets me use strings to create node properties???\n",
    "                            ['has_sorensen']\n",
    "                        )\n",
    "\n",
    "    print(G.node_properties())\n",
    "\n",
    "    # collect the attribute\n",
    "    property_series = gds.graph.streamNodeProperty(G, attribute)\n",
    "\n",
    "    if plot_type == 'histogram':\n",
    "\n",
    "        plt.hist(property_series['propertyValue'])\n",
    "        plt.title(f\"Distribution of {attribute} across {node_type} nodes\")\n",
    "\n",
    "    if plot_type == \"density\":\n",
    "        # plot a histogram plot of the page-rank distribution\n",
    "        sns.kdeplot(gds.pageRank.stream(G)['score'], label = f\"{prob_scale}\")\n",
    "        plt.title(f\"Distribution of {attribute} across {node_type} nodes\")\n",
    "    \n",
    "\n",
    "    # delete the graph projection\n",
    "    G.drop()\n",
    "\n",
    "    plt.show()\n",
    "\n",
    "\n",
    "get_histogram(\"meta\", \n",
    "            'cluster', 'bolt://localhost:11003', \n",
    "                    auth = ('neo4j', 'letmein'))"
   ]
  },
  {
   "cell_type": "markdown",
   "metadata": {},
   "source": [
    "## Generate Nodes (function) (bulky graphql queries)"
   ]
  },
  {
   "cell_type": "code",
   "execution_count": 219,
   "metadata": {},
   "outputs": [],
   "source": [
    "def build_mutations(node_count, company_names, mu_poisson):\n",
    "\n",
    "    \"\"\"\n",
    "    func:   build_mutations\n",
    "            Generates a mutation string to pass to graphQL API that generates a node\n",
    "    \"\"\"\n",
    "\n",
    "    #define categories of data usage\n",
    "    categories = [\"Personalised Ads\", \"Social Media\", \"Cookies\", \"purpose 1\", \"purpose 2\", \"purpose 3\", \"purpose 4\", \"purpose 5\"]\n",
    "\n",
    "    #empty list with mutations\n",
    "    mutations = []\n",
    "\n",
    "    #make node_count mutations\n",
    "    for i in range(node_count):\n",
    "        # initialize\n",
    "        output_string = 'mutation { createtilts( input: [ { '\n",
    "        \n",
    "        # add tilt and meta data\n",
    "        output_string += f'_id:{{create:[{{oid: \"{rd.randrange(1000)}\"}}]}}meta:{{create:[{{_id: \"{i}\", name: \"{company_names[\"Company\"][i]}\", created: \"{time.strftime(\"%Y:%m:%d, %H:%M:%S\")}\", modified: \"None\", version: \"1\", language: \"en\", status: \"active\", url: \"{company_names[\"Website\"][i]}\", _hash:\"some hash\" }}]}}' \n",
    "        \n",
    "        output_string += 'dataDisclosed:{create:['\n",
    "        for d in range(poisson.rvs(mu_poisson, size=1)[0]):\n",
    "        # add dataDisclosed \n",
    "            output_string += f'{{_id: \"{i}_{d}\", category: \"{rd.choice(categories)}\", purposes:{{create:[{{}}]}}legalBases:{{create:[{{}}]}}legitimateInterests:{{create:[{{reasoning: \"Lorem Ipsum\", exists: \"True\"}}]}}recipients:{{create:[{{name: \"{company_names[\"Company\"][rd.randrange(500)]}\", country: \"None\", division: \"None\", address: \"None\", representative:{{create:[{{name: \"None\", email: \"None\", phone: \"None\"}}]}}category: \"None\"}}]}}storage:{{create:[{{}}]}}nonDisclosure:{{create:[{{consequences: \"Lorem Ipsum\", legalRequirement: \"False\", contractualRegulation: \"True\", obligationToProvide: \"False\"}}]}}}}'\n",
    "\n",
    "        # complete string\n",
    "        output_string += ']} }] ) {tilts {meta { name } } } }'\n",
    "\n",
    "        mutations.append(output_string)\n",
    "\n",
    "    return mutations"
   ]
  },
  {
   "cell_type": "code",
   "execution_count": 220,
   "metadata": {},
   "outputs": [
    {
     "data": {
      "text/plain": [
       "['mutation { createtilts( input: [ { _id:{create:[{oid: \"220\"}]}meta:{create:[{_id: \"0\", name: \"Walmart\", created: \"2022:08:23, 09:44:39\", modified: \"None\", version: \"1\", language: \"en\", status: \"active\", url: \"https://www.walmart.com/\", _hash:\"some hash\" }]}dataDisclosed:{create:[{_id: \"0_0\", category: \"Social Media\", purposes:{create:[{}]}legalBases:{create:[{}]}legitimateInterests:{create:[{reasoning: \"Lorem Ipsum\", exists: \"True\"}]}recipients:{create:[{name: \"DXC Technology\", country: \"None\", division: \"None\", address: \"None\", representative:{create:[{name: \"None\", email: \"None\", phone: \"None\"}]}category: \"None\"}]}storage:{create:[{}]}nonDisclosure:{create:[{consequences: \"Lorem Ipsum\", legalRequirement: \"False\", contractualRegulation: \"True\", obligationToProvide: \"False\"}]}}{_id: \"0_1\", category: \"Social Media\", purposes:{create:[{}]}legalBases:{create:[{}]}legitimateInterests:{create:[{reasoning: \"Lorem Ipsum\", exists: \"True\"}]}recipients:{create:[{name: \"Cincinnati Financial\", country: \"None\", division: \"None\", address: \"None\", representative:{create:[{name: \"None\", email: \"None\", phone: \"None\"}]}category: \"None\"}]}storage:{create:[{}]}nonDisclosure:{create:[{consequences: \"Lorem Ipsum\", legalRequirement: \"False\", contractualRegulation: \"True\", obligationToProvide: \"False\"}]}}]} }] ) {tilts {meta { name } } } }']"
      ]
     },
     "execution_count": 220,
     "metadata": {},
     "output_type": "execute_result"
    }
   ],
   "source": [
    "#hyperparameters\n",
    "\n",
    "#number of nodes\n",
    "no_nodes_hyp = 30\n",
    "\n",
    "#average number of recipients in data disclosed (drawn from poisson)\n",
    "mu_poisson_hyp = 2\n",
    "\n",
    "\n",
    "build_mutations(1, fortune_500, mu_poisson= mu_poisson_hyp)"
   ]
  },
  {
   "cell_type": "code",
   "execution_count": 306,
   "metadata": {},
   "outputs": [
    {
     "data": {
      "text/html": [
       "<div>\n",
       "<style scoped>\n",
       "    .dataframe tbody tr th:only-of-type {\n",
       "        vertical-align: middle;\n",
       "    }\n",
       "\n",
       "    .dataframe tbody tr th {\n",
       "        vertical-align: top;\n",
       "    }\n",
       "\n",
       "    .dataframe thead th {\n",
       "        text-align: right;\n",
       "    }\n",
       "</style>\n",
       "<table border=\"1\" class=\"dataframe\">\n",
       "  <thead>\n",
       "    <tr style=\"text-align: right;\">\n",
       "      <th></th>\n",
       "      <th>Unnamed: 0</th>\n",
       "      <th>Rank</th>\n",
       "      <th>Company</th>\n",
       "      <th>Website</th>\n",
       "    </tr>\n",
       "  </thead>\n",
       "  <tbody>\n",
       "    <tr>\n",
       "      <th>0</th>\n",
       "      <td>0</td>\n",
       "      <td>1</td>\n",
       "      <td>Walmart</td>\n",
       "      <td>https://www.walmart.com/</td>\n",
       "    </tr>\n",
       "    <tr>\n",
       "      <th>1</th>\n",
       "      <td>1</td>\n",
       "      <td>2</td>\n",
       "      <td>Amazon</td>\n",
       "      <td>https://www.amazon.com/</td>\n",
       "    </tr>\n",
       "    <tr>\n",
       "      <th>2</th>\n",
       "      <td>2</td>\n",
       "      <td>3</td>\n",
       "      <td>Apple</td>\n",
       "      <td>https://www.apple.com/</td>\n",
       "    </tr>\n",
       "    <tr>\n",
       "      <th>3</th>\n",
       "      <td>3</td>\n",
       "      <td>4</td>\n",
       "      <td>CVS Health</td>\n",
       "      <td>https://www.cvshealth.com/</td>\n",
       "    </tr>\n",
       "    <tr>\n",
       "      <th>4</th>\n",
       "      <td>4</td>\n",
       "      <td>5</td>\n",
       "      <td>UnitedHealth Group</td>\n",
       "      <td>https://www.unitedhealthgroup.com/</td>\n",
       "    </tr>\n",
       "    <tr>\n",
       "      <th>...</th>\n",
       "      <td>...</td>\n",
       "      <td>...</td>\n",
       "      <td>...</td>\n",
       "      <td>...</td>\n",
       "    </tr>\n",
       "    <tr>\n",
       "      <th>495</th>\n",
       "      <td>495</td>\n",
       "      <td>496</td>\n",
       "      <td>Hasbro</td>\n",
       "      <td>https://shop.hasbro.com/</td>\n",
       "    </tr>\n",
       "    <tr>\n",
       "      <th>496</th>\n",
       "      <td>496</td>\n",
       "      <td>497</td>\n",
       "      <td>Roper Technologies</td>\n",
       "      <td>https://www.ropertech.com/</td>\n",
       "    </tr>\n",
       "    <tr>\n",
       "      <th>497</th>\n",
       "      <td>497</td>\n",
       "      <td>498</td>\n",
       "      <td>ARKO</td>\n",
       "      <td>https://www.arkocorp.com/</td>\n",
       "    </tr>\n",
       "    <tr>\n",
       "      <th>498</th>\n",
       "      <td>498</td>\n",
       "      <td>499</td>\n",
       "      <td>Frontier Communications</td>\n",
       "      <td>https://frontier.com/</td>\n",
       "    </tr>\n",
       "    <tr>\n",
       "      <th>499</th>\n",
       "      <td>499</td>\n",
       "      <td>500</td>\n",
       "      <td>Ameren</td>\n",
       "      <td>https://www.ameren.com/</td>\n",
       "    </tr>\n",
       "  </tbody>\n",
       "</table>\n",
       "<p>500 rows × 4 columns</p>\n",
       "</div>"
      ],
      "text/plain": [
       "     Unnamed: 0  Rank                  Company  \\\n",
       "0             0     1                  Walmart   \n",
       "1             1     2                   Amazon   \n",
       "2             2     3                    Apple   \n",
       "3             3     4               CVS Health   \n",
       "4             4     5       UnitedHealth Group   \n",
       "..          ...   ...                      ...   \n",
       "495         495   496                   Hasbro   \n",
       "496         496   497       Roper Technologies   \n",
       "497         497   498                     ARKO   \n",
       "498         498   499  Frontier Communications   \n",
       "499         499   500                   Ameren   \n",
       "\n",
       "                                Website  \n",
       "0              https://www.walmart.com/  \n",
       "1               https://www.amazon.com/  \n",
       "2                https://www.apple.com/  \n",
       "3            https://www.cvshealth.com/  \n",
       "4    https://www.unitedhealthgroup.com/  \n",
       "..                                  ...  \n",
       "495            https://shop.hasbro.com/  \n",
       "496          https://www.ropertech.com/  \n",
       "497           https://www.arkocorp.com/  \n",
       "498               https://frontier.com/  \n",
       "499             https://www.ameren.com/  \n",
       "\n",
       "[500 rows x 4 columns]"
      ]
     },
     "execution_count": 306,
     "metadata": {},
     "output_type": "execute_result"
    }
   ],
   "source": [
    "fortune_500"
   ]
  },
  {
   "cell_type": "markdown",
   "metadata": {},
   "source": [
    "### Upload to NEO4J"
   ]
  },
  {
   "cell_type": "code",
   "execution_count": 207,
   "metadata": {},
   "outputs": [
    {
     "name": "stderr",
     "output_type": "stream",
     "text": [
      "100%|██████████| 50/50 [00:00<00:00, 272.04it/s]"
     ]
    },
    {
     "name": "stdout",
     "output_type": "stream",
     "text": [
      "Successfully Uploaded: 100.0 per. of tilts\n"
     ]
    },
    {
     "name": "stderr",
     "output_type": "stream",
     "text": [
      "\n"
     ]
    }
   ],
   "source": [
    "from tqdm import tqdm\n",
    "import re\n",
    "from gql import gql, Client\n",
    "from gql.transport.requests import RequestsHTTPTransport\n",
    "\n",
    "# console = Console()\n",
    "\n",
    "sample_transport=RequestsHTTPTransport(\n",
    "    url='http://localhost:4001/graphql',\n",
    "    use_json=True,\n",
    "    headers={\n",
    "        \"Content-type\": \"application/json\",\n",
    "    },\n",
    "    verify=False\n",
    ")\n",
    "\n",
    "client = Client(\n",
    "    #execute_timeout=20,\n",
    "    transport=sample_transport,\n",
    "    fetch_schema_from_transport=True,\n",
    ")\n",
    "\n",
    "\n",
    "successes = 0\n",
    "for i, query_string in enumerate(tqdm(build_mutations(50, fortune_500))):\n",
    "    #print(\"Query String: \", query_string)\n",
    "    try:\n",
    "        query = gql(query_string)\n",
    "        #client.execute(query)\n",
    "        successes += 1\n",
    "    except Exception as syn:\n",
    "        print(syn)\n",
    "        print(\"Error With Tilt No.\", i)\n",
    "\n",
    "print(\"Successfully Uploaded:\", 100*(successes/(i+1)), \"per. of tilts\")"
   ]
  },
  {
   "cell_type": "code",
   "execution_count": null,
   "metadata": {},
   "outputs": [],
   "source": []
  }
 ],
 "metadata": {
  "kernelspec": {
   "display_name": "Python 3.9.12 ('base')",
   "language": "python",
   "name": "python3"
  },
  "language_info": {
   "codemirror_mode": {
    "name": "ipython",
    "version": 3
   },
   "file_extension": ".py",
   "mimetype": "text/x-python",
   "name": "python",
   "nbconvert_exporter": "python",
   "pygments_lexer": "ipython3",
   "version": "3.9.12"
  },
  "orig_nbformat": 4,
  "vscode": {
   "interpreter": {
    "hash": "98a2b17e149e4e8a0b6acf04d01298b022c80a24b0767a95d910142ef5b4f869"
   }
  }
 },
 "nbformat": 4,
 "nbformat_minor": 2
}
