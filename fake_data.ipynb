{
 "cells": [
  {
   "cell_type": "markdown",
   "metadata": {},
   "source": [
    "# Generating fake data for neo4j analysis \n",
    "\n",
    "## Tasks \n",
    "\n",
    "### Intro\n",
    "- <input type=\"checkbox\" checked> incl motivation & stakeholders\n",
    "    - stakeholders such as authorities can schedule auditing based on most relevant (central) actors rather than arbitrarily \n",
    "- <input type=\"checkbox\" checked> simulationsumgebung\n",
    "\n",
    "### Simple\n",
    "- <input type=\"checkbox\" checked> Histogramm: Anzahl data categories pro controller\n",
    "- <input type=\"checkbox\" checked> Histogramm: Purposes pro controller \n",
    "- <input type=\"checkbox\" checked> Histogramm: Rechtsgrundlagen - welche am häufigsten? -> speziell: welche legitimen Interessen?\n",
    "- <input type=\"checkbox\" checked> Histogramm: Anzahl categories pro purpose\n",
    "\n",
    "### Intermediate\n",
    "- <input type=\"checkbox\" checked> Clustering data categories\n",
    "- <input type=\"checkbox\" checked> \"category c wird immer nur auf rechtsgrundlage x verarbeitet\" (verteilung der rechtsgrundlagen pro controller )\n",
    "- <input type=\"checkbox\" checked> category-bezogene ketten / nur ketten von controllers \n",
    "    - fake daten datenkategorie wird weitergereicht\n",
    "    - property auf relationship legen, die die category anzeigt\n",
    "    - ketten aus gleichen category-relationships anzeigen. \n",
    "\n",
    "### Advanced\n",
    "- <input type=\"checkbox\" checked> Sharing networks / clusters\n",
    "- <input type=\"checkbox\" checked> Anzahl purposes (pro controller / pro category / pro cluster)\n",
    "- <input type=\"checkbox\" checked> Netzwerk verändert sich über Zeit (es zentralisiert sich mehr, es clustered sich mehr, ... ) / dynamische Simulationen / horizontal\n",
    "- <input type=\"checkbox\" checked> \"Facebook kauft WhatsApp-Szenarien?\"\n",
    "- <input type=\"checkbox\" checked> \"was würde massenhaft data portability von instagram zu tiktok auslösen?\"\n",
    "- <input type=\"checkbox\" checked> \"Monopole (nur 1 controller verarbeitet datum x) erkennen\"\n",
    "- <input type=\"checkbox\" checked> Verbraucher:innenfreundlichkeit\n",
    "- <input type=\"checkbox\" checked> personalized privacy policy/dashboard -> user x kann angeben er/sie nutzt diese drölf dienste -> spuck den relevanten graph aus!\n",
    "- <input type=\"checkbox\" checked> \"besser 1 graph pro person als drölf ds-erklärungen\"\n",
    "--\n",
    "\n",
    "#### WordNet\n",
    "\n",
    "Similarities (categories clustern?)\n",
    "\n",
    "\n",
    "### Tablular vs Graph ML\n",
    "- compare the clustering algorthims for tabular data (e.g. Gaussian mixture models) with the clustering algorithms for graph data"
   ]
  },
  {
   "cell_type": "markdown",
   "metadata": {},
   "source": [
    "# Packages"
   ]
  },
  {
   "cell_type": "code",
   "execution_count": 26,
   "metadata": {},
   "outputs": [
    {
     "data": {
      "text/html": [
       "<div>\n",
       "<style scoped>\n",
       "    .dataframe tbody tr th:only-of-type {\n",
       "        vertical-align: middle;\n",
       "    }\n",
       "\n",
       "    .dataframe tbody tr th {\n",
       "        vertical-align: top;\n",
       "    }\n",
       "\n",
       "    .dataframe thead th {\n",
       "        text-align: right;\n",
       "    }\n",
       "</style>\n",
       "<table border=\"1\" class=\"dataframe\">\n",
       "  <thead>\n",
       "    <tr style=\"text-align: right;\">\n",
       "      <th></th>\n",
       "      <th>degreeDistribution</th>\n",
       "      <th>graphName</th>\n",
       "      <th>database</th>\n",
       "      <th>memoryUsage</th>\n",
       "      <th>sizeInBytes</th>\n",
       "      <th>nodeCount</th>\n",
       "      <th>relationshipCount</th>\n",
       "      <th>configuration</th>\n",
       "      <th>density</th>\n",
       "      <th>creationTime</th>\n",
       "      <th>modificationTime</th>\n",
       "      <th>schema</th>\n",
       "    </tr>\n",
       "  </thead>\n",
       "  <tbody>\n",
       "  </tbody>\n",
       "</table>\n",
       "</div>"
      ],
      "text/plain": [
       "Empty DataFrame\n",
       "Columns: [degreeDistribution, graphName, database, memoryUsage, sizeInBytes, nodeCount, relationshipCount, configuration, density, creationTime, modificationTime, schema]\n",
       "Index: []"
      ]
     },
     "execution_count": 26,
     "metadata": {},
     "output_type": "execute_result"
    }
   ],
   "source": [
    "import pandas as pd\n",
    "import numpy as np\n",
    "import requests\n",
    "from bs4 import BeautifulSoup\n",
    "import time\n",
    "import random as rd\n",
    "from scipy.stats import poisson\n",
    "import neo4j\n",
    "import matplotlib.pyplot as plt\n",
    "import seaborn as sns\n",
    "import pickle\n",
    "from tqdm import tqdm\n",
    "import networkx as nx\n",
    "\n",
    "import imageio\n",
    "import os\n",
    "\n",
    "from graphdatascience import GraphDataScience\n",
    "\n",
    "gds = GraphDataScience('bolt://localhost:11003', \n",
    "                    auth = ('neo4j', 'letmein'))\n",
    "\n",
    "gds.graph.list()"
   ]
  },
  {
   "cell_type": "markdown",
   "metadata": {},
   "source": [
    "# Scraping"
   ]
  },
  {
   "cell_type": "code",
   "execution_count": 27,
   "metadata": {},
   "outputs": [],
   "source": [
    "def get_table(url):\n",
    "    page = requests.get(url)\n",
    "    soup = BeautifulSoup(page.text, 'html.parser')\n",
    "    \n",
    "    elems = []\n",
    "    for child in soup.find_all('table')[0].children:\n",
    "\n",
    "        for some in child:\n",
    "            row = []\n",
    "            for i,td in enumerate(some):\n",
    "                try:\n",
    "                    row.append(td.text.replace('\\n',\"\"))\n",
    "                except:\n",
    "                    continue\n",
    "                if len(row) > 0:\n",
    "                    elems.append(row)\n",
    "\n",
    "    return elems\n",
    "    \n",
    "\n",
    "try:\n",
    "    table = get_table(\"https://www.zyxware.com/articles/4344/list-of-fortune-500-companies-and-their-websites\")\n",
    "    subset = [[table[i][1],table[i][3], table[i][5]]   for i in range(0,len(table), 7)]\n",
    "    fortune_500 = pd.DataFrame(subset[1:], columns=subset[0])\n",
    "except: \n",
    "    print(\"scrape now broken\")\n",
    "    pass\n"
   ]
  },
  {
   "cell_type": "code",
   "execution_count": 28,
   "metadata": {},
   "outputs": [],
   "source": [
    "#fortune_500.to_csv(\"fortune_500\")\n",
    "\n",
    "fortune_500 = pd.read_csv('fortune_500')\n",
    "\n",
    "with open ('categories_tilt', 'rb') as fp:\n",
    "    categories = pickle.load(fp)\n",
    "\n",
    "with open ('purpose_tilt', 'rb') as fp:\n",
    "    purpose = pickle.load(fp)"
   ]
  },
  {
   "cell_type": "markdown",
   "metadata": {},
   "source": [
    "# Using the Python Driver"
   ]
  },
  {
   "cell_type": "code",
   "execution_count": 29,
   "metadata": {},
   "outputs": [],
   "source": [
    "from neo4j import GraphDatabase\n",
    "\n",
    "class exampleTilt:\n",
    "\n",
    "    \"\"\"\n",
    "    class:  exampleTilt\n",
    "    input:  - uri: bolt uri from neo4j\n",
    "            - auth: credentials for neo4j\n",
    "            - no_nodes: number of nodes to create \n",
    "            - comp_df:  dataframe with company names and websites\n",
    "            - mu_poisson_*: average no. of samples for poisson distribution\n",
    "            - reset: whether to delete all nodes in database (default False, meant for experimentation)\n",
    "\n",
    "    \"\"\"\n",
    "\n",
    "    def __init__(self, uri, auth, no_nodes, comp_df, category_list, purpose_list, mu_poisson_dataDisclosed = 2,  mu_poisson_recipients = 2, reset = False, no_clusters = 5, cluster_weight = 3):\n",
    "        self.driver = GraphDatabase.driver(uri, auth=auth)\n",
    "        self.categories = category_list\n",
    "        self.purposes = purpose_list\n",
    "        self.reset = reset\n",
    "\n",
    "        #number of nodes to push\n",
    "        self.no_nodes = no_nodes\n",
    "        \n",
    "        #company names\n",
    "        self.company_df = comp_df.head(no_nodes)\n",
    "\n",
    "        #hyperparameters\n",
    "        self.mu_poisson_dataDisclosed = mu_poisson_dataDisclosed\n",
    "        self.mu_poisson_recipients = mu_poisson_recipients\n",
    "        self.no_clusters = no_clusters\n",
    "        \n",
    "        #sort into fake clusters \n",
    "        self.company_df['cluster'] = [str(rd.randrange(no_clusters)) for _ in range(len(self.company_df))]\n",
    "\n",
    "        self.weight_scaler = cluster_weight\n",
    "        self.same_cluster = [0, 0]\n",
    "\n",
    "\n",
    "    def close(self):\n",
    "        self.driver.close()\n",
    "\n",
    "    # Create a person node.\n",
    "    @classmethod\n",
    "    def createTilt(cls, tx, id, comp_name, url, cluster):\n",
    "        tx.run(\"MERGE (t:tilt {id: 0})-[:has_meta]->(m:meta {_id: $id, name: $company_name, created: $created, modified: $placeholder, version: $placeholder, language: $placeholder,  status: $placeholder, url: $url, cluster: $cluster, _hash: $placeholder}) \",\n",
    "            id=id, \n",
    "            cluster = int(cluster),\n",
    "            company_name = comp_name, \n",
    "            created = 3, #time.strftime(\"%Y:%m:%d, %H:%M:%S\"),  we cannot use it with the merge statements because it makes the meta node unique. might have to come up with something here. placeholder it for now.\n",
    "            url = url, \n",
    "            placeholder = 'None')\n",
    "            \n",
    "    def createDataDisclosed(self, tx,comp_name, _id, cluster):\n",
    "        tx.run(\"MATCH (t:tilt)-[:has_meta]->(m:meta {name: $company_name}) \"\n",
    "               \"MERGE (t)-[:has_dataDisclosed]->(d:dataDisclosed {_id: $_id, category: $placeholder, legalBases: $placeholder, legitimateInterests: $placeholder, nonDisclosure: $placeholder, storage: $placeholder}) \"\n",
    "               \"MERGE (d)-[:has_purpose]->(p:purpose {purpose: $purpose, description: $placeholder}) \",\n",
    "                company_name = comp_name, \n",
    "                purpose = rd.choice(self.purposes),\n",
    "                _id=str(_id), \n",
    "                placeholder = 'Lorem Ipsum'      \n",
    "        )\n",
    "\n",
    "        # define weights dict\n",
    "        weights = {}\n",
    "\n",
    "        # fill with no of clusters \n",
    "        for n in range(self.no_clusters):\n",
    "            weights[f'{n}'] = 1/self.no_clusters\n",
    "\n",
    "        # increase weight for cluster of company\n",
    "        weights[cluster] = weights[cluster]*self.weight_scaler  # another hyperparameter can be how much the weight is scaled\n",
    "\n",
    "        # scale the weights\n",
    "        scaled_weights = (pd.Series(weights) / self.company_df.cluster.value_counts(normalize=True))\n",
    "\n",
    "        exclusion_list = [comp_name]\n",
    "\n",
    "        # add recipients (as many as drawn from poisson)\n",
    "        for _ in range(poisson.rvs(self.mu_poisson_recipients, size=1)[0]):\n",
    "            self.same_cluster[1] += 1\n",
    "\n",
    "            # select company to share info with df.loc[df['column_name'] == some_value]\n",
    "            possible_comps = self.company_df.loc[~self.company_df['Company'].isin(exclusion_list)]\n",
    "  \n",
    "            shared_with_comp = possible_comps.sample(n=1, weights=possible_comps.cluster.map(scaled_weights))['Company'].values[0]\n",
    "\n",
    "            if cluster == (possible_comps[possible_comps['Company'] == shared_with_comp]['cluster'].values[0]):\n",
    "                self.same_cluster[0] += 1\n",
    "\n",
    "            # create recipient\n",
    "            tx.run(\"MATCH (d:dataDisclosed {_id: $_id}) \" \n",
    "                    \"MERGE (d)-[:has_recipient]->(r:recipient {name: $name, division: $placeholder, address: $placeholder, country: $placeholder, representative: $placeholder, email: $placeholder, phone: $placeholder, category: $placeholder}) \",\n",
    "                    name = shared_with_comp,\n",
    "                    placeholder = \"Lorem Ipsum\",\n",
    "                    _id = str(_id)\n",
    "                    )\n",
    "            exclusion_list.append(shared_with_comp)\n",
    "\n",
    "    # Match and display all friendships.\n",
    "    def get_query(self, query):\n",
    "\n",
    "        \"\"\"\n",
    "        get results of any query. \n",
    "        This is not part of any of the actual main methods but allows to query the graph using cypher\n",
    "\n",
    "        \"\"\"\n",
    "\n",
    "        with self.driver.session(default_access_mode=neo4j.READ_ACCESS) as session_query:\n",
    "            tx = session_query.begin_transaction()\n",
    "            result = tx.run(query)\n",
    "            tx.commit()\n",
    "            tx.close()\n",
    "        \n",
    "        return result\n",
    "\n",
    "    @classmethod\n",
    "    def delete_nodes(cls, tx):\n",
    "        tx.run(\"MATCH (n) detach delete n\")\n",
    "\n",
    "    \n",
    "    def get_has_dataShared(self, tx, threshold = .99):\n",
    "\n",
    "        out = tx.run(\n",
    "                \"MATCH (m_1:meta)-[:has_meta]-(t:tilt)-[:has_dataDisclosed]-(d:dataDisclosed)-[:has_recipient]-(r:recipient), (m:meta) \"\n",
    "                \"WITH m_1, m, r, apoc.text.sorensenDiceSimilarity(apoc.text.clean(m.name), apoc.text.clean(r.name)) as w \"\n",
    "                #\"WITH apoc.text.levenshteinSimilarity(apoc.text.clean(m.name), apoc.text.clean(r.name)) AS w \"\n",
    "                f\"WHERE w >= {threshold} \"\n",
    "                #\"CREATE (m_1)-[c:has_dataShared]->(m) \"\n",
    "                #f\"WHERE apoc.text.sorensenDiceSimilarity(apoc.text.clean(m.name), apoc.text.clean(r.name)) >= {threshold} \"\n",
    "                            \n",
    "                \"CREATE (m_1)-[c:has_dataShared]->(m) \"\n",
    "                \"SET c.weight = w \"\n",
    "                \"RETURN COUNT(c)\")\n",
    "\n",
    "        print(\"Sorensen-relationships for Data Sharing Network created:\", out.single()[0])\n",
    "\n",
    "    def get_similarPurpose(self, threshold = .25):\n",
    "\n",
    "        with self.driver.session() as session_query:\n",
    "            \n",
    "            out_pre = session_query.run(\"MATCH ()-[s:has_similarPurpose]-() return count(s)\")\n",
    "            session_query.run(\"MATCH ()-[s:has_similarPurpose]-() detach delete s\")\n",
    "            out_post = session_query.run(\"MATCH ()-[s:has_similarPurpose]-() return count(s)\")\n",
    "            #print(\"has_similarPurpose nodes deleted: \", out_pre.single()[0], \"- Left: \", out_post.single()[0])\n",
    "\n",
    "            out = session_query.run(\n",
    "                            \"MATCH (m_1:meta)-[:has_meta]-(t:tilt)-[:has_dataDisclosed]-(d:dataDisclosed)-[:has_purpose]-(p_1:purpose) \" \n",
    "                            \"WITH m_1, p_1 \"\n",
    "                            \"MATCH (m_2:meta)-[:has_meta]-(t:tilt)-[:has_dataDisclosed]-(d:dataDisclosed)-[:has_purpose]-(p_2:purpose) \"\n",
    "                            \"WHERE m_1 <> m_2 \"\n",
    "                            \"WITH m_1, m_2, p_1, p_2, apoc.text.sorensenDiceSimilarity(apoc.text.clean(p_1.purpose), apoc.text.clean(p_2.purpose)) as w \"\n",
    "                            \"Where w>= $threshold \"\n",
    "                            \"Merge (m_1)-[c:has_similarPurpose]-(m_2) \"\n",
    "                            \"set c.weight = w \"\n",
    "                            \"return Count(c) \", \n",
    "                            threshold = threshold)\n",
    "            \n",
    "            rels_created = out.single()[0]\n",
    "            \n",
    "            print(\"Sorensen-relationships for Purpose Sharing Network created:\", rels_created)\n",
    "\n",
    "            return rels_created\n",
    "\n",
    "\n",
    "\n",
    "    def main(self):\n",
    "        saved_bookmarks = []  # To collect the session bookmarks\n",
    "\n",
    "        if self.reset:\n",
    "            with self.driver.session() as session_del:\n",
    "                session_del.write_transaction(self.delete_nodes)\n",
    "                saved_bookmarks.append(session_del.last_bookmark())\n",
    "            print(\"Graph has been cleared\")\n",
    "\n",
    "\n",
    "        for i in tqdm(range(self.no_nodes)):\n",
    "            \n",
    "            with self.driver.session() as session_a: \n",
    "                session_a.write_transaction(self.createTilt, \n",
    "                                            str(self.company_df['Rank'][i]), \n",
    "                                            self.company_df['Company'][i], \n",
    "                                            self.company_df['Website'][i], \n",
    "                                            str(self.company_df['cluster'][i]))\n",
    "\n",
    "                for d in range(poisson.rvs(self.mu_poisson_dataDisclosed, size=1)[0]):\n",
    "                    session_a.write_transaction(self.createDataDisclosed, \n",
    "                                                self.company_df['Company'][i], \n",
    "                                                str(i)+str(d), str(self.company_df['cluster'][i]))\n",
    "                saved_bookmarks.append(session_a.last_bookmark())\n",
    "\n",
    "        print(\"recipients were created: \",self.same_cluster[1])\n",
    "\n",
    "        with self.driver.session() as session_sorensen: \n",
    "            session_sorensen.write_transaction(self.get_has_dataShared)\n",
    "\n",
    "            print(f\"{self.same_cluster[0]/self.same_cluster[1]*100}% of recipients were in the same cluster\")\n"
   ]
  },
  {
   "cell_type": "code",
   "execution_count": 30,
   "metadata": {},
   "outputs": [
    {
     "name": "stderr",
     "output_type": "stream",
     "text": [
      "/var/folders/zb/r42lnkhn1vjgbg6gmbnqxz6h0000gn/T/ipykernel_60390/1236196302.py:34: SettingWithCopyWarning: \n",
      "A value is trying to be set on a copy of a slice from a DataFrame.\n",
      "Try using .loc[row_indexer,col_indexer] = value instead\n",
      "\n",
      "See the caveats in the documentation: https://pandas.pydata.org/pandas-docs/stable/user_guide/indexing.html#returning-a-view-versus-a-copy\n",
      "  self.company_df['cluster'] = [str(rd.randrange(no_clusters)) for _ in range(len(self.company_df))]\n",
      "Failed to write data to connection IPv4Address(('localhost', 11003)) (IPv4Address(('127.0.0.1', 11003)))\n"
     ]
    },
    {
     "name": "stdout",
     "output_type": "stream",
     "text": [
      "Graph has been cleared\n"
     ]
    },
    {
     "name": "stderr",
     "output_type": "stream",
     "text": [
      "100%|██████████| 50/50 [00:04<00:00, 12.18it/s]\n"
     ]
    },
    {
     "name": "stdout",
     "output_type": "stream",
     "text": [
      "recipients were created:  82\n",
      "Sorensen-relationships for Data Sharing Network created: 82\n",
      "96.34146341463415% of recipients were in the same cluster\n"
     ]
    }
   ],
   "source": [
    "fakeTilt = exampleTilt(uri = 'bolt://localhost:11003', \n",
    "                    auth = ('neo4j', 'letmein'), \n",
    "                    no_nodes= 50,\n",
    "                    comp_df= fortune_500,\n",
    "                    category_list = categories, \n",
    "                    purpose_list = purpose,\n",
    "                    mu_poisson_dataDisclosed = 1,\n",
    "                    mu_poisson_recipients= 2,\n",
    "                    cluster_weight = 100,\n",
    "                    reset=True)\n",
    "fakeTilt.main()"
   ]
  },
  {
   "cell_type": "markdown",
   "metadata": {},
   "source": [
    "## Clustering of puposes \n",
    "\n",
    "* next step is to non-randomly distribute the purposes"
   ]
  },
  {
   "cell_type": "code",
   "execution_count": 31,
   "metadata": {},
   "outputs": [
    {
     "name": "stdout",
     "output_type": "stream",
     "text": [
      "Sorensen-relationships for Purpose Sharing Network created: 1318\n",
      "Sorensen-relationships for Purpose Sharing Network created: 726\n",
      "Sorensen-relationships for Purpose Sharing Network created: 300\n",
      "Sorensen-relationships for Purpose Sharing Network created: 116\n",
      "Sorensen-relationships for Purpose Sharing Network created: 58\n",
      "Sorensen-relationships for Purpose Sharing Network created: 54\n",
      "Sorensen-relationships for Purpose Sharing Network created: 42\n",
      "Sorensen-relationships for Purpose Sharing Network created: 34\n",
      "Sorensen-relationships for Purpose Sharing Network created: 34\n",
      "Sorensen-relationships for Purpose Sharing Network created: 30\n"
     ]
    }
   ],
   "source": [
    "no_nodes = [fakeTilt.get_similarPurpose(threshold = i/10) for i in range(1,11)]"
   ]
  },
  {
   "cell_type": "code",
   "execution_count": 32,
   "metadata": {},
   "outputs": [
    {
     "data": {
      "image/png": "[encoded data removed]",
      "text/plain": [
       "<Figure size 432x288 with 1 Axes>"
      ]
     },
     "metadata": {
      "needs_background": "light"
     },
     "output_type": "display_data"
    }
   ],
   "source": [
    "plt.plot([i/10 for i in range(1,11)], no_nodes)\n",
    "plt.xlabel(\"Threshold for node creation\")\n",
    "plt.ylabel(\"No. nodes created\")\n",
    "plt.grid()"
   ]
  },
  {
   "cell_type": "markdown",
   "metadata": {},
   "source": [
    "## Using the GDS library for python\n",
    "\n",
    "- documentation https://neo4j.com/docs/graph-data-science-client/current/getting-started/\n",
    "- Louvain algorithm: https://www.youtube.com/watch?v=0zuiLBOIcsw\n"
   ]
  },
  {
   "cell_type": "code",
   "execution_count": 9,
   "metadata": {},
   "outputs": [],
   "source": [
    "from graphdatascience import GraphDataScience"
   ]
  },
  {
   "cell_type": "code",
   "execution_count": 9,
   "metadata": {},
   "outputs": [
    {
     "data": {
      "text/html": [
       "<div>\n",
       "<style scoped>\n",
       "    .dataframe tbody tr th:only-of-type {\n",
       "        vertical-align: middle;\n",
       "    }\n",
       "\n",
       "    .dataframe tbody tr th {\n",
       "        vertical-align: top;\n",
       "    }\n",
       "\n",
       "    .dataframe thead th {\n",
       "        text-align: right;\n",
       "    }\n",
       "</style>\n",
       "<table border=\"1\" class=\"dataframe\">\n",
       "  <thead>\n",
       "    <tr style=\"text-align: right;\">\n",
       "      <th></th>\n",
       "      <th>degreeDistribution</th>\n",
       "      <th>graphName</th>\n",
       "      <th>database</th>\n",
       "      <th>memoryUsage</th>\n",
       "      <th>sizeInBytes</th>\n",
       "      <th>nodeCount</th>\n",
       "      <th>relationshipCount</th>\n",
       "      <th>configuration</th>\n",
       "      <th>density</th>\n",
       "      <th>creationTime</th>\n",
       "      <th>modificationTime</th>\n",
       "      <th>schema</th>\n",
       "    </tr>\n",
       "  </thead>\n",
       "  <tbody>\n",
       "    <tr>\n",
       "      <th>0</th>\n",
       "      <td>{'p99': 9, 'min': 0, 'max': 9, 'mean': 3.05, '...</td>\n",
       "      <td>GDS</td>\n",
       "      <td>neo4j</td>\n",
       "      <td>2447 KiB</td>\n",
       "      <td>2506739</td>\n",
       "      <td>20</td>\n",
       "      <td>61</td>\n",
       "      <td>{'relationshipProjection': {'has_dataShared': ...</td>\n",
       "      <td>0.160526</td>\n",
       "      <td>2022-09-28T16:23:46.600785000+02:00</td>\n",
       "      <td>2022-09-28T16:23:46.604386000+02:00</td>\n",
       "      <td>{'relationships': {'has_dataShared': {'weight'...</td>\n",
       "    </tr>\n",
       "  </tbody>\n",
       "</table>\n",
       "</div>"
      ],
      "text/plain": [
       "                                  degreeDistribution graphName database  \\\n",
       "0  {'p99': 9, 'min': 0, 'max': 9, 'mean': 3.05, '...       GDS    neo4j   \n",
       "\n",
       "  memoryUsage  sizeInBytes  nodeCount  relationshipCount  \\\n",
       "0    2447 KiB      2506739         20                 61   \n",
       "\n",
       "                                       configuration   density  \\\n",
       "0  {'relationshipProjection': {'has_dataShared': ...  0.160526   \n",
       "\n",
       "                          creationTime                     modificationTime  \\\n",
       "0  2022-09-28T16:23:46.600785000+02:00  2022-09-28T16:23:46.604386000+02:00   \n",
       "\n",
       "                                              schema  \n",
       "0  {'relationships': {'has_dataShared': {'weight'...  "
      ]
     },
     "execution_count": 9,
     "metadata": {},
     "output_type": "execute_result"
    }
   ],
   "source": [
    "gds = GraphDataScience('bolt://localhost:11003', \n",
    "                    auth = ('neo4j', 'letmein'))\n",
    "\n",
    "gds.graph.list()"
   ]
  },
  {
   "cell_type": "markdown",
   "metadata": {},
   "source": [
    "### Analysis"
   ]
  },
  {
   "cell_type": "code",
   "execution_count": 3,
   "metadata": {},
   "outputs": [
    {
     "ename": "NameError",
     "evalue": "name 'fortune_500' is not defined",
     "output_type": "error",
     "traceback": [
      "\u001b[0;31m---------------------------------------------------------------------------\u001b[0m",
      "\u001b[0;31mNameError\u001b[0m                                 Traceback (most recent call last)",
      "\u001b[1;32m/Users/johannes/Desktop/TU/Coding/tilt-graph-analyis/fake_data.ipynb Cell 17\u001b[0m in \u001b[0;36m<cell line: 15>\u001b[0;34m()\u001b[0m\n\u001b[1;32m     <a href='vscode-notebook-cell:/Users/johannes/Desktop/TU/Coding/tilt-graph-analyis/fake_data.ipynb#ch0000016?line=13'>14</a>\u001b[0m \u001b[39m#iterate through a hyper parameter: here how much do we increase the weight of same cluster nodes for recipient sharing\u001b[39;00m\n\u001b[1;32m     <a href='vscode-notebook-cell:/Users/johannes/Desktop/TU/Coding/tilt-graph-analyis/fake_data.ipynb#ch0000016?line=14'>15</a>\u001b[0m \u001b[39mfor\u001b[39;00m prob_scale \u001b[39min\u001b[39;00m \u001b[39mrange\u001b[39m(\u001b[39m1\u001b[39m,\u001b[39m100\u001b[39m,\u001b[39m10\u001b[39m): \u001b[39m#add the values to be iterated through\u001b[39;00m\n\u001b[1;32m     <a href='vscode-notebook-cell:/Users/johannes/Desktop/TU/Coding/tilt-graph-analyis/fake_data.ipynb#ch0000016?line=15'>16</a>\u001b[0m \n\u001b[1;32m     <a href='vscode-notebook-cell:/Users/johannes/Desktop/TU/Coding/tilt-graph-analyis/fake_data.ipynb#ch0000016?line=16'>17</a>\u001b[0m     \u001b[39m# make an instance of a database\u001b[39;00m\n\u001b[1;32m     <a href='vscode-notebook-cell:/Users/johannes/Desktop/TU/Coding/tilt-graph-analyis/fake_data.ipynb#ch0000016?line=17'>18</a>\u001b[0m     fakeTilt \u001b[39m=\u001b[39m exampleTilt(uri \u001b[39m=\u001b[39m \u001b[39m'\u001b[39m\u001b[39mbolt://localhost:11003\u001b[39m\u001b[39m'\u001b[39m, \n\u001b[1;32m     <a href='vscode-notebook-cell:/Users/johannes/Desktop/TU/Coding/tilt-graph-analyis/fake_data.ipynb#ch0000016?line=18'>19</a>\u001b[0m                     auth \u001b[39m=\u001b[39m (\u001b[39m'\u001b[39m\u001b[39mneo4j\u001b[39m\u001b[39m'\u001b[39m, \u001b[39m'\u001b[39m\u001b[39mletmein\u001b[39m\u001b[39m'\u001b[39m), \n\u001b[1;32m     <a href='vscode-notebook-cell:/Users/johannes/Desktop/TU/Coding/tilt-graph-analyis/fake_data.ipynb#ch0000016?line=19'>20</a>\u001b[0m                     no_nodes\u001b[39m=\u001b[39m \u001b[39m50\u001b[39m,\n\u001b[0;32m---> <a href='vscode-notebook-cell:/Users/johannes/Desktop/TU/Coding/tilt-graph-analyis/fake_data.ipynb#ch0000016?line=20'>21</a>\u001b[0m                     comp_df\u001b[39m=\u001b[39m fortune_500,\n\u001b[1;32m     <a href='vscode-notebook-cell:/Users/johannes/Desktop/TU/Coding/tilt-graph-analyis/fake_data.ipynb#ch0000016?line=21'>22</a>\u001b[0m                     category_list \u001b[39m=\u001b[39m categories, \n\u001b[1;32m     <a href='vscode-notebook-cell:/Users/johannes/Desktop/TU/Coding/tilt-graph-analyis/fake_data.ipynb#ch0000016?line=22'>23</a>\u001b[0m                     purpose_list \u001b[39m=\u001b[39m purpose,\n\u001b[1;32m     <a href='vscode-notebook-cell:/Users/johannes/Desktop/TU/Coding/tilt-graph-analyis/fake_data.ipynb#ch0000016?line=23'>24</a>\u001b[0m                     mu_poisson_dataDisclosed \u001b[39m=\u001b[39m \u001b[39m1\u001b[39m,\n\u001b[1;32m     <a href='vscode-notebook-cell:/Users/johannes/Desktop/TU/Coding/tilt-graph-analyis/fake_data.ipynb#ch0000016?line=24'>25</a>\u001b[0m                     mu_poisson_recipients\u001b[39m=\u001b[39m \u001b[39m1\u001b[39m,\n\u001b[1;32m     <a href='vscode-notebook-cell:/Users/johannes/Desktop/TU/Coding/tilt-graph-analyis/fake_data.ipynb#ch0000016?line=25'>26</a>\u001b[0m                     cluster_weight \u001b[39m=\u001b[39m prob_scale,  \u001b[39m### Define the hyperparameter \u001b[39;00m\n\u001b[1;32m     <a href='vscode-notebook-cell:/Users/johannes/Desktop/TU/Coding/tilt-graph-analyis/fake_data.ipynb#ch0000016?line=26'>27</a>\u001b[0m                     no_clusters\u001b[39m=\u001b[39m\u001b[39m5\u001b[39m,\n\u001b[1;32m     <a href='vscode-notebook-cell:/Users/johannes/Desktop/TU/Coding/tilt-graph-analyis/fake_data.ipynb#ch0000016?line=27'>28</a>\u001b[0m                     reset\u001b[39m=\u001b[39m\u001b[39mTrue\u001b[39;00m) \u001b[39m#reset has to be true so new graphs are created\u001b[39;00m\n\u001b[1;32m     <a href='vscode-notebook-cell:/Users/johannes/Desktop/TU/Coding/tilt-graph-analyis/fake_data.ipynb#ch0000016?line=29'>30</a>\u001b[0m     fakeTilt\u001b[39m.\u001b[39mmain() \u001b[39m#generate the graph\u001b[39;00m\n\u001b[1;32m     <a href='vscode-notebook-cell:/Users/johannes/Desktop/TU/Coding/tilt-graph-analyis/fake_data.ipynb#ch0000016?line=31'>32</a>\u001b[0m     recipient_in_cluster\u001b[39m.\u001b[39mappend(fakeTilt\u001b[39m.\u001b[39msame_cluster[\u001b[39m0\u001b[39m]\u001b[39m/\u001b[39mfakeTilt\u001b[39m.\u001b[39msame_cluster[\u001b[39m1\u001b[39m])\n",
      "\u001b[0;31mNameError\u001b[0m: name 'fortune_500' is not defined"
     ]
    },
    {
     "data": {
      "text/plain": [
       "<Figure size 432x288 with 0 Axes>"
      ]
     },
     "metadata": {},
     "output_type": "display_data"
    }
   ],
   "source": [
    "## Some analysis\n",
    "\n",
    "rd.seed(10)\n",
    "\n",
    "#set up outcome collectors\n",
    "community_counts = []\n",
    "community_dfs = []\n",
    "\n",
    "recipient_in_cluster = []\n",
    "\n",
    "#begin the figure\n",
    "plt.figure()\n",
    "\n",
    "#iterate through a hyper parameter: here how much do we increase the weight of same cluster nodes for recipient sharing\n",
    "for prob_scale in range(1,100,10): #add the values to be iterated through\n",
    "\n",
    "    # make an instance of a database\n",
    "    fakeTilt = exampleTilt(uri = 'bolt://localhost:11003', \n",
    "                    auth = ('neo4j', 'letmein'), \n",
    "                    no_nodes= 50,\n",
    "                    comp_df= fortune_500,\n",
    "                    category_list = categories, \n",
    "                    purpose_list = purpose,\n",
    "                    mu_poisson_dataDisclosed = 1,\n",
    "                    mu_poisson_recipients= 1,\n",
    "                    cluster_weight = prob_scale,  ### Define the hyperparameter \n",
    "                    no_clusters=5,\n",
    "                    reset=True) #reset has to be true so new graphs are created\n",
    "\n",
    "    fakeTilt.main() #generate the graph\n",
    "\n",
    "    recipient_in_cluster.append(fakeTilt.same_cluster[0]/fakeTilt.same_cluster[1])\n",
    "\n",
    "    try: # get a projection of the graph \n",
    "        G,_ = gds.graph.project('prob_scale',\n",
    "                            ['meta', \n",
    "                            #'dataDisclosed', 'tilt', 'recipient'\n",
    "                                ], \n",
    "                            {#'has_meta': {\"orientation\": \"UNDIRECTED\"}, \n",
    "                            #'has_dataDisclosed': {\"orientation\": \"UNDIRECTED\"},\n",
    "                            #'has_recipient': {\"orientation\": \"UNDIRECTED\"}, \n",
    "                            'has_dataShared': {\"orientation\": \"UNDIRECTED\"}}\n",
    "                        )\n",
    "    except: \n",
    "        G.drop() # if the projection already exists, delete it and make anew\n",
    "        G,_ = gds.graph.project('prob_scale',\n",
    "                            ['meta', \n",
    "                            #'dataDisclosed', 'tilt', 'recipient'\n",
    "                                ], \n",
    "                            {#'has_meta': {\"orientation\": \"UNDIRECTED\"}, \n",
    "                            #'has_dataDisclosed': {\"orientation\": \"UNDIRECTED\"},\n",
    "                            #'has_recipient': {\"orientation\": \"UNDIRECTED\"}, \n",
    "                            'has_dataShared': {\"orientation\": \"UNDIRECTED\"}}\n",
    "                        )\n",
    "    \n",
    "    # run the louvain algorithm. \n",
    "    res = gds.louvain.mutate(G, mutateProperty = 'community', nodeLabels = ['meta'], tolerance = 10**(-5))\n",
    "    \n",
    "    # get the number of communities found\n",
    "    community_counts.append(res['communityCount'])\n",
    "\n",
    "    # collect the number of nodes in each community\n",
    "    louvain_df = gds.graph.streamNodeProperty(G, 'community')\n",
    "    community_dfs.append(louvain_df)\n",
    "    \n",
    "    #print(gds.graph.streamNodeProperties(G, ['community'], separate_property_columns=True))\n",
    "\n",
    "    # plot a k-density plot of the page-rank distribution\n",
    "    sns.kdeplot(gds.pageRank.stream(G)['score'], label = f\"{prob_scale}\")\n",
    "    plt.title(\"Page Rank distribution\")\n",
    "    \n",
    "    # delete the graph projection\n",
    "    G.drop()\n",
    "\n",
    "plt.legend()\n",
    "plt.show()"
   ]
  },
  {
   "cell_type": "code",
   "execution_count": 12,
   "metadata": {},
   "outputs": [
    {
     "name": "stdout",
     "output_type": "stream",
     "text": [
      "9\n"
     ]
    }
   ],
   "source": [
    "print(len(np.unique(louvain_df['propertyValue'])))"
   ]
  },
  {
   "cell_type": "code",
   "execution_count": 13,
   "metadata": {},
   "outputs": [
    {
     "data": {
      "image/png": "[encoded data removed]",
      "text/plain": [
       "<Figure size 432x288 with 1 Axes>"
      ]
     },
     "metadata": {
      "needs_background": "light"
     },
     "output_type": "display_data"
    }
   ],
   "source": [
    "# plotting the number of community members \n",
    "plt.figure()\n",
    "\n",
    "for it, df in enumerate(community_dfs):\n",
    "\n",
    "    sns.kdeplot(df.value_counts('propertyValue'), label = f'{it+1}')\n",
    "\n",
    "plt.title(\"Density of nodes per community\")\n",
    "plt.legend()\n",
    "plt.show()"
   ]
  },
  {
   "cell_type": "code",
   "execution_count": 14,
   "metadata": {},
   "outputs": [
    {
     "data": {
      "text/plain": [
       "Text(0, 0.5, 'No. communities')"
      ]
     },
     "execution_count": 14,
     "metadata": {},
     "output_type": "execute_result"
    },
    {
     "data": {
      "image/png": "[encoded data removed]",
      "text/plain": [
       "<Figure size 432x288 with 1 Axes>"
      ]
     },
     "metadata": {
      "needs_background": "light"
     },
     "output_type": "display_data"
    }
   ],
   "source": [
    "#plotting the number of communities \n",
    "plt.plot(range(1,100, 10), community_counts)\n",
    "plt.title(\"Number of communities detected\")\n",
    "plt.xlabel(\"Probability Scaler\")\n",
    "plt.ylabel(\"No. communities\")"
   ]
  },
  {
   "cell_type": "code",
   "execution_count": 15,
   "metadata": {},
   "outputs": [
    {
     "name": "stderr",
     "output_type": "stream",
     "text": [
      "/var/folders/zb/r42lnkhn1vjgbg6gmbnqxz6h0000gn/T/ipykernel_95557/1236196302.py:34: SettingWithCopyWarning: \n",
      "A value is trying to be set on a copy of a slice from a DataFrame.\n",
      "Try using .loc[row_indexer,col_indexer] = value instead\n",
      "\n",
      "See the caveats in the documentation: https://pandas.pydata.org/pandas-docs/stable/user_guide/indexing.html#returning-a-view-versus-a-copy\n",
      "  self.company_df['cluster'] = [str(rd.randrange(no_clusters)) for _ in range(len(self.company_df))]\n"
     ]
    },
    {
     "name": "stdout",
     "output_type": "stream",
     "text": [
      "Graph has been cleared\n"
     ]
    },
    {
     "name": "stderr",
     "output_type": "stream",
     "text": [
      "100%|██████████| 100/100 [00:05<00:00, 18.77it/s]\n"
     ]
    },
    {
     "name": "stdout",
     "output_type": "stream",
     "text": [
      "recipients were created:  104\n",
      "Sorensen-relationships for Data Sharing Network created: 104\n",
      "100.0% of recipients were in the same cluster\n"
     ]
    }
   ],
   "source": [
    "fakeTilt = exampleTilt(uri = 'bolt://localhost:11003', \n",
    "                    auth = ('neo4j', 'letmein'), \n",
    "                    no_nodes= 100,\n",
    "                    comp_df= fortune_500,\n",
    "                    category_list = categories, \n",
    "                    purpose_list = purpose,\n",
    "                    mu_poisson_dataDisclosed = 1,\n",
    "                    mu_poisson_recipients= 1,\n",
    "                    cluster_weight = 10**8,  ### Define the hyperparameter \n",
    "                    no_clusters=2,\n",
    "                    reset=True) #reset has to be true so new graphs are created\n",
    "\n",
    "fakeTilt.main() #generate the graph"
   ]
  },
  {
   "cell_type": "markdown",
   "metadata": {},
   "source": [
    "## Visuals\n",
    "\n",
    "Use cypher queries to get an visualualise our database in directly in a jupyter notebook using graphistry\n",
    "\n",
    "#### Doku\n",
    "- https://hub.graphistry.com/docs/ui/index/\n",
    "- https://github.com/graphistry/pygraphistry/blob/master/demos/demos_databases_apis/neo4j/official/graphistry_bolt_tutorial_public.ipynb\n",
    "- https://hub.graphistry.com/"
   ]
  },
  {
   "cell_type": "code",
   "execution_count": 16,
   "metadata": {},
   "outputs": [],
   "source": [
    "#!pip install --user graphistry\n",
    "\n",
    "import graphistry"
   ]
  },
  {
   "cell_type": "code",
   "execution_count": 17,
   "metadata": {},
   "outputs": [],
   "source": [
    "NEO4J = {\n",
    "        'uri':'bolt://localhost:11003', \n",
    "        'auth' : ('neo4j', 'letmein')\n",
    "}\n",
    "\n",
    "graphistry.register(api=3, username='j_halkenhaeusser', password='longlivetransparency22', protocol='https', server='hub.graphistry.com')\n",
    "graphistry.register(bolt=NEO4J)\n"
   ]
  },
  {
   "cell_type": "code",
   "execution_count": 18,
   "metadata": {},
   "outputs": [
    {
     "data": {
      "text/html": [
       "\n",
       "            <iframe id=\"fc8d0e11-66aa-4f02-8bc3-51fa6a2927d6\" src=\"https://hub.graphistry.com/graph/graph.html?dataset=8bb9e6f3dc5742948fc3384f771a35f1&type=arrow&viztoken=ab2cabfd-3a03-4bc3-b232-89c0f6c1b613&usertag=c7df0ed3-pygraphistry-0.27.1&splashAfter=1663761214&info=true\"\n",
       "                    allowfullscreen=\"true\" webkitallowfullscreen=\"true\" mozallowfullscreen=\"true\"\n",
       "                    oallowfullscreen=\"true\" msallowfullscreen=\"true\"\n",
       "                    style=\"width:100%; height:500px; border: 1px solid #DDD; overflow: hidden\"\n",
       "                    \n",
       "            >\n",
       "            </iframe>\n",
       "        \n",
       "            <script>\n",
       "                try {\n",
       "                  $(\"#fc8d0e11-66aa-4f02-8bc3-51fa6a2927d6\").bind('mousewheel', function(e) { e.preventDefault(); });\n",
       "                } catch (e) { console.error('exn catching scroll', e); }\n",
       "            </script>\n",
       "        "
      ],
      "text/plain": [
       "<IPython.core.display.HTML object>"
      ]
     },
     "execution_count": 18,
     "metadata": {},
     "output_type": "execute_result"
    }
   ],
   "source": [
    "graphistry.cypher(\"\"\"\n",
    "      match (m:meta)-[s:has_dataShared]-(n:meta), (t:meta) return t, m, s, n\n",
    "  \"\"\").plot()"
   ]
  },
  {
   "cell_type": "code",
   "execution_count": 19,
   "metadata": {},
   "outputs": [
    {
     "data": {
      "text/html": [
       "\n",
       "            <iframe id=\"721cb5ac-d979-4953-9adc-1a01d35eb58d\" src=\"https://hub.graphistry.com/graph/graph.html?dataset=d619907cc21d451ead4eb5b4399fedb4&type=arrow&viztoken=4072c53f-cd09-4bbf-b5aa-a3d081fff9b5&usertag=c7df0ed3-pygraphistry-0.27.1&splashAfter=1663761216&info=true\"\n",
       "                    allowfullscreen=\"true\" webkitallowfullscreen=\"true\" mozallowfullscreen=\"true\"\n",
       "                    oallowfullscreen=\"true\" msallowfullscreen=\"true\"\n",
       "                    style=\"width:100%; height:500px; border: 1px solid #DDD; overflow: hidden\"\n",
       "                    \n",
       "            >\n",
       "            </iframe>\n",
       "        \n",
       "            <script>\n",
       "                try {\n",
       "                  $(\"#721cb5ac-d979-4953-9adc-1a01d35eb58d\").bind('mousewheel', function(e) { e.preventDefault(); });\n",
       "                } catch (e) { console.error('exn catching scroll', e); }\n",
       "            </script>\n",
       "        "
      ],
      "text/plain": [
       "<IPython.core.display.HTML object>"
      ]
     },
     "execution_count": 19,
     "metadata": {},
     "output_type": "execute_result"
    }
   ],
   "source": [
    "graphistry.cypher(\"\"\"\n",
    "      match (m:meta)-[s:has_dataShared]-(n:meta) return m, s, n\n",
    "  \"\"\").plot()"
   ]
  },
  {
   "cell_type": "markdown",
   "metadata": {},
   "source": [
    "## Histograms for various graph attributes"
   ]
  },
  {
   "cell_type": "code",
   "execution_count": 20,
   "metadata": {},
   "outputs": [
    {
     "data": {
      "text/html": [
       "<div>\n",
       "<style scoped>\n",
       "    .dataframe tbody tr th:only-of-type {\n",
       "        vertical-align: middle;\n",
       "    }\n",
       "\n",
       "    .dataframe tbody tr th {\n",
       "        vertical-align: top;\n",
       "    }\n",
       "\n",
       "    .dataframe thead th {\n",
       "        text-align: right;\n",
       "    }\n",
       "</style>\n",
       "<table border=\"1\" class=\"dataframe\">\n",
       "  <thead>\n",
       "    <tr style=\"text-align: right;\">\n",
       "      <th></th>\n",
       "      <th>degreeDistribution</th>\n",
       "      <th>graphName</th>\n",
       "      <th>database</th>\n",
       "      <th>memoryUsage</th>\n",
       "      <th>sizeInBytes</th>\n",
       "      <th>nodeCount</th>\n",
       "      <th>relationshipCount</th>\n",
       "      <th>configuration</th>\n",
       "      <th>density</th>\n",
       "      <th>creationTime</th>\n",
       "      <th>modificationTime</th>\n",
       "      <th>schema</th>\n",
       "    </tr>\n",
       "  </thead>\n",
       "  <tbody>\n",
       "    <tr>\n",
       "      <th>0</th>\n",
       "      <td>{'p99': 19, 'min': 0, 'max': 19, 'mean': 5.2, ...</td>\n",
       "      <td>make_hist</td>\n",
       "      <td>neo4j</td>\n",
       "      <td>334 KiB</td>\n",
       "      <td>342505</td>\n",
       "      <td>50</td>\n",
       "      <td>260</td>\n",
       "      <td>{'relationshipProjection': {'has_dataShared': ...</td>\n",
       "      <td>0.106122</td>\n",
       "      <td>2022-09-15T14:45:19.839831000+02:00</td>\n",
       "      <td>2022-09-15T14:45:20.955233000+02:00</td>\n",
       "      <td>{'relationships': {'has_dataShared': {}}, 'nod...</td>\n",
       "    </tr>\n",
       "  </tbody>\n",
       "</table>\n",
       "</div>"
      ],
      "text/plain": [
       "                                  degreeDistribution  graphName database  \\\n",
       "0  {'p99': 19, 'min': 0, 'max': 19, 'mean': 5.2, ...  make_hist    neo4j   \n",
       "\n",
       "  memoryUsage  sizeInBytes  nodeCount  relationshipCount  \\\n",
       "0     334 KiB       342505         50                260   \n",
       "\n",
       "                                       configuration   density  \\\n",
       "0  {'relationshipProjection': {'has_dataShared': ...  0.106122   \n",
       "\n",
       "                          creationTime                     modificationTime  \\\n",
       "0  2022-09-15T14:45:19.839831000+02:00  2022-09-15T14:45:20.955233000+02:00   \n",
       "\n",
       "                                              schema  \n",
       "0  {'relationships': {'has_dataShared': {}}, 'nod...  "
      ]
     },
     "execution_count": 20,
     "metadata": {},
     "output_type": "execute_result"
    }
   ],
   "source": [
    "gds.graph.list()"
   ]
  },
  {
   "cell_type": "code",
   "execution_count": 22,
   "metadata": {},
   "outputs": [
    {
     "data": {
      "text/plain": [
       "graphName                                                    make_hist\n",
       "database                                                         neo4j\n",
       "memoryUsage                                                           \n",
       "sizeInBytes                                                         -1\n",
       "nodeCount                                                           50\n",
       "relationshipCount                                                  260\n",
       "configuration        {'relationshipProjection': {'has_dataShared': ...\n",
       "density                                                       0.106122\n",
       "creationTime                       2022-09-15T14:45:19.839831000+02:00\n",
       "modificationTime                   2022-09-15T14:45:20.955233000+02:00\n",
       "schema               {'relationships': {'has_dataShared': {}}, 'nod...\n",
       "Name: 0, dtype: object"
      ]
     },
     "execution_count": 22,
     "metadata": {},
     "output_type": "execute_result"
    }
   ],
   "source": [
    "gds.graph.drop(G = gds.graph.get('make_hist'))"
   ]
  },
  {
   "cell_type": "code",
   "execution_count": 10,
   "metadata": {},
   "outputs": [
    {
     "name": "stdout",
     "output_type": "stream",
     "text": [
      "meta    [cluster]\n",
      "dtype: object\n"
     ]
    },
    {
     "data": {
      "image/png": "[encoded data removed]",
      "text/plain": [
       "<Figure size 432x288 with 1 Axes>"
      ]
     },
     "metadata": {
      "needs_background": "light"
     },
     "output_type": "display_data"
    }
   ],
   "source": [
    "def get_histogram(node_type,\n",
    "                    attribute, \n",
    "                    bolt, \n",
    "                    auth,\n",
    "                    plot_type = 'histogram'): \n",
    "    \n",
    "    gds = GraphDataScience('bolt://localhost:11003', \n",
    "                    auth = ('neo4j', 'letmein'))\n",
    "\n",
    "    #make a graph projection (/get all the relevant nodes)\n",
    "    try: # get a projection of the graph \n",
    "        G,_ = gds.graph.project('make_hist',\n",
    "                    {node_type: {\"properties\": attribute}}, ### does not work because property is a string???  and it only lets me use strings to create node properties???\n",
    "                    ['has_dataShared']\n",
    "                )\n",
    "    except: \n",
    "        G = gds.graph.get('make_hist')\n",
    "        G.drop()\n",
    "        G,_ = gds.graph.project('make_hist',\n",
    "                            {node_type: {\"properties\": attribute}}, ### does not work because property is a string???  and it only lets me use strings to create node properties???\n",
    "                            ['has_dataShared']\n",
    "                        )\n",
    "\n",
    "    print(G.node_properties())\n",
    "\n",
    "    # collect the attribute\n",
    "    property_series = gds.graph.streamNodeProperty(G, attribute)\n",
    "\n",
    "    if plot_type == 'histogram':\n",
    "\n",
    "        plt.hist(property_series['propertyValue'])\n",
    "        plt.title(f\"Distribution of {attribute} across {node_type} nodes\")\n",
    "\n",
    "    if plot_type == \"density\":\n",
    "        # plot a histogram plot of the page-rank distribution\n",
    "        sns.kdeplot(gds.pageRank.stream(G)['score'], label = f\"{prob_scale}\")\n",
    "        plt.title(f\"Distribution of {attribute} across {node_type} nodes\")\n",
    "    \n",
    "\n",
    "    # delete the graph projection\n",
    "    G.drop()\n",
    "\n",
    "    plt.show()\n",
    "\n",
    "\n",
    "get_histogram(\"meta\", \n",
    "            'cluster', 'bolt://localhost:11003', \n",
    "                    auth = ('neo4j', 'letmein'))"
   ]
  },
  {
   "cell_type": "markdown",
   "metadata": {},
   "source": [
    "### Analysing Clusters"
   ]
  },
  {
   "cell_type": "code",
   "execution_count": 11,
   "metadata": {},
   "outputs": [
    {
     "name": "stderr",
     "output_type": "stream",
     "text": [
      "/var/folders/zb/r42lnkhn1vjgbg6gmbnqxz6h0000gn/T/ipykernel_60390/1236196302.py:34: SettingWithCopyWarning: \n",
      "A value is trying to be set on a copy of a slice from a DataFrame.\n",
      "Try using .loc[row_indexer,col_indexer] = value instead\n",
      "\n",
      "See the caveats in the documentation: https://pandas.pydata.org/pandas-docs/stable/user_guide/indexing.html#returning-a-view-versus-a-copy\n",
      "  self.company_df['cluster'] = [str(rd.randrange(no_clusters)) for _ in range(len(self.company_df))]\n"
     ]
    },
    {
     "name": "stdout",
     "output_type": "stream",
     "text": [
      "Graph has been cleared\n"
     ]
    },
    {
     "name": "stderr",
     "output_type": "stream",
     "text": [
      "100%|██████████| 50/50 [00:03<00:00, 14.35it/s]\n"
     ]
    },
    {
     "name": "stdout",
     "output_type": "stream",
     "text": [
      "recipients were created:  278\n",
      "Sorensen-relationships for Data Sharing Network created: 278\n",
      "89.568345323741% of recipients were in the same cluster\n"
     ]
    }
   ],
   "source": [
    "fakeTilt = exampleTilt(uri = 'bolt://localhost:11003', \n",
    "                    auth = ('neo4j', 'letmein'), \n",
    "                    no_nodes= 50,\n",
    "                    comp_df= fortune_500,\n",
    "                    category_list = categories, \n",
    "                    purpose_list = purpose,\n",
    "                    mu_poisson_dataDisclosed = 1,\n",
    "                    mu_poisson_recipients= 5,\n",
    "                    cluster_weight = 100,\n",
    "                    reset=True)\n",
    "fakeTilt.main()"
   ]
  },
  {
   "cell_type": "code",
   "execution_count": 12,
   "metadata": {},
   "outputs": [],
   "source": [
    "G,_ = gds.graph.project('make_hist',\n",
    "                    {'meta': {\"properties\": 'cluster'}},\n",
    "                    ['has_dataShared']\n",
    "                )"
   ]
  },
  {
   "cell_type": "code",
   "execution_count": 13,
   "metadata": {},
   "outputs": [],
   "source": [
    "res = gds.louvain.mutate(G, mutateProperty = 'community_default') #,seedProperty = 'cluster', maxIterations=1000, tolerance = 10e-15)"
   ]
  },
  {
   "cell_type": "code",
   "execution_count": 14,
   "metadata": {},
   "outputs": [
    {
     "data": {
      "text/plain": [
       "5"
      ]
     },
     "execution_count": 14,
     "metadata": {},
     "output_type": "execute_result"
    }
   ],
   "source": [
    "res['communityCount']"
   ]
  },
  {
   "cell_type": "code",
   "execution_count": 18,
   "metadata": {},
   "outputs": [],
   "source": [
    "nodes_communities = gds.graph.streamNodeProperties(G, ['cluster', 'community_default'], separate_property_columns= True)"
   ]
  },
  {
   "cell_type": "code",
   "execution_count": 19,
   "metadata": {},
   "outputs": [
    {
     "data": {
      "text/html": [
       "<div>\n",
       "<style scoped>\n",
       "    .dataframe tbody tr th:only-of-type {\n",
       "        vertical-align: middle;\n",
       "    }\n",
       "\n",
       "    .dataframe tbody tr th {\n",
       "        vertical-align: top;\n",
       "    }\n",
       "\n",
       "    .dataframe thead th {\n",
       "        text-align: right;\n",
       "    }\n",
       "</style>\n",
       "<table border=\"1\" class=\"dataframe\">\n",
       "  <thead>\n",
       "    <tr style=\"text-align: right;\">\n",
       "      <th></th>\n",
       "      <th></th>\n",
       "      <th>nodeId</th>\n",
       "    </tr>\n",
       "    <tr>\n",
       "      <th>cluster</th>\n",
       "      <th>community_default</th>\n",
       "      <th></th>\n",
       "    </tr>\n",
       "  </thead>\n",
       "  <tbody>\n",
       "    <tr>\n",
       "      <th>0</th>\n",
       "      <th>9</th>\n",
       "      <td>7</td>\n",
       "    </tr>\n",
       "    <tr>\n",
       "      <th>1</th>\n",
       "      <th>29</th>\n",
       "      <td>9</td>\n",
       "    </tr>\n",
       "    <tr>\n",
       "      <th>2</th>\n",
       "      <th>26</th>\n",
       "      <td>7</td>\n",
       "    </tr>\n",
       "    <tr>\n",
       "      <th>3</th>\n",
       "      <th>27</th>\n",
       "      <td>17</td>\n",
       "    </tr>\n",
       "    <tr>\n",
       "      <th rowspan=\"2\" valign=\"top\">4</th>\n",
       "      <th>26</th>\n",
       "      <td>1</td>\n",
       "    </tr>\n",
       "    <tr>\n",
       "      <th>36</th>\n",
       "      <td>9</td>\n",
       "    </tr>\n",
       "  </tbody>\n",
       "</table>\n",
       "</div>"
      ],
      "text/plain": [
       "                           nodeId\n",
       "cluster community_default        \n",
       "0       9                       7\n",
       "1       29                      9\n",
       "2       26                      7\n",
       "3       27                     17\n",
       "4       26                      1\n",
       "        36                      9"
      ]
     },
     "execution_count": 19,
     "metadata": {},
     "output_type": "execute_result"
    }
   ],
   "source": [
    "nodes_communities.groupby(['cluster', 'community_default']).count()"
   ]
  },
  {
   "cell_type": "code",
   "execution_count": 20,
   "metadata": {},
   "outputs": [
    {
     "data": {
      "text/plain": [
       "array([[<AxesSubplot:title={'center':'0'}>,\n",
       "        <AxesSubplot:title={'center':'1'}>],\n",
       "       [<AxesSubplot:title={'center':'2'}>,\n",
       "        <AxesSubplot:title={'center':'3'}>],\n",
       "       [<AxesSubplot:title={'center':'4'}>, <AxesSubplot:>]], dtype=object)"
      ]
     },
     "execution_count": 20,
     "metadata": {},
     "output_type": "execute_result"
    },
    {
     "data": {
      "image/png": "[encoded data removed]",
      "text/plain": [
       "<Figure size 864x648 with 6 Axes>"
      ]
     },
     "metadata": {
      "needs_background": "light"
     },
     "output_type": "display_data"
    }
   ],
   "source": [
    "nodes_communities['community_default'].hist(by=nodes_communities['cluster'], orientation= 'horizontal', figsize=(12,9))"
   ]
  },
  {
   "cell_type": "code",
   "execution_count": 21,
   "metadata": {},
   "outputs": [
    {
     "data": {
      "text/plain": [
       "graphName                                                          GDS\n",
       "database                                                         neo4j\n",
       "memoryUsage                                                           \n",
       "sizeInBytes                                                         -1\n",
       "nodeCount                                                           20\n",
       "relationshipCount                                                   61\n",
       "configuration        {'relationshipProjection': {'has_dataShared': ...\n",
       "density                                                       0.160526\n",
       "creationTime                       2022-09-28T16:23:46.600785000+02:00\n",
       "modificationTime                   2022-09-28T16:23:46.604386000+02:00\n",
       "schema               {'relationships': {'has_dataShared': {'weight'...\n",
       "Name: 0, dtype: object"
      ]
     },
     "execution_count": 21,
     "metadata": {},
     "output_type": "execute_result"
    }
   ],
   "source": [
    "gds.graph.drop(gds.graph.get(\"GDS\"))"
   ]
  },
  {
   "cell_type": "markdown",
   "metadata": {},
   "source": [
    "## Network Dynamics"
   ]
  },
  {
   "cell_type": "code",
   "execution_count": 33,
   "metadata": {},
   "outputs": [],
   "source": [
    "class sim:\n",
    "\n",
    "    def __init__(self, network_object, no_steps = 10):\n",
    "\n",
    "        # hyperparameters\n",
    "        self.no_steps = no_steps\n",
    "        self.network = network_object\n",
    "\n",
    "        # initialise the network \n",
    "        self.network.main()\n",
    "\n",
    "        # utils\n",
    "        self.pos = None \n",
    "\n",
    "\n",
    "    def visualise(self, driver, iteration):\n",
    "\n",
    "        # curr_dict = pd.DataFrame(driver.run(\"\"\"\n",
    "        #         CALL gds.graph.streamRelationshipProperty(\n",
    "        #         'GDS',                  \n",
    "        #         'weight'                                 \n",
    "        #         )\n",
    "        #         YIELD\n",
    "        #         sourceNodeId, targetNodeId, relationshipType, propertyValue\n",
    "        #         RETURN\n",
    "        #         gds.util.asNode(sourceNodeId).name as source, gds.util.asNode(targetNodeId).name as target, relationshipType, propertyValue\n",
    "        #         ORDER BY source ASC, target ASC\n",
    "        #         \"\"\").data())\n",
    "\n",
    "        curr_dict = pd.DataFrame(driver.run(\"\"\"\n",
    "                    MATCH (m: meta)-[c:has_dataShared]->(n: meta)\n",
    "                    RETURN m.name as source, n.name as target, c.weight as propertyValue\n",
    "                \"\"\").data())\n",
    "\n",
    "        G = nx.from_pandas_edgelist(curr_dict, 'source', 'target', 'propertyValue')\n",
    "\n",
    "        #print(self.pos)\n",
    "        if self.pos == None: \n",
    "            self.pos = nx.spring_layout(G)\n",
    "            self.fixed_nodes = self.pos.keys()\n",
    "\n",
    "        it_pos = nx.spring_layout(G, pos=self.pos, fixed = self.fixed_nodes)\n",
    "            \n",
    "        nx.draw_networkx(G,pos = it_pos, with_labels = True, font_size = 8)\n",
    "            \n",
    "        plt.title(f\"Step: {iteration}\")\n",
    "\n",
    "                # in case we don't want to save an image we can just not specify an iteration\n",
    "        if iteration != None:  \n",
    "            plt.savefig(f'{iteration}.png')\n",
    "            plt.close()\n",
    "        else:\n",
    "            plt.show() \n",
    "\n",
    "    \n",
    "    def make_gif(self, n_frames = 5):\n",
    "\n",
    "        \"\"\"\n",
    "        func:   creates a gif from pngs. There need to be images saved by the view method.\n",
    "        input:  length_sim: number of completed runs of simulation\n",
    "                n_frames: wait time to slow down gif. default = 5.\n",
    "        output: saves a gif to wd.\n",
    "        \"\"\"\n",
    "\n",
    "        with imageio.get_writer('mygif.gif', mode='I') as writer:\n",
    "            filenames = [f\"{name}.png\" for name in range(self.no_steps)]\n",
    "            for filename in filenames:\n",
    "                image = imageio.imread(filename)\n",
    "\n",
    "                for i in range(n_frames):\n",
    "                    writer.append_data(image)\n",
    "\n",
    "        for filename in set(filenames):\n",
    "            os.remove(filename)\n",
    "\n",
    "        return\n",
    "        \n",
    "\n",
    "    def main(self):\n",
    "        \n",
    "        with self.network.driver.session() as s:\n",
    "\n",
    "            # delete all recipients.\n",
    "            s.run(\"match (d:dataDisclosed), (p:purpose) detach delete d, p\")\n",
    "\n",
    "            if gds.graph.exists('GDS').exists == True:\n",
    "                gds.graph.drop(gds.graph.get(\"GDS\"))\n",
    "\n",
    "            s.run(\"\"\"   CALL gds.graph.project(\n",
    "                        'GDS',\n",
    "                        'meta',  \n",
    "                        {\n",
    "                            has_dataShared: {properties: 'weight'}\n",
    "                        }\n",
    "                        )\n",
    "                        YIELD graphName\n",
    "                \"\"\")\n",
    "\n",
    "            print(\"Beginning with the simulation.\")\n",
    "            for i in tqdm(range(self.no_steps)):\n",
    "\n",
    "                # chose node\n",
    "                # out = s.run(\"CALL gds.pageRank.stream('meta', 'has_dataShared', \"\n",
    "                #         \"{iterations:20}) \"\n",
    "                #         \"YIELD nodeId, score \"\n",
    "                #         \"MATCH (node) WHERE id(node) = nodeId \"\n",
    "                #         \"RETURN node.name AS page,score \"\n",
    "                #         \"ORDER BY score DESC \"\n",
    "                #                        )\n",
    "\n",
    "\n",
    "                cypher = '''\n",
    "                        CALL gds.pageRank.stream('GDS')\n",
    "                        YIELD nodeId, score\n",
    "                        RETURN gds.util.asNode(nodeId).name AS name,gds.util.asNode(nodeId).cluster AS cluster,  score\n",
    "                        ORDER BY score DESC, name ASC\n",
    "                        '''\n",
    "\n",
    "                dat = pd.DataFrame(s.run(cypher).data())\n",
    "\n",
    "                # print(dat)\n",
    "                \n",
    "                start_node = dat.sample(n=1, weights=dat['score'], axis=0)\n",
    "\n",
    "                # print(start_node)\n",
    "\n",
    "                # define weights dict\n",
    "                weights = {}\n",
    "\n",
    "                # fill with no of clusters \n",
    "                for w in range(self.network.no_clusters):\n",
    "                    weights[w] = 1/self.network.no_clusters\n",
    "\n",
    "                # increase weight for cluster of company\n",
    "                weights[start_node['cluster'].values[0]] *= self.network.weight_scaler  # another hyperparameter can be how much the weight is scaled (gotten from the network object)\n",
    "                \n",
    "                # scale the weights\n",
    "                scaled_weights = (pd.Series(weights) / dat.cluster.value_counts(normalize=True))\n",
    "\n",
    "\n",
    "                shared_with_comp = dat.sample(n=1, weights=dat.cluster.map(scaled_weights))['name'].values[0]\n",
    "\n",
    "                # print(start_node['name'].values[0], shared_with_comp)\n",
    "\n",
    "                s.run('''\n",
    "                    MATCH (m:meta {name: %r}), (n:meta {name: %r})\n",
    "                    CREATE (n)-[r:has_dataShared]->(m)\n",
    "                    SET r.weight = .8\n",
    "                ''' %(start_node['name'].values[0], shared_with_comp))\n",
    "\n",
    "                self.visualise(s, i)\n",
    "\n",
    "            # s.run(\"CALL gds.graph.drop('GDS')\")\n",
    "\n",
    "            # randomly generate a recipient based on cluster for a random node. \n",
    "            # based on some rule determine the probability of the node being chosen (shorter purpose statements are less specific and hence share more or something like that.)\n",
    "            \n",
    "            # get two nodes and randomly generate a connection if they are in the same cluster. \n",
    "\n",
    "            # when you pass a pagerank of .95 all the recipients of one node get passed to that high pagerank node the node is deleted (i.e. some smaller node merges with a bigger node.)\n",
    "\n",
    "        print(\"Simulation completed. GIF is being generated and can be found in the directory\")\n",
    "        return self.make_gif()    "
   ]
  },
  {
   "cell_type": "code",
   "execution_count": 35,
   "metadata": {},
   "outputs": [
    {
     "name": "stderr",
     "output_type": "stream",
     "text": [
      "/var/folders/zb/r42lnkhn1vjgbg6gmbnqxz6h0000gn/T/ipykernel_60390/1236196302.py:34: SettingWithCopyWarning: \n",
      "A value is trying to be set on a copy of a slice from a DataFrame.\n",
      "Try using .loc[row_indexer,col_indexer] = value instead\n",
      "\n",
      "See the caveats in the documentation: https://pandas.pydata.org/pandas-docs/stable/user_guide/indexing.html#returning-a-view-versus-a-copy\n",
      "  self.company_df['cluster'] = [str(rd.randrange(no_clusters)) for _ in range(len(self.company_df))]\n"
     ]
    },
    {
     "name": "stdout",
     "output_type": "stream",
     "text": [
      "Graph has been cleared\n"
     ]
    },
    {
     "name": "stderr",
     "output_type": "stream",
     "text": [
      "100%|██████████| 20/20 [00:01<00:00, 16.49it/s]\n",
      "Failed to write data to connection IPv4Address(('localhost', 11003)) (IPv4Address(('127.0.0.1', 11003)))\n"
     ]
    },
    {
     "name": "stdout",
     "output_type": "stream",
     "text": [
      "recipients were created:  25\n",
      "Sorensen-relationships for Data Sharing Network created: 25\n",
      "92.0% of recipients were in the same cluster\n",
      "Beginning with the simulation.\n"
     ]
    },
    {
     "name": "stderr",
     "output_type": "stream",
     "text": [
      "100%|██████████| 80/80 [00:20<00:00,  3.92it/s]\n"
     ]
    },
    {
     "name": "stdout",
     "output_type": "stream",
     "text": [
      "Simulation completed. GIF is being generated and can be found in the directory\n"
     ]
    }
   ],
   "source": [
    "ntw = exampleTilt(uri = 'bolt://localhost:11003', \n",
    "                    auth = ('neo4j', 'letmein'), \n",
    "                    no_nodes= 20,\n",
    "                    comp_df= fortune_500,\n",
    "                    category_list = categories, \n",
    "                    purpose_list = purpose,\n",
    "                    mu_poisson_dataDisclosed = 1,\n",
    "                    mu_poisson_recipients= 2,\n",
    "                    cluster_weight = 100,\n",
    "                    reset=True)\n",
    "\n",
    "\n",
    "simulation = sim(ntw, 80)\n",
    "simulation.main()"
   ]
  },
  {
   "cell_type": "code",
   "execution_count": null,
   "metadata": {},
   "outputs": [],
   "source": []
  }
 ],
 "metadata": {
  "kernelspec": {
   "display_name": "Python 3.9.12 ('base')",
   "language": "python",
   "name": "python3"
  },
  "language_info": {
   "codemirror_mode": {
    "name": "ipython",
    "version": 3
   },
   "file_extension": ".py",
   "mimetype": "text/x-python",
   "name": "python",
   "nbconvert_exporter": "python",
   "pygments_lexer": "ipython3",
   "version": "3.9.12"
  },
  "orig_nbformat": 4,
  "vscode": {
   "interpreter": {
    "hash": "98a2b17e149e4e8a0b6acf04d01298b022c80a24b0767a95d910142ef5b4f869"
   }
  }
 },
 "nbformat": 4,
 "nbformat_minor": 2
}
