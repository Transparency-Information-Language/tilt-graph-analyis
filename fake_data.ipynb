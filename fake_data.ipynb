{
 "cells": [
  {
   "cell_type": "markdown",
   "metadata": {},
   "source": [
    "# Generating fake data for neo4j analysis \n",
    "\n",
    "## Tasks \n",
    "\n",
    "### Intro\n",
    "- <input type=\"checkbox\" checked> incl motivation & stakeholders\n",
    "    - stakeholders such as authorities can schedule auditing based on most relevant (central) actors rather than arbitrarily \n",
    "- <input type=\"checkbox\" checked> simulationsumgebung\n",
    "\n",
    "### Simple\n",
    "- <input type=\"checkbox\" checked> Histogramm: Anzahl data categories pro controller\n",
    "- <input type=\"checkbox\" checked> Histogramm: Purposes pro controller \n",
    "- <input type=\"checkbox\" checked> Histogramm: Rechtsgrundlagen - welche am häufigsten? -> speziell: welche legitimen Interessen?\n",
    "- <input type=\"checkbox\" checked> Histogramm: Anzahl categories pro purpose\n",
    "\n",
    "### Intermediate\n",
    "- <input type=\"checkbox\" checked> Clustering data categories\n",
    "- <input type=\"checkbox\" checked> \"category c wird immer nur auf rechtsgrundlage x verarbeitet\" (verteilung der rechtsgrundlagen pro controller )\n",
    "- <input type=\"checkbox\" checked> category-bezogene ketten / nur ketten von controllers \n",
    "    - fake daten datenkategorie wird weitergereicht\n",
    "    - property auf relationship legen, die die category anzeigt\n",
    "    - ketten aus gleichen category-relationships anzeigen. \n",
    "\n",
    "### Advanced\n",
    "- <input type=\"checkbox\" checked> Sharing networks / clusters\n",
    "- <input type=\"checkbox\" checked> Anzahl purposes (pro controller / pro category / pro cluster)\n",
    "- <input type=\"checkbox\" checked> Netzwerk verändert sich über Zeit (es zentralisiert sich mehr, es clustered sich mehr, ... ) / dynamische Simulationen / horizontal\n",
    "- <input type=\"checkbox\" checked> \"Facebook kauft WhatsApp-Szenarien?\"\n",
    "- <input type=\"checkbox\" checked> \"was würde massenhaft data portability von instagram zu tiktok auslösen?\"\n",
    "- <input type=\"checkbox\" checked> \"Monopole (nur 1 controller verarbeitet datum x) erkennen\"\n",
    "- <input type=\"checkbox\" checked> Verbraucher:innenfreundlichkeit\n",
    "- <input type=\"checkbox\" checked> personalized privacy policy/dashboard -> user x kann angeben er/sie nutzt diese drölf dienste -> spuck den relevanten graph aus!\n",
    "- <input type=\"checkbox\" checked> \"besser 1 graph pro person als drölf ds-erklärungen\"\n",
    "--\n",
    "\n",
    "#### WordNet\n",
    "\n",
    "Similarities (categories clustern?)\n",
    "\n",
    "\n",
    "### Tablular vs Graph ML\n",
    "- compare the clustering algorthims for tabular data (e.g. Gaussian mixture models) with the clustering algorithms for graph data"
   ]
  },
  {
   "cell_type": "markdown",
   "metadata": {},
   "source": [
    "# Packages"
   ]
  },
  {
   "cell_type": "code",
   "execution_count": 3,
   "metadata": {},
   "outputs": [
    {
     "data": {
      "text/html": [
       "<div>\n",
       "<style scoped>\n",
       "    .dataframe tbody tr th:only-of-type {\n",
       "        vertical-align: middle;\n",
       "    }\n",
       "\n",
       "    .dataframe tbody tr th {\n",
       "        vertical-align: top;\n",
       "    }\n",
       "\n",
       "    .dataframe thead th {\n",
       "        text-align: right;\n",
       "    }\n",
       "</style>\n",
       "<table border=\"1\" class=\"dataframe\">\n",
       "  <thead>\n",
       "    <tr style=\"text-align: right;\">\n",
       "      <th></th>\n",
       "      <th>degreeDistribution</th>\n",
       "      <th>graphName</th>\n",
       "      <th>database</th>\n",
       "      <th>memoryUsage</th>\n",
       "      <th>sizeInBytes</th>\n",
       "      <th>nodeCount</th>\n",
       "      <th>relationshipCount</th>\n",
       "      <th>configuration</th>\n",
       "      <th>density</th>\n",
       "      <th>creationTime</th>\n",
       "      <th>modificationTime</th>\n",
       "      <th>schema</th>\n",
       "    </tr>\n",
       "  </thead>\n",
       "  <tbody>\n",
       "  </tbody>\n",
       "</table>\n",
       "</div>"
      ],
      "text/plain": [
       "Empty DataFrame\n",
       "Columns: [degreeDistribution, graphName, database, memoryUsage, sizeInBytes, nodeCount, relationshipCount, configuration, density, creationTime, modificationTime, schema]\n",
       "Index: []"
      ]
     },
     "execution_count": 3,
     "metadata": {},
     "output_type": "execute_result"
    }
   ],
   "source": [
    "import pandas as pd\n",
    "import numpy as np\n",
    "import requests\n",
    "from bs4 import BeautifulSoup\n",
    "import time\n",
    "import random as rd\n",
    "from scipy.stats import poisson\n",
    "import neo4j\n",
    "import matplotlib.pyplot as plt\n",
    "from matplotlib.colors import ListedColormap, LinearSegmentedColormap\n",
    "import seaborn as sns\n",
    "import pickle\n",
    "from tqdm import tqdm\n",
    "import networkx as nx\n",
    "\n",
    "import imageio\n",
    "import os\n",
    "\n",
    "from graphdatascience import GraphDataScience\n",
    "\n",
    "gds = GraphDataScience('bolt://localhost:11003', \n",
    "                    auth = ('neo4j', 'letmein'))\n",
    "\n",
    "gds.graph.list()"
   ]
  },
  {
   "cell_type": "code",
   "execution_count": 4,
   "metadata": {},
   "outputs": [],
   "source": [
    "plt.rcParams.update(plt.rcParamsDefault)\n",
    "\n",
    "plt.rc('font',**{'family':'serif','serif':['Times']})\n",
    "plt.rc('text', usetex=True)"
   ]
  },
  {
   "cell_type": "markdown",
   "metadata": {},
   "source": [
    "# Scraping"
   ]
  },
  {
   "cell_type": "code",
   "execution_count": 5,
   "metadata": {},
   "outputs": [],
   "source": [
    "def get_table(url):\n",
    "    page = requests.get(url)\n",
    "    soup = BeautifulSoup(page.text, 'html.parser')\n",
    "    \n",
    "    elems = []\n",
    "    for child in soup.find_all('table')[0].children:\n",
    "\n",
    "        for some in child:\n",
    "            row = []\n",
    "            for i,td in enumerate(some):\n",
    "                try:\n",
    "                    row.append(td.text.replace('\\n',\"\"))\n",
    "                except:\n",
    "                    continue\n",
    "                if len(row) > 0:\n",
    "                    elems.append(row)\n",
    "\n",
    "    return elems\n",
    "    \n",
    "\n",
    "try:\n",
    "    table = get_table(\"https://www.zyxware.com/articles/4344/list-of-fortune-500-companies-and-their-websites\")\n",
    "    subset = [[table[i][1],table[i][3], table[i][5]]   for i in range(0,len(table), 7)]\n",
    "    fortune_500 = pd.DataFrame(subset[1:], columns=subset[0])\n",
    "except: \n",
    "    print(\"scrape now broken\")\n",
    "    pass\n"
   ]
  },
  {
   "cell_type": "code",
   "execution_count": 11,
   "metadata": {},
   "outputs": [],
   "source": [
    "#fortune_500.to_csv(\"fortune_500\")\n",
    "\n",
    "fortune_500 = pd.read_csv('fortune_500')\n",
    "\n",
    "with open ('categories_tilt', 'rb') as fp:\n",
    "    categories = pickle.load(fp)\n",
    "\n",
    "with open ('purpose_tilt', 'rb') as fp:\n",
    "    purpose = pickle.load(fp)"
   ]
  },
  {
   "cell_type": "markdown",
   "metadata": {},
   "source": [
    "# Using the Python Driver"
   ]
  },
  {
   "cell_type": "code",
   "execution_count": 12,
   "metadata": {},
   "outputs": [],
   "source": [
    "from neo4j import GraphDatabase\n",
    "\n",
    "class exampleTilt:\n",
    "\n",
    "    \"\"\"\n",
    "    class:  exampleTilt\n",
    "    input:  - uri: bolt uri from neo4j\n",
    "            - auth: credentials for neo4j\n",
    "            - no_nodes: number of nodes to create \n",
    "            - comp_df:  dataframe with company names and websites\n",
    "            - mu_poisson_*: average no. of samples for poisson distribution\n",
    "            - reset: whether to delete all nodes in database (default False, meant for experimentation)\n",
    "\n",
    "    \"\"\"\n",
    "\n",
    "    def __init__(self, uri, auth, no_nodes, comp_df, category_list, purpose_list, mu_poisson_dataDisclosed = 2,  mu_poisson_recipients = 2, reset = False, no_clusters = 5, cluster_weight = 3):\n",
    "        self.driver = GraphDatabase.driver(uri, auth=auth)\n",
    "        self.categories = category_list\n",
    "        self.purposes = purpose_list\n",
    "        self.reset = reset\n",
    "\n",
    "        #number of nodes to push\n",
    "        self.no_nodes = no_nodes\n",
    "        \n",
    "        #company names\n",
    "        self.company_df = comp_df.head(no_nodes)\n",
    "\n",
    "        #hyperparameters\n",
    "        self.mu_poisson_dataDisclosed = mu_poisson_dataDisclosed\n",
    "        self.mu_poisson_recipients = mu_poisson_recipients\n",
    "        self.no_clusters = no_clusters\n",
    "        \n",
    "        #sort into fake clusters \n",
    "        self.company_df['cluster'] = [str(rd.randrange(no_clusters)) for _ in range(len(self.company_df))]\n",
    "\n",
    "        self.weight_scaler = cluster_weight\n",
    "        self.same_cluster = [0, 0]\n",
    "\n",
    "\n",
    "    def close(self):\n",
    "        self.driver.close()\n",
    "\n",
    "    # Create a person node.\n",
    "    @classmethod\n",
    "    def createTilt(cls, tx, id, comp_name, url, cluster):\n",
    "        tx.run(\"MERGE (t:tilt {id: 0})-[:has_meta]->(m:meta {_id: $id, name: $company_name, created: $created, modified: $placeholder, version: $placeholder, language: $placeholder,  status: $placeholder, url: $url, cluster: $cluster, _hash: $placeholder}) \",\n",
    "            id=id, \n",
    "            cluster = int(cluster),\n",
    "            company_name = comp_name, \n",
    "            created = 3, #time.strftime(\"%Y:%m:%d, %H:%M:%S\"),  we cannot use it with the merge statements because it makes the meta node unique. might have to come up with something here. placeholder it for now.\n",
    "            url = url, \n",
    "            placeholder = 'None')\n",
    "            \n",
    "    def createDataDisclosed(self, tx,comp_name, _id, cluster):\n",
    "        tx.run(\"MATCH (t:tilt)-[:has_meta]->(m:meta {name: $company_name}) \"\n",
    "               \"MERGE (t)-[:has_dataDisclosed]->(d:dataDisclosed {_id: $_id, category: $placeholder, legalBases: $placeholder, legitimateInterests: $placeholder, nonDisclosure: $placeholder, storage: $placeholder}) \"\n",
    "               \"MERGE (d)-[:has_purpose]->(p:purpose {purpose: $purpose, description: $placeholder}) \",\n",
    "                company_name = comp_name, \n",
    "                purpose = rd.choice(self.purposes),\n",
    "                _id=str(_id), \n",
    "                placeholder = 'Lorem Ipsum'      \n",
    "        )\n",
    "\n",
    "        # define weights dict\n",
    "        weights = {}\n",
    "\n",
    "        # fill with no of clusters \n",
    "        for n in range(self.no_clusters):\n",
    "            weights[f'{n}'] = 1/self.no_clusters\n",
    "\n",
    "        # increase weight for cluster of company\n",
    "        weights[cluster] = weights[cluster]*self.weight_scaler  # another hyperparameter can be how much the weight is scaled\n",
    "\n",
    "        # scale the weights\n",
    "        scaled_weights = (pd.Series(weights) / self.company_df.cluster.value_counts(normalize=True))\n",
    "\n",
    "        exclusion_list = [comp_name]\n",
    "\n",
    "        # add recipients (as many as drawn from poisson)\n",
    "        for _ in range(poisson.rvs(self.mu_poisson_recipients, size=1)[0]):\n",
    "            self.same_cluster[1] += 1\n",
    "\n",
    "            # select company to share info with df.loc[df['column_name'] == some_value]\n",
    "            possible_comps = self.company_df.loc[~self.company_df['Company'].isin(exclusion_list)]\n",
    "  \n",
    "            shared_with_comp = possible_comps.sample(n=1, weights=possible_comps.cluster.map(scaled_weights))['Company'].values[0]\n",
    "\n",
    "            if cluster == (possible_comps[possible_comps['Company'] == shared_with_comp]['cluster'].values[0]):\n",
    "                self.same_cluster[0] += 1\n",
    "\n",
    "            # create recipient\n",
    "            tx.run(\"MATCH (d:dataDisclosed {_id: $_id}) \" \n",
    "                    \"MERGE (d)-[:has_recipient]->(r:recipient {name: $name, division: $placeholder, address: $placeholder, country: $placeholder, representative: $placeholder, email: $placeholder, phone: $placeholder, category: $placeholder}) \",\n",
    "                    name = shared_with_comp,\n",
    "                    placeholder = \"Lorem Ipsum\",\n",
    "                    _id = str(_id)\n",
    "                    )\n",
    "            exclusion_list.append(shared_with_comp)\n",
    "\n",
    "    # Match and display all friendships.\n",
    "    def get_query(self, query):\n",
    "\n",
    "        \"\"\"\n",
    "        get results of any query. \n",
    "        This is not part of any of the actual main methods but allows to query the graph using cypher\n",
    "\n",
    "        \"\"\"\n",
    "\n",
    "        with self.driver.session(default_access_mode=neo4j.READ_ACCESS) as session_query:\n",
    "            tx = session_query.begin_transaction()\n",
    "            result = tx.run(query)\n",
    "            tx.commit()\n",
    "            tx.close()\n",
    "        \n",
    "        return result\n",
    "\n",
    "    @classmethod\n",
    "    def delete_nodes(cls, tx):\n",
    "        tx.run(\"MATCH (n) detach delete n\")\n",
    "\n",
    "    \n",
    "    def get_has_dataShared(self, tx, threshold = .99):\n",
    "\n",
    "        out = tx.run(\n",
    "                \"MATCH (m_1:meta)-[:has_meta]-(t:tilt)-[:has_dataDisclosed]-(d:dataDisclosed)-[:has_recipient]-(r:recipient), (m:meta) \"\n",
    "                \"WITH m_1, m, r, apoc.text.sorensenDiceSimilarity(apoc.text.clean(m.name), apoc.text.clean(r.name)) as w \"\n",
    "                #\"WITH apoc.text.levenshteinSimilarity(apoc.text.clean(m.name), apoc.text.clean(r.name)) AS w \"\n",
    "                f\"WHERE w >= {threshold} \"\n",
    "                #\"CREATE (m_1)-[c:has_dataShared]->(m) \"\n",
    "                #f\"WHERE apoc.text.sorensenDiceSimilarity(apoc.text.clean(m.name), apoc.text.clean(r.name)) >= {threshold} \"\n",
    "                            \n",
    "                \"CREATE (m_1)-[c:has_dataShared]->(m) \"\n",
    "                \"SET c.weight = w \"\n",
    "                \"RETURN COUNT(c)\")\n",
    "\n",
    "        print(\"Sorensen-relationships for Data Sharing Network created:\", out.single()[0])\n",
    "\n",
    "    def get_similarPurpose(self, threshold = .25):\n",
    "\n",
    "        with self.driver.session() as session_query:\n",
    "            \n",
    "            out_pre = session_query.run(\"MATCH ()-[s:has_similarPurpose]-() return count(s)\")\n",
    "            session_query.run(\"MATCH ()-[s:has_similarPurpose]-() detach delete s\")\n",
    "            out_post = session_query.run(\"MATCH ()-[s:has_similarPurpose]-() return count(s)\")\n",
    "            #print(\"has_similarPurpose nodes deleted: \", out_pre.single()[0], \"- Left: \", out_post.single()[0])\n",
    "\n",
    "            out = session_query.run(\n",
    "                            \"MATCH (m_1:meta)-[:has_meta]-(t:tilt)-[:has_dataDisclosed]-(d:dataDisclosed)-[:has_purpose]-(p_1:purpose) \" \n",
    "                            \"WITH m_1, p_1 \"\n",
    "                            \"MATCH (m_2:meta)-[:has_meta]-(t:tilt)-[:has_dataDisclosed]-(d:dataDisclosed)-[:has_purpose]-(p_2:purpose) \"\n",
    "                            \"WHERE m_1 <> m_2 \"\n",
    "                            \"WITH m_1, m_2, p_1, p_2, apoc.text.sorensenDiceSimilarity(apoc.text.clean(p_1.purpose), apoc.text.clean(p_2.purpose)) as w \"\n",
    "                            \"Where w>= $threshold \"\n",
    "                            \"Merge (m_1)-[c:has_similarPurpose]-(m_2) \"\n",
    "                            \"set c.weight = w \"\n",
    "                            \"return Count(c) \", \n",
    "                            threshold = threshold)\n",
    "            \n",
    "            rels_created = out.single()[0]\n",
    "            \n",
    "            print(\"Sorensen-relationships for Purpose Sharing Network created:\", rels_created)\n",
    "\n",
    "            return rels_created\n",
    "\n",
    "\n",
    "\n",
    "    def main(self):\n",
    "        saved_bookmarks = []  # To collect the session bookmarks\n",
    "\n",
    "        if self.reset:\n",
    "            with self.driver.session() as session_del:\n",
    "                session_del.write_transaction(self.delete_nodes)\n",
    "                saved_bookmarks.append(session_del.last_bookmark())\n",
    "            print(\"Graph has been cleared\")\n",
    "\n",
    "\n",
    "        for i in tqdm(range(self.no_nodes)):\n",
    "            \n",
    "            with self.driver.session() as session_a: \n",
    "                session_a.write_transaction(self.createTilt, \n",
    "                                            str(self.company_df['Rank'][i]), \n",
    "                                            self.company_df['Company'][i], \n",
    "                                            self.company_df['Website'][i], \n",
    "                                            str(self.company_df['cluster'][i]))\n",
    "\n",
    "                for d in range(poisson.rvs(self.mu_poisson_dataDisclosed, size=1)[0]):\n",
    "                    session_a.write_transaction(self.createDataDisclosed, \n",
    "                                                self.company_df['Company'][i], \n",
    "                                                str(i)+str(d), str(self.company_df['cluster'][i]))\n",
    "                saved_bookmarks.append(session_a.last_bookmark())\n",
    "\n",
    "        print(self.same_cluster[1], \"recipients were created: \")\n",
    "\n",
    "        with self.driver.session() as session_sorensen: \n",
    "            session_sorensen.write_transaction(self.get_has_dataShared)\n",
    "\n",
    "            print(f\"{self.same_cluster[0]/self.same_cluster[1]*100}% of recipients were in the same cluster\")\n"
   ]
  },
  {
   "cell_type": "code",
   "execution_count": 8,
   "metadata": {},
   "outputs": [
    {
     "name": "stderr",
     "output_type": "stream",
     "text": [
      "/var/folders/zb/r42lnkhn1vjgbg6gmbnqxz6h0000gn/T/ipykernel_16578/122809291.py:34: SettingWithCopyWarning: \n",
      "A value is trying to be set on a copy of a slice from a DataFrame.\n",
      "Try using .loc[row_indexer,col_indexer] = value instead\n",
      "\n",
      "See the caveats in the documentation: https://pandas.pydata.org/pandas-docs/stable/user_guide/indexing.html#returning-a-view-versus-a-copy\n",
      "  self.company_df['cluster'] = [str(rd.randrange(no_clusters)) for _ in range(len(self.company_df))]\n"
     ]
    },
    {
     "name": "stdout",
     "output_type": "stream",
     "text": [
      "Graph has been cleared\n"
     ]
    },
    {
     "name": "stderr",
     "output_type": "stream",
     "text": [
      "100%|██████████| 50/50 [00:04<00:00, 10.45it/s]\n"
     ]
    },
    {
     "name": "stdout",
     "output_type": "stream",
     "text": [
      "122 recipients were created: \n",
      "Sorensen-relationships for Data Sharing Network created: 122\n",
      "92.62295081967213% of recipients were in the same cluster\n"
     ]
    }
   ],
   "source": [
    "fakeTilt = exampleTilt(uri = 'bolt://localhost:11003', \n",
    "                    auth = ('neo4j', 'letmein'), \n",
    "                    no_nodes= 50,\n",
    "                    comp_df= fortune_500,\n",
    "                    category_list = categories, \n",
    "                    purpose_list = purpose,\n",
    "                    mu_poisson_dataDisclosed = 1,\n",
    "                    mu_poisson_recipients= 2,\n",
    "                    cluster_weight = 100,\n",
    "                    reset=True)\n",
    "fakeTilt.main()"
   ]
  },
  {
   "cell_type": "markdown",
   "metadata": {},
   "source": [
    "## Clustering of puposes \n",
    "\n",
    "* next step is to non-randomly distribute the purposes"
   ]
  },
  {
   "cell_type": "code",
   "execution_count": 99,
   "metadata": {},
   "outputs": [
    {
     "name": "stdout",
     "output_type": "stream",
     "text": [
      "Sorensen-relationships for Purpose Sharing Network created: 1678\n",
      "Sorensen-relationships for Purpose Sharing Network created: 848\n",
      "Sorensen-relationships for Purpose Sharing Network created: 290\n",
      "Sorensen-relationships for Purpose Sharing Network created: 108\n",
      "Sorensen-relationships for Purpose Sharing Network created: 48\n",
      "Sorensen-relationships for Purpose Sharing Network created: 36\n",
      "Sorensen-relationships for Purpose Sharing Network created: 36\n",
      "Sorensen-relationships for Purpose Sharing Network created: 24\n",
      "Sorensen-relationships for Purpose Sharing Network created: 24\n",
      "Sorensen-relationships for Purpose Sharing Network created: 24\n"
     ]
    }
   ],
   "source": [
    "no_nodes = [fakeTilt.get_similarPurpose(threshold = i/10) for i in range(1,11)]"
   ]
  },
  {
   "cell_type": "code",
   "execution_count": 102,
   "metadata": {},
   "outputs": [
    {
     "data": {
      "image/png": "[encoded data removed]",
      "text/plain": [
       "<Figure size 640x480 with 1 Axes>"
      ]
     },
     "metadata": {},
     "output_type": "display_data"
    }
   ],
   "source": [
    "\n",
    "plt.plot([i/10 for i in range(1,11)], no_nodes)\n",
    "plt.xlabel(\"Sorensen Similarity Threshold for node creation\")\n",
    "plt.ylabel(\"No. nodes created\")\n",
    "plt.grid()\n",
    "plt.savefig(\"visuals/sorensen_threshold\")"
   ]
  },
  {
   "cell_type": "markdown",
   "metadata": {},
   "source": [
    "## Using the GDS library for python\n",
    "\n",
    "- documentation https://neo4j.com/docs/graph-data-science-client/current/getting-started/\n",
    "- Louvain algorithm: https://www.youtube.com/watch?v=0zuiLBOIcsw\n"
   ]
  },
  {
   "cell_type": "markdown",
   "metadata": {},
   "source": [
    "### Analysis"
   ]
  },
  {
   "cell_type": "code",
   "execution_count": 7,
   "metadata": {},
   "outputs": [
    {
     "name": "stderr",
     "output_type": "stream",
     "text": [
      "/var/folders/zb/r42lnkhn1vjgbg6gmbnqxz6h0000gn/T/ipykernel_10178/1236196302.py:34: SettingWithCopyWarning: \n",
      "A value is trying to be set on a copy of a slice from a DataFrame.\n",
      "Try using .loc[row_indexer,col_indexer] = value instead\n",
      "\n",
      "See the caveats in the documentation: https://pandas.pydata.org/pandas-docs/stable/user_guide/indexing.html#returning-a-view-versus-a-copy\n",
      "  self.company_df['cluster'] = [str(rd.randrange(no_clusters)) for _ in range(len(self.company_df))]\n"
     ]
    },
    {
     "name": "stdout",
     "output_type": "stream",
     "text": [
      "Graph has been cleared\n"
     ]
    },
    {
     "name": "stderr",
     "output_type": "stream",
     "text": [
      "100%|██████████| 50/50 [00:02<00:00, 17.29it/s]\n"
     ]
    },
    {
     "name": "stdout",
     "output_type": "stream",
     "text": [
      "recipients were created:  40\n",
      "Sorensen-relationships for Data Sharing Network created: 40\n",
      "25.0% of recipients were in the same cluster\n"
     ]
    },
    {
     "name": "stderr",
     "output_type": "stream",
     "text": [
      "/var/folders/zb/r42lnkhn1vjgbg6gmbnqxz6h0000gn/T/ipykernel_10178/1236196302.py:34: SettingWithCopyWarning: \n",
      "A value is trying to be set on a copy of a slice from a DataFrame.\n",
      "Try using .loc[row_indexer,col_indexer] = value instead\n",
      "\n",
      "See the caveats in the documentation: https://pandas.pydata.org/pandas-docs/stable/user_guide/indexing.html#returning-a-view-versus-a-copy\n",
      "  self.company_df['cluster'] = [str(rd.randrange(no_clusters)) for _ in range(len(self.company_df))]\n"
     ]
    },
    {
     "name": "stdout",
     "output_type": "stream",
     "text": [
      "Graph has been cleared\n"
     ]
    },
    {
     "name": "stderr",
     "output_type": "stream",
     "text": [
      "100%|██████████| 50/50 [00:03<00:00, 14.16it/s]\n"
     ]
    },
    {
     "name": "stdout",
     "output_type": "stream",
     "text": [
      "recipients were created:  51\n",
      "Sorensen-relationships for Data Sharing Network created: 51\n",
      "76.47058823529412% of recipients were in the same cluster\n"
     ]
    },
    {
     "name": "stderr",
     "output_type": "stream",
     "text": [
      "/var/folders/zb/r42lnkhn1vjgbg6gmbnqxz6h0000gn/T/ipykernel_10178/1236196302.py:34: SettingWithCopyWarning: \n",
      "A value is trying to be set on a copy of a slice from a DataFrame.\n",
      "Try using .loc[row_indexer,col_indexer] = value instead\n",
      "\n",
      "See the caveats in the documentation: https://pandas.pydata.org/pandas-docs/stable/user_guide/indexing.html#returning-a-view-versus-a-copy\n",
      "  self.company_df['cluster'] = [str(rd.randrange(no_clusters)) for _ in range(len(self.company_df))]\n"
     ]
    },
    {
     "name": "stdout",
     "output_type": "stream",
     "text": [
      "Graph has been cleared\n"
     ]
    },
    {
     "name": "stderr",
     "output_type": "stream",
     "text": [
      "100%|██████████| 50/50 [00:03<00:00, 15.46it/s]\n"
     ]
    },
    {
     "name": "stdout",
     "output_type": "stream",
     "text": [
      "recipients were created:  36\n",
      "Sorensen-relationships for Data Sharing Network created: 36\n",
      "80.55555555555556% of recipients were in the same cluster\n"
     ]
    },
    {
     "name": "stderr",
     "output_type": "stream",
     "text": [
      "/var/folders/zb/r42lnkhn1vjgbg6gmbnqxz6h0000gn/T/ipykernel_10178/1236196302.py:34: SettingWithCopyWarning: \n",
      "A value is trying to be set on a copy of a slice from a DataFrame.\n",
      "Try using .loc[row_indexer,col_indexer] = value instead\n",
      "\n",
      "See the caveats in the documentation: https://pandas.pydata.org/pandas-docs/stable/user_guide/indexing.html#returning-a-view-versus-a-copy\n",
      "  self.company_df['cluster'] = [str(rd.randrange(no_clusters)) for _ in range(len(self.company_df))]\n"
     ]
    },
    {
     "name": "stdout",
     "output_type": "stream",
     "text": [
      "Graph has been cleared\n"
     ]
    },
    {
     "name": "stderr",
     "output_type": "stream",
     "text": [
      "100%|██████████| 50/50 [00:03<00:00, 13.47it/s]\n"
     ]
    },
    {
     "name": "stdout",
     "output_type": "stream",
     "text": [
      "recipients were created:  50\n",
      "Sorensen-relationships for Data Sharing Network created: 50\n",
      "92.0% of recipients were in the same cluster\n"
     ]
    },
    {
     "name": "stderr",
     "output_type": "stream",
     "text": [
      "/var/folders/zb/r42lnkhn1vjgbg6gmbnqxz6h0000gn/T/ipykernel_10178/1236196302.py:34: SettingWithCopyWarning: \n",
      "A value is trying to be set on a copy of a slice from a DataFrame.\n",
      "Try using .loc[row_indexer,col_indexer] = value instead\n",
      "\n",
      "See the caveats in the documentation: https://pandas.pydata.org/pandas-docs/stable/user_guide/indexing.html#returning-a-view-versus-a-copy\n",
      "  self.company_df['cluster'] = [str(rd.randrange(no_clusters)) for _ in range(len(self.company_df))]\n"
     ]
    },
    {
     "name": "stdout",
     "output_type": "stream",
     "text": [
      "Graph has been cleared\n"
     ]
    },
    {
     "name": "stderr",
     "output_type": "stream",
     "text": [
      "100%|██████████| 50/50 [00:03<00:00, 16.15it/s]\n"
     ]
    },
    {
     "name": "stdout",
     "output_type": "stream",
     "text": [
      "recipients were created:  41\n",
      "Sorensen-relationships for Data Sharing Network created: 41\n",
      "90.2439024390244% of recipients were in the same cluster\n"
     ]
    },
    {
     "name": "stderr",
     "output_type": "stream",
     "text": [
      "/var/folders/zb/r42lnkhn1vjgbg6gmbnqxz6h0000gn/T/ipykernel_10178/1236196302.py:34: SettingWithCopyWarning: \n",
      "A value is trying to be set on a copy of a slice from a DataFrame.\n",
      "Try using .loc[row_indexer,col_indexer] = value instead\n",
      "\n",
      "See the caveats in the documentation: https://pandas.pydata.org/pandas-docs/stable/user_guide/indexing.html#returning-a-view-versus-a-copy\n",
      "  self.company_df['cluster'] = [str(rd.randrange(no_clusters)) for _ in range(len(self.company_df))]\n"
     ]
    },
    {
     "name": "stdout",
     "output_type": "stream",
     "text": [
      "Graph has been cleared\n"
     ]
    },
    {
     "name": "stderr",
     "output_type": "stream",
     "text": [
      "100%|██████████| 50/50 [00:03<00:00, 15.81it/s]\n"
     ]
    },
    {
     "name": "stdout",
     "output_type": "stream",
     "text": [
      "recipients were created:  29\n",
      "Sorensen-relationships for Data Sharing Network created: 29\n",
      "89.65517241379311% of recipients were in the same cluster\n"
     ]
    },
    {
     "name": "stderr",
     "output_type": "stream",
     "text": [
      "/var/folders/zb/r42lnkhn1vjgbg6gmbnqxz6h0000gn/T/ipykernel_10178/1236196302.py:34: SettingWithCopyWarning: \n",
      "A value is trying to be set on a copy of a slice from a DataFrame.\n",
      "Try using .loc[row_indexer,col_indexer] = value instead\n",
      "\n",
      "See the caveats in the documentation: https://pandas.pydata.org/pandas-docs/stable/user_guide/indexing.html#returning-a-view-versus-a-copy\n",
      "  self.company_df['cluster'] = [str(rd.randrange(no_clusters)) for _ in range(len(self.company_df))]\n"
     ]
    },
    {
     "name": "stdout",
     "output_type": "stream",
     "text": [
      "Graph has been cleared\n"
     ]
    },
    {
     "name": "stderr",
     "output_type": "stream",
     "text": [
      "100%|██████████| 50/50 [00:03<00:00, 15.64it/s]\n"
     ]
    },
    {
     "name": "stdout",
     "output_type": "stream",
     "text": [
      "recipients were created:  43\n",
      "Sorensen-relationships for Data Sharing Network created: 43\n",
      "90.69767441860465% of recipients were in the same cluster\n"
     ]
    },
    {
     "name": "stderr",
     "output_type": "stream",
     "text": [
      "/var/folders/zb/r42lnkhn1vjgbg6gmbnqxz6h0000gn/T/ipykernel_10178/1236196302.py:34: SettingWithCopyWarning: \n",
      "A value is trying to be set on a copy of a slice from a DataFrame.\n",
      "Try using .loc[row_indexer,col_indexer] = value instead\n",
      "\n",
      "See the caveats in the documentation: https://pandas.pydata.org/pandas-docs/stable/user_guide/indexing.html#returning-a-view-versus-a-copy\n",
      "  self.company_df['cluster'] = [str(rd.randrange(no_clusters)) for _ in range(len(self.company_df))]\n"
     ]
    },
    {
     "name": "stdout",
     "output_type": "stream",
     "text": [
      "Graph has been cleared\n"
     ]
    },
    {
     "name": "stderr",
     "output_type": "stream",
     "text": [
      "100%|██████████| 50/50 [00:02<00:00, 17.06it/s]\n",
      "/var/folders/zb/r42lnkhn1vjgbg6gmbnqxz6h0000gn/T/ipykernel_10178/1236196302.py:34: SettingWithCopyWarning: \n",
      "A value is trying to be set on a copy of a slice from a DataFrame.\n",
      "Try using .loc[row_indexer,col_indexer] = value instead\n",
      "\n",
      "See the caveats in the documentation: https://pandas.pydata.org/pandas-docs/stable/user_guide/indexing.html#returning-a-view-versus-a-copy\n",
      "  self.company_df['cluster'] = [str(rd.randrange(no_clusters)) for _ in range(len(self.company_df))]\n"
     ]
    },
    {
     "name": "stdout",
     "output_type": "stream",
     "text": [
      "recipients were created:  46\n",
      "Sorensen-relationships for Data Sharing Network created: 46\n",
      "95.65217391304348% of recipients were in the same cluster\n",
      "Graph has been cleared\n"
     ]
    },
    {
     "name": "stderr",
     "output_type": "stream",
     "text": [
      "100%|██████████| 50/50 [00:03<00:00, 14.95it/s]\n"
     ]
    },
    {
     "name": "stdout",
     "output_type": "stream",
     "text": [
      "recipients were created:  60\n",
      "Sorensen-relationships for Data Sharing Network created: 60\n",
      "96.66666666666667% of recipients were in the same cluster\n"
     ]
    },
    {
     "name": "stderr",
     "output_type": "stream",
     "text": [
      "/var/folders/zb/r42lnkhn1vjgbg6gmbnqxz6h0000gn/T/ipykernel_10178/1236196302.py:34: SettingWithCopyWarning: \n",
      "A value is trying to be set on a copy of a slice from a DataFrame.\n",
      "Try using .loc[row_indexer,col_indexer] = value instead\n",
      "\n",
      "See the caveats in the documentation: https://pandas.pydata.org/pandas-docs/stable/user_guide/indexing.html#returning-a-view-versus-a-copy\n",
      "  self.company_df['cluster'] = [str(rd.randrange(no_clusters)) for _ in range(len(self.company_df))]\n"
     ]
    },
    {
     "name": "stdout",
     "output_type": "stream",
     "text": [
      "Graph has been cleared\n"
     ]
    },
    {
     "name": "stderr",
     "output_type": "stream",
     "text": [
      "100%|██████████| 50/50 [00:03<00:00, 16.11it/s]\n"
     ]
    },
    {
     "name": "stdout",
     "output_type": "stream",
     "text": [
      "recipients were created:  51\n",
      "Sorensen-relationships for Data Sharing Network created: 51\n",
      "94.11764705882352% of recipients were in the same cluster\n"
     ]
    },
    {
     "data": {
      "image/png": "[encoded data removed]",
      "text/plain": [
       "<Figure size 432x288 with 1 Axes>"
      ]
     },
     "metadata": {
      "needs_background": "light"
     },
     "output_type": "display_data"
    }
   ],
   "source": [
    "## Some analysis\n",
    "\n",
    "rd.seed(10)\n",
    "\n",
    "#set up outcome collectors\n",
    "community_counts = []\n",
    "community_dfs = []\n",
    "\n",
    "recipient_in_cluster = []\n",
    "\n",
    "#begin the figure\n",
    "plt.figure()\n",
    "\n",
    "#iterate through a hyper parameter: here how much do we increase the weight of same cluster nodes for recipient sharing\n",
    "for prob_scale in range(1,100,10): #add the values to be iterated through\n",
    "\n",
    "    # make an instance of a database\n",
    "    fakeTilt = exampleTilt(uri = 'bolt://localhost:11003', \n",
    "                    auth = ('neo4j', 'letmein'), \n",
    "                    no_nodes= 50,\n",
    "                    comp_df= fortune_500,\n",
    "                    category_list = categories, \n",
    "                    purpose_list = purpose,\n",
    "                    mu_poisson_dataDisclosed = 1,\n",
    "                    mu_poisson_recipients= 1,\n",
    "                    cluster_weight = prob_scale,  ### Define the hyperparameter \n",
    "                    no_clusters=5,\n",
    "                    reset=True) #reset has to be true so new graphs are created\n",
    "\n",
    "    fakeTilt.main() #generate the graph\n",
    "\n",
    "    recipient_in_cluster.append(fakeTilt.same_cluster[0]/fakeTilt.same_cluster[1])\n",
    "\n",
    "    try: # get a projection of the graph \n",
    "        G,_ = gds.graph.project('prob_scale',\n",
    "                            ['meta', \n",
    "                            #'dataDisclosed', 'tilt', 'recipient'\n",
    "                                ], \n",
    "                            {#'has_meta': {\"orientation\": \"UNDIRECTED\"}, \n",
    "                            #'has_dataDisclosed': {\"orientation\": \"UNDIRECTED\"},\n",
    "                            #'has_recipient': {\"orientation\": \"UNDIRECTED\"}, \n",
    "                            'has_dataShared': {\"orientation\": \"UNDIRECTED\"}}\n",
    "                        )\n",
    "    except: \n",
    "        G.drop() # if the projection already exists, delete it and make anew\n",
    "        G,_ = gds.graph.project('prob_scale',\n",
    "                            ['meta', \n",
    "                            #'dataDisclosed', 'tilt', 'recipient'\n",
    "                                ], \n",
    "                            {#'has_meta': {\"orientation\": \"UNDIRECTED\"}, \n",
    "                            #'has_dataDisclosed': {\"orientation\": \"UNDIRECTED\"},\n",
    "                            #'has_recipient': {\"orientation\": \"UNDIRECTED\"}, \n",
    "                            'has_dataShared': {\"orientation\": \"UNDIRECTED\"}}\n",
    "                        )\n",
    "    \n",
    "    # run the louvain algorithm. \n",
    "    res = gds.louvain.mutate(G, mutateProperty = 'community', nodeLabels = ['meta'], tolerance = 10**(-5))\n",
    "    \n",
    "    # get the number of communities found\n",
    "    community_counts.append(res['communityCount'])\n",
    "\n",
    "    # collect the number of nodes in each community\n",
    "    louvain_df = gds.graph.streamNodeProperty(G, 'community')\n",
    "    community_dfs.append(louvain_df)\n",
    "    \n",
    "    #print(gds.graph.streamNodeProperties(G, ['community'], separate_property_columns=True))\n",
    "\n",
    "    # plot a k-density plot of the page-rank distribution\n",
    "    sns.kdeplot(gds.pageRank.stream(G)['score'], label = f\"{prob_scale}\")\n",
    "    plt.title(\"Page Rank distribution\")\n",
    "    \n",
    "    # delete the graph projection\n",
    "    G.drop()\n",
    "\n",
    "plt.legend()\n",
    "plt.show()"
   ]
  },
  {
   "cell_type": "code",
   "execution_count": 12,
   "metadata": {},
   "outputs": [
    {
     "name": "stdout",
     "output_type": "stream",
     "text": [
      "9\n"
     ]
    }
   ],
   "source": [
    "print(len(np.unique(louvain_df['propertyValue'])))"
   ]
  },
  {
   "cell_type": "code",
   "execution_count": 103,
   "metadata": {},
   "outputs": [
    {
     "data": {
      "image/png": "[encoded data removed]",
      "text/plain": [
       "<Figure size 640x480 with 1 Axes>"
      ]
     },
     "metadata": {},
     "output_type": "display_data"
    },
    {
     "data": {
      "text/plain": [
       "<Figure size 640x480 with 0 Axes>"
      ]
     },
     "metadata": {},
     "output_type": "display_data"
    }
   ],
   "source": [
    "# plotting the number of community members \n",
    "plt.figure()\n",
    "\n",
    "for it, df in enumerate(community_dfs):\n",
    "\n",
    "    sns.kdeplot(df.value_counts('propertyValue'), label = f'{it+1}')\n",
    "\n",
    "plt.title(\"Density of nodes per community\")\n",
    "plt.legend()\n",
    "plt.grid()\n",
    "plt.show()\n",
    "plt.savefig('visuals/node density per community')"
   ]
  },
  {
   "cell_type": "code",
   "execution_count": 104,
   "metadata": {},
   "outputs": [
    {
     "data": {
      "image/png": "[encoded data removed]",
      "text/plain": [
       "<Figure size 640x480 with 1 Axes>"
      ]
     },
     "metadata": {},
     "output_type": "display_data"
    }
   ],
   "source": [
    "#plotting the number of communities \n",
    "plt.plot(range(1,100, 10), community_counts)\n",
    "plt.title(\"Number of communities detected\")\n",
    "plt.xlabel(\"Probability Scaler\")\n",
    "plt.ylabel(\"No. communities\")\n",
    "plt.grid()\n",
    "plt.savefig(\"visuals/no_communities_detected_vs_probability_of_connection\")"
   ]
  },
  {
   "cell_type": "code",
   "execution_count": 108,
   "metadata": {},
   "outputs": [
    {
     "name": "stderr",
     "output_type": "stream",
     "text": [
      "/var/folders/zb/r42lnkhn1vjgbg6gmbnqxz6h0000gn/T/ipykernel_10178/122809291.py:34: SettingWithCopyWarning: \n",
      "A value is trying to be set on a copy of a slice from a DataFrame.\n",
      "Try using .loc[row_indexer,col_indexer] = value instead\n",
      "\n",
      "See the caveats in the documentation: https://pandas.pydata.org/pandas-docs/stable/user_guide/indexing.html#returning-a-view-versus-a-copy\n",
      "  self.company_df['cluster'] = [str(rd.randrange(no_clusters)) for _ in range(len(self.company_df))]\n"
     ]
    },
    {
     "name": "stdout",
     "output_type": "stream",
     "text": [
      "Graph has been cleared\n"
     ]
    },
    {
     "name": "stderr",
     "output_type": "stream",
     "text": [
      "100%|██████████| 100/100 [00:05<00:00, 17.08it/s]"
     ]
    },
    {
     "name": "stdout",
     "output_type": "stream",
     "text": [
      "126 recipients were created: \n",
      "Sorensen-relationships for Data Sharing Network created: 126\n",
      "100.0% of recipients were in the same cluster\n"
     ]
    },
    {
     "name": "stderr",
     "output_type": "stream",
     "text": [
      "\n"
     ]
    }
   ],
   "source": [
    "fakeTilt = exampleTilt(uri = 'bolt://localhost:11003', \n",
    "                    auth = ('neo4j', 'letmein'), \n",
    "                    no_nodes= 100,\n",
    "                    comp_df= fortune_500,\n",
    "                    category_list = categories, \n",
    "                    purpose_list = purpose,\n",
    "                    mu_poisson_dataDisclosed = 1,\n",
    "                    mu_poisson_recipients= 1,\n",
    "                    cluster_weight = 10**8,  ### Define the hyperparameter \n",
    "                    no_clusters=5,\n",
    "                    reset=True) #reset has to be true so new graphs are created\n",
    "\n",
    "fakeTilt.main() #generate the graph"
   ]
  },
  {
   "cell_type": "markdown",
   "metadata": {},
   "source": [
    "## Visuals\n",
    "\n",
    "Use cypher queries to get an visualualise our database in directly in a jupyter notebook using graphistry\n",
    "\n",
    "#### Doku\n",
    "- https://hub.graphistry.com/docs/ui/index/\n",
    "- https://github.com/graphistry/pygraphistry/blob/master/demos/demos_databases_apis/neo4j/official/graphistry_bolt_tutorial_public.ipynb\n",
    "- https://hub.graphistry.com/"
   ]
  },
  {
   "cell_type": "code",
   "execution_count": 16,
   "metadata": {},
   "outputs": [],
   "source": [
    "#!pip install --user graphistry\n",
    "\n",
    "import graphistry"
   ]
  },
  {
   "cell_type": "code",
   "execution_count": 17,
   "metadata": {},
   "outputs": [],
   "source": [
    "NEO4J = {\n",
    "        'uri':'bolt://localhost:11003', \n",
    "        'auth' : ('neo4j', 'letmein')\n",
    "}\n",
    "\n",
    "graphistry.register(api=3, username='j_halkenhaeusser', password='longlivetransparency22', protocol='https', server='hub.graphistry.com')\n",
    "graphistry.register(bolt=NEO4J)\n"
   ]
  },
  {
   "cell_type": "code",
   "execution_count": 18,
   "metadata": {},
   "outputs": [
    {
     "data": {
      "text/html": [
       "\n",
       "            <iframe id=\"fc8d0e11-66aa-4f02-8bc3-51fa6a2927d6\" src=\"https://hub.graphistry.com/graph/graph.html?dataset=8bb9e6f3dc5742948fc3384f771a35f1&type=arrow&viztoken=ab2cabfd-3a03-4bc3-b232-89c0f6c1b613&usertag=c7df0ed3-pygraphistry-0.27.1&splashAfter=1663761214&info=true\"\n",
       "                    allowfullscreen=\"true\" webkitallowfullscreen=\"true\" mozallowfullscreen=\"true\"\n",
       "                    oallowfullscreen=\"true\" msallowfullscreen=\"true\"\n",
       "                    style=\"width:100%; height:500px; border: 1px solid #DDD; overflow: hidden\"\n",
       "                    \n",
       "            >\n",
       "            </iframe>\n",
       "        \n",
       "            <script>\n",
       "                try {\n",
       "                  $(\"#fc8d0e11-66aa-4f02-8bc3-51fa6a2927d6\").bind('mousewheel', function(e) { e.preventDefault(); });\n",
       "                } catch (e) { console.error('exn catching scroll', e); }\n",
       "            </script>\n",
       "        "
      ],
      "text/plain": [
       "<IPython.core.display.HTML object>"
      ]
     },
     "execution_count": 18,
     "metadata": {},
     "output_type": "execute_result"
    }
   ],
   "source": [
    "graphistry.cypher(\"\"\"\n",
    "      match (m:meta)-[s:has_dataShared]-(n:meta), (t:meta) return t, m, s, n\n",
    "  \"\"\").plot()"
   ]
  },
  {
   "cell_type": "code",
   "execution_count": 19,
   "metadata": {},
   "outputs": [
    {
     "data": {
      "text/html": [
       "\n",
       "            <iframe id=\"721cb5ac-d979-4953-9adc-1a01d35eb58d\" src=\"https://hub.graphistry.com/graph/graph.html?dataset=d619907cc21d451ead4eb5b4399fedb4&type=arrow&viztoken=4072c53f-cd09-4bbf-b5aa-a3d081fff9b5&usertag=c7df0ed3-pygraphistry-0.27.1&splashAfter=1663761216&info=true\"\n",
       "                    allowfullscreen=\"true\" webkitallowfullscreen=\"true\" mozallowfullscreen=\"true\"\n",
       "                    oallowfullscreen=\"true\" msallowfullscreen=\"true\"\n",
       "                    style=\"width:100%; height:500px; border: 1px solid #DDD; overflow: hidden\"\n",
       "                    \n",
       "            >\n",
       "            </iframe>\n",
       "        \n",
       "            <script>\n",
       "                try {\n",
       "                  $(\"#721cb5ac-d979-4953-9adc-1a01d35eb58d\").bind('mousewheel', function(e) { e.preventDefault(); });\n",
       "                } catch (e) { console.error('exn catching scroll', e); }\n",
       "            </script>\n",
       "        "
      ],
      "text/plain": [
       "<IPython.core.display.HTML object>"
      ]
     },
     "execution_count": 19,
     "metadata": {},
     "output_type": "execute_result"
    }
   ],
   "source": [
    "graphistry.cypher(\"\"\"\n",
    "      match (m:meta)-[s:has_dataShared]-(n:meta) return m, s, n\n",
    "  \"\"\").plot()"
   ]
  },
  {
   "cell_type": "markdown",
   "metadata": {},
   "source": [
    "## Histograms for various graph attributes"
   ]
  },
  {
   "cell_type": "code",
   "execution_count": 9,
   "metadata": {},
   "outputs": [
    {
     "data": {
      "text/html": [
       "<div>\n",
       "<style scoped>\n",
       "    .dataframe tbody tr th:only-of-type {\n",
       "        vertical-align: middle;\n",
       "    }\n",
       "\n",
       "    .dataframe tbody tr th {\n",
       "        vertical-align: top;\n",
       "    }\n",
       "\n",
       "    .dataframe thead th {\n",
       "        text-align: right;\n",
       "    }\n",
       "</style>\n",
       "<table border=\"1\" class=\"dataframe\">\n",
       "  <thead>\n",
       "    <tr style=\"text-align: right;\">\n",
       "      <th></th>\n",
       "      <th>degreeDistribution</th>\n",
       "      <th>graphName</th>\n",
       "      <th>database</th>\n",
       "      <th>memoryUsage</th>\n",
       "      <th>sizeInBytes</th>\n",
       "      <th>nodeCount</th>\n",
       "      <th>relationshipCount</th>\n",
       "      <th>configuration</th>\n",
       "      <th>density</th>\n",
       "      <th>creationTime</th>\n",
       "      <th>modificationTime</th>\n",
       "      <th>schema</th>\n",
       "    </tr>\n",
       "  </thead>\n",
       "  <tbody>\n",
       "  </tbody>\n",
       "</table>\n",
       "</div>"
      ],
      "text/plain": [
       "Empty DataFrame\n",
       "Columns: [degreeDistribution, graphName, database, memoryUsage, sizeInBytes, nodeCount, relationshipCount, configuration, density, creationTime, modificationTime, schema]\n",
       "Index: []"
      ]
     },
     "execution_count": 9,
     "metadata": {},
     "output_type": "execute_result"
    }
   ],
   "source": [
    "gds.graph.list()"
   ]
  },
  {
   "cell_type": "code",
   "execution_count": 1,
   "metadata": {},
   "outputs": [
    {
     "ename": "NameError",
     "evalue": "name 'gds' is not defined",
     "output_type": "error",
     "traceback": [
      "\u001b[0;31m---------------------------------------------------------------------------\u001b[0m",
      "\u001b[0;31mNameError\u001b[0m                                 Traceback (most recent call last)",
      "\u001b[1;32m/Users/johannes/Desktop/TU/Coding/tilt-graph-analyis/fake_data.ipynb Cell 28\u001b[0m in \u001b[0;36m<cell line: 1>\u001b[0;34m()\u001b[0m\n\u001b[0;32m----> <a href='vscode-notebook-cell:/Users/johannes/Desktop/TU/Coding/tilt-graph-analyis/fake_data.ipynb#ch0000027?line=0'>1</a>\u001b[0m gds\u001b[39m.\u001b[39mgraph\u001b[39m.\u001b[39mdrop(G \u001b[39m=\u001b[39m gds\u001b[39m.\u001b[39mgraph\u001b[39m.\u001b[39mget(\u001b[39m'\u001b[39m\u001b[39mmake_hist\u001b[39m\u001b[39m'\u001b[39m))\n",
      "\u001b[0;31mNameError\u001b[0m: name 'gds' is not defined"
     ]
    }
   ],
   "source": [
    "gds.graph.drop(G = gds.graph.get('make_hist'))"
   ]
  },
  {
   "cell_type": "code",
   "execution_count": 10,
   "metadata": {},
   "outputs": [
    {
     "name": "stdout",
     "output_type": "stream",
     "text": [
      "meta    [cluster]\n",
      "dtype: object\n"
     ]
    },
    {
     "data": {
      "image/png": "[encoded data removed]",
      "text/plain": [
       "<Figure size 640x480 with 1 Axes>"
      ]
     },
     "metadata": {},
     "output_type": "display_data"
    }
   ],
   "source": [
    "def get_histogram(node_type,\n",
    "                    attribute, \n",
    "                    bolt, \n",
    "                    auth,\n",
    "                    plot_type = 'histogram'): \n",
    "    \n",
    "    gds = GraphDataScience('bolt://localhost:11003', \n",
    "                    auth = ('neo4j', 'letmein'))\n",
    "\n",
    "    #make a graph projection (/get all the relevant nodes)\n",
    "    try: # get a projection of the graph \n",
    "        G,_ = gds.graph.project('make_hist',\n",
    "                    {node_type: {\"properties\": attribute}}, ### does not work because property is a string???  and it only lets me use strings to create node properties???\n",
    "                    ['has_dataShared']\n",
    "                )\n",
    "    except: \n",
    "        G = gds.graph.get('make_hist')\n",
    "        G.drop()\n",
    "        G,_ = gds.graph.project('make_hist',\n",
    "                            {node_type: {\"properties\": attribute}}, ### does not work because property is a string???  and it only lets me use strings to create node properties???\n",
    "                            ['has_dataShared']\n",
    "                        )\n",
    "\n",
    "    print(G.node_properties())\n",
    "\n",
    "    # collect the attribute\n",
    "    property_series = gds.graph.streamNodeProperty(G, attribute)\n",
    "\n",
    "    if plot_type == 'histogram':\n",
    "\n",
    "        plt.hist(property_series['propertyValue'])\n",
    "        plt.title(f\"Distribution of {attribute} across {node_type} nodes\")\n",
    "\n",
    "    if plot_type == \"density\":\n",
    "        # plot a histogram plot of the page-rank distribution\n",
    "        sns.kdeplot(gds.pageRank.stream(G)['score'], label = f\"{prob_scale}\")\n",
    "        plt.title(f\"Distribution of {attribute} across {node_type} nodes\")\n",
    "    \n",
    "\n",
    "    # delete the graph projection\n",
    "    G.drop()\n",
    "\n",
    "    plt.show()\n",
    "\n",
    "\n",
    "get_histogram(\"meta\", \n",
    "            'cluster', 'bolt://localhost:11003', \n",
    "                    auth = ('neo4j', 'letmein'))"
   ]
  },
  {
   "cell_type": "markdown",
   "metadata": {},
   "source": [
    "### Analysing Clusters"
   ]
  },
  {
   "cell_type": "code",
   "execution_count": 11,
   "metadata": {},
   "outputs": [
    {
     "name": "stderr",
     "output_type": "stream",
     "text": [
      "/var/folders/zb/r42lnkhn1vjgbg6gmbnqxz6h0000gn/T/ipykernel_10178/1236196302.py:34: SettingWithCopyWarning: \n",
      "A value is trying to be set on a copy of a slice from a DataFrame.\n",
      "Try using .loc[row_indexer,col_indexer] = value instead\n",
      "\n",
      "See the caveats in the documentation: https://pandas.pydata.org/pandas-docs/stable/user_guide/indexing.html#returning-a-view-versus-a-copy\n",
      "  self.company_df['cluster'] = [str(rd.randrange(no_clusters)) for _ in range(len(self.company_df))]\n"
     ]
    },
    {
     "name": "stdout",
     "output_type": "stream",
     "text": [
      "Graph has been cleared\n"
     ]
    },
    {
     "name": "stderr",
     "output_type": "stream",
     "text": [
      "100%|██████████| 50/50 [00:03<00:00, 13.78it/s]\n"
     ]
    },
    {
     "name": "stdout",
     "output_type": "stream",
     "text": [
      "recipients were created:  257\n",
      "Sorensen-relationships for Data Sharing Network created: 257\n",
      "92.60700389105058% of recipients were in the same cluster\n"
     ]
    }
   ],
   "source": [
    "fakeTilt = exampleTilt(uri = 'bolt://localhost:11003', \n",
    "                    auth = ('neo4j', 'letmein'), \n",
    "                    no_nodes= 50,\n",
    "                    comp_df= fortune_500,\n",
    "                    category_list = categories, \n",
    "                    purpose_list = purpose,\n",
    "                    mu_poisson_dataDisclosed = 1,\n",
    "                    mu_poisson_recipients= 5,\n",
    "                    cluster_weight = 100,\n",
    "                    reset=True)\n",
    "fakeTilt.main()"
   ]
  },
  {
   "cell_type": "code",
   "execution_count": 12,
   "metadata": {},
   "outputs": [],
   "source": [
    "G,_ = gds.graph.project('make_hist',\n",
    "                    {'meta': {\"properties\": 'cluster'}},\n",
    "                    ['has_dataShared']\n",
    "                )"
   ]
  },
  {
   "cell_type": "code",
   "execution_count": 13,
   "metadata": {},
   "outputs": [],
   "source": [
    "res = gds.louvain.mutate(G, mutateProperty = 'community_default') #,seedProperty = 'cluster', maxIterations=1000, tolerance = 10e-15)"
   ]
  },
  {
   "cell_type": "code",
   "execution_count": 14,
   "metadata": {},
   "outputs": [
    {
     "data": {
      "text/plain": [
       "5"
      ]
     },
     "execution_count": 14,
     "metadata": {},
     "output_type": "execute_result"
    }
   ],
   "source": [
    "res['communityCount']"
   ]
  },
  {
   "cell_type": "code",
   "execution_count": 15,
   "metadata": {},
   "outputs": [],
   "source": [
    "nodes_communities = gds.graph.streamNodeProperties(G, ['cluster', 'community_default'], separate_property_columns= True)"
   ]
  },
  {
   "cell_type": "code",
   "execution_count": 16,
   "metadata": {},
   "outputs": [
    {
     "data": {
      "text/html": [
       "<div>\n",
       "<style scoped>\n",
       "    .dataframe tbody tr th:only-of-type {\n",
       "        vertical-align: middle;\n",
       "    }\n",
       "\n",
       "    .dataframe tbody tr th {\n",
       "        vertical-align: top;\n",
       "    }\n",
       "\n",
       "    .dataframe thead th {\n",
       "        text-align: right;\n",
       "    }\n",
       "</style>\n",
       "<table border=\"1\" class=\"dataframe\">\n",
       "  <thead>\n",
       "    <tr style=\"text-align: right;\">\n",
       "      <th></th>\n",
       "      <th></th>\n",
       "      <th>nodeId</th>\n",
       "    </tr>\n",
       "    <tr>\n",
       "      <th>cluster</th>\n",
       "      <th>community_default</th>\n",
       "      <th></th>\n",
       "    </tr>\n",
       "  </thead>\n",
       "  <tbody>\n",
       "    <tr>\n",
       "      <th>0</th>\n",
       "      <th>7</th>\n",
       "      <td>8</td>\n",
       "    </tr>\n",
       "    <tr>\n",
       "      <th>1</th>\n",
       "      <th>12</th>\n",
       "      <td>7</td>\n",
       "    </tr>\n",
       "    <tr>\n",
       "      <th rowspan=\"2\" valign=\"top\">2</th>\n",
       "      <th>43</th>\n",
       "      <td>2</td>\n",
       "    </tr>\n",
       "    <tr>\n",
       "      <th>44</th>\n",
       "      <td>13</td>\n",
       "    </tr>\n",
       "    <tr>\n",
       "      <th>3</th>\n",
       "      <th>43</th>\n",
       "      <td>10</td>\n",
       "    </tr>\n",
       "    <tr>\n",
       "      <th rowspan=\"2\" valign=\"top\">4</th>\n",
       "      <th>12</th>\n",
       "      <td>1</td>\n",
       "    </tr>\n",
       "    <tr>\n",
       "      <th>27</th>\n",
       "      <td>9</td>\n",
       "    </tr>\n",
       "  </tbody>\n",
       "</table>\n",
       "</div>"
      ],
      "text/plain": [
       "                           nodeId\n",
       "cluster community_default        \n",
       "0       7                       8\n",
       "1       12                      7\n",
       "2       43                      2\n",
       "        44                     13\n",
       "3       43                     10\n",
       "4       12                      1\n",
       "        27                      9"
      ]
     },
     "execution_count": 16,
     "metadata": {},
     "output_type": "execute_result"
    }
   ],
   "source": [
    "nodes_communities.groupby(['cluster', 'community_default']).count()"
   ]
  },
  {
   "cell_type": "code",
   "execution_count": 109,
   "metadata": {},
   "outputs": [
    {
     "data": {
      "text/plain": [
       "array([[<AxesSubplot:title={'center':'0'}>,\n",
       "        <AxesSubplot:title={'center':'1'}>],\n",
       "       [<AxesSubplot:title={'center':'2'}>,\n",
       "        <AxesSubplot:title={'center':'3'}>],\n",
       "       [<AxesSubplot:title={'center':'4'}>, <AxesSubplot:>]], dtype=object)"
      ]
     },
     "execution_count": 109,
     "metadata": {},
     "output_type": "execute_result"
    },
    {
     "data": {
      "image/png": "[encoded data removed]",
      "text/plain": [
       "<Figure size 1200x900 with 6 Axes>"
      ]
     },
     "metadata": {},
     "output_type": "display_data"
    }
   ],
   "source": [
    "nodes_communities['community_default'].hist(by=nodes_communities['cluster'], orientation= 'horizontal', figsize=(12,9))"
   ]
  },
  {
   "cell_type": "code",
   "execution_count": 18,
   "metadata": {},
   "outputs": [
    {
     "ename": "ValueError",
     "evalue": "No projected graph named 'GDS' exists in current database 'None'",
     "output_type": "error",
     "traceback": [
      "\u001b[0;31m---------------------------------------------------------------------------\u001b[0m",
      "\u001b[0;31mValueError\u001b[0m                                Traceback (most recent call last)",
      "\u001b[1;32m/Users/johannes/Desktop/TU/Coding/tilt-graph-analyis/fake_data.ipynb Cell 37\u001b[0m in \u001b[0;36m<cell line: 1>\u001b[0;34m()\u001b[0m\n\u001b[0;32m----> <a href='vscode-notebook-cell:/Users/johannes/Desktop/TU/Coding/tilt-graph-analyis/fake_data.ipynb#ch0000038?line=0'>1</a>\u001b[0m gds\u001b[39m.\u001b[39mgraph\u001b[39m.\u001b[39mdrop(gds\u001b[39m.\u001b[39;49mgraph\u001b[39m.\u001b[39;49mget(\u001b[39m\"\u001b[39;49m\u001b[39mGDS\u001b[39;49m\u001b[39m\"\u001b[39;49m))\n",
      "File \u001b[0;32m~/opt/anaconda3/lib/python3.9/site-packages/graphdatascience/error/client_only_endpoint.py:20\u001b[0m, in \u001b[0;36mclient_only_endpoint.<locals>.decorator.<locals>.wrapper\u001b[0;34m(self, *args, **kwargs)\u001b[0m\n\u001b[1;32m     17\u001b[0m \u001b[39mif\u001b[39;00m \u001b[39mself\u001b[39m\u001b[39m.\u001b[39m_namespace \u001b[39m!=\u001b[39m expected_namespace_prefix:\n\u001b[1;32m     18\u001b[0m     \u001b[39mraise\u001b[39;00m \u001b[39mSyntaxError\u001b[39;00m(\u001b[39mf\u001b[39m\u001b[39m\"\u001b[39m\u001b[39mThere is no \u001b[39m\u001b[39m'\u001b[39m\u001b[39m{\u001b[39;00m\u001b[39mself\u001b[39m\u001b[39m.\u001b[39m_namespace\u001b[39m}\u001b[39;00m\u001b[39m.\u001b[39m\u001b[39m{\u001b[39;00mfunc\u001b[39m.\u001b[39m\u001b[39m__name__\u001b[39m\u001b[39m}\u001b[39;00m\u001b[39m'\u001b[39m\u001b[39m to call\u001b[39m\u001b[39m\"\u001b[39m)\n\u001b[0;32m---> 20\u001b[0m \u001b[39mreturn\u001b[39;00m func(\u001b[39mself\u001b[39;49m, \u001b[39m*\u001b[39;49margs, \u001b[39m*\u001b[39;49m\u001b[39m*\u001b[39;49mkwargs)\n",
      "File \u001b[0;32m~/opt/anaconda3/lib/python3.9/site-packages/graphdatascience/graph/graph_proc_runner.py:93\u001b[0m, in \u001b[0;36mGraphProcRunner.get\u001b[0;34m(self, graph_name)\u001b[0m\n\u001b[1;32m     90\u001b[0m \u001b[39m@client_only_endpoint\u001b[39m(\u001b[39m\"\u001b[39m\u001b[39mgds.graph\u001b[39m\u001b[39m\"\u001b[39m)\n\u001b[1;32m     91\u001b[0m \u001b[39mdef\u001b[39;00m \u001b[39mget\u001b[39m(\u001b[39mself\u001b[39m, graph_name: \u001b[39mstr\u001b[39m) \u001b[39m-\u001b[39m\u001b[39m>\u001b[39m Graph:\n\u001b[1;32m     92\u001b[0m     \u001b[39mif\u001b[39;00m \u001b[39mnot\u001b[39;00m \u001b[39mself\u001b[39m\u001b[39m.\u001b[39mexists(graph_name)[\u001b[39m\"\u001b[39m\u001b[39mexists\u001b[39m\u001b[39m\"\u001b[39m]:\n\u001b[0;32m---> 93\u001b[0m         \u001b[39mraise\u001b[39;00m \u001b[39mValueError\u001b[39;00m(\n\u001b[1;32m     94\u001b[0m             \u001b[39mf\u001b[39m\u001b[39m\"\u001b[39m\u001b[39mNo projected graph named \u001b[39m\u001b[39m'\u001b[39m\u001b[39m{\u001b[39;00mgraph_name\u001b[39m}\u001b[39;00m\u001b[39m'\u001b[39m\u001b[39m exists in current database \u001b[39m\u001b[39m'\u001b[39m\u001b[39m{\u001b[39;00m\u001b[39mself\u001b[39m\u001b[39m.\u001b[39m_query_runner\u001b[39m.\u001b[39mdatabase()\u001b[39m}\u001b[39;00m\u001b[39m'\u001b[39m\u001b[39m\"\u001b[39m\n\u001b[1;32m     95\u001b[0m         )\n\u001b[1;32m     97\u001b[0m     \u001b[39mreturn\u001b[39;00m Graph(graph_name, \u001b[39mself\u001b[39m\u001b[39m.\u001b[39m_query_runner, \u001b[39mself\u001b[39m\u001b[39m.\u001b[39m_server_version)\n",
      "\u001b[0;31mValueError\u001b[0m: No projected graph named 'GDS' exists in current database 'None'"
     ]
    }
   ],
   "source": [
    "gds.graph.drop(gds.graph.get(\"GDS\"))"
   ]
  },
  {
   "cell_type": "markdown",
   "metadata": {},
   "source": [
    "## Network Dynamics"
   ]
  },
  {
   "cell_type": "code",
   "execution_count": 8,
   "metadata": {},
   "outputs": [],
   "source": [
    "\n",
    "from re import X\n",
    "\n",
    "\n",
    "class sim:\n",
    "\n",
    "    def __init__(self, network_object, no_steps = 10, merge_threshold = 2, exp_mode = False):\n",
    "\n",
    "        # hyperparameters\n",
    "        self.no_steps = no_steps\n",
    "        self.network = network_object\n",
    "        self.merge_threshold = merge_threshold\n",
    "\n",
    "        # initialise the network \n",
    "        self.network.main()\n",
    "\n",
    "        # utils\n",
    "        self.pos = None \n",
    "        self.no_nodes_record = []\n",
    "        self.experiment_mode = exp_mode #surpress visualisation/gif generation for quicker runtime\n",
    "\n",
    "\n",
    "    def visualise(self, driver, iteration, subtitle):\n",
    "\n",
    "        # get the connections info \n",
    "        curr_dict = pd.DataFrame(driver.run(\"\"\"\n",
    "                    MATCH (m: meta)-[c:has_dataShared]->(n: meta)\n",
    "                    RETURN m.name as source, n.name as target, c.weight as propertyValue, m.cluster as cluster\n",
    "                \"\"\").data())\n",
    "\n",
    "        G = nx.from_pandas_edgelist(curr_dict, 'source', 'target', 'propertyValue')\n",
    "\n",
    "        cluster_dict = {'0': 'green',\n",
    "                        '1': 'blue',\n",
    "                        '2': 'red',\n",
    "                        '3': 'orange',\n",
    "                        '4': 'brown'}\n",
    "\n",
    "        color_map = []\n",
    "        \n",
    "        for n in G.nodes:\n",
    "\n",
    "            #cluster_dict[n] = {'cluster': self.network.company_df[self.network.company_df['Company'] == n]['cluster'].values[0]}\n",
    "            color_map.append(cluster_dict[self.network.company_df[self.network.company_df['Company'] == n]['cluster'].values[0]])\n",
    "\n",
    "        \n",
    "        nx.set_node_attributes(G, cluster_dict, 'cluster')\n",
    "\n",
    "        #print(self.pos)\n",
    "        if self.pos == None: \n",
    "            self.pos = nx.spring_layout(G)\n",
    "            self.fixed_nodes = self.pos.keys()\n",
    "\n",
    "        it_pos = nx.spring_layout(G, pos=self.pos, fixed = self.fixed_nodes)\n",
    "            \n",
    "        nx.draw_networkx(G,pos = it_pos, with_labels = True, font_size = 8, node_color = color_map, edge_color = 'lightgrey')\n",
    "            \n",
    "        plt.title(f\"Step: {iteration}{subtitle}\")\n",
    "\n",
    "                # in case we don't want to save an image we can just not specify an iteration\n",
    "        if iteration != None:  \n",
    "            plt.savefig(f'visuals/{iteration}_network.png')\n",
    "            plt.close()\n",
    "        else:\n",
    "            plt.show() \n",
    "\n",
    "    \n",
    "    def make_gif(self, gifname, ending ='', n_frames = 5):\n",
    "\n",
    "        \"\"\"\n",
    "        func:   creates a gif from pngs. There need to be images saved by the view method.\n",
    "        input:  length_sim: number of completed runs of simulation\n",
    "                n_frames: wait time to slow down gif. default = 5.\n",
    "        output: saves a gif to wd.\n",
    "        \"\"\"\n",
    "\n",
    "        with imageio.get_writer(f'visuals/{gifname}.gif', mode='I') as writer:\n",
    "            filenames = [f\"visuals/{name}{ending}.png\" for name in range(self.no_steps)]\n",
    "            for filename in filenames:\n",
    "                image = imageio.imread(filename)\n",
    "\n",
    "                for i in range(n_frames):\n",
    "                    writer.append_data(image)\n",
    "\n",
    "        for filename in set(filenames):\n",
    "            os.remove(filename)\n",
    "\n",
    "        return\n",
    "\n",
    "    def new_connection(self, driver, iteration):\n",
    "\n",
    "\n",
    "        if gds.graph.exists('GDS').exists == True:\n",
    "                gds.graph.drop(gds.graph.get(\"GDS\"))\n",
    "                \n",
    "        driver.run(\"\"\"   CALL gds.graph.project(\n",
    "                        'GDS',\n",
    "                        'meta',  \n",
    "                        {\n",
    "                            has_dataShared: {properties: 'weight'}\n",
    "                        }\n",
    "                        )\n",
    "                        YIELD graphName\n",
    "                \"\"\")\n",
    "\n",
    "        cypher = '''\n",
    "        CALL gds.pageRank.stream('GDS')\n",
    "        YIELD nodeId, score\n",
    "        RETURN gds.util.asNode(nodeId).name AS name,gds.util.asNode(nodeId).cluster AS cluster,  score\n",
    "        ORDER BY score DESC, name ASC\n",
    "                '''\n",
    "\n",
    "        dat = pd.DataFrame(driver.run(cypher).data())\n",
    "\n",
    "        if not self.experiment_mode:\n",
    "            plt.hist(dat['score'])\n",
    "            plt.title(f\"Step: {iteration} \\n Merge threshold: {self.merge_threshold}\")\n",
    "            plt.xlabel('Page Rank')\n",
    "            plt.vlines(x = self.merge_threshold, ymin=0, ymax = 10, colors=['red'], linestyles='--')\n",
    "            plt.savefig(f'visuals/{iteration}_distribution.png')\n",
    "            plt.close()\n",
    "        \n",
    "        if len(dat) == 1:\n",
    "            return \"ONLY ONE NODE LEFT\"\n",
    "        \n",
    "\n",
    "        start_node = dat.sample(n=1, weights=dat['score'], axis=0)\n",
    "\n",
    "        # define weights dict\n",
    "        weights = {}\n",
    "\n",
    "        # fill with no of clusters \n",
    "        for w in range(self.network.no_clusters):\n",
    "            weights[w] = 1/self.network.no_clusters\n",
    "\n",
    "        # increase weight for cluster of company\n",
    "        weights[start_node['cluster'].values[0]] *= self.network.weight_scaler  # more weight on cluster scaler on the connection\n",
    "        \n",
    "        # scale the weights\n",
    "        scaled_weights = (pd.Series(weights) / dat.cluster.value_counts(normalize=True))\n",
    "\n",
    "        shared_with_comp = start_node['name'].values[0]\n",
    "        \n",
    "        while shared_with_comp == start_node['name'].values[0]:\n",
    "            shared_with_comp = dat.sample(n=1, weights=dat.cluster.map(scaled_weights))['name'].values[0]\n",
    "\n",
    "        # print(start_node['name'].values[0], shared_with_comp)\n",
    "\n",
    "        driver.run('''\n",
    "            MATCH (m:meta {name: %r}), (n:meta {name: %r})\n",
    "            CREATE (n)-[r:has_dataShared]->(m)\n",
    "            SET r.weight = .8\n",
    "        ''' %(start_node['name'].values[0], shared_with_comp))\n",
    "        \n",
    "        driver.run(\"CALL gds.graph.drop('GDS')\")\n",
    "        \n",
    "        # if the start node has a high page rank merge it with another node (randomness is still granted by nodes with high page rank not always being chosen)\n",
    "        merge = start_node['score'].values[0] >= self.merge_threshold\n",
    "        if merge:\n",
    "            if not self.experiment_mode:\n",
    "                print(\"merging:\", start_node['name'].values[0], shared_with_comp)\n",
    "            self.merge_nodes(driver, start_node['name'].values[0], shared_with_comp)\n",
    "            return f\"\\n{start_node['name'].values[0]} merged with {shared_with_comp}\"\n",
    "\n",
    "        return ''\n",
    "\n",
    "\n",
    "\n",
    "    def merge_nodes(self, driver, buyer, seller):\n",
    "\n",
    "        \"\"\" \n",
    "        Two nodes merge when \n",
    "            - they share more than *hyperparameter* number of connections \n",
    "            - picked completely at random. \n",
    "            - When a new connection is formed with *hyperparameter*-chance this leads to a merge\n",
    "            - A node with high page-rank gobbles up a node with low page rank. \n",
    "\n",
    "        driver: session driver\n",
    "        buyer:  node that gets bigger\n",
    "        seller: deleted node\n",
    "        \"\"\"\n",
    "        \n",
    "        # get all the connections from the seller node to other nodes\n",
    "        connection_df_out = pd.DataFrame(driver.run(\"\"\"\n",
    "                    MATCH (m: meta {name: %r})-[c:has_dataShared]->(n: meta)\n",
    "                    RETURN m.name as source, n.name as target, c.weight as propertyValue\n",
    "                \"\"\"%(seller)).data())\n",
    "\n",
    "        # get the connections into the seller from other nodes\n",
    "        connection_df_in = pd.DataFrame(driver.run(\"\"\"\n",
    "            MATCH (m: meta)-[c:has_dataShared]->(n: meta {name: %r})\n",
    "            RETURN m.name as source, n.name as target, c.weight as propertyValue\n",
    "        \"\"\"%(seller)).data())\n",
    "\n",
    "        # delete the seller node\n",
    "        driver.run(\"\"\"\n",
    "            MATCH (m: meta {name: %r}) DETACH DELETE m;\n",
    "        \"\"\"%seller)\n",
    "\n",
    "        # create connections from the buyer to the target nodes of the seller \n",
    "        for index, row in connection_df_out.iterrows():\n",
    "\n",
    "            if buyer == row['target']:\n",
    "                continue\n",
    "\n",
    "            driver.run(\"\"\"\n",
    "                MATCH (m:meta {name: %r}), (n:meta {name: %r})\n",
    "                CREATE (m)-[c:has_dataShared]->(n) \n",
    "                SET c.weight = %d \n",
    "            \"\"\"%(buyer, row['target'], row['propertyValue']))\n",
    "\n",
    "        # create connections into the buyer\n",
    "        for index, row in connection_df_in.iterrows():\n",
    "            \n",
    "            if buyer == row['source']:\n",
    "                continue\n",
    "\n",
    "            driver.run(\"\"\"\n",
    "                MATCH (m:meta {name: %r}), (n:meta {name: %r})\n",
    "                CREATE (m)-[c:has_dataShared]->(n) \n",
    "                SET c.weight = %d \n",
    "            \"\"\"%(row['source'], buyer, row['propertyValue']))\n",
    "            \n",
    "\n",
    "    def main(self):\n",
    "        \n",
    "        with self.network.driver.session() as s:\n",
    "\n",
    "            # delete all recipients.\n",
    "            s.run(\"match (d:dataDisclosed), (p:purpose) detach delete d, p\")\n",
    "\n",
    "            if not self.experiment_mode:\n",
    "                print(\"Beginning with the simulation.\")\n",
    "\n",
    "            for i in tqdm(range(self.no_steps)):\n",
    "                \n",
    "                out = self.new_connection(s, i)\n",
    "                if not self.experiment_mode:\n",
    "                    self.visualise(s, i, out)\n",
    "\n",
    "                self.no_nodes_record.append(s.run(\"match (m: meta) return COUNT(m)\").data()[0]['COUNT(m)'])\n",
    "\n",
    "\n",
    "\n",
    "            #s.run(\"CALL gds.graph.drop('GDS')\")\n",
    "\n",
    "            # randomly generate a recipient based on cluster for a random node. \n",
    "            # based on some rule determine the probability of the node being chosen (shorter purpose statements are less specific and hence share more or something like that.)\n",
    "            \n",
    "            # get two nodes and randomly generate a connection if they are in the same cluster. \n",
    "\n",
    "            # when you pass a pagerank of .95 all the recipients of one node get passed to that high pagerank node the node is deleted (i.e. some smaller node merges with a bigger node.)\n",
    "        \n",
    "        if not self.experiment_mode:\n",
    "            self.make_gif('network', ending = '_network')\n",
    "            self.make_gif('distribution', ending = \"_distribution\")\n",
    "\n",
    "        print(\"Simulation completed. GIF is being generated and can be found in the directory\")\n",
    "        return    "
   ]
  },
  {
   "cell_type": "markdown",
   "metadata": {},
   "source": [
    "#### Run Network Simulations\n",
    "\n",
    "Note If there is a strange latex error. Restart the notebook and comment out the rcParams and delete AT&T out of the fortune500 list. "
   ]
  },
  {
   "cell_type": "code",
   "execution_count": 13,
   "metadata": {},
   "outputs": [
    {
     "name": "stderr",
     "output_type": "stream",
     "text": [
      "/var/folders/zb/r42lnkhn1vjgbg6gmbnqxz6h0000gn/T/ipykernel_31344/122809291.py:34: SettingWithCopyWarning: \n",
      "A value is trying to be set on a copy of a slice from a DataFrame.\n",
      "Try using .loc[row_indexer,col_indexer] = value instead\n",
      "\n",
      "See the caveats in the documentation: https://pandas.pydata.org/pandas-docs/stable/user_guide/indexing.html#returning-a-view-versus-a-copy\n",
      "  self.company_df['cluster'] = [str(rd.randrange(no_clusters)) for _ in range(len(self.company_df))]\n"
     ]
    },
    {
     "name": "stdout",
     "output_type": "stream",
     "text": [
      "Graph has been cleared\n"
     ]
    },
    {
     "name": "stderr",
     "output_type": "stream",
     "text": [
      "100%|██████████| 30/30 [00:01<00:00, 19.37it/s]\n"
     ]
    },
    {
     "name": "stdout",
     "output_type": "stream",
     "text": [
      "47 recipients were created: \n",
      "Sorensen-relationships for Data Sharing Network created: 47\n",
      "91.48936170212765% of recipients were in the same cluster\n",
      "Beginning with the simulation.\n"
     ]
    },
    {
     "name": "stderr",
     "output_type": "stream",
     "text": [
      " 70%|███████   | 70/100 [00:47<00:23,  1.26it/s]"
     ]
    },
    {
     "name": "stdout",
     "output_type": "stream",
     "text": [
      "merging: Costco Wholesale Cardinal Health\n"
     ]
    },
    {
     "name": "stderr",
     "output_type": "stream",
     "text": [
      " 73%|███████▎  | 73/100 [00:50<00:23,  1.14it/s]"
     ]
    },
    {
     "name": "stdout",
     "output_type": "stream",
     "text": [
      "merging: Costco Wholesale Walmart\n"
     ]
    },
    {
     "name": "stderr",
     "output_type": "stream",
     "text": [
      " 77%|███████▋  | 77/100 [00:54<00:24,  1.07s/it]"
     ]
    },
    {
     "name": "stdout",
     "output_type": "stream",
     "text": [
      "merging: Costco Wholesale Chevron\n"
     ]
    },
    {
     "name": "stderr",
     "output_type": "stream",
     "text": [
      " 78%|███████▊  | 78/100 [00:57<00:34,  1.55s/it]"
     ]
    },
    {
     "name": "stdout",
     "output_type": "stream",
     "text": [
      "merging: McKesson Costco Wholesale\n"
     ]
    },
    {
     "name": "stderr",
     "output_type": "stream",
     "text": [
      " 81%|████████  | 81/100 [01:05<00:40,  2.13s/it]"
     ]
    },
    {
     "name": "stdout",
     "output_type": "stream",
     "text": [
      "merging: McKesson Kroger\n"
     ]
    },
    {
     "name": "stderr",
     "output_type": "stream",
     "text": [
      " 82%|████████▏ | 82/100 [01:10<00:53,  2.99s/it]"
     ]
    },
    {
     "name": "stdout",
     "output_type": "stream",
     "text": [
      "merging: Ford Motor Exxon Mobil\n"
     ]
    },
    {
     "name": "stderr",
     "output_type": "stream",
     "text": [
      " 86%|████████▌ | 86/100 [01:29<00:58,  4.15s/it]"
     ]
    },
    {
     "name": "stdout",
     "output_type": "stream",
     "text": [
      "merging: Ford Motor Meta Platforms\n"
     ]
    },
    {
     "name": "stderr",
     "output_type": "stream",
     "text": [
      " 94%|█████████▍| 94/100 [01:45<00:09,  1.64s/it]"
     ]
    },
    {
     "name": "stdout",
     "output_type": "stream",
     "text": [
      "merging: General Motors Ford Motor\n"
     ]
    },
    {
     "name": "stderr",
     "output_type": "stream",
     "text": [
      " 97%|█████████▋| 97/100 [01:49<00:04,  1.39s/it]"
     ]
    },
    {
     "name": "stdout",
     "output_type": "stream",
     "text": [
      "merging: McKesson Walgreens Boots Alliance\n"
     ]
    },
    {
     "name": "stderr",
     "output_type": "stream",
     "text": [
      "100%|██████████| 100/100 [01:53<00:00,  1.14s/it]\n"
     ]
    },
    {
     "name": "stdout",
     "output_type": "stream",
     "text": [
      "Simulation completed. GIF is being generated and can be found in the directory\n"
     ]
    }
   ],
   "source": [
    "ntw = exampleTilt(uri = 'bolt://localhost:11003', \n",
    "                    auth = ('neo4j', 'letmein'), \n",
    "                    no_nodes= 30,\n",
    "                    comp_df= fortune_500[fortune_500['Company'] != 'AT&T'].reset_index(),\n",
    "                    category_list = categories, \n",
    "                    purpose_list = purpose,\n",
    "                    mu_poisson_dataDisclosed = 1,\n",
    "                    mu_poisson_recipients= 2,\n",
    "                    cluster_weight = 100,\n",
    "                    reset=True)\n",
    "\n",
    "\n",
    "simulation = sim(ntw, 100, exp_mode=False)\n",
    "simulation.main()"
   ]
  },
  {
   "cell_type": "code",
   "execution_count": null,
   "metadata": {},
   "outputs": [],
   "source": []
  },
  {
   "cell_type": "code",
   "execution_count": 88,
   "metadata": {},
   "outputs": [
    {
     "name": "stderr",
     "output_type": "stream",
     "text": [
      "/var/folders/zb/r42lnkhn1vjgbg6gmbnqxz6h0000gn/T/ipykernel_10178/1236196302.py:34: SettingWithCopyWarning: \n",
      "A value is trying to be set on a copy of a slice from a DataFrame.\n",
      "Try using .loc[row_indexer,col_indexer] = value instead\n",
      "\n",
      "See the caveats in the documentation: https://pandas.pydata.org/pandas-docs/stable/user_guide/indexing.html#returning-a-view-versus-a-copy\n",
      "  self.company_df['cluster'] = [str(rd.randrange(no_clusters)) for _ in range(len(self.company_df))]\n"
     ]
    },
    {
     "name": "stdout",
     "output_type": "stream",
     "text": [
      "Graph has been cleared\n"
     ]
    },
    {
     "name": "stderr",
     "output_type": "stream",
     "text": [
      "100%|██████████| 30/30 [00:01<00:00, 15.06it/s]\n"
     ]
    },
    {
     "name": "stdout",
     "output_type": "stream",
     "text": [
      "recipients were created:  77\n",
      "Sorensen-relationships for Data Sharing Network created: 77\n",
      "92.20779220779221% of recipients were in the same cluster\n",
      "Beginning with the simulation.\n"
     ]
    },
    {
     "name": "stderr",
     "output_type": "stream",
     "text": [
      " 86%|████████▌ | 86/100 [00:27<00:04,  3.47it/s]"
     ]
    },
    {
     "name": "stdout",
     "output_type": "stream",
     "text": [
      "merging: Meta Platforms McKesson\n"
     ]
    },
    {
     "name": "stderr",
     "output_type": "stream",
     "text": [
      " 91%|█████████ | 91/100 [00:29<00:03,  2.87it/s]"
     ]
    },
    {
     "name": "stdout",
     "output_type": "stream",
     "text": [
      "merging: Meta Platforms JPMorgan Chase\n"
     ]
    },
    {
     "name": "stderr",
     "output_type": "stream",
     "text": [
      " 95%|█████████▌| 95/100 [00:31<00:02,  2.40it/s]"
     ]
    },
    {
     "name": "stdout",
     "output_type": "stream",
     "text": [
      "merging: Meta Platforms Chevron\n"
     ]
    },
    {
     "name": "stderr",
     "output_type": "stream",
     "text": [
      " 97%|█████████▋| 97/100 [00:32<00:01,  2.51it/s]"
     ]
    },
    {
     "name": "stdout",
     "output_type": "stream",
     "text": [
      "merging: Home Depot AT&T\n"
     ]
    },
    {
     "name": "stderr",
     "output_type": "stream",
     "text": [
      " 99%|█████████▉| 99/100 [00:33<00:00,  2.59it/s]"
     ]
    },
    {
     "name": "stdout",
     "output_type": "stream",
     "text": [
      "merging: Meta Platforms Marathon Petroleum\n"
     ]
    },
    {
     "name": "stderr",
     "output_type": "stream",
     "text": [
      "100%|██████████| 100/100 [00:33<00:00,  2.98it/s]\n"
     ]
    },
    {
     "name": "stdout",
     "output_type": "stream",
     "text": [
      "Simulation completed. GIF is being generated and can be found in the directory\n"
     ]
    },
    {
     "data": {
      "text/plain": [
       "[<matplotlib.lines.Line2D at 0x7ff6d01d5670>]"
      ]
     },
     "execution_count": 88,
     "metadata": {},
     "output_type": "execute_result"
    },
    {
     "data": {
      "image/png": "[encoded data removed]",
      "text/plain": [
       "<Figure size 432x288 with 1 Axes>"
      ]
     },
     "metadata": {
      "needs_background": "light"
     },
     "output_type": "display_data"
    }
   ],
   "source": [
    "ntw = exampleTilt(uri = 'bolt://localhost:11003', \n",
    "                    auth = ('neo4j', 'letmein'), \n",
    "                    no_nodes= 30,\n",
    "                    comp_df= fortune_500,\n",
    "                    category_list = categories, \n",
    "                    purpose_list = purpose,\n",
    "                    mu_poisson_dataDisclosed = 1,\n",
    "                    mu_poisson_recipients= 2,\n",
    "                    cluster_weight = 100,\n",
    "                    reset=True)\n",
    "\n",
    "\n",
    "simulation = sim(ntw, 100)\n",
    "simulation.main()\n",
    "\n",
    "plt.plot(range(100),simulation.no_nodes_record)"
   ]
  },
  {
   "cell_type": "code",
   "execution_count": 89,
   "metadata": {},
   "outputs": [
    {
     "name": "stderr",
     "output_type": "stream",
     "text": [
      "/var/folders/zb/r42lnkhn1vjgbg6gmbnqxz6h0000gn/T/ipykernel_10178/1236196302.py:34: SettingWithCopyWarning: \n",
      "A value is trying to be set on a copy of a slice from a DataFrame.\n",
      "Try using .loc[row_indexer,col_indexer] = value instead\n",
      "\n",
      "See the caveats in the documentation: https://pandas.pydata.org/pandas-docs/stable/user_guide/indexing.html#returning-a-view-versus-a-copy\n",
      "  self.company_df['cluster'] = [str(rd.randrange(no_clusters)) for _ in range(len(self.company_df))]\n"
     ]
    },
    {
     "name": "stdout",
     "output_type": "stream",
     "text": [
      "Graph has been cleared\n"
     ]
    },
    {
     "name": "stderr",
     "output_type": "stream",
     "text": [
      "100%|██████████| 30/30 [00:01<00:00, 16.57it/s]\n"
     ]
    },
    {
     "name": "stdout",
     "output_type": "stream",
     "text": [
      "recipients were created:  50\n",
      "Sorensen-relationships for Data Sharing Network created: 50\n",
      "92.0% of recipients were in the same cluster\n"
     ]
    },
    {
     "name": "stderr",
     "output_type": "stream",
     "text": [
      "100%|██████████| 100/100 [00:20<00:00,  4.78it/s]\n",
      "/var/folders/zb/r42lnkhn1vjgbg6gmbnqxz6h0000gn/T/ipykernel_10178/1236196302.py:34: SettingWithCopyWarning: \n",
      "A value is trying to be set on a copy of a slice from a DataFrame.\n",
      "Try using .loc[row_indexer,col_indexer] = value instead\n",
      "\n",
      "See the caveats in the documentation: https://pandas.pydata.org/pandas-docs/stable/user_guide/indexing.html#returning-a-view-versus-a-copy\n",
      "  self.company_df['cluster'] = [str(rd.randrange(no_clusters)) for _ in range(len(self.company_df))]\n"
     ]
    },
    {
     "name": "stdout",
     "output_type": "stream",
     "text": [
      "Simulation completed. GIF is being generated and can be found in the directory\n",
      "Graph has been cleared\n"
     ]
    },
    {
     "name": "stderr",
     "output_type": "stream",
     "text": [
      "100%|██████████| 30/30 [00:01<00:00, 15.70it/s]\n"
     ]
    },
    {
     "name": "stdout",
     "output_type": "stream",
     "text": [
      "recipients were created:  72\n",
      "Sorensen-relationships for Data Sharing Network created: 72\n",
      "87.5% of recipients were in the same cluster\n"
     ]
    },
    {
     "name": "stderr",
     "output_type": "stream",
     "text": [
      "100%|██████████| 100/100 [00:27<00:00,  3.58it/s]\n",
      "/var/folders/zb/r42lnkhn1vjgbg6gmbnqxz6h0000gn/T/ipykernel_10178/1236196302.py:34: SettingWithCopyWarning: \n",
      "A value is trying to be set on a copy of a slice from a DataFrame.\n",
      "Try using .loc[row_indexer,col_indexer] = value instead\n",
      "\n",
      "See the caveats in the documentation: https://pandas.pydata.org/pandas-docs/stable/user_guide/indexing.html#returning-a-view-versus-a-copy\n",
      "  self.company_df['cluster'] = [str(rd.randrange(no_clusters)) for _ in range(len(self.company_df))]\n"
     ]
    },
    {
     "name": "stdout",
     "output_type": "stream",
     "text": [
      "Simulation completed. GIF is being generated and can be found in the directory\n",
      "Graph has been cleared\n"
     ]
    },
    {
     "name": "stderr",
     "output_type": "stream",
     "text": [
      "100%|██████████| 30/30 [00:02<00:00, 13.13it/s]\n"
     ]
    },
    {
     "name": "stdout",
     "output_type": "stream",
     "text": [
      "recipients were created:  75\n",
      "Sorensen-relationships for Data Sharing Network created: 75\n",
      "96.0% of recipients were in the same cluster\n"
     ]
    },
    {
     "name": "stderr",
     "output_type": "stream",
     "text": [
      "100%|██████████| 100/100 [00:26<00:00,  3.71it/s]\n",
      "/var/folders/zb/r42lnkhn1vjgbg6gmbnqxz6h0000gn/T/ipykernel_10178/1236196302.py:34: SettingWithCopyWarning: \n",
      "A value is trying to be set on a copy of a slice from a DataFrame.\n",
      "Try using .loc[row_indexer,col_indexer] = value instead\n",
      "\n",
      "See the caveats in the documentation: https://pandas.pydata.org/pandas-docs/stable/user_guide/indexing.html#returning-a-view-versus-a-copy\n",
      "  self.company_df['cluster'] = [str(rd.randrange(no_clusters)) for _ in range(len(self.company_df))]\n"
     ]
    },
    {
     "name": "stdout",
     "output_type": "stream",
     "text": [
      "Simulation completed. GIF is being generated and can be found in the directory\n",
      "Graph has been cleared\n"
     ]
    },
    {
     "name": "stderr",
     "output_type": "stream",
     "text": [
      "100%|██████████| 30/30 [00:01<00:00, 18.66it/s]\n"
     ]
    },
    {
     "name": "stdout",
     "output_type": "stream",
     "text": [
      "recipients were created:  42\n",
      "Sorensen-relationships for Data Sharing Network created: 42\n",
      "90.47619047619048% of recipients were in the same cluster\n"
     ]
    },
    {
     "name": "stderr",
     "output_type": "stream",
     "text": [
      "100%|██████████| 100/100 [00:24<00:00,  4.06it/s]\n",
      "/var/folders/zb/r42lnkhn1vjgbg6gmbnqxz6h0000gn/T/ipykernel_10178/1236196302.py:34: SettingWithCopyWarning: \n",
      "A value is trying to be set on a copy of a slice from a DataFrame.\n",
      "Try using .loc[row_indexer,col_indexer] = value instead\n",
      "\n",
      "See the caveats in the documentation: https://pandas.pydata.org/pandas-docs/stable/user_guide/indexing.html#returning-a-view-versus-a-copy\n",
      "  self.company_df['cluster'] = [str(rd.randrange(no_clusters)) for _ in range(len(self.company_df))]\n"
     ]
    },
    {
     "name": "stdout",
     "output_type": "stream",
     "text": [
      "Simulation completed. GIF is being generated and can be found in the directory\n",
      "Graph has been cleared\n"
     ]
    },
    {
     "name": "stderr",
     "output_type": "stream",
     "text": [
      "100%|██████████| 30/30 [00:02<00:00, 13.25it/s]\n"
     ]
    },
    {
     "name": "stdout",
     "output_type": "stream",
     "text": [
      "recipients were created:  62\n",
      "Sorensen-relationships for Data Sharing Network created: 62\n",
      "91.93548387096774% of recipients were in the same cluster\n"
     ]
    },
    {
     "name": "stderr",
     "output_type": "stream",
     "text": [
      "100%|██████████| 100/100 [00:29<00:00,  3.40it/s]\n",
      "/var/folders/zb/r42lnkhn1vjgbg6gmbnqxz6h0000gn/T/ipykernel_10178/1236196302.py:34: SettingWithCopyWarning: \n",
      "A value is trying to be set on a copy of a slice from a DataFrame.\n",
      "Try using .loc[row_indexer,col_indexer] = value instead\n",
      "\n",
      "See the caveats in the documentation: https://pandas.pydata.org/pandas-docs/stable/user_guide/indexing.html#returning-a-view-versus-a-copy\n",
      "  self.company_df['cluster'] = [str(rd.randrange(no_clusters)) for _ in range(len(self.company_df))]\n"
     ]
    },
    {
     "name": "stdout",
     "output_type": "stream",
     "text": [
      "Simulation completed. GIF is being generated and can be found in the directory\n",
      "Graph has been cleared\n"
     ]
    },
    {
     "name": "stderr",
     "output_type": "stream",
     "text": [
      "100%|██████████| 30/30 [00:02<00:00, 14.59it/s]\n"
     ]
    },
    {
     "name": "stdout",
     "output_type": "stream",
     "text": [
      "recipients were created:  53\n",
      "Sorensen-relationships for Data Sharing Network created: 53\n",
      "86.79245283018868% of recipients were in the same cluster\n"
     ]
    },
    {
     "name": "stderr",
     "output_type": "stream",
     "text": [
      "100%|██████████| 100/100 [00:33<00:00,  2.97it/s]\n",
      "/var/folders/zb/r42lnkhn1vjgbg6gmbnqxz6h0000gn/T/ipykernel_10178/1236196302.py:34: SettingWithCopyWarning: \n",
      "A value is trying to be set on a copy of a slice from a DataFrame.\n",
      "Try using .loc[row_indexer,col_indexer] = value instead\n",
      "\n",
      "See the caveats in the documentation: https://pandas.pydata.org/pandas-docs/stable/user_guide/indexing.html#returning-a-view-versus-a-copy\n",
      "  self.company_df['cluster'] = [str(rd.randrange(no_clusters)) for _ in range(len(self.company_df))]\n"
     ]
    },
    {
     "name": "stdout",
     "output_type": "stream",
     "text": [
      "Simulation completed. GIF is being generated and can be found in the directory\n",
      "Graph has been cleared\n"
     ]
    },
    {
     "name": "stderr",
     "output_type": "stream",
     "text": [
      "100%|██████████| 30/30 [00:02<00:00, 13.68it/s]\n"
     ]
    },
    {
     "name": "stdout",
     "output_type": "stream",
     "text": [
      "recipients were created:  59\n",
      "Sorensen-relationships for Data Sharing Network created: 59\n",
      "88.13559322033898% of recipients were in the same cluster\n"
     ]
    },
    {
     "name": "stderr",
     "output_type": "stream",
     "text": [
      "100%|██████████| 100/100 [00:32<00:00,  3.12it/s]\n",
      "/var/folders/zb/r42lnkhn1vjgbg6gmbnqxz6h0000gn/T/ipykernel_10178/1236196302.py:34: SettingWithCopyWarning: \n",
      "A value is trying to be set on a copy of a slice from a DataFrame.\n",
      "Try using .loc[row_indexer,col_indexer] = value instead\n",
      "\n",
      "See the caveats in the documentation: https://pandas.pydata.org/pandas-docs/stable/user_guide/indexing.html#returning-a-view-versus-a-copy\n",
      "  self.company_df['cluster'] = [str(rd.randrange(no_clusters)) for _ in range(len(self.company_df))]\n"
     ]
    },
    {
     "name": "stdout",
     "output_type": "stream",
     "text": [
      "Simulation completed. GIF is being generated and can be found in the directory\n",
      "Graph has been cleared\n"
     ]
    },
    {
     "name": "stderr",
     "output_type": "stream",
     "text": [
      "100%|██████████| 30/30 [00:02<00:00, 14.71it/s]\n"
     ]
    },
    {
     "name": "stdout",
     "output_type": "stream",
     "text": [
      "recipients were created:  63\n",
      "Sorensen-relationships for Data Sharing Network created: 63\n",
      "82.53968253968253% of recipients were in the same cluster\n"
     ]
    },
    {
     "name": "stderr",
     "output_type": "stream",
     "text": [
      "100%|██████████| 100/100 [00:25<00:00,  3.95it/s]\n",
      "/var/folders/zb/r42lnkhn1vjgbg6gmbnqxz6h0000gn/T/ipykernel_10178/1236196302.py:34: SettingWithCopyWarning: \n",
      "A value is trying to be set on a copy of a slice from a DataFrame.\n",
      "Try using .loc[row_indexer,col_indexer] = value instead\n",
      "\n",
      "See the caveats in the documentation: https://pandas.pydata.org/pandas-docs/stable/user_guide/indexing.html#returning-a-view-versus-a-copy\n",
      "  self.company_df['cluster'] = [str(rd.randrange(no_clusters)) for _ in range(len(self.company_df))]\n"
     ]
    },
    {
     "name": "stdout",
     "output_type": "stream",
     "text": [
      "Simulation completed. GIF is being generated and can be found in the directory\n",
      "Graph has been cleared\n"
     ]
    },
    {
     "name": "stderr",
     "output_type": "stream",
     "text": [
      "100%|██████████| 30/30 [00:02<00:00, 13.22it/s]\n"
     ]
    },
    {
     "name": "stdout",
     "output_type": "stream",
     "text": [
      "recipients were created:  63\n",
      "Sorensen-relationships for Data Sharing Network created: 63\n",
      "92.06349206349206% of recipients were in the same cluster\n"
     ]
    },
    {
     "name": "stderr",
     "output_type": "stream",
     "text": [
      "100%|██████████| 100/100 [00:17<00:00,  5.82it/s]\n",
      "/var/folders/zb/r42lnkhn1vjgbg6gmbnqxz6h0000gn/T/ipykernel_10178/1236196302.py:34: SettingWithCopyWarning: \n",
      "A value is trying to be set on a copy of a slice from a DataFrame.\n",
      "Try using .loc[row_indexer,col_indexer] = value instead\n",
      "\n",
      "See the caveats in the documentation: https://pandas.pydata.org/pandas-docs/stable/user_guide/indexing.html#returning-a-view-versus-a-copy\n",
      "  self.company_df['cluster'] = [str(rd.randrange(no_clusters)) for _ in range(len(self.company_df))]\n"
     ]
    },
    {
     "name": "stdout",
     "output_type": "stream",
     "text": [
      "Simulation completed. GIF is being generated and can be found in the directory\n",
      "Graph has been cleared\n"
     ]
    },
    {
     "name": "stderr",
     "output_type": "stream",
     "text": [
      "100%|██████████| 30/30 [00:01<00:00, 16.34it/s]\n"
     ]
    },
    {
     "name": "stdout",
     "output_type": "stream",
     "text": [
      "recipients were created:  56\n",
      "Sorensen-relationships for Data Sharing Network created: 56\n",
      "91.07142857142857% of recipients were in the same cluster\n"
     ]
    },
    {
     "name": "stderr",
     "output_type": "stream",
     "text": [
      "100%|██████████| 100/100 [00:15<00:00,  6.38it/s]\n"
     ]
    },
    {
     "name": "stdout",
     "output_type": "stream",
     "text": [
      "Simulation completed. GIF is being generated and can be found in the directory\n"
     ]
    },
    {
     "data": {
      "image/png": "[encoded data removed]",
      "text/plain": [
       "<Figure size 432x288 with 1 Axes>"
      ]
     },
     "metadata": {
      "needs_background": "light"
     },
     "output_type": "display_data"
    }
   ],
   "source": [
    "exp=[]\n",
    "for i in range(2,50,5):\n",
    "\n",
    "    ntw = exampleTilt(uri = 'bolt://localhost:11003', \n",
    "                    auth = ('neo4j', 'letmein'), \n",
    "                    no_nodes= 30,\n",
    "                    comp_df= fortune_500,\n",
    "                    category_list = categories, \n",
    "                    purpose_list = purpose,\n",
    "                    mu_poisson_dataDisclosed = 1,\n",
    "                    mu_poisson_recipients= 2,\n",
    "                    cluster_weight = 100,\n",
    "                    reset=True)\n",
    "\n",
    "\n",
    "    simulation = sim(ntw, 100, merge_threshold=i/10, exp_mode=True)\n",
    "    simulation.main()\n",
    "    exp.append(simulation.no_nodes_record)\n",
    "    plt.plot(range(100),simulation.no_nodes_record, label = i/10)\n",
    "\n",
    "plt.legend()\n",
    "plt.show()\n"
   ]
  },
  {
   "cell_type": "code",
   "execution_count": 91,
   "metadata": {},
   "outputs": [
    {
     "data": {
      "text/plain": [
       "10"
      ]
     },
     "execution_count": 91,
     "metadata": {},
     "output_type": "execute_result"
    }
   ],
   "source": [
    "len(exp)"
   ]
  },
  {
   "cell_type": "code",
   "execution_count": 110,
   "metadata": {},
   "outputs": [
    {
     "data": {
      "image/png": "[encoded data removed]",
      "text/plain": [
       "<Figure size 640x480 with 1 Axes>"
      ]
     },
     "metadata": {},
     "output_type": "display_data"
    }
   ],
   "source": [
    "for i, it in enumerate(range(2,50,5)):\n",
    "    plt.plot(range(100),exp[i], label = it/10)\n",
    "plt.grid()\n",
    "plt.xlabel(\"Step\")\n",
    "plt.ylabel(\"No. Nodes\")\n",
    "plt.legend()\n",
    "plt.savefig(\"visuals/node_count_by_pageRankThreshold\")"
   ]
  },
  {
   "cell_type": "code",
   "execution_count": null,
   "metadata": {},
   "outputs": [],
   "source": []
  }
 ],
 "metadata": {
  "kernelspec": {
   "display_name": "Python 3.9.12 ('base')",
   "language": "python",
   "name": "python3"
  },
  "language_info": {
   "codemirror_mode": {
    "name": "ipython",
    "version": 3
   },
   "file_extension": ".py",
   "mimetype": "text/x-python",
   "name": "python",
   "nbconvert_exporter": "python",
   "pygments_lexer": "ipython3",
   "version": "3.9.12"
  },
  "orig_nbformat": 4,
  "vscode": {
   "interpreter": {
    "hash": "98a2b17e149e4e8a0b6acf04d01298b022c80a24b0767a95d910142ef5b4f869"
   }
  }
 },
 "nbformat": 4,
 "nbformat_minor": 2
}
