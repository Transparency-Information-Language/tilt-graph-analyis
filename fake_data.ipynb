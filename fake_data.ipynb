{
 "cells": [
  {
   "cell_type": "markdown",
   "metadata": {},
   "source": [
    "# Generating fake data for neo4j analysis \n",
    "\n",
    "## Tasks \n",
    "\n",
    "* Define relevant node types\n",
    "    - tilt \n",
    "        - meta  \n",
    "        - dataDisclosed\n",
    "            - Recipient\n",
    "            - purposes\n",
    "* Generate nodes \n",
    "    * Get list of company names\n",
    "    * Define likelihood of same connections (sample size / no. of companies)\n",
    "* Construct mutation (possibly combine with previous step)\n",
    "* Figure out how to upload to neo4j as separate graph\n",
    "* Do analysis"
   ]
  },
  {
   "cell_type": "code",
   "execution_count": 37,
   "metadata": {},
   "outputs": [],
   "source": [
    "import pandas as pd\n",
    "import numpy as np\n",
    "import requests\n",
    "from bs4 import BeautifulSoup\n",
    "import time\n",
    "import random as rd\n",
    "from scipy.stats import poisson\n",
    "import neo4j\n",
    "import matplotlib.pyplot as plt\n",
    "\n",
    "\n",
    "\n",
    "def get_table(url):\n",
    "    page = requests.get(url)\n",
    "    soup = BeautifulSoup(page.text, 'html.parser')\n",
    "    \n",
    "    elems = []\n",
    "    for child in soup.find_all('table')[0].children:\n",
    "\n",
    "        for some in child:\n",
    "            row = []\n",
    "            for i,td in enumerate(some):\n",
    "                try:\n",
    "                    row.append(td.text.replace('\\n',\"\"))\n",
    "                except:\n",
    "                    continue\n",
    "                if len(row) > 0:\n",
    "                    elems.append(row)\n",
    "\n",
    "    return elems\n",
    "    \n",
    "\n",
    "table = get_table(\"https://www.zyxware.com/articles/4344/list-of-fortune-500-companies-and-their-websites\")\n",
    "subset = [[table[i][1],table[i][3], table[i][5]]   for i in range(0,len(table), 7)]\n",
    "fortune_500 = pd.DataFrame(subset[1:], columns=subset[0])\n"
   ]
  },
  {
   "cell_type": "code",
   "execution_count": 3,
   "metadata": {},
   "outputs": [],
   "source": [
    "import pickle"
   ]
  },
  {
   "cell_type": "code",
   "execution_count": 4,
   "metadata": {},
   "outputs": [],
   "source": [
    "#fortune_500.to_csv(\"fortune_500\")\n",
    "\n",
    "fortune_500 = pd.read_csv('fortune_500')\n",
    "\n",
    "with open ('categories_tilt', 'rb') as fp:\n",
    "    categories = pickle.load(fp)\n",
    "\n",
    "with open ('purpose_tilt', 'rb') as fp:\n",
    "    purpose = pickle.load(fp)"
   ]
  },
  {
   "cell_type": "code",
   "execution_count": 45,
   "metadata": {},
   "outputs": [
    {
     "data": {
      "text/plain": [
       "[0, 1, 2, 3, 4]"
      ]
     },
     "execution_count": 45,
     "metadata": {},
     "output_type": "execute_result"
    }
   ],
   "source": [
    "[i for i in range(5)]"
   ]
  },
  {
   "cell_type": "markdown",
   "metadata": {},
   "source": [
    "## Using the Python Driver"
   ]
  },
  {
   "cell_type": "code",
   "execution_count": 129,
   "metadata": {},
   "outputs": [
    {
     "name": "stdout",
     "output_type": "stream",
     "text": [
      "  Rank             Company                             Website cluster\n",
      "0    1             Walmart            https://www.walmart.com/       4\n",
      "1    2              Amazon             https://www.amazon.com/       4\n",
      "2    3               Apple              https://www.apple.com/       3\n",
      "3    4          CVS Health          https://www.cvshealth.com/       4\n",
      "4    5  UnitedHealth Group  https://www.unitedhealthgroup.com/       0\n"
     ]
    }
   ],
   "source": [
    "from neo4j import GraphDatabase\n",
    "\n",
    "class exampleTilt:\n",
    "\n",
    "    \"\"\"\n",
    "    class:  exampleTilt\n",
    "    input:  - uri: bolt uri from neo4j\n",
    "            - auth: credentials for neo4j\n",
    "            - no_nodes: number of nodes to create \n",
    "            - comp_df:  dataframe with company names and websites\n",
    "            - mu_poisson_*: average no. of samples for poisson distribution\n",
    "            - reset: whether to delete all nodes in database (default False, meant for experimentation)\n",
    "\n",
    "    \"\"\"\n",
    "\n",
    "    def __init__(self, uri, auth, no_nodes, comp_df, category_list, purpose_list, mu_poisson_dataDisclosed =2,  mu_poisson_recipients = 2, reset = False, no_clusters = 5):\n",
    "        self.driver = GraphDatabase.driver(uri, auth=auth)\n",
    "        self.categories = category_list\n",
    "        self.purposes = purpose_list\n",
    "        self.reset = reset\n",
    "\n",
    "        #number of nodes to push\n",
    "        self.no_nodes = no_nodes\n",
    "        \n",
    "        #company names\n",
    "        self.company_df = comp_df\n",
    "\n",
    "        #hyperparameters\n",
    "        self.mu_poisson_dataDisclosed = mu_poisson_dataDisclosed\n",
    "        self.mu_poisson_recipients = mu_poisson_recipients\n",
    "        self.no_clusters = no_clusters\n",
    "        \n",
    "        #sort into fake clusters \n",
    "        self.company_df['cluster'] = [str(rd.randrange(no_clusters)) for _ in range(len(comp_df))]\n",
    "\n",
    "        print(self.company_df.head())\n",
    "\n",
    "\n",
    "    def close(self):\n",
    "        self.driver.close()\n",
    "\n",
    "    # Create a person node.\n",
    "    @classmethod\n",
    "    def createTilt(cls, tx, id, comp_name, url, cluster):\n",
    "        tx.run(\"MERGE (t:tilt {id: 0})-[:has_meta]->(m:meta {_id: $id, name: $company_name, created: $created, modified: $placeholder, version: $placeholder, language: $placeholder,  status: $placeholder, url: $url, cluster: $cluster, _hash: $placeholder}) \",\n",
    "            id=id, \n",
    "            cluster = cluster,\n",
    "            company_name = comp_name, \n",
    "            created = 3, #time.strftime(\"%Y:%m:%d, %H:%M:%S\"),  we cannot use it with the merge statements because it makes the meta node unique. might have to come up with something here. placeholder it for now.\n",
    "            url = url, \n",
    "            placeholder = 'None')\n",
    "            \n",
    "    def createDataDisclosed(self, tx,comp_name, _id, cluster):\n",
    "        tx.run(\"MATCH (t:tilt)-[:has_meta]->(m:meta {name: $company_name}) \"\n",
    "               \"MERGE (t)-[:has_dataDisclosed]->(d:dataDisclosed {_id: $_id, category: $placeholder, legalBases: $placeholder, legitimateInterests: $placeholder, nonDisclosure: $placeholder, storage: $placeholder}) \"\n",
    "               \"MERGE (d)-[:has_purpose]->(p:purpose {purpose: $purpose, description: $placeholder}) \",\n",
    "                company_name = comp_name, \n",
    "                purpose = rd.choice(self.purposes),\n",
    "                _id=_id, \n",
    "                placeholder = 'Lorem Ipsum'      \n",
    "        )\n",
    "\n",
    "        # define weights dict\n",
    "        weights = {}\n",
    "\n",
    "        # fill with no of clusters \n",
    "        for n in range(self.no_clusters):\n",
    "            weights[f'{n}'] = 1/self.no_clusters\n",
    "\n",
    "        # increase weight for cluster of company\n",
    "        weights[cluster] = weights[cluster]*3  # another hyperparameter can be how much the weight is scaled\n",
    "\n",
    "        # scale the weights\n",
    "        scaled_weights = (pd.Series(weights) / self.company_df.cluster.value_counts(normalize=True))\n",
    "\n",
    "        # add recipients (as many as drawn from poisson)\n",
    "        for _ in range(poisson.rvs(self.mu_poisson_recipients, size=1)[0]):\n",
    "            \n",
    "            # select company to share info with df.loc[df['column_name'] == some_value]\n",
    "            shared_with_comp = self.company_df.loc[self.company_df['Company'] != comp_name].sample(n=1, weights=self.company_df.cluster.map(scaled_weights))\n",
    "\n",
    "            # create recipient\n",
    "            tx.run(\"MATCH (d:dataDisclosed {_id: $_id}) \" \n",
    "                    \"MERGE (d)-[:has_recipient]->(r:recipient {name: $name, division: $placeholder, address: $placeholder, country: $placeholder, representative: $placeholder, email: $placeholder, phone: $placeholder, category: $placeholder}) \",\n",
    "                    name = shared_with_comp['Company'].values[0],\n",
    "                    placeholder = \"Lorem Ipsum\",\n",
    "                    _id = _id\n",
    "                    )\n",
    "\n",
    "    # Match and display all friendships.\n",
    "    @classmethod\n",
    "    def print_friendships(cls, tx):\n",
    "        result = tx.run(\"MATCH (a)-[:KNOWS]->(b) RETURN a.name, b.name\")\n",
    "        for record in result:\n",
    "            print(\"{} knows {}\".format(record[\"a.name\"], record[\"b.name\"]))\n",
    "\n",
    "    @classmethod\n",
    "    def delete_nodes(cls, tx):\n",
    "        tx.run(\"MATCH (n) detach delete n\")\n",
    "\n",
    "    \n",
    "    def get_sorensen(self, tx, threshold = .9):\n",
    "        tx.run(\"MATCH (m:meta), (r:recipient) \"\n",
    "                f\"WHERE apoc.text.sorensenDiceSimilarity(apoc.text.clean(m.name), apoc.text.clean(r.name), 'en') > {threshold} \"\n",
    "                \"MERGE (m)-[c:has_sorensen]->(r)\")\n",
    "\n",
    "\n",
    "    def main(self):\n",
    "        saved_bookmarks = []  # To collect the session bookmarks\n",
    "\n",
    "        if self.reset:\n",
    "            with self.driver.session() as session_del:\n",
    "                session_del.write_transaction(self.delete_nodes)\n",
    "                saved_bookmarks.append(session_del.last_bookmark())\n",
    "\n",
    "\n",
    "        for i in range(self.no_nodes):\n",
    "            \n",
    "            with self.driver.session() as session_a: \n",
    "                session_a.write_transaction(self.createTilt, \n",
    "                                            str(self.company_df['Rank'][i]), \n",
    "                                            self.company_df['Company'][i], \n",
    "                                            self.company_df['Website'][i], \n",
    "                                            str(self.company_df['cluster'][i]))\n",
    "\n",
    "                for d in range(poisson.rvs(self.mu_poisson_dataDisclosed, size=1)[0]):\n",
    "                    session_a.write_transaction(self.createDataDisclosed, \n",
    "                                                self.company_df['Company'][i], \n",
    "                                                d, str(self.company_df['cluster'][i]))\n",
    "                saved_bookmarks.append(session_a.last_bookmark())\n",
    "\n",
    "        with self.driver.session() as session_sorensen: \n",
    "            session_sorensen.write_transaction(self.get_sorensen)\n",
    "\n",
    "\n",
    "fakeTilt = exampleTilt(uri = 'bolt://localhost:11003', \n",
    "                    auth = ('neo4j', 'letmein'), \n",
    "                    no_nodes= 50,\n",
    "                    comp_df= fortune_500,\n",
    "                    category_list = categories, \n",
    "                    purpose_list = purpose,\n",
    "                    mu_poisson_dataDisclosed = 1,\n",
    "                    mu_poisson_recipients= 1,\n",
    "                    reset=True)"
   ]
  },
  {
   "cell_type": "code",
   "execution_count": 130,
   "metadata": {},
   "outputs": [],
   "source": [
    "fakeTilt.main()"
   ]
  },
  {
   "cell_type": "markdown",
   "metadata": {},
   "source": [
    "## Using the GDS library for python\n",
    "\n",
    "documentation https://neo4j.com/docs/graph-data-science-client/current/getting-started/\n"
   ]
  },
  {
   "cell_type": "code",
   "execution_count": 7,
   "metadata": {},
   "outputs": [],
   "source": [
    "from graphdatascience import GraphDataScience"
   ]
  },
  {
   "cell_type": "code",
   "execution_count": 32,
   "metadata": {},
   "outputs": [
    {
     "data": {
      "text/plain": [
       "graphName    neo_meta_sorensen\n",
       "exists                    True\n",
       "Name: 0, dtype: object"
      ]
     },
     "execution_count": 32,
     "metadata": {},
     "output_type": "execute_result"
    }
   ],
   "source": [
    "gds.graph.exists('neo_meta_sorensen')"
   ]
  },
  {
   "cell_type": "code",
   "execution_count": 35,
   "metadata": {},
   "outputs": [],
   "source": [
    "gds = GraphDataScience('bolt://localhost:11003', \n",
    "                    auth = ('neo4j', 'letmein'))\n",
    "\n",
    "gds.graph.list()\n",
    "g_meta = gds.graph.get(\"neo_meta_sorensen\")\n",
    "#g_meta, _ = gds.graph.project(\"neo_meta_sorensen\", [\"meta\", \"dataDisclosed\", \"recipient\"], \"has_sorensen\")"
   ]
  },
  {
   "cell_type": "code",
   "execution_count": 38,
   "metadata": {},
   "outputs": [
    {
     "data": {
      "text/plain": [
       "(array([2.209e+03, 4.300e+01, 5.000e+00, 0.000e+00, 0.000e+00, 0.000e+00,\n",
       "        0.000e+00, 0.000e+00, 0.000e+00, 1.000e+00]),\n",
       " array([0.15   , 0.16275, 0.1755 , 0.18825, 0.201  , 0.21375, 0.2265 ,\n",
       "        0.23925, 0.252  , 0.26475, 0.2775 ]),\n",
       " <BarContainer object of 10 artists>)"
      ]
     },
     "execution_count": 38,
     "metadata": {},
     "output_type": "execute_result"
    },
    {
     "data": {
      "image/png": "[encoded data removed]",
      "text/plain": [
       "<Figure size 432x288 with 1 Axes>"
      ]
     },
     "metadata": {
      "needs_background": "light"
     },
     "output_type": "display_data"
    }
   ],
   "source": [
    "res = gds.pageRank.stream(g_meta)\n",
    "\n",
    "plt.hist((res.sort_values(by=['score'], ascending=False))['score'])"
   ]
  },
  {
   "cell_type": "markdown",
   "metadata": {},
   "source": [
    "## Visuals\n",
    "\n",
    "#### Doku\n",
    "- https://hub.graphistry.com/docs/ui/index/\n",
    "- https://github.com/graphistry/pygraphistry/blob/master/demos/demos_databases_apis/neo4j/official/graphistry_bolt_tutorial_public.ipynb\n",
    "- https://hub.graphistry.com/"
   ]
  },
  {
   "cell_type": "code",
   "execution_count": 10,
   "metadata": {},
   "outputs": [],
   "source": [
    "#!pip install --user graphistry\n",
    "\n",
    "import graphistry"
   ]
  },
  {
   "cell_type": "code",
   "execution_count": 13,
   "metadata": {},
   "outputs": [],
   "source": [
    "NEO4J = {\n",
    "        'uri':'bolt://localhost:11003', \n",
    "        'auth' : ('neo4j', 'letmein')\n",
    "}\n",
    "\n",
    "graphistry.register(api=3, username='j_halkenhaeusser', password='longlivetransparency22', protocol='https', server='hub.graphistry.com')\n",
    "graphistry.register(bolt=NEO4J)\n"
   ]
  },
  {
   "cell_type": "code",
   "execution_count": null,
   "metadata": {},
   "outputs": [],
   "source": []
  },
  {
   "cell_type": "code",
   "execution_count": 131,
   "metadata": {},
   "outputs": [
    {
     "name": "stderr",
     "output_type": "stream",
     "text": [
      "/Users/johannes/.local/lib/python3.9/site-packages/graphistry/util.py:242: RuntimeWarning: Query returned no edges; may have surprising visual results or need to add missing columns for encodings\n",
      "  warnings.warn(RuntimeWarning(msg))\n",
      "/Users/johannes/.local/lib/python3.9/site-packages/graphistry/util.py:242: RuntimeWarning: Query returned no nodes\n",
      "  warnings.warn(RuntimeWarning(msg))\n",
      "/Users/johannes/.local/lib/python3.9/site-packages/graphistry/util.py:242: RuntimeWarning: Graph has no edges, may have rendering issues\n",
      "  warnings.warn(RuntimeWarning(msg))\n"
     ]
    },
    {
     "data": {
      "text/html": [
       "\n",
       "            <iframe id=\"2d7c97d4-0854-438b-a7ed-c2ee5b79ad13\" src=\"https://hub.graphistry.com/graph/graph.html?dataset=4400f19225ce43afb0e1b108bc422662&type=arrow&viztoken=cb231f7c-88cc-43b3-a6d9-e9dbf13dc893&usertag=c7df0ed3-pygraphistry-0.27.1&splashAfter=1661860508&info=true\"\n",
       "                    allowfullscreen=\"true\" webkitallowfullscreen=\"true\" mozallowfullscreen=\"true\"\n",
       "                    oallowfullscreen=\"true\" msallowfullscreen=\"true\"\n",
       "                    style=\"width:100%; height:500px; border: 1px solid #DDD; overflow: hidden\"\n",
       "                    \n",
       "            >\n",
       "            </iframe>\n",
       "        \n",
       "            <script>\n",
       "                try {\n",
       "                  $(\"#2d7c97d4-0854-438b-a7ed-c2ee5b79ad13\").bind('mousewheel', function(e) { e.preventDefault(); });\n",
       "                } catch (e) { console.error('exn catching scroll', e); }\n",
       "            </script>\n",
       "        "
      ],
      "text/plain": [
       "<IPython.core.display.HTML object>"
      ]
     },
     "execution_count": 131,
     "metadata": {},
     "output_type": "execute_result"
    }
   ],
   "source": [
    "g = graphistry.cypher(\"\"\"\n",
    "      MATCH (t:tilt)-[c_m:has_meta]-(m:meta)-[c_d:has_dataDisclosed]-(d:dataDisclosed)-[c_r:has_]-(r:recipient)-[]-(m:meta) RETURN t, m, d, r\n",
    "  \"\"\")\n",
    "\n",
    "g.plot()"
   ]
  },
  {
   "cell_type": "markdown",
   "metadata": {},
   "source": [
    "## Generate Nodes (function) (bulky graphql queries)"
   ]
  },
  {
   "cell_type": "code",
   "execution_count": 219,
   "metadata": {},
   "outputs": [],
   "source": [
    "def build_mutations(node_count, company_names, mu_poisson):\n",
    "\n",
    "    \"\"\"\n",
    "    func:   build_mutations\n",
    "            Generates a mutation string to pass to graphQL API that generates a node\n",
    "    \"\"\"\n",
    "\n",
    "    #define categories of data usage\n",
    "    categories = [\"Personalised Ads\", \"Social Media\", \"Cookies\", \"purpose 1\", \"purpose 2\", \"purpose 3\", \"purpose 4\", \"purpose 5\"]\n",
    "\n",
    "    #empty list with mutations\n",
    "    mutations = []\n",
    "\n",
    "    #make node_count mutations\n",
    "    for i in range(node_count):\n",
    "        # initialize\n",
    "        output_string = 'mutation { createtilts( input: [ { '\n",
    "        \n",
    "        # add tilt and meta data\n",
    "        output_string += f'_id:{{create:[{{oid: \"{rd.randrange(1000)}\"}}]}}meta:{{create:[{{_id: \"{i}\", name: \"{company_names[\"Company\"][i]}\", created: \"{time.strftime(\"%Y:%m:%d, %H:%M:%S\")}\", modified: \"None\", version: \"1\", language: \"en\", status: \"active\", url: \"{company_names[\"Website\"][i]}\", _hash:\"some hash\" }}]}}' \n",
    "        \n",
    "        output_string += 'dataDisclosed:{create:['\n",
    "        for d in range(poisson.rvs(mu_poisson, size=1)[0]):\n",
    "        # add dataDisclosed \n",
    "            output_string += f'{{_id: \"{i}_{d}\", category: \"{rd.choice(categories)}\", purposes:{{create:[{{}}]}}legalBases:{{create:[{{}}]}}legitimateInterests:{{create:[{{reasoning: \"Lorem Ipsum\", exists: \"True\"}}]}}recipients:{{create:[{{name: \"{company_names[\"Company\"][rd.randrange(500)]}\", country: \"None\", division: \"None\", address: \"None\", representative:{{create:[{{name: \"None\", email: \"None\", phone: \"None\"}}]}}category: \"None\"}}]}}storage:{{create:[{{}}]}}nonDisclosure:{{create:[{{consequences: \"Lorem Ipsum\", legalRequirement: \"False\", contractualRegulation: \"True\", obligationToProvide: \"False\"}}]}}}}'\n",
    "\n",
    "        # complete string\n",
    "        output_string += ']} }] ) {tilts {meta { name } } } }'\n",
    "\n",
    "        mutations.append(output_string)\n",
    "\n",
    "    return mutations"
   ]
  },
  {
   "cell_type": "code",
   "execution_count": 220,
   "metadata": {},
   "outputs": [
    {
     "data": {
      "text/plain": [
       "['mutation { createtilts( input: [ { _id:{create:[{oid: \"220\"}]}meta:{create:[{_id: \"0\", name: \"Walmart\", created: \"2022:08:23, 09:44:39\", modified: \"None\", version: \"1\", language: \"en\", status: \"active\", url: \"https://www.walmart.com/\", _hash:\"some hash\" }]}dataDisclosed:{create:[{_id: \"0_0\", category: \"Social Media\", purposes:{create:[{}]}legalBases:{create:[{}]}legitimateInterests:{create:[{reasoning: \"Lorem Ipsum\", exists: \"True\"}]}recipients:{create:[{name: \"DXC Technology\", country: \"None\", division: \"None\", address: \"None\", representative:{create:[{name: \"None\", email: \"None\", phone: \"None\"}]}category: \"None\"}]}storage:{create:[{}]}nonDisclosure:{create:[{consequences: \"Lorem Ipsum\", legalRequirement: \"False\", contractualRegulation: \"True\", obligationToProvide: \"False\"}]}}{_id: \"0_1\", category: \"Social Media\", purposes:{create:[{}]}legalBases:{create:[{}]}legitimateInterests:{create:[{reasoning: \"Lorem Ipsum\", exists: \"True\"}]}recipients:{create:[{name: \"Cincinnati Financial\", country: \"None\", division: \"None\", address: \"None\", representative:{create:[{name: \"None\", email: \"None\", phone: \"None\"}]}category: \"None\"}]}storage:{create:[{}]}nonDisclosure:{create:[{consequences: \"Lorem Ipsum\", legalRequirement: \"False\", contractualRegulation: \"True\", obligationToProvide: \"False\"}]}}]} }] ) {tilts {meta { name } } } }']"
      ]
     },
     "execution_count": 220,
     "metadata": {},
     "output_type": "execute_result"
    }
   ],
   "source": [
    "#hyperparameters\n",
    "\n",
    "#number of nodes\n",
    "no_nodes_hyp = 30\n",
    "\n",
    "#average number of recipients in data disclosed (drawn from poisson)\n",
    "mu_poisson_hyp = 2\n",
    "\n",
    "\n",
    "build_mutations(1, fortune_500, mu_poisson= mu_poisson_hyp)"
   ]
  },
  {
   "cell_type": "code",
   "execution_count": 306,
   "metadata": {},
   "outputs": [
    {
     "data": {
      "text/html": [
       "<div>\n",
       "<style scoped>\n",
       "    .dataframe tbody tr th:only-of-type {\n",
       "        vertical-align: middle;\n",
       "    }\n",
       "\n",
       "    .dataframe tbody tr th {\n",
       "        vertical-align: top;\n",
       "    }\n",
       "\n",
       "    .dataframe thead th {\n",
       "        text-align: right;\n",
       "    }\n",
       "</style>\n",
       "<table border=\"1\" class=\"dataframe\">\n",
       "  <thead>\n",
       "    <tr style=\"text-align: right;\">\n",
       "      <th></th>\n",
       "      <th>Unnamed: 0</th>\n",
       "      <th>Rank</th>\n",
       "      <th>Company</th>\n",
       "      <th>Website</th>\n",
       "    </tr>\n",
       "  </thead>\n",
       "  <tbody>\n",
       "    <tr>\n",
       "      <th>0</th>\n",
       "      <td>0</td>\n",
       "      <td>1</td>\n",
       "      <td>Walmart</td>\n",
       "      <td>https://www.walmart.com/</td>\n",
       "    </tr>\n",
       "    <tr>\n",
       "      <th>1</th>\n",
       "      <td>1</td>\n",
       "      <td>2</td>\n",
       "      <td>Amazon</td>\n",
       "      <td>https://www.amazon.com/</td>\n",
       "    </tr>\n",
       "    <tr>\n",
       "      <th>2</th>\n",
       "      <td>2</td>\n",
       "      <td>3</td>\n",
       "      <td>Apple</td>\n",
       "      <td>https://www.apple.com/</td>\n",
       "    </tr>\n",
       "    <tr>\n",
       "      <th>3</th>\n",
       "      <td>3</td>\n",
       "      <td>4</td>\n",
       "      <td>CVS Health</td>\n",
       "      <td>https://www.cvshealth.com/</td>\n",
       "    </tr>\n",
       "    <tr>\n",
       "      <th>4</th>\n",
       "      <td>4</td>\n",
       "      <td>5</td>\n",
       "      <td>UnitedHealth Group</td>\n",
       "      <td>https://www.unitedhealthgroup.com/</td>\n",
       "    </tr>\n",
       "    <tr>\n",
       "      <th>...</th>\n",
       "      <td>...</td>\n",
       "      <td>...</td>\n",
       "      <td>...</td>\n",
       "      <td>...</td>\n",
       "    </tr>\n",
       "    <tr>\n",
       "      <th>495</th>\n",
       "      <td>495</td>\n",
       "      <td>496</td>\n",
       "      <td>Hasbro</td>\n",
       "      <td>https://shop.hasbro.com/</td>\n",
       "    </tr>\n",
       "    <tr>\n",
       "      <th>496</th>\n",
       "      <td>496</td>\n",
       "      <td>497</td>\n",
       "      <td>Roper Technologies</td>\n",
       "      <td>https://www.ropertech.com/</td>\n",
       "    </tr>\n",
       "    <tr>\n",
       "      <th>497</th>\n",
       "      <td>497</td>\n",
       "      <td>498</td>\n",
       "      <td>ARKO</td>\n",
       "      <td>https://www.arkocorp.com/</td>\n",
       "    </tr>\n",
       "    <tr>\n",
       "      <th>498</th>\n",
       "      <td>498</td>\n",
       "      <td>499</td>\n",
       "      <td>Frontier Communications</td>\n",
       "      <td>https://frontier.com/</td>\n",
       "    </tr>\n",
       "    <tr>\n",
       "      <th>499</th>\n",
       "      <td>499</td>\n",
       "      <td>500</td>\n",
       "      <td>Ameren</td>\n",
       "      <td>https://www.ameren.com/</td>\n",
       "    </tr>\n",
       "  </tbody>\n",
       "</table>\n",
       "<p>500 rows × 4 columns</p>\n",
       "</div>"
      ],
      "text/plain": [
       "     Unnamed: 0  Rank                  Company  \\\n",
       "0             0     1                  Walmart   \n",
       "1             1     2                   Amazon   \n",
       "2             2     3                    Apple   \n",
       "3             3     4               CVS Health   \n",
       "4             4     5       UnitedHealth Group   \n",
       "..          ...   ...                      ...   \n",
       "495         495   496                   Hasbro   \n",
       "496         496   497       Roper Technologies   \n",
       "497         497   498                     ARKO   \n",
       "498         498   499  Frontier Communications   \n",
       "499         499   500                   Ameren   \n",
       "\n",
       "                                Website  \n",
       "0              https://www.walmart.com/  \n",
       "1               https://www.amazon.com/  \n",
       "2                https://www.apple.com/  \n",
       "3            https://www.cvshealth.com/  \n",
       "4    https://www.unitedhealthgroup.com/  \n",
       "..                                  ...  \n",
       "495            https://shop.hasbro.com/  \n",
       "496          https://www.ropertech.com/  \n",
       "497           https://www.arkocorp.com/  \n",
       "498               https://frontier.com/  \n",
       "499             https://www.ameren.com/  \n",
       "\n",
       "[500 rows x 4 columns]"
      ]
     },
     "execution_count": 306,
     "metadata": {},
     "output_type": "execute_result"
    }
   ],
   "source": [
    "fortune_500"
   ]
  },
  {
   "cell_type": "markdown",
   "metadata": {},
   "source": [
    "### Upload to NEO4J"
   ]
  },
  {
   "cell_type": "code",
   "execution_count": 207,
   "metadata": {},
   "outputs": [
    {
     "name": "stderr",
     "output_type": "stream",
     "text": [
      "100%|██████████| 50/50 [00:00<00:00, 272.04it/s]"
     ]
    },
    {
     "name": "stdout",
     "output_type": "stream",
     "text": [
      "Successfully Uploaded: 100.0 per. of tilts\n"
     ]
    },
    {
     "name": "stderr",
     "output_type": "stream",
     "text": [
      "\n"
     ]
    }
   ],
   "source": [
    "from tqdm import tqdm\n",
    "import re\n",
    "from gql import gql, Client\n",
    "from gql.transport.requests import RequestsHTTPTransport\n",
    "\n",
    "# console = Console()\n",
    "\n",
    "sample_transport=RequestsHTTPTransport(\n",
    "    url='http://localhost:4001/graphql',\n",
    "    use_json=True,\n",
    "    headers={\n",
    "        \"Content-type\": \"application/json\",\n",
    "    },\n",
    "    verify=False\n",
    ")\n",
    "\n",
    "client = Client(\n",
    "    #execute_timeout=20,\n",
    "    transport=sample_transport,\n",
    "    fetch_schema_from_transport=True,\n",
    ")\n",
    "\n",
    "\n",
    "successes = 0\n",
    "for i, query_string in enumerate(tqdm(build_mutations(50, fortune_500))):\n",
    "    #print(\"Query String: \", query_string)\n",
    "    try:\n",
    "        query = gql(query_string)\n",
    "        #client.execute(query)\n",
    "        successes += 1\n",
    "    except Exception as syn:\n",
    "        print(syn)\n",
    "        print(\"Error With Tilt No.\", i)\n",
    "\n",
    "print(\"Successfully Uploaded:\", 100*(successes/(i+1)), \"per. of tilts\")"
   ]
  },
  {
   "cell_type": "code",
   "execution_count": null,
   "metadata": {},
   "outputs": [],
   "source": []
  }
 ],
 "metadata": {
  "kernelspec": {
   "display_name": "Python 3.9.12 ('base')",
   "language": "python",
   "name": "python3"
  },
  "language_info": {
   "codemirror_mode": {
    "name": "ipython",
    "version": 3
   },
   "file_extension": ".py",
   "mimetype": "text/x-python",
   "name": "python",
   "nbconvert_exporter": "python",
   "pygments_lexer": "ipython3",
   "version": "3.9.12"
  },
  "orig_nbformat": 4,
  "vscode": {
   "interpreter": {
    "hash": "98a2b17e149e4e8a0b6acf04d01298b022c80a24b0767a95d910142ef5b4f869"
   }
  }
 },
 "nbformat": 4,
 "nbformat_minor": 2
}
