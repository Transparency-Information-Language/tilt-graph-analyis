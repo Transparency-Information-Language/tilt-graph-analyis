{
 "cells": [
  {
   "cell_type": "code",
   "execution_count": 367,
   "metadata": {},
   "outputs": [],
   "source": [
    "from gql import gql, Client\n",
    "from gql.transport.requests import RequestsHTTPTransport\n",
    "from pkg_resources import ContextualVersionConflict\n",
    "\n",
    "# from rich.console import Console\n",
    "\n",
    "import requests\n",
    "import json\n",
    "\n",
    "import time\n",
    "from sqlalchemy import delete\n",
    "from tqdm import tqdm\n",
    "import re\n",
    "\n",
    "# console = Console()\n",
    "\n",
    "sample_transport=RequestsHTTPTransport(\n",
    "    url='http://localhost:4001/graphql',\n",
    "    use_json=True,\n",
    "    headers={\n",
    "        \"Content-type\": \"application/json\",\n",
    "    },\n",
    "    verify=False\n",
    ")\n",
    "\n",
    "client = Client(\n",
    "    #execute_timeout=20,\n",
    "    transport=sample_transport,\n",
    "    fetch_schema_from_transport=True,\n",
    ")\n",
    "\n",
    "session = requests.Session()\n",
    "session.auth = ('admin', \"secret\")\n",
    "\n",
    "#hostname = 'http://ec2-3-64-237-95.eu-central-1.compute.amazonaws.com:8080/tilt/tilt'\n",
    "#auth = session.post(hostname)\n",
    "#response = json.loads(session.get(hostname).content)\n",
    "\n",
    "#tilt = json.loads(requests.get('http://ec2-3-64-237-95.eu-central-1.compute.amazonaws.com:8080/tilt/tilt').content)\n",
    "#print(\"Fetch Successful!\", response)\n",
    "\n",
    "\n",
    "json_file = open('/Users/johannes/Desktop/TU/playground/tilt')\n",
    "tilt = json.load(json_file)"
   ]
  },
  {
   "cell_type": "code",
   "execution_count": 412,
   "metadata": {},
   "outputs": [
    {
     "ename": "ConnectionError",
     "evalue": "HTTPConnectionPool(host='ec2-3-64-237-95.eu-central-1.compute.amazonaws.com', port=8080): Max retries exceeded with url: /tilt/tilt (Caused by NewConnectionError('<urllib3.connection.HTTPConnection object at 0x7fe5d1efa3d0>: Failed to establish a new connection: [Errno 60] Operation timed out'))",
     "output_type": "error",
     "traceback": [
      "\u001b[0;31m---------------------------------------------------------------------------\u001b[0m",
      "\u001b[0;31mTimeoutError\u001b[0m                              Traceback (most recent call last)",
      "File \u001b[0;32m~/opt/anaconda3/lib/python3.9/site-packages/urllib3/connection.py:174\u001b[0m, in \u001b[0;36mHTTPConnection._new_conn\u001b[0;34m(self)\u001b[0m\n\u001b[1;32m    173\u001b[0m \u001b[39mtry\u001b[39;00m:\n\u001b[0;32m--> 174\u001b[0m     conn \u001b[39m=\u001b[39m connection\u001b[39m.\u001b[39;49mcreate_connection(\n\u001b[1;32m    175\u001b[0m         (\u001b[39mself\u001b[39;49m\u001b[39m.\u001b[39;49m_dns_host, \u001b[39mself\u001b[39;49m\u001b[39m.\u001b[39;49mport), \u001b[39mself\u001b[39;49m\u001b[39m.\u001b[39;49mtimeout, \u001b[39m*\u001b[39;49m\u001b[39m*\u001b[39;49mextra_kw\n\u001b[1;32m    176\u001b[0m     )\n\u001b[1;32m    178\u001b[0m \u001b[39mexcept\u001b[39;00m SocketTimeout:\n",
      "File \u001b[0;32m~/opt/anaconda3/lib/python3.9/site-packages/urllib3/util/connection.py:95\u001b[0m, in \u001b[0;36mcreate_connection\u001b[0;34m(address, timeout, source_address, socket_options)\u001b[0m\n\u001b[1;32m     94\u001b[0m \u001b[39mif\u001b[39;00m err \u001b[39mis\u001b[39;00m \u001b[39mnot\u001b[39;00m \u001b[39mNone\u001b[39;00m:\n\u001b[0;32m---> 95\u001b[0m     \u001b[39mraise\u001b[39;00m err\n\u001b[1;32m     97\u001b[0m \u001b[39mraise\u001b[39;00m socket\u001b[39m.\u001b[39merror(\u001b[39m\"\u001b[39m\u001b[39mgetaddrinfo returns an empty list\u001b[39m\u001b[39m\"\u001b[39m)\n",
      "File \u001b[0;32m~/opt/anaconda3/lib/python3.9/site-packages/urllib3/util/connection.py:85\u001b[0m, in \u001b[0;36mcreate_connection\u001b[0;34m(address, timeout, source_address, socket_options)\u001b[0m\n\u001b[1;32m     84\u001b[0m     sock\u001b[39m.\u001b[39mbind(source_address)\n\u001b[0;32m---> 85\u001b[0m sock\u001b[39m.\u001b[39;49mconnect(sa)\n\u001b[1;32m     86\u001b[0m \u001b[39mreturn\u001b[39;00m sock\n",
      "\u001b[0;31mTimeoutError\u001b[0m: [Errno 60] Operation timed out",
      "\nDuring handling of the above exception, another exception occurred:\n",
      "\u001b[0;31mNewConnectionError\u001b[0m                        Traceback (most recent call last)",
      "File \u001b[0;32m~/opt/anaconda3/lib/python3.9/site-packages/urllib3/connectionpool.py:703\u001b[0m, in \u001b[0;36mHTTPConnectionPool.urlopen\u001b[0;34m(self, method, url, body, headers, retries, redirect, assert_same_host, timeout, pool_timeout, release_conn, chunked, body_pos, **response_kw)\u001b[0m\n\u001b[1;32m    702\u001b[0m \u001b[39m# Make the request on the httplib connection object.\u001b[39;00m\n\u001b[0;32m--> 703\u001b[0m httplib_response \u001b[39m=\u001b[39m \u001b[39mself\u001b[39;49m\u001b[39m.\u001b[39;49m_make_request(\n\u001b[1;32m    704\u001b[0m     conn,\n\u001b[1;32m    705\u001b[0m     method,\n\u001b[1;32m    706\u001b[0m     url,\n\u001b[1;32m    707\u001b[0m     timeout\u001b[39m=\u001b[39;49mtimeout_obj,\n\u001b[1;32m    708\u001b[0m     body\u001b[39m=\u001b[39;49mbody,\n\u001b[1;32m    709\u001b[0m     headers\u001b[39m=\u001b[39;49mheaders,\n\u001b[1;32m    710\u001b[0m     chunked\u001b[39m=\u001b[39;49mchunked,\n\u001b[1;32m    711\u001b[0m )\n\u001b[1;32m    713\u001b[0m \u001b[39m# If we're going to release the connection in ``finally:``, then\u001b[39;00m\n\u001b[1;32m    714\u001b[0m \u001b[39m# the response doesn't need to know about the connection. Otherwise\u001b[39;00m\n\u001b[1;32m    715\u001b[0m \u001b[39m# it will also try to release it and we'll have a double-release\u001b[39;00m\n\u001b[1;32m    716\u001b[0m \u001b[39m# mess.\u001b[39;00m\n",
      "File \u001b[0;32m~/opt/anaconda3/lib/python3.9/site-packages/urllib3/connectionpool.py:398\u001b[0m, in \u001b[0;36mHTTPConnectionPool._make_request\u001b[0;34m(self, conn, method, url, timeout, chunked, **httplib_request_kw)\u001b[0m\n\u001b[1;32m    397\u001b[0m     \u001b[39melse\u001b[39;00m:\n\u001b[0;32m--> 398\u001b[0m         conn\u001b[39m.\u001b[39;49mrequest(method, url, \u001b[39m*\u001b[39;49m\u001b[39m*\u001b[39;49mhttplib_request_kw)\n\u001b[1;32m    400\u001b[0m \u001b[39m# We are swallowing BrokenPipeError (errno.EPIPE) since the server is\u001b[39;00m\n\u001b[1;32m    401\u001b[0m \u001b[39m# legitimately able to close the connection after sending a valid response.\u001b[39;00m\n\u001b[1;32m    402\u001b[0m \u001b[39m# With this behaviour, the received response is still readable.\u001b[39;00m\n",
      "File \u001b[0;32m~/opt/anaconda3/lib/python3.9/site-packages/urllib3/connection.py:239\u001b[0m, in \u001b[0;36mHTTPConnection.request\u001b[0;34m(self, method, url, body, headers)\u001b[0m\n\u001b[1;32m    238\u001b[0m     headers[\u001b[39m\"\u001b[39m\u001b[39mUser-Agent\u001b[39m\u001b[39m\"\u001b[39m] \u001b[39m=\u001b[39m _get_default_user_agent()\n\u001b[0;32m--> 239\u001b[0m \u001b[39msuper\u001b[39;49m(HTTPConnection, \u001b[39mself\u001b[39;49m)\u001b[39m.\u001b[39;49mrequest(method, url, body\u001b[39m=\u001b[39;49mbody, headers\u001b[39m=\u001b[39;49mheaders)\n",
      "File \u001b[0;32m~/opt/anaconda3/lib/python3.9/http/client.py:1285\u001b[0m, in \u001b[0;36mHTTPConnection.request\u001b[0;34m(self, method, url, body, headers, encode_chunked)\u001b[0m\n\u001b[1;32m   1284\u001b[0m \u001b[39m\"\"\"Send a complete request to the server.\"\"\"\u001b[39;00m\n\u001b[0;32m-> 1285\u001b[0m \u001b[39mself\u001b[39;49m\u001b[39m.\u001b[39;49m_send_request(method, url, body, headers, encode_chunked)\n",
      "File \u001b[0;32m~/opt/anaconda3/lib/python3.9/http/client.py:1331\u001b[0m, in \u001b[0;36mHTTPConnection._send_request\u001b[0;34m(self, method, url, body, headers, encode_chunked)\u001b[0m\n\u001b[1;32m   1330\u001b[0m     body \u001b[39m=\u001b[39m _encode(body, \u001b[39m'\u001b[39m\u001b[39mbody\u001b[39m\u001b[39m'\u001b[39m)\n\u001b[0;32m-> 1331\u001b[0m \u001b[39mself\u001b[39;49m\u001b[39m.\u001b[39;49mendheaders(body, encode_chunked\u001b[39m=\u001b[39;49mencode_chunked)\n",
      "File \u001b[0;32m~/opt/anaconda3/lib/python3.9/http/client.py:1280\u001b[0m, in \u001b[0;36mHTTPConnection.endheaders\u001b[0;34m(self, message_body, encode_chunked)\u001b[0m\n\u001b[1;32m   1279\u001b[0m     \u001b[39mraise\u001b[39;00m CannotSendHeader()\n\u001b[0;32m-> 1280\u001b[0m \u001b[39mself\u001b[39;49m\u001b[39m.\u001b[39;49m_send_output(message_body, encode_chunked\u001b[39m=\u001b[39;49mencode_chunked)\n",
      "File \u001b[0;32m~/opt/anaconda3/lib/python3.9/http/client.py:1040\u001b[0m, in \u001b[0;36mHTTPConnection._send_output\u001b[0;34m(self, message_body, encode_chunked)\u001b[0m\n\u001b[1;32m   1039\u001b[0m \u001b[39mdel\u001b[39;00m \u001b[39mself\u001b[39m\u001b[39m.\u001b[39m_buffer[:]\n\u001b[0;32m-> 1040\u001b[0m \u001b[39mself\u001b[39;49m\u001b[39m.\u001b[39;49msend(msg)\n\u001b[1;32m   1042\u001b[0m \u001b[39mif\u001b[39;00m message_body \u001b[39mis\u001b[39;00m \u001b[39mnot\u001b[39;00m \u001b[39mNone\u001b[39;00m:\n\u001b[1;32m   1043\u001b[0m \n\u001b[1;32m   1044\u001b[0m     \u001b[39m# create a consistent interface to message_body\u001b[39;00m\n",
      "File \u001b[0;32m~/opt/anaconda3/lib/python3.9/http/client.py:980\u001b[0m, in \u001b[0;36mHTTPConnection.send\u001b[0;34m(self, data)\u001b[0m\n\u001b[1;32m    979\u001b[0m \u001b[39mif\u001b[39;00m \u001b[39mself\u001b[39m\u001b[39m.\u001b[39mauto_open:\n\u001b[0;32m--> 980\u001b[0m     \u001b[39mself\u001b[39;49m\u001b[39m.\u001b[39;49mconnect()\n\u001b[1;32m    981\u001b[0m \u001b[39melse\u001b[39;00m:\n",
      "File \u001b[0;32m~/opt/anaconda3/lib/python3.9/site-packages/urllib3/connection.py:205\u001b[0m, in \u001b[0;36mHTTPConnection.connect\u001b[0;34m(self)\u001b[0m\n\u001b[1;32m    204\u001b[0m \u001b[39mdef\u001b[39;00m \u001b[39mconnect\u001b[39m(\u001b[39mself\u001b[39m):\n\u001b[0;32m--> 205\u001b[0m     conn \u001b[39m=\u001b[39m \u001b[39mself\u001b[39;49m\u001b[39m.\u001b[39;49m_new_conn()\n\u001b[1;32m    206\u001b[0m     \u001b[39mself\u001b[39m\u001b[39m.\u001b[39m_prepare_conn(conn)\n",
      "File \u001b[0;32m~/opt/anaconda3/lib/python3.9/site-packages/urllib3/connection.py:186\u001b[0m, in \u001b[0;36mHTTPConnection._new_conn\u001b[0;34m(self)\u001b[0m\n\u001b[1;32m    185\u001b[0m \u001b[39mexcept\u001b[39;00m SocketError \u001b[39mas\u001b[39;00m e:\n\u001b[0;32m--> 186\u001b[0m     \u001b[39mraise\u001b[39;00m NewConnectionError(\n\u001b[1;32m    187\u001b[0m         \u001b[39mself\u001b[39m, \u001b[39m\"\u001b[39m\u001b[39mFailed to establish a new connection: \u001b[39m\u001b[39m%s\u001b[39;00m\u001b[39m\"\u001b[39m \u001b[39m%\u001b[39m e\n\u001b[1;32m    188\u001b[0m     )\n\u001b[1;32m    190\u001b[0m \u001b[39mreturn\u001b[39;00m conn\n",
      "\u001b[0;31mNewConnectionError\u001b[0m: <urllib3.connection.HTTPConnection object at 0x7fe5d1efa3d0>: Failed to establish a new connection: [Errno 60] Operation timed out",
      "\nDuring handling of the above exception, another exception occurred:\n",
      "\u001b[0;31mMaxRetryError\u001b[0m                             Traceback (most recent call last)",
      "File \u001b[0;32m~/opt/anaconda3/lib/python3.9/site-packages/requests/adapters.py:440\u001b[0m, in \u001b[0;36mHTTPAdapter.send\u001b[0;34m(self, request, stream, timeout, verify, cert, proxies)\u001b[0m\n\u001b[1;32m    439\u001b[0m \u001b[39mif\u001b[39;00m \u001b[39mnot\u001b[39;00m chunked:\n\u001b[0;32m--> 440\u001b[0m     resp \u001b[39m=\u001b[39m conn\u001b[39m.\u001b[39;49murlopen(\n\u001b[1;32m    441\u001b[0m         method\u001b[39m=\u001b[39;49mrequest\u001b[39m.\u001b[39;49mmethod,\n\u001b[1;32m    442\u001b[0m         url\u001b[39m=\u001b[39;49murl,\n\u001b[1;32m    443\u001b[0m         body\u001b[39m=\u001b[39;49mrequest\u001b[39m.\u001b[39;49mbody,\n\u001b[1;32m    444\u001b[0m         headers\u001b[39m=\u001b[39;49mrequest\u001b[39m.\u001b[39;49mheaders,\n\u001b[1;32m    445\u001b[0m         redirect\u001b[39m=\u001b[39;49m\u001b[39mFalse\u001b[39;49;00m,\n\u001b[1;32m    446\u001b[0m         assert_same_host\u001b[39m=\u001b[39;49m\u001b[39mFalse\u001b[39;49;00m,\n\u001b[1;32m    447\u001b[0m         preload_content\u001b[39m=\u001b[39;49m\u001b[39mFalse\u001b[39;49;00m,\n\u001b[1;32m    448\u001b[0m         decode_content\u001b[39m=\u001b[39;49m\u001b[39mFalse\u001b[39;49;00m,\n\u001b[1;32m    449\u001b[0m         retries\u001b[39m=\u001b[39;49m\u001b[39mself\u001b[39;49m\u001b[39m.\u001b[39;49mmax_retries,\n\u001b[1;32m    450\u001b[0m         timeout\u001b[39m=\u001b[39;49mtimeout\n\u001b[1;32m    451\u001b[0m     )\n\u001b[1;32m    453\u001b[0m \u001b[39m# Send the request.\u001b[39;00m\n\u001b[1;32m    454\u001b[0m \u001b[39melse\u001b[39;00m:\n",
      "File \u001b[0;32m~/opt/anaconda3/lib/python3.9/site-packages/urllib3/connectionpool.py:785\u001b[0m, in \u001b[0;36mHTTPConnectionPool.urlopen\u001b[0;34m(self, method, url, body, headers, retries, redirect, assert_same_host, timeout, pool_timeout, release_conn, chunked, body_pos, **response_kw)\u001b[0m\n\u001b[1;32m    783\u001b[0m     e \u001b[39m=\u001b[39m ProtocolError(\u001b[39m\"\u001b[39m\u001b[39mConnection aborted.\u001b[39m\u001b[39m\"\u001b[39m, e)\n\u001b[0;32m--> 785\u001b[0m retries \u001b[39m=\u001b[39m retries\u001b[39m.\u001b[39;49mincrement(\n\u001b[1;32m    786\u001b[0m     method, url, error\u001b[39m=\u001b[39;49me, _pool\u001b[39m=\u001b[39;49m\u001b[39mself\u001b[39;49m, _stacktrace\u001b[39m=\u001b[39;49msys\u001b[39m.\u001b[39;49mexc_info()[\u001b[39m2\u001b[39;49m]\n\u001b[1;32m    787\u001b[0m )\n\u001b[1;32m    788\u001b[0m retries\u001b[39m.\u001b[39msleep()\n",
      "File \u001b[0;32m~/opt/anaconda3/lib/python3.9/site-packages/urllib3/util/retry.py:592\u001b[0m, in \u001b[0;36mRetry.increment\u001b[0;34m(self, method, url, response, error, _pool, _stacktrace)\u001b[0m\n\u001b[1;32m    591\u001b[0m \u001b[39mif\u001b[39;00m new_retry\u001b[39m.\u001b[39mis_exhausted():\n\u001b[0;32m--> 592\u001b[0m     \u001b[39mraise\u001b[39;00m MaxRetryError(_pool, url, error \u001b[39mor\u001b[39;00m ResponseError(cause))\n\u001b[1;32m    594\u001b[0m log\u001b[39m.\u001b[39mdebug(\u001b[39m\"\u001b[39m\u001b[39mIncremented Retry for (url=\u001b[39m\u001b[39m'\u001b[39m\u001b[39m%s\u001b[39;00m\u001b[39m'\u001b[39m\u001b[39m): \u001b[39m\u001b[39m%r\u001b[39;00m\u001b[39m\"\u001b[39m, url, new_retry)\n",
      "\u001b[0;31mMaxRetryError\u001b[0m: HTTPConnectionPool(host='ec2-3-64-237-95.eu-central-1.compute.amazonaws.com', port=8080): Max retries exceeded with url: /tilt/tilt (Caused by NewConnectionError('<urllib3.connection.HTTPConnection object at 0x7fe5d1efa3d0>: Failed to establish a new connection: [Errno 60] Operation timed out'))",
      "\nDuring handling of the above exception, another exception occurred:\n",
      "\u001b[0;31mConnectionError\u001b[0m                           Traceback (most recent call last)",
      "\u001b[1;32m/Users/johannes/Desktop/TU/Coding/tilt-graph-analyis/data_push_trail.ipynb Cell 2'\u001b[0m in \u001b[0;36m<cell line: 2>\u001b[0;34m()\u001b[0m\n\u001b[1;32m      <a href='vscode-notebook-cell:/Users/johannes/Desktop/TU/Coding/tilt-graph-analyis/data_push_trail.ipynb#ch0000021?line=0'>1</a>\u001b[0m hostname \u001b[39m=\u001b[39m \u001b[39m'\u001b[39m\u001b[39mhttp://ec2-3-64-237-95.eu-central-1.compute.amazonaws.com:8080/tilt/tilt\u001b[39m\u001b[39m'\u001b[39m\n\u001b[0;32m----> <a href='vscode-notebook-cell:/Users/johannes/Desktop/TU/Coding/tilt-graph-analyis/data_push_trail.ipynb#ch0000021?line=1'>2</a>\u001b[0m auth \u001b[39m=\u001b[39m session\u001b[39m.\u001b[39;49mpost(hostname)\n\u001b[1;32m      <a href='vscode-notebook-cell:/Users/johannes/Desktop/TU/Coding/tilt-graph-analyis/data_push_trail.ipynb#ch0000021?line=2'>3</a>\u001b[0m response \u001b[39m=\u001b[39m json\u001b[39m.\u001b[39mloads(session\u001b[39m.\u001b[39mget(hostname)\u001b[39m.\u001b[39mcontent)\n",
      "File \u001b[0;32m~/opt/anaconda3/lib/python3.9/site-packages/requests/sessions.py:577\u001b[0m, in \u001b[0;36mSession.post\u001b[0;34m(self, url, data, json, **kwargs)\u001b[0m\n\u001b[1;32m    566\u001b[0m \u001b[39mdef\u001b[39;00m \u001b[39mpost\u001b[39m(\u001b[39mself\u001b[39m, url, data\u001b[39m=\u001b[39m\u001b[39mNone\u001b[39;00m, json\u001b[39m=\u001b[39m\u001b[39mNone\u001b[39;00m, \u001b[39m*\u001b[39m\u001b[39m*\u001b[39mkwargs):\n\u001b[1;32m    567\u001b[0m     \u001b[39mr\u001b[39m\u001b[39m\"\"\"Sends a POST request. Returns :class:`Response` object.\u001b[39;00m\n\u001b[1;32m    568\u001b[0m \n\u001b[1;32m    569\u001b[0m \u001b[39m    :param url: URL for the new :class:`Request` object.\u001b[39;00m\n\u001b[0;32m   (...)\u001b[0m\n\u001b[1;32m    574\u001b[0m \u001b[39m    :rtype: requests.Response\u001b[39;00m\n\u001b[1;32m    575\u001b[0m \u001b[39m    \"\"\"\u001b[39;00m\n\u001b[0;32m--> 577\u001b[0m     \u001b[39mreturn\u001b[39;00m \u001b[39mself\u001b[39;49m\u001b[39m.\u001b[39;49mrequest(\u001b[39m'\u001b[39;49m\u001b[39mPOST\u001b[39;49m\u001b[39m'\u001b[39;49m, url, data\u001b[39m=\u001b[39;49mdata, json\u001b[39m=\u001b[39;49mjson, \u001b[39m*\u001b[39;49m\u001b[39m*\u001b[39;49mkwargs)\n",
      "File \u001b[0;32m~/opt/anaconda3/lib/python3.9/site-packages/requests/sessions.py:529\u001b[0m, in \u001b[0;36mSession.request\u001b[0;34m(self, method, url, params, data, headers, cookies, files, auth, timeout, allow_redirects, proxies, hooks, stream, verify, cert, json)\u001b[0m\n\u001b[1;32m    524\u001b[0m send_kwargs \u001b[39m=\u001b[39m {\n\u001b[1;32m    525\u001b[0m     \u001b[39m'\u001b[39m\u001b[39mtimeout\u001b[39m\u001b[39m'\u001b[39m: timeout,\n\u001b[1;32m    526\u001b[0m     \u001b[39m'\u001b[39m\u001b[39mallow_redirects\u001b[39m\u001b[39m'\u001b[39m: allow_redirects,\n\u001b[1;32m    527\u001b[0m }\n\u001b[1;32m    528\u001b[0m send_kwargs\u001b[39m.\u001b[39mupdate(settings)\n\u001b[0;32m--> 529\u001b[0m resp \u001b[39m=\u001b[39m \u001b[39mself\u001b[39;49m\u001b[39m.\u001b[39;49msend(prep, \u001b[39m*\u001b[39;49m\u001b[39m*\u001b[39;49msend_kwargs)\n\u001b[1;32m    531\u001b[0m \u001b[39mreturn\u001b[39;00m resp\n",
      "File \u001b[0;32m~/opt/anaconda3/lib/python3.9/site-packages/requests/sessions.py:645\u001b[0m, in \u001b[0;36mSession.send\u001b[0;34m(self, request, **kwargs)\u001b[0m\n\u001b[1;32m    642\u001b[0m start \u001b[39m=\u001b[39m preferred_clock()\n\u001b[1;32m    644\u001b[0m \u001b[39m# Send the request\u001b[39;00m\n\u001b[0;32m--> 645\u001b[0m r \u001b[39m=\u001b[39m adapter\u001b[39m.\u001b[39;49msend(request, \u001b[39m*\u001b[39;49m\u001b[39m*\u001b[39;49mkwargs)\n\u001b[1;32m    647\u001b[0m \u001b[39m# Total elapsed time of the request (approximately)\u001b[39;00m\n\u001b[1;32m    648\u001b[0m elapsed \u001b[39m=\u001b[39m preferred_clock() \u001b[39m-\u001b[39m start\n",
      "File \u001b[0;32m~/opt/anaconda3/lib/python3.9/site-packages/requests/adapters.py:519\u001b[0m, in \u001b[0;36mHTTPAdapter.send\u001b[0;34m(self, request, stream, timeout, verify, cert, proxies)\u001b[0m\n\u001b[1;32m    515\u001b[0m     \u001b[39mif\u001b[39;00m \u001b[39misinstance\u001b[39m(e\u001b[39m.\u001b[39mreason, _SSLError):\n\u001b[1;32m    516\u001b[0m         \u001b[39m# This branch is for urllib3 v1.22 and later.\u001b[39;00m\n\u001b[1;32m    517\u001b[0m         \u001b[39mraise\u001b[39;00m SSLError(e, request\u001b[39m=\u001b[39mrequest)\n\u001b[0;32m--> 519\u001b[0m     \u001b[39mraise\u001b[39;00m \u001b[39mConnectionError\u001b[39;00m(e, request\u001b[39m=\u001b[39mrequest)\n\u001b[1;32m    521\u001b[0m \u001b[39mexcept\u001b[39;00m ClosedPoolError \u001b[39mas\u001b[39;00m e:\n\u001b[1;32m    522\u001b[0m     \u001b[39mraise\u001b[39;00m \u001b[39mConnectionError\u001b[39;00m(e, request\u001b[39m=\u001b[39mrequest)\n",
      "\u001b[0;31mConnectionError\u001b[0m: HTTPConnectionPool(host='ec2-3-64-237-95.eu-central-1.compute.amazonaws.com', port=8080): Max retries exceeded with url: /tilt/tilt (Caused by NewConnectionError('<urllib3.connection.HTTPConnection object at 0x7fe5d1efa3d0>: Failed to establish a new connection: [Errno 60] Operation timed out'))"
     ]
    }
   ],
   "source": [
    "hostname = 'https://ec2-3-64-237-95.eu-central-1.compute.amazonaws.com:8081/db/tilt/tilt'\n",
    "auth = session.post(hostname)\n",
    "response = json.loads(session.get(hostname).content)"
   ]
  },
  {
   "cell_type": "code",
   "execution_count": 406,
   "metadata": {},
   "outputs": [],
   "source": [
    "\n",
    "def create_node(parent):\n",
    "\n",
    "    \"\"\"\n",
    "    func:   create_node\n",
    "            Recursively goes through JSON and builds a mutation to generate the neo4j graph\n",
    "            Base case is when an entry is a string\n",
    "    \"\"\"\n",
    "\n",
    "    def rem_dq(uncleaned):\n",
    "\n",
    "        \"\"\"\n",
    "        func:   rem_dq\n",
    "                removes double quotes. \n",
    "                Needed to avoid errors in upload\n",
    "        \"\"\"\n",
    "        if isinstance(uncleaned,str):\n",
    "            return re.sub('\"', '', uncleaned)\n",
    "        else:\n",
    "            return uncleaned\n",
    "\n",
    "    #mutation string\n",
    "    label_string = \"\"\n",
    "\n",
    "    #iterate through elements of dictionary or list\n",
    "    for i, key in enumerate(parent):\n",
    "\n",
    "        #if key == 'rightToRectificationOrDeletion':\n",
    "            #label_string += \" HERE \"\n",
    "            \n",
    "        try:\n",
    "            if key[0] == \"$\": # the dollar sign infront of the $oid is not recognised so we have to remove it\n",
    "                label_string += f'{key[1:]}: \"{rem_dq(parent[key])}\"'\n",
    "\n",
    "\n",
    "            # if key is a list\n",
    "            elif isinstance(parent[key], list):\n",
    "\n",
    "            \n",
    "                #if list item is empty\n",
    "                if len(parent[key]) == 0:\n",
    "                    \n",
    "                    #label_string += f'{key}: \"{parent[key]}\"'\n",
    "                    label_string += \"\" # just add nothing. not ideal as we lose out on recording missing information but easier to fix than trying to fix missfilled fields in tilt\n",
    "\n",
    "                #two types of entries: nodes or strings\n",
    "                else:\n",
    "\n",
    "                    # When we get lists with multiple same node entries, we make a list of nodes. \n",
    "                    # There we can only need one create statement and then close it afterwards\n",
    "                    label_string += key+ ':{create:['\n",
    "                    node_list = True\n",
    "\n",
    "                    for list_item in parent[key]:\n",
    "                        \n",
    "                        # some entries are a string wrapped in a lists instead of a node.\n",
    "                        if type(list_item) == type(\"\"): \n",
    "                            #deleted = label_string[-len(f'{key}:{{create:['):]\n",
    "                            label_string = label_string[:-len(f'{key}:{{create:[')]                             \n",
    "                            label_string += f'{key}: \"{rem_dq(list_item)}\"'\n",
    "                            node_list = False\n",
    "\n",
    "                        # if the list items are dictionaries make a new node\n",
    "                        else: \n",
    "                            label_string += f'{{{create_node(list_item)}}},'\n",
    "\n",
    "                    #\n",
    "                    if node_list:\n",
    "                        label_string = label_string[:-1]+']}'\n",
    "            \n",
    "                \n",
    "            # if the element is a dictionary\n",
    "            elif isinstance(parent[key], dict): \n",
    "                \n",
    "                #create the next node for this dict\n",
    "                label_string += f'{key}:{{create:[{{{create_node(parent[key])}}}]}}'\n",
    "\n",
    "            else: # base case\n",
    "                \n",
    "                if i < len(parent)-1:\n",
    "\n",
    "                    label_string += f'{key}: \"{rem_dq(parent[key])}\", '\n",
    "                    \n",
    "                else:\n",
    "                    label_string += f'{key}: \"{rem_dq(parent[key])}\"'\n",
    "                \n",
    "        except Exception as ex:\n",
    "            label_string += \"BIG ERROR HERE\"  \n",
    "            print(ex)  \n",
    "\n",
    "    #certain characters (like tilda) are rejected by gql\n",
    "    label_string = re.sub('~', \"\", label_string)\n",
    "    label_string = label_string.strip().replace('\\n', \"\")\n",
    "    \n",
    "    return label_string\n",
    "\n",
    "    "
   ]
  },
  {
   "cell_type": "code",
   "execution_count": 407,
   "metadata": {},
   "outputs": [
    {
     "name": "stdout",
     "output_type": "stream",
     "text": [
      "mutation { createtilts( input: [ { _id:{create:[{oid: \"62559206e7dfaf542de42c60\"}]}meta:{create:[{_id: \"f364a1b7-af84-43ae-a18d-7aa9b0c2f259\", name: \"Amazon Alexa Terms of Use\", created: \"2021-07-16T08:44:48.404159\", modified: \"2021-07-16T08:44:48.404180\", version: \"1\", language: \"en\", status: \"active\", url: \"https://www.amazon.com/gp/help/customer/display.html?nodeId=201809740\", _hash: \"2ebec9c58a92f02efa1906cf685d13c67331008c3ca47428b431c3b3b157c47b\"}]}controller:{create:[{name: \"Amazon.com Services LLC\", country: \"None\", address: \"None\", division: \"None\", representative:{create:[{name: \"None\", email: \"None\", phone: \"None\"}]}}]}dataProtectionOfficer:{create:[{email: \"None\", phone: \"None\", country: \"None\", name: \"None\", address: \"None\"}]}dataDisclosed:{create:[{_id: \"277eb7ac-b510-4e9c-92e0-7228c3371461\", category: \"your use of Alexa, your Alexa Interactions, and your Alexa Enabled Products and Auxiliary Products\", purposes:{create:[{}]}legalBases:{create:[{}]}legitimateInterests:{create:[{}]}recipients:{create:[{}]}storage:{create:[{purposeConditional: \"This information may be stored on servers outside the country in which you live\"temporal:{create:[{description: \"None\", ttl: \"None\"}]}aggregationFunction: \"None\"}]}nonDisclosure:{create:[{consequences: \"None\", legalRequirement: \"None\", contractualRegulation: \"None\", obligationToProvide: \"None\"}]}},{_id: \"e2700735-3204-4b78-bb62-e94a98f12784\", category: \"Amazon processes and retains your Alexa Interactions and related information in the cloud in order to respond to your requests\", purposes:{create:[{purpose: \"to provide additional functionality (e.g., speech to text transcription and vice versa), and to improve our services\", description: \"None\"}]}legalBases:{create:[{}]}legitimateInterests:{create:[{}]}recipients:{create:[{}]}storage:{create:[{}]}nonDisclosure:{create:[{consequences: \"None\", legalRequirement: \"None\", contractualRegulation: \"None\", obligationToProvide: \"None\"}]}},{_id: \"7f281bc1-46d9-4635-b740-1b676cb37710\", category: \"store your messages in the cloud\", purposes:{create:[{purpose: \"so that they’re available on your Alexa App and select Alexa Enabled Products.\", description: \"None\"}]}legalBases:{create:[{}]}legitimateInterests:{create:[{}]}recipients:{create:[{}]}storage:{create:[{}]}nonDisclosure:{create:[{consequences: \"None\", legalRequirement: \"None\", contractualRegulation: \"None\", obligationToProvide: \"None\"}]}}]}thirdCountryTransfers:{create:[{country: \"ZIP code when you ask for the weather\", adequacyDecision:{create:[{available: \"None\", description: \"None\"}]}appropriateGuarantees:{create:[{available: \"None\", description: \"None\"}]}presenceOfEnforceableRightsAndEffectiveRemedies:{create:[{available: \"None\", description: \"None\"}]}standardDataProtectionClause:{create:[{available: \"None\", description: \"None\"}]}},{country: \"custom music stations\", adequacyDecision:{create:[{available: \"None\", description: \"None\"}]}appropriateGuarantees:{create:[{available: \"None\", description: \"None\"}]}presenceOfEnforceableRightsAndEffectiveRemedies:{create:[{available: \"None\", description: \"None\"}]}standardDataProtectionClause:{create:[{available: \"None\", description: \"None\"}]}},{country: \"information about your Auxiliary Products\", adequacyDecision:{create:[{available: \"None\", description: \"None\"}]}appropriateGuarantees:{create:[{available: \"None\", description: \"None\"}]}presenceOfEnforceableRightsAndEffectiveRemedies:{create:[{available: \"None\", description: \"None\"}]}standardDataProtectionClause:{create:[{available: \"None\", description: \"None\"}]}},{country: \"content of your requests\", adequacyDecision:{create:[{available: \"None\", description: \"None\"}]}appropriateGuarantees:{create:[{available: \"None\", description: \"None\"}]}presenceOfEnforceableRightsAndEffectiveRemedies:{create:[{available: \"None\", description: \"None\"}]}standardDataProtectionClause:{create:[{available: \"None\", description: \"None\"}]}}]}accessAndDataPortability:{create:[{available: \"None\", description: \"None\", url: \"None\", email: \"None\", administrativeFee:{create:[{amount: \"None\", currency: \"None\"}]}}]}sources:{create:[{}]}rightToInformation:{create:[{available: \"None\", description: \"None\", url: \"None\", email: \"None\",}]}rightToRectificationOrDeletion:{create:[{available: \"None\", description: \"None\", url: \"None\", email: \"None\",}]}rightToDataPortability:{create:[{available: \"None\", description: \"None\", url: \"None\", email: \"None\",}]}rightToWithdrawConsent:{create:[{available: \"None\", description: \"None\", url: \"None\", email: \"None\",}]}rightToComplain:{create:[{available: \"None\", description: \"None\", url: \"None\", email: \"None\", supervisoryAuthority:{create:[{name: \"None\", address: \"None\", country: \"None\", email: \"None\", phone: \"None\"}]}}]}automatedDecisionMaking:{create:[{logicInvolved: \"None\", inUse: \"None\", scopeAndIntendedEffects: \"None\"}]}changesOfPurpose:{create:[{}]}_etag:{create:[{oid: \"62559206343f00015b1fa6ac\"}]}}] ) {tilts {meta { name } } }}\n"
     ]
    }
   ],
   "source": [
    "print(\"mutation { createtilts( input: [ { \" + create_node(tilt[2]) + \"}] ) {tilts {meta { name } } }}\")"
   ]
  },
  {
   "cell_type": "code",
   "execution_count": 408,
   "metadata": {},
   "outputs": [
    {
     "name": "stderr",
     "output_type": "stream",
     "text": [
      "100%|██████████| 73/73 [00:00<00:00, 1877.58it/s]\n"
     ]
    }
   ],
   "source": [
    "tilt_mutations = []\n",
    "for tilt_entry in tqdm(tilt):\n",
    "    tilt_entry  \n",
    "    tilt_mutations.append(\"mutation { createtilts( input: [ { \" + create_node(tilt_entry) + \"}] ) {tilts {meta { name } } }}\")"
   ]
  },
  {
   "cell_type": "code",
   "execution_count": 411,
   "metadata": {},
   "outputs": [
    {
     "name": "stderr",
     "output_type": "stream",
     "text": [
      "100%|██████████| 73/73 [01:41<00:00,  1.39s/it]"
     ]
    },
    {
     "name": "stdout",
     "output_type": "stream",
     "text": [
      "Successfully Uploaded: 100.0 per. of tilts\n"
     ]
    },
    {
     "name": "stderr",
     "output_type": "stream",
     "text": [
      "\n"
     ]
    }
   ],
   "source": [
    "successes = 0\n",
    "for i, query_string in enumerate(tqdm(tilt_mutations)):\n",
    "    #print(\"Query String: \", query_string)\n",
    "    try:\n",
    "        query = gql(query_string)\n",
    "        client.execute(query)\n",
    "        successes += 1\n",
    "    except Exception as syn:\n",
    "        print(syn)\n",
    "        print(\"Error With Tilt No.\", i)\n",
    "\n",
    "print(\"Successfully Uploaded:\", 100*(successes/(i+1)), \"per. of tilts\")"
   ]
  }
 ],
 "metadata": {
  "kernelspec": {
   "display_name": "Python 3.9.12 ('base')",
   "language": "python",
   "name": "python3"
  },
  "language_info": {
   "codemirror_mode": {
    "name": "ipython",
    "version": 3
   },
   "file_extension": ".py",
   "mimetype": "text/x-python",
   "name": "python",
   "nbconvert_exporter": "python",
   "pygments_lexer": "ipython3",
   "version": "3.9.12"
  },
  "orig_nbformat": 4,
  "vscode": {
   "interpreter": {
    "hash": "98a2b17e149e4e8a0b6acf04d01298b022c80a24b0767a95d910142ef5b4f869"
   }
  }
 },
 "nbformat": 4,
 "nbformat_minor": 2
}
