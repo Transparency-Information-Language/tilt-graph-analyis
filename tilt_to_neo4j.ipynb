{
 "cells": [
  {
   "cell_type": "markdown",
   "metadata": {},
   "source": [
    "# Set Ups"
   ]
  },
  {
   "cell_type": "code",
   "execution_count": 16,
   "metadata": {},
   "outputs": [],
   "source": [
    "from gql import gql, Client\n",
    "from gql.transport.requests import RequestsHTTPTransport\n",
    "from pkg_resources import ContextualVersionConflict\n",
    "\n",
    "# from rich.console import Console\n",
    "\n",
    "import requests\n",
    "import json\n",
    "\n",
    "import time\n",
    "from sqlalchemy import delete\n",
    "from tqdm import tqdm\n",
    "import re\n",
    "import numpy as np\n",
    "import matplotlib.pyplot as plt\n",
    "import pickle\n",
    "import pandas as pd"
   ]
  },
  {
   "cell_type": "code",
   "execution_count": 3,
   "metadata": {},
   "outputs": [],
   "source": [
    "# connet to graphql\n",
    "sample_transport=RequestsHTTPTransport(\n",
    "    url='http://localhost:4001/graphql',\n",
    "    use_json=True,\n",
    "    headers={\n",
    "        \"Content-type\": \"application/json\",\n",
    "    },\n",
    "    verify=False\n",
    ")\n",
    "\n",
    "client = Client(\n",
    "    #execute_timeout=20,\n",
    "    transport=sample_transport,\n",
    "    fetch_schema_from_transport=True,\n",
    ")\n",
    "\n",
    "session = requests.Session()\n",
    "session.auth = ('admin', \"secret\")\n",
    "\n",
    "#hostname = 'http://ec2-3-64-237-95.eu-central-1.compute.amazonaws.com:8080/tilt/tilt'\n",
    "#auth = session.post(hostname)\n",
    "#response = json.loads(session.get(hostname).content)\n",
    "\n",
    "#tilt = json.loads(requests.get('http://ec2-3-64-237-95.eu-central-1.compute.amazonaws.com:8080/tilt/tilt').content)\n",
    "#print(\"Fetch Successful!\", response)\n",
    "\n",
    "\n",
    "json_file = open('/Users/johannes/Desktop/TU/playground/tilt')\n",
    "tilt = json.load(json_file)"
   ]
  },
  {
   "cell_type": "code",
   "execution_count": 4,
   "metadata": {},
   "outputs": [],
   "source": [
    "hostname = 'http://ec2-3-64-237-95.eu-central-1.compute.amazonaws.com:8080/tilt/tilt'\n",
    "auth = session.post(hostname)\n",
    "response = session.get(hostname).content\n",
    "json_tilt = json.loads(response)"
   ]
  },
  {
   "cell_type": "markdown",
   "metadata": {},
   "source": [
    "# Load Data from TILT HUB into NEO4J"
   ]
  },
  {
   "cell_type": "code",
   "execution_count": 4,
   "metadata": {},
   "outputs": [],
   "source": [
    "\n",
    "def create_node(parent):\n",
    "\n",
    "    \"\"\"\n",
    "    func:   create_node\n",
    "            Recursively goes through JSON and builds a mutation to generate the neo4j graph\n",
    "            Base case is when an entry is a string\n",
    "    \"\"\"\n",
    "\n",
    "    def rem_dq(uncleaned):\n",
    "\n",
    "        \"\"\"\n",
    "        func:   rem_dq\n",
    "                removes double quotes. \n",
    "                Needed to avoid errors in upload\n",
    "        \"\"\"\n",
    "        if isinstance(uncleaned,str):\n",
    "            return re.sub('\"', '', uncleaned)\n",
    "        else:\n",
    "            return uncleaned\n",
    "\n",
    "    #mutation string\n",
    "    label_string = \"\"\n",
    "\n",
    "    #iterate through elements of dictionary or list\n",
    "    for i, key in enumerate(parent):\n",
    "\n",
    "        #if key == 'rightToRectificationOrDeletion':\n",
    "            #label_string += \" HERE \"\n",
    "            \n",
    "        try:\n",
    "            if key[0] == \"$\": # the dollar sign infront of the $oid is not recognised so we have to remove it\n",
    "                label_string += f'{key[1:]}: \"{rem_dq(parent[key])}\"'\n",
    "\n",
    "\n",
    "            # if key is a list\n",
    "            elif isinstance(parent[key], list):\n",
    "\n",
    "            \n",
    "                #if list item is empty\n",
    "                if len(parent[key]) == 0:\n",
    "                    \n",
    "                    #label_string += f'{key}: \"{parent[key]}\"'\n",
    "                    label_string += \"\" # just add nothing. not ideal as we lose out on recording missing information but easier to fix than trying to fix missfilled fields in tilt\n",
    "\n",
    "                #two types of entries: nodes or strings\n",
    "                else:\n",
    "\n",
    "                    # When we get lists with multiple same node entries, we make a list of nodes. \n",
    "                    # There we can only need one create statement and then close it afterwards\n",
    "                    label_string += key+ ':{create:['\n",
    "                    node_list = True\n",
    "\n",
    "                    for list_item in parent[key]:\n",
    "                        \n",
    "                        # some entries are a string wrapped in a lists instead of a node.\n",
    "                        if type(list_item) == type(\"\"): \n",
    "                            #deleted = label_string[-len(f'{key}:{{create:['):]\n",
    "                            label_string = label_string[:-len(f'{key}:{{create:[')]                             \n",
    "                            label_string += f'{key}: \"{rem_dq(list_item)}\"'\n",
    "                            node_list = False\n",
    "\n",
    "                        # if the list items are dictionaries make a new node\n",
    "                        else: \n",
    "                            label_string += f'{{{create_node(list_item)}}},'\n",
    "\n",
    "                    #\n",
    "                    if node_list:\n",
    "                        label_string = label_string[:-1]+']}'\n",
    "            \n",
    "                \n",
    "            # if the element is a dictionary\n",
    "            elif isinstance(parent[key], dict): \n",
    "                \n",
    "                #create the next node for this dict\n",
    "                label_string += f'{key}:{{create:[{{{create_node(parent[key])}}}]}}'\n",
    "\n",
    "            else: # base case\n",
    "                \n",
    "                if i < len(parent)-1:\n",
    "\n",
    "                    label_string += f'{key}: \"{rem_dq(parent[key])}\", '\n",
    "                    \n",
    "                else:\n",
    "                    label_string += f'{key}: \"{rem_dq(parent[key])}\"'\n",
    "                \n",
    "        except Exception as ex:\n",
    "            label_string += \"BIG ERROR HERE\"  \n",
    "            print(ex)  \n",
    "\n",
    "    #certain characters (like tilda) are rejected by gql\n",
    "    label_string = re.sub('~', \"\", label_string)\n",
    "    label_string = label_string.strip().replace('\\n', \"\")\n",
    "    \n",
    "    return label_string\n",
    "\n",
    "    "
   ]
  },
  {
   "cell_type": "code",
   "execution_count": 57,
   "metadata": {},
   "outputs": [],
   "source": [
    "#print(\"mutation { createtilts( input: [ { \" + create_node(json_tilt[5]) + \"}] ) {tilts {meta { name } } }}\")"
   ]
  },
  {
   "cell_type": "code",
   "execution_count": 6,
   "metadata": {},
   "outputs": [
    {
     "name": "stderr",
     "output_type": "stream",
     "text": [
      "100%|██████████| 73/73 [00:00<00:00, 1677.51it/s]\n"
     ]
    }
   ],
   "source": [
    "tilt_mutations = []\n",
    "for tilt_entry in tqdm(tilt):\n",
    "    tilt_entry  \n",
    "    tilt_mutations.append(\"mutation { createtilts( input: [ { \" + create_node(tilt_entry) + \"}] ) {tilts {meta { name } } }}\")"
   ]
  },
  {
   "cell_type": "code",
   "execution_count": 7,
   "metadata": {},
   "outputs": [
    {
     "name": "stderr",
     "output_type": "stream",
     "text": [
      "100%|██████████| 73/73 [05:15<00:00,  4.32s/it]"
     ]
    },
    {
     "name": "stdout",
     "output_type": "stream",
     "text": [
      "Successfully Uploaded: 100.0 per. of tilts\n"
     ]
    },
    {
     "name": "stderr",
     "output_type": "stream",
     "text": [
      "\n"
     ]
    }
   ],
   "source": [
    "successes = 0\n",
    "for i, query_string in enumerate(tqdm(tilt_mutations)):\n",
    "    #print(\"Query String: \", query_string)\n",
    "    try:\n",
    "        query = gql(query_string)\n",
    "        client.execute(query)\n",
    "        successes += 1\n",
    "    except Exception as syn:\n",
    "        print(syn)\n",
    "        print(\"Error With Tilt No.\", i)\n",
    "\n",
    "print(\"Successfully Uploaded:\", 100*(successes/(i+1)), \"per. of tilts\")"
   ]
  },
  {
   "cell_type": "markdown",
   "metadata": {},
   "source": [
    "# Analysis "
   ]
  },
  {
   "cell_type": "code",
   "execution_count": 5,
   "metadata": {},
   "outputs": [],
   "source": [
    "from neo4j import GraphDatabase"
   ]
  },
  {
   "cell_type": "code",
   "execution_count": 58,
   "metadata": {},
   "outputs": [
    {
     "name": "stdout",
     "output_type": "stream",
     "text": [
      "['Solarize_Light2', '_classic_test_patch', '_mpl-gallery', '_mpl-gallery-nogrid', 'bmh', 'classic', 'dark_background', 'fast', 'fivethirtyeight', 'ggplot', 'grayscale', 'seaborn', 'seaborn-bright', 'seaborn-colorblind', 'seaborn-dark', 'seaborn-dark-palette', 'seaborn-darkgrid', 'seaborn-deep', 'seaborn-muted', 'seaborn-notebook', 'seaborn-paper', 'seaborn-pastel', 'seaborn-poster', 'seaborn-talk', 'seaborn-ticks', 'seaborn-white', 'seaborn-whitegrid', 'tableau-colorblind10']\n"
     ]
    }
   ],
   "source": [
    "print(plt.style.available)"
   ]
  },
  {
   "cell_type": "code",
   "execution_count": 6,
   "metadata": {},
   "outputs": [],
   "source": [
    "class make_queries:\n",
    "\n",
    "    \"\"\"\n",
    "    class:  exampleTilt\n",
    "    input:  - uri: bolt uri from neo4j\n",
    "            - auth: credentials for neo4j\n",
    "            - no_nodes: number of nodes to create \n",
    "            - comp_df:  dataframe with company names and websites\n",
    "            - mu_poisson_*: average no. of samples for poisson distribution\n",
    "            - reset: whether to delete all nodes in database (default False, meant for experimentation)\n",
    "\n",
    "    \"\"\"\n",
    "\n",
    "    def __init__(self, uri, auth,  reset = False):\n",
    "        self.driver = GraphDatabase.driver(uri, auth=auth)\n",
    "        self.reset = reset\n",
    "\n",
    "\n",
    "    def close(self):\n",
    "        self.driver.close()\n",
    "        \n",
    "    # Match and display all friendships.\n",
    "    @classmethod\n",
    "    def print_friendships(cls, tx):\n",
    "        result = tx.run(\"MATCH (a)-[:KNOWS]->(b) RETURN a.name, b.name\")\n",
    "        for record in result:\n",
    "            print(\"{} knows {}\".format(record[\"a.name\"], record[\"b.name\"]))\n",
    "\n",
    "    @classmethod\n",
    "    def delete_nodes(cls, tx):\n",
    "        tx.run(\"MATCH (n) detach delete n\")\n",
    "\n",
    "    \n",
    "    def get_sorensen(self, tx, threshold = .9):\n",
    "        tx.run(\"MATCH (m:meta), (r:recipient) \"\n",
    "                f\"WHERE apoc.text.sorensenDiceSimilarity(apoc.text.clean(m.name), apoc.text.clean(r.name), 'en') > {threshold} \"\n",
    "                \"MERGE (m)-[c:has_sorensen]->(r)\")\n",
    "\n",
    "\n",
    "    def run_query(self, tx, cyper_statement):\n",
    "        \n",
    "        result = tx.run(cyper_statement)\n",
    "        return [point.data() for point in result] \n",
    "        \n",
    "\n",
    "    def main(self):\n",
    "        saved_bookmarks = []  # To collect the session bookmarks\n",
    "\n",
    "        if self.reset:\n",
    "            assurance = input(\"WARNING DELETING ALL DATA FROM THE GRAPH, TO CONTINUE WRITE 'yes'\")\n",
    "            if assurance == 'yes':\n",
    "                with self.driver.session() as session_del:\n",
    "                    session_del.write_transaction(self.delete_nodes)\n",
    "                    saved_bookmarks.append(session_del.last_bookmark())\n",
    "\n",
    "        #with self.driver.session() as session_sorensen: \n",
    "        #    session_sorensen.write_transaction(self.get_sorensen)\n",
    "\n",
    "infos = make_queries(uri = 'bolt://localhost:7687', \n",
    "                    auth = ('neo4j', 'letmein'), \n",
    "                    reset=False)"
   ]
  },
  {
   "cell_type": "code",
   "execution_count": 51,
   "metadata": {},
   "outputs": [],
   "source": [
    "dict_of_categories = [{'category':i['d.category'],'name':i['m.name']} for i in infos.driver.session().write_transaction(infos.run_query, \"match (m:meta)-[]-(t:tilt)-[]->(d:dataDisclosed) return m.name, d.category\")]# if i['d.category'] != None ]\n",
    "\n",
    "list_of_categories = [i['category'] for i in dict_of_categories  if i['category'] != None ]\n",
    "\n",
    "with open('categories_tilt', 'wb') as fp:\n",
    "    pickle.dump(np.unique(np.asarray(list_of_categories)), fp)"
   ]
  },
  {
   "cell_type": "code",
   "execution_count": 64,
   "metadata": {},
   "outputs": [
    {
     "data": {
      "text/plain": [
       "['Solarize_Light2',\n",
       " '_classic_test_patch',\n",
       " '_mpl-gallery',\n",
       " '_mpl-gallery-nogrid',\n",
       " 'bmh',\n",
       " 'classic',\n",
       " 'dark_background',\n",
       " 'fast',\n",
       " 'fivethirtyeight',\n",
       " 'ggplot',\n",
       " 'grayscale',\n",
       " 'seaborn',\n",
       " 'seaborn-bright',\n",
       " 'seaborn-colorblind',\n",
       " 'seaborn-dark',\n",
       " 'seaborn-dark-palette',\n",
       " 'seaborn-darkgrid',\n",
       " 'seaborn-deep',\n",
       " 'seaborn-muted',\n",
       " 'seaborn-notebook',\n",
       " 'seaborn-paper',\n",
       " 'seaborn-pastel',\n",
       " 'seaborn-poster',\n",
       " 'seaborn-talk',\n",
       " 'seaborn-ticks',\n",
       " 'seaborn-white',\n",
       " 'seaborn-whitegrid',\n",
       " 'tableau-colorblind10']"
      ]
     },
     "execution_count": 64,
     "metadata": {},
     "output_type": "execute_result"
    }
   ],
   "source": [
    "plt.style.available"
   ]
  },
  {
   "cell_type": "code",
   "execution_count": 107,
   "metadata": {},
   "outputs": [],
   "source": [
    "plt.rcParams.update(plt.rcParamsDefault)\n",
    "\n",
    "plt.rc('font',**{'family':'serif','serif':['Times']})\n",
    "plt.rc('text', usetex=True)"
   ]
  },
  {
   "cell_type": "code",
   "execution_count": 118,
   "metadata": {},
   "outputs": [
    {
     "data": {
      "text/plain": [
       "Text(0.5, 0, 'No. of categories')"
      ]
     },
     "execution_count": 118,
     "metadata": {},
     "output_type": "execute_result"
    },
    {
     "data": {
      "image/png": "[encoded data removed]",
      "text/plain": [
       "<Figure size 640x480 with 1 Axes>"
      ]
     },
     "metadata": {},
     "output_type": "display_data"
    }
   ],
   "source": [
    "grouped_by_name_df = pd.DataFrame(dict_of_categories).groupby('name').count()\n",
    "plt.grid()\n",
    "plt.hist(grouped_by_name_df['category'], color = 'black')\n",
    "plt.style.use('seaborn-pastel')\n",
    "\n",
    "plt.title(f\"Number of categories per controller \\n Mean: {round(grouped_by_name_df['category'].sum()/73)}\")\n",
    "plt.ylabel(\"Frequency\")\n",
    "plt.xlabel(\"No. of categories\")"
   ]
  },
  {
   "cell_type": "code",
   "execution_count": 109,
   "metadata": {},
   "outputs": [],
   "source": [
    "dict_of_purposes = [{'purpose':i['p.purpose'],'name': i['m.name']} for i in infos.driver.session().write_transaction(infos.run_query, \"match (m:meta)-[]-(t:tilt)-[]->(d:dataDisclosed)-[]-(p:purposes) return p.purpose, m.name\")]# if i['p.purpose'] != None ]\n",
    "\n",
    "list_of_purposes =  [i['purpose'] for i in dict_of_purposes if i['purpose'] != None]\n",
    "\n",
    "with open('purpose_tilt', 'wb') as fp:\n",
    "    pickle.dump(np.unique(np.asarray(list_of_purposes)), fp)"
   ]
  },
  {
   "cell_type": "code",
   "execution_count": 119,
   "metadata": {},
   "outputs": [
    {
     "data": {
      "text/plain": [
       "Text(0.5, 0, 'No. purposes')"
      ]
     },
     "execution_count": 119,
     "metadata": {},
     "output_type": "execute_result"
    },
    {
     "data": {
      "image/png": "[encoded data removed]",
      "text/plain": [
       "<Figure size 640x480 with 1 Axes>"
      ]
     },
     "metadata": {},
     "output_type": "display_data"
    }
   ],
   "source": [
    "pd_purposes = pd.DataFrame(dict_of_purposes).groupby('name').count()\n",
    "plt.grid()\n",
    "plt.hist(pd_purposes['purpose'], color= 'black')\n",
    "plt.title(f\"No. of purposes per controller \\n Mean (including firms with None): {round(pd_purposes['purpose'].sum()/73)}\")\n",
    "plt.ylabel('Frequency')\n",
    "plt.xlabel(\"No. purposes\")"
   ]
  },
  {
   "cell_type": "code",
   "execution_count": 55,
   "metadata": {},
   "outputs": [
    {
     "data": {
      "text/html": [
       "<div>\n",
       "<style scoped>\n",
       "    .dataframe tbody tr th:only-of-type {\n",
       "        vertical-align: middle;\n",
       "    }\n",
       "\n",
       "    .dataframe tbody tr th {\n",
       "        vertical-align: top;\n",
       "    }\n",
       "\n",
       "    .dataframe thead th {\n",
       "        text-align: right;\n",
       "    }\n",
       "</style>\n",
       "<table border=\"1\" class=\"dataframe\">\n",
       "  <thead>\n",
       "    <tr style=\"text-align: right;\">\n",
       "      <th></th>\n",
       "      <th>purpose</th>\n",
       "    </tr>\n",
       "    <tr>\n",
       "      <th>name</th>\n",
       "      <th></th>\n",
       "    </tr>\n",
       "  </thead>\n",
       "  <tbody>\n",
       "    <tr>\n",
       "      <th>ARD Mediathek</th>\n",
       "      <td>6</td>\n",
       "    </tr>\n",
       "    <tr>\n",
       "      <th>Amazon Alexa Terms of Use</th>\n",
       "      <td>4</td>\n",
       "    </tr>\n",
       "    <tr>\n",
       "      <th>Apple</th>\n",
       "      <td>2</td>\n",
       "    </tr>\n",
       "    <tr>\n",
       "      <th>Bundestag.de</th>\n",
       "      <td>14</td>\n",
       "    </tr>\n",
       "    <tr>\n",
       "      <th>CDU</th>\n",
       "      <td>0</td>\n",
       "    </tr>\n",
       "  </tbody>\n",
       "</table>\n",
       "</div>"
      ],
      "text/plain": [
       "                           purpose\n",
       "name                              \n",
       "ARD Mediathek                    6\n",
       "Amazon Alexa Terms of Use        4\n",
       "Apple                            2\n",
       "Bundestag.de                    14\n",
       "CDU                              0"
      ]
     },
     "execution_count": 55,
     "metadata": {},
     "output_type": "execute_result"
    }
   ],
   "source": [
    "pd_purposes.head()"
   ]
  },
  {
   "cell_type": "code",
   "execution_count": 56,
   "metadata": {},
   "outputs": [
    {
     "data": {
      "text/html": [
       "<div>\n",
       "<style scoped>\n",
       "    .dataframe tbody tr th:only-of-type {\n",
       "        vertical-align: middle;\n",
       "    }\n",
       "\n",
       "    .dataframe tbody tr th {\n",
       "        vertical-align: top;\n",
       "    }\n",
       "\n",
       "    .dataframe thead th {\n",
       "        text-align: right;\n",
       "    }\n",
       "</style>\n",
       "<table border=\"1\" class=\"dataframe\">\n",
       "  <thead>\n",
       "    <tr style=\"text-align: right;\">\n",
       "      <th></th>\n",
       "      <th>purpose</th>\n",
       "      <th>name</th>\n",
       "    </tr>\n",
       "  </thead>\n",
       "  <tbody>\n",
       "    <tr>\n",
       "      <th>0</th>\n",
       "      <td>None</td>\n",
       "      <td>fresenius medical care</td>\n",
       "    </tr>\n",
       "    <tr>\n",
       "      <th>1</th>\n",
       "      <td>None</td>\n",
       "      <td>fresenius medical care</td>\n",
       "    </tr>\n",
       "    <tr>\n",
       "      <th>2</th>\n",
       "      <td>None</td>\n",
       "      <td>fresenius medical care</td>\n",
       "    </tr>\n",
       "    <tr>\n",
       "      <th>3</th>\n",
       "      <td>None</td>\n",
       "      <td>fresenius medical care</td>\n",
       "    </tr>\n",
       "    <tr>\n",
       "      <th>4</th>\n",
       "      <td>None</td>\n",
       "      <td>fresenius medical care</td>\n",
       "    </tr>\n",
       "    <tr>\n",
       "      <th>...</th>\n",
       "      <td>...</td>\n",
       "      <td>...</td>\n",
       "    </tr>\n",
       "    <tr>\n",
       "      <th>1337</th>\n",
       "      <td>None</td>\n",
       "      <td>enel</td>\n",
       "    </tr>\n",
       "    <tr>\n",
       "      <th>1338</th>\n",
       "      <td>None</td>\n",
       "      <td>enel</td>\n",
       "    </tr>\n",
       "    <tr>\n",
       "      <th>1339</th>\n",
       "      <td>None</td>\n",
       "      <td>enel</td>\n",
       "    </tr>\n",
       "    <tr>\n",
       "      <th>1340</th>\n",
       "      <td>None</td>\n",
       "      <td>enel</td>\n",
       "    </tr>\n",
       "    <tr>\n",
       "      <th>1341</th>\n",
       "      <td>None</td>\n",
       "      <td>enel</td>\n",
       "    </tr>\n",
       "  </tbody>\n",
       "</table>\n",
       "<p>1342 rows × 2 columns</p>\n",
       "</div>"
      ],
      "text/plain": [
       "     purpose                    name\n",
       "0       None  fresenius medical care\n",
       "1       None  fresenius medical care\n",
       "2       None  fresenius medical care\n",
       "3       None  fresenius medical care\n",
       "4       None  fresenius medical care\n",
       "...      ...                     ...\n",
       "1337    None                    enel\n",
       "1338    None                    enel\n",
       "1339    None                    enel\n",
       "1340    None                    enel\n",
       "1341    None                    enel\n",
       "\n",
       "[1342 rows x 2 columns]"
      ]
     },
     "execution_count": 56,
     "metadata": {},
     "output_type": "execute_result"
    }
   ],
   "source": [
    "pd.DataFrame(dict_of_purposes)"
   ]
  },
  {
   "cell_type": "code",
   "execution_count": null,
   "metadata": {},
   "outputs": [],
   "source": []
  }
 ],
 "metadata": {
  "kernelspec": {
   "display_name": "Python 3.9.12 ('base')",
   "language": "python",
   "name": "python3"
  },
  "language_info": {
   "codemirror_mode": {
    "name": "ipython",
    "version": 3
   },
   "file_extension": ".py",
   "mimetype": "text/x-python",
   "name": "python",
   "nbconvert_exporter": "python",
   "pygments_lexer": "ipython3",
   "version": "3.9.12"
  },
  "orig_nbformat": 4,
  "vscode": {
   "interpreter": {
    "hash": "98a2b17e149e4e8a0b6acf04d01298b022c80a24b0767a95d910142ef5b4f869"
   }
  }
 },
 "nbformat": 4,
 "nbformat_minor": 2
}
