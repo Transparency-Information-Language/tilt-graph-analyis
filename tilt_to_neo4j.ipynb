{
 "cells": [
  {
   "cell_type": "markdown",
   "metadata": {},
   "source": [
    "# Set Ups"
   ]
  },
  {
   "cell_type": "code",
   "execution_count": 171,
   "metadata": {},
   "outputs": [],
   "source": [
    "from gql import gql, Client\n",
    "from gql.transport.requests import RequestsHTTPTransport\n",
    "from pkg_resources import ContextualVersionConflict\n",
    "\n",
    "# from rich.console import Console\n",
    "\n",
    "import requests\n",
    "import json\n",
    "\n",
    "import time\n",
    "from sqlalchemy import delete\n",
    "from tqdm import tqdm\n",
    "import re\n",
    "import numpy as np\n",
    "import matplotlib.pyplot as plt\n",
    "import pickle\n",
    "import pandas as pd"
   ]
  },
  {
   "cell_type": "code",
   "execution_count": 208,
   "metadata": {},
   "outputs": [],
   "source": [
    "# connet to graphql\n",
    "sample_transport=RequestsHTTPTransport(\n",
    "    url='http://localhost:4001/graphql',\n",
    "    use_json=True,\n",
    "    headers={\n",
    "        \"Content-type\": \"application/json\",\n",
    "    },\n",
    "    verify=False\n",
    ")\n",
    "\n",
    "client = Client(\n",
    "    #execute_timeout=20,\n",
    "    transport=sample_transport,\n",
    "    fetch_schema_from_transport=True,\n",
    ")\n",
    "\n",
    "session = requests.Session()\n",
    "session.auth = ('admin', \"secret\")\n",
    "\n",
    "#hostname = 'http://ec2-3-64-237-95.eu-central-1.compute.amazonaws.com:8080/tilt/tilt'\n",
    "#auth = session.post(hostname)\n",
    "#response = json.loads(session.get(hostname).content)\n",
    "\n",
    "#tilt = json.loads(requests.get('http://ec2-3-64-237-95.eu-central-1.compute.amazonaws.com:8080/tilt/tilt').content)\n",
    "#print(\"Fetch Successful!\", response)\n",
    "\n",
    "\n",
    "json_file = open('/Users/johannes/Desktop/TU/playground/tilt')\n",
    "tilt = json.load(json_file)"
   ]
  },
  {
   "cell_type": "code",
   "execution_count": 209,
   "metadata": {},
   "outputs": [],
   "source": [
    "hostname = 'http://ec2-3-64-237-95.eu-central-1.compute.amazonaws.com:8080/tilt/tilt'\n",
    "auth = session.post(hostname)\n",
    "response = session.get(hostname).content\n",
    "json_tilt = json.loads(response)"
   ]
  },
  {
   "cell_type": "code",
   "execution_count": 210,
   "metadata": {},
   "outputs": [],
   "source": [
    "## import the jsons from github\n",
    "\n",
    "import os\n",
    "import re\n",
    "\n",
    "repo_tilts = []\n",
    "\n",
    "directory = os.fsencode('/Users/johannes/Desktop/TU/tilt-corpus')\n",
    "\n",
    "for folder in os.listdir(directory):\n",
    "    foldername = os.fsdecode(folder)\n",
    "    if len(foldername) == 1:\n",
    "        folder = os.fsencode(f'/Users/johannes/Desktop/TU/tilt-corpus/{foldername}')\n",
    "        for file in os.listdir(folder):\n",
    "            filename = os.fsdecode(file)\n",
    "            if filename.endswith(\"tilt.json\"): \n",
    "                repo_tilts.append(json.load(open(f'/Users/johannes/Desktop/TU/tilt-corpus/{foldername}/{filename}')))\n",
    "            else:\n",
    "                continue\n",
    "    else:\n",
    "        continue"
   ]
  },
  {
   "cell_type": "markdown",
   "metadata": {},
   "source": [
    "# Load Data from TILT HUB into NEO4J"
   ]
  },
  {
   "cell_type": "code",
   "execution_count": 211,
   "metadata": {},
   "outputs": [],
   "source": [
    "\n",
    "def create_node(parent):\n",
    "\n",
    "    \"\"\"\n",
    "    func:   create_node\n",
    "            Recursively goes through JSON and builds a mutation to generate the neo4j graph\n",
    "            Base case is when an entry is a string\n",
    "    \"\"\"\n",
    "\n",
    "    def rem_dq(uncleaned):\n",
    "\n",
    "        \"\"\"\n",
    "        func:   rem_dq\n",
    "                removes double quotes. \n",
    "                Needed to avoid errors in upload\n",
    "        \"\"\"\n",
    "        if isinstance(uncleaned,str):\n",
    "            return re.sub('\"', '', uncleaned)\n",
    "        else:\n",
    "            return uncleaned\n",
    "\n",
    "    def add_dq(uncleaned):\n",
    "        \n",
    "        \"\"\"\n",
    "        func:   add_dq\n",
    "                changes single to double quotes. \n",
    "                Needed to avoid errors in upload\n",
    "        \"\"\"\n",
    "\n",
    "        if isinstance(uncleaned,str):\n",
    "            return re.sub(\"'\",\"\", f\"{uncleaned}\")\n",
    "        else:\n",
    "            return uncleaned\n",
    "\n",
    "\n",
    "    #mutation string\n",
    "    label_string = \"\"\n",
    "\n",
    "    #iterate through elements of dictionary or list\n",
    "    for i, key in enumerate(parent):\n",
    "\n",
    "        #if key == 'rightToRectificationOrDeletion':\n",
    "            #label_string += \" HERE \"\n",
    "            \n",
    "        try:\n",
    "            if key[0] == \"$\": # the dollar sign infront of the $oid is not recognised so we have to remove it\n",
    "                label_string += f'{key[1:]}: \"{rem_dq(parent[key])}\"'\n",
    "\n",
    "\n",
    "            # if key is a list\n",
    "            elif isinstance(parent[key], list):\n",
    "\n",
    "            \n",
    "                #if list item is empty\n",
    "                if len(parent[key]) == 0:\n",
    "                    \n",
    "                    #label_string += f'{key}: \"{parent[key]}\"'\n",
    "                    label_string += \"\" # just add nothing. not ideal as we lose out on recording missing information but easier to fix than trying to fix missfilled fields in tilt\n",
    "\n",
    "                    ### ISSUE:\n",
    "                    #  WE NOW HAVE A FIELD SUBCATEGORIES THAT CONSISTS OF JUST A LIST OF STRINGS. \n",
    "                    # SOMEHOW WE NEED TO JUST PARSE IT IN AS SUCH A LIST. MAYBE MERGE ALL LIST ENTRIES INTO ONE STRING. \n",
    "                    # MAYBE JUST PASS THE WHOLE LIST. NOT SURE YET. DIFFERENT FORMAT... \n",
    "                    # Solution: hard coded subcategories. could be done more flexible but not priority rn\n",
    "\n",
    "                elif all(isinstance(item, str) for item in parent[key]):\n",
    "\n",
    "\n",
    "                    # print(empty_list)\n",
    "\n",
    "                    # print(\"found all list\")\n",
    "                    # print(\"option 1:\",f'{key}: {[add_dq(i) for i in parent[key]]}')\n",
    "                    # print(\"option 2:\",json.dumps(parent[key]))\n",
    "                    # print(\"option 3:\",parent[key])\n",
    "                    \n",
    "                    label_string += f'{key}: {json.dumps(parent[key])}' # have to turn the single string into double strings\n",
    "\n",
    "\n",
    "                #two types of entries: nodes or strings\n",
    "                else:\n",
    "\n",
    "                    # When we get lists with multiple same node entries, we make a list of nodes. \n",
    "                    # There we only need one create statement and then close it afterwards\n",
    "                    label_string += key+ ':{create:['\n",
    "                    node_list = True\n",
    "\n",
    "\n",
    "\n",
    "                    # if len(parent[key]) > 1:\n",
    "                    #                                 #deleted = label_string[-len(f'{key}:{{create:['):]\n",
    "                    #         label_string = label_string[:-len(f'{key}:{{create:[')]                             \n",
    "                    #         label_string += f'{key}: \"{parent[key]}\"'\n",
    "                    #         node_list = False\n",
    "\n",
    "\n",
    "                    for list_item in parent[key]: \n",
    "                        \n",
    "                            # some entries are strings wrapped in a list instead of a node.\n",
    "                        if type(list_item) == type(\"\"): \n",
    "                            #deleted = label_string[-len(f'{key}:{{create:['):]\n",
    "                            label_string = label_string[:-len(f'{key}:{{create:[')]\n",
    "\n",
    "                                                            \n",
    "                            label_string += f'{key}: \"{rem_dq(list_item)}\"'\n",
    "                            node_list = False\n",
    "                    \n",
    "\n",
    "                        # if the list items are dictionaries make a new node\n",
    "                        else: \n",
    "                            label_string += f'{{{create_node(list_item)}}},'\n",
    "\n",
    "                    #\n",
    "                    if node_list:\n",
    "                        label_string = label_string[:-1]+']}'\n",
    "            \n",
    "                \n",
    "            # if the element is a dictionary\n",
    "            elif isinstance(parent[key], dict): \n",
    "                \n",
    "                #create the next node for this dict\n",
    "                label_string += f'{key}:{{create:[{{{create_node(parent[key])}}}]}}'\n",
    "\n",
    "            else: # base case\n",
    "\n",
    "                if parent[key] == None:\n",
    "                    continue\n",
    "                \n",
    "                if i < len(parent)-1:\n",
    "\n",
    "                    label_string += f'{key}: \"{rem_dq(parent[key])}\", '\n",
    "                    \n",
    "                else:\n",
    "                    label_string += f'{key}: \"{rem_dq(parent[key])}\"'\n",
    "                \n",
    "        except Exception as ex:\n",
    "            label_string += \"BIG ERROR HERE\"  \n",
    "            print(ex)  \n",
    "\n",
    "    #certain characters (like tilda) are rejected by gql\n",
    "    label_string = re.sub('~', \"\", label_string)\n",
    "    label_string = label_string.strip().replace('\\n', \"\")\n",
    "    #label_string = label_string.replace(\"None\", N)\n",
    "    \n",
    "    return label_string\n",
    "\n",
    "    "
   ]
  },
  {
   "cell_type": "code",
   "execution_count": 212,
   "metadata": {},
   "outputs": [
    {
     "name": "stdout",
     "output_type": "stream",
     "text": [
      "mutation { createtilts( input: [ { meta:{create:[{_id: \"90eeb36e-3d54-4b0a-88b7-f4565cd66920\", name: \"Zoom\", created: \"2021-07-17T10:17:13.671015\", modified: \"2021-07-17T10:17:13.671037\", version: \"1\", language: \"en\", status: \"active\", url: \"https://zoom.us/privacy\", _hash: \"54840059bb2a41fcca06c6381e0e6c0708ae0e0d4e9757612fe9d646820f7c1f\"}]}controller:{create:[{name: \"Zoom Video Communications, Inc.\", country: \"US\", address: \"55 Almaden Blvd, Suite 600San Jose, CA 95113\", division: \"Data\", representative:{create:[{}]}sector: \"J\"}]}dataProtectionOfficer:{create:[{email: \"privacy@zoom.us\", country: \"US\", address: \"Zoom Video Communications, Inc.Attention: Data Privacy Officer55 Almaden Blvd, Suite 600San Jose, CA 95113\"}]}dataDisclosed:{create:[{_id: \"0112176c-e991-444e-b0ab-780f7bceaa43\", category: \"Account Information\", purposes:{create:[{purpose: \"Provide Zoom Products and Services\", description: \"To provide Products, features, and services to account owners, their users, and those they invite to join meetings and webinars hosted on their accounts, including to customize Zoom Product features and recommendations for accounts or their users. Zoom also uses personal data, including contact information, to route invitations and messages to recipients when people send invitations and messages using Zoom Products. This may also include using personal data for customer support, which may include accessing audio, video, files, and messages, at the direction of the account owner or their users. We also use personal data to manage our relationship and contracts with account owners, including billing, compliance with contractual obligations, and related administration.\"},{purpose: \"Product Research and Development\", description: \"To develop, test, and improve Zoom Products, including, for example, content-related features (such as background filters), and to troubleshoot products and features.\"},{purpose: \"Marketing, Promotions, and Third-Party Advertising\", description: \"To permit Zoom and/or its third party marketing partners to market, advertise, and promote Zoom Products, features, and services, including based on your product usage, information we receive from third-party partners, or if you visit our websites, information about how and when you visit, and your interactions with them. We may also use cookies or similar technology, including from third-party advertising partners, to show you ads within Zoom Products about products, services, or causes from third parties. Zoom does NOT use meeting, webinar, or messaging content (specifically, audio, video, files, and messages) for any marketing, promotions or third-party advertising purposes.\"},{purpose: \"Authentication, Integrity, Security, and Safety\", description: \"To authenticate accounts and activity, detect, investigate, and prevent malicious conduct or unsafe experiences, address security threats, protect public safety, and secure Zoom Products.\"},{purpose: \"Communicate with you\", description: \"We use personal data (including contact information) to communicate with you about Zoom Products, features, and services, including product updates, your account, and changes to our policies and terms. We also use your information to respond to you when you contact us.\"},{purpose: \"Legal Reasons\", description: \"To comply with applicable law or respond to valid legal process, including from law enforcement or government agencies, to investigate or participate in civil discovery, litigation, or other adversarial legal proceedings, and to enforce or investigate potential violations of our Terms of Service or policies.\"}]}legalBases:{create:[{reference: \"GDPR-6-1-a\", description: \"As necessary for our contract: When we enter into a contract directly with you, we process your personal data on the basis of our contract in order to prepare and enter into the contract, as well as to perform and manage our contract (i.e., providing Zoom Products, features and services to account owners, their users, and those they invite to join meetings and webinars hosted on their accounts, and manage our relationship and contract, including billing, compliance with contractual obligations, and related administration). If we do not process your personal data for these purposes, we may not be able to provide you with all Products, features, and services;\"},{reference: \"GDPR-6-1-b\", description: \"Consistent with specific revocable consents: We rely on your prior consent in order to utilize cookies to engage advertising and analytics partners to deliver tailored advertising and analysis of our website usage. You have the right to withdraw your consent at any time by visiting our cookie management tool, available Cookie-Präferenzen;\"},{reference: \"GDPR-6-1-c\", description: \"As necessary to comply with our legal obligations: We process your personal data to comply with the legal obligations to which we are subject for the purposes of compliance with EEA laws, regulations, codes of practice, guidelines, or rules applicable to us, and for responses to requests from, and other communications with, competent EEA public, governmental, judicial, or other regulatory authorities. This includes detecting, investigating, preventing, and stopping fraudulent, harmful, unauthorized, or illegal activity (“fraud and abuse detection”) and compliance with privacy laws;\"},{reference: \"GDPR-6-1-d\", description: \"To protect your vital interests or those of others: We process certain personal data in order to protect vital interests for the purpose of detecting and preventing illicit activities that impact vital interests and public safety, including child sexual abuse material; and\"},{reference: \"GDPR-6-1-f\", description: \"As necessary for our (or others’) legitimate interests, unless those interests are overridden by your interests or fundamental rights and freedoms, which require protection of personal data: We process your personal data based on such legitimate interests to (i) enter and perform the contract with the account owner and/or reseller providing you with the Products (which includes billing, compliance with contractual obligations, and related administration and support); (ii) develop, test, and improve our Products and troubleshoot products and features; (iii) ensure authentication, integrity, security, and safety of accounts, activity, and Products, including detect and prevent malicious conduct and violations of our terms and policies, prevent or investigate bad or unsafe experiences, and address security threats; (iv) send marketing communications, advertising, and promotions related to the Products; and (v) comply with non-EEA laws, regulations, codes of practice, guidelines, or rules applicable to us and respond to requests from, and other communications with, competent non-EEA public, governmental, judicial, or other regulatory authorities, as well as meet our corporate and social responsibility commitments, protect our rights and property and the ones of our customers, resolve disputes, and enforce agreements.\"}]}legitimateInterests:{create:[{reasoning: \"As necessary for our (or others’) legitimate interests, unless those interests are overridden by your interests or fundamental rights and freedoms, which require protection of personal data: We process your personal data based on such legitimate interests to (i) enter and perform the contract with the account owner and/or reseller providing you with the Products (which includes billing, compliance with contractual obligations, and related administration and support); (ii) develop, test, and improve our Products and troubleshoot products and features; (iii) ensure authentication, integrity, security, and safety of accounts, activity, and Products, including detect and prevent malicious conduct and violations of our terms and policies, prevent or investigate bad or unsafe experiences, and address security threats; (iv) send marketing communications, advertising, and promotions related to the Products; and (v) comply with non-EEA laws, regulations, codes of practice, guidelines, or rules applicable to us and respond to requests from, and other communications with, competent non-EEA public, governmental, judicial, or other regulatory authorities, as well as meet our corporate and social responsibility commitments, protect our rights and property and the ones of our customers, resolve disputes, and enforce agreements.\", exists: \"True\"}]}recipients:{create:[{category: \"Reseller\"},{category: \"Vendors\"},{category: \"Marketing, Advertising\"}]}storage:{create:[{purposeConditional: [\"The length of time we have an ongoing relationship with you and provide Zoom Products to you (for example, for as long as you have an account with us or keep using our Products)\", \"Whether account owners modify or their users delete information through their accounts\", \"Whether we have a legal obligation to keep the data (for example, certain laws require us to keep records of your transactions for a certain period of time before we can delete them)\", \"Whether retention is advisable in light of our legal position (such as in regard to the enforcement of our agreements, the resolution of disputes, and applicable statutes of limitations, litigation, or regulatory investigation)\"]aggregationFunction: \"max\"}]}nonDisclosure:{create:[{legalRequirement: \"False\", contractualRegulation: \"False\", obligationToProvide: \"False\"}]}subcategories: [\"administrator name\", \"contact information\", \"account ID\", \"billing information\", \"account plan information\"]},{_id: \"09ee5666-5835-4a63-8fa0-0e7a5feb74b4\", category: \"Profile and Participant Information\", purposes:{create:[{purpose: \"Provide Zoom Products and Services\", description: \"To provide Products, features, and services to account owners, their users, and those they invite to join meetings and webinars hosted on their accounts, including to customize Zoom Product features and recommendations for accounts or their users. Zoom also uses personal data, including contact information, to route invitations and messages to recipients when people send invitations and messages using Zoom Products. This may also include using personal data for customer support, which may include accessing audio, video, files, and messages, at the direction of the account owner or their users. We also use personal data to manage our relationship and contracts with account owners, including billing, compliance with contractual obligations, and related administration.\"},{purpose: \"Product Research and Development\", description: \"To develop, test, and improve Zoom Products, including, for example, content-related features (such as background filters), and to troubleshoot products and features.\"},{purpose: \"Marketing, Promotions, and Third-Party Advertising\", description: \"To permit Zoom and/or its third party marketing partners to market, advertise, and promote Zoom Products, features, and services, including based on your product usage, information we receive from third-party partners, or if you visit our websites, information about how and when you visit, and your interactions with them. We may also use cookies or similar technology, including from third-party advertising partners, to show you ads within Zoom Products about products, services, or causes from third parties. Zoom does NOT use meeting, webinar, or messaging content (specifically, audio, video, files, and messages) for any marketing, promotions or third-party advertising purposes.\"},{purpose: \"Authentication, Integrity, Security, and Safety\", description: \"To authenticate accounts and activity, detect, investigate, and prevent malicious conduct or unsafe experiences, address security threats, protect public safety, and secure Zoom Products.\"},{purpose: \"Communicate with you\", description: \"We use personal data (including contact information) to communicate with you about Zoom Products, features, and services, including product updates, your account, and changes to our policies and terms. We also use your information to respond to you when you contact us.\"},{purpose: \"Legal Reasons\", description: \"To comply with applicable law or respond to valid legal process, including from law enforcement or government agencies, to investigate or participate in civil discovery, litigation, or other adversarial legal proceedings, and to enforce or investigate potential violations of our Terms of Service or policies.\"}]}legalBases:{create:[{reference: \"GDPR-6-1-a\", description: \"As necessary for our contract: When we enter into a contract directly with you, we process your personal data on the basis of our contract in order to prepare and enter into the contract, as well as to perform and manage our contract (i.e., providing Zoom Products, features and services to account owners, their users, and those they invite to join meetings and webinars hosted on their accounts, and manage our relationship and contract, including billing, compliance with contractual obligations, and related administration). If we do not process your personal data for these purposes, we may not be able to provide you with all Products, features, and services;\"},{reference: \"GDPR-6-1-b\", description: \"Consistent with specific revocable consents: We rely on your prior consent in order to utilize cookies to engage advertising and analytics partners to deliver tailored advertising and analysis of our website usage. You have the right to withdraw your consent at any time by visiting our cookie management tool, available Cookie-Präferenzen;\"},{reference: \"GDPR-6-1-c\", description: \"As necessary to comply with our legal obligations: We process your personal data to comply with the legal obligations to which we are subject for the purposes of compliance with EEA laws, regulations, codes of practice, guidelines, or rules applicable to us, and for responses to requests from, and other communications with, competent EEA public, governmental, judicial, or other regulatory authorities. This includes detecting, investigating, preventing, and stopping fraudulent, harmful, unauthorized, or illegal activity (“fraud and abuse detection”) and compliance with privacy laws;\"},{reference: \"GDPR-6-1-d\", description: \"To protect your vital interests or those of others: We process certain personal data in order to protect vital interests for the purpose of detecting and preventing illicit activities that impact vital interests and public safety, including child sexual abuse material; and\"},{reference: \"GDPR-6-1-f\", description: \"As necessary for our (or others’) legitimate interests, unless those interests are overridden by your interests or fundamental rights and freedoms, which require protection of personal data: We process your personal data based on such legitimate interests to (i) enter and perform the contract with the account owner and/or reseller providing you with the Products (which includes billing, compliance with contractual obligations, and related administration and support); (ii) develop, test, and improve our Products and troubleshoot products and features; (iii) ensure authentication, integrity, security, and safety of accounts, activity, and Products, including detect and prevent malicious conduct and violations of our terms and policies, prevent or investigate bad or unsafe experiences, and address security threats; (iv) send marketing communications, advertising, and promotions related to the Products; and (v) comply with non-EEA laws, regulations, codes of practice, guidelines, or rules applicable to us and respond to requests from, and other communications with, competent non-EEA public, governmental, judicial, or other regulatory authorities, as well as meet our corporate and social responsibility commitments, protect our rights and property and the ones of our customers, resolve disputes, and enforce agreements.\"}]}legitimateInterests:{create:[{reasoning: \"As necessary for our (or others’) legitimate interests, unless those interests are overridden by your interests or fundamental rights and freedoms, which require protection of personal data: We process your personal data based on such legitimate interests to (i) enter and perform the contract with the account owner and/or reseller providing you with the Products (which includes billing, compliance with contractual obligations, and related administration and support); (ii) develop, test, and improve our Products and troubleshoot products and features; (iii) ensure authentication, integrity, security, and safety of accounts, activity, and Products, including detect and prevent malicious conduct and violations of our terms and policies, prevent or investigate bad or unsafe experiences, and address security threats; (iv) send marketing communications, advertising, and promotions related to the Products; and (v) comply with non-EEA laws, regulations, codes of practice, guidelines, or rules applicable to us and respond to requests from, and other communications with, competent non-EEA public, governmental, judicial, or other regulatory authorities, as well as meet our corporate and social responsibility commitments, protect our rights and property and the ones of our customers, resolve disputes, and enforce agreements.\", exists: \"True\"}]}recipients:{create:[{category: \"Reseller\"},{category: \"Vendors\"},{category: \"Marketing, Advertising\"}]}storage:{create:[{purposeConditional: [\"The length of time we have an ongoing relationship with you and provide Zoom Products to you (for example, for as long as you have an account with us or keep using our Products)\", \"Whether account owners modify or their users delete information through their accounts\", \"Whether we have a legal obligation to keep the data (for example, certain laws require us to keep records of your transactions for a certain period of time before we can delete them)\", \"Whether retention is advisable in light of our legal position (such as in regard to the enforcement of our agreements, the resolution of disputes, and applicable statutes of limitations, litigation, or regulatory investigation)\"]aggregationFunction: \"max\"}]}nonDisclosure:{create:[{legalRequirement: \"False\", contractualRegulation: \"False\", obligationToProvide: \"False\"}]}subcategories: [\"name\", \"display name\", \"picture\", \"email address\", \"phone number\", \"job information\", \"stated locale\", \"user id\"]},{_id: \"ea693b6f-2202-4c23-95f5-3f1642fdbbaf\", category: \"Contacts and Calender Integrations\", purposes:{create:[{purpose: \"Provide Zoom Products and Services\", description: \"To provide Products, features, and services to account owners, their users, and those they invite to join meetings and webinars hosted on their accounts, including to customize Zoom Product features and recommendations for accounts or their users. Zoom also uses personal data, including contact information, to route invitations and messages to recipients when people send invitations and messages using Zoom Products. This may also include using personal data for customer support, which may include accessing audio, video, files, and messages, at the direction of the account owner or their users. We also use personal data to manage our relationship and contracts with account owners, including billing, compliance with contractual obligations, and related administration.\"},{purpose: \"Product Research and Development\", description: \"To develop, test, and improve Zoom Products, including, for example, content-related features (such as background filters), and to troubleshoot products and features.\"},{purpose: \"Marketing, Promotions, and Third-Party Advertising\", description: \"To permit Zoom and/or its third party marketing partners to market, advertise, and promote Zoom Products, features, and services, including based on your product usage, information we receive from third-party partners, or if you visit our websites, information about how and when you visit, and your interactions with them. We may also use cookies or similar technology, including from third-party advertising partners, to show you ads within Zoom Products about products, services, or causes from third parties. Zoom does NOT use meeting, webinar, or messaging content (specifically, audio, video, files, and messages) for any marketing, promotions or third-party advertising purposes.\"},{purpose: \"Authentication, Integrity, Security, and Safety\", description: \"To authenticate accounts and activity, detect, investigate, and prevent malicious conduct or unsafe experiences, address security threats, protect public safety, and secure Zoom Products.\"},{purpose: \"Communicate with you\", description: \"We use personal data (including contact information) to communicate with you about Zoom Products, features, and services, including product updates, your account, and changes to our policies and terms. We also use your information to respond to you when you contact us.\"},{purpose: \"Legal Reasons\", description: \"To comply with applicable law or respond to valid legal process, including from law enforcement or government agencies, to investigate or participate in civil discovery, litigation, or other adversarial legal proceedings, and to enforce or investigate potential violations of our Terms of Service or policies.\"}]}legalBases:{create:[{reference: \"GDPR-6-1-a\", description: \"As necessary for our contract: When we enter into a contract directly with you, we process your personal data on the basis of our contract in order to prepare and enter into the contract, as well as to perform and manage our contract (i.e., providing Zoom Products, features and services to account owners, their users, and those they invite to join meetings and webinars hosted on their accounts, and manage our relationship and contract, including billing, compliance with contractual obligations, and related administration). If we do not process your personal data for these purposes, we may not be able to provide you with all Products, features, and services;\"},{reference: \"GDPR-6-1-b\", description: \"Consistent with specific revocable consents: We rely on your prior consent in order to utilize cookies to engage advertising and analytics partners to deliver tailored advertising and analysis of our website usage. You have the right to withdraw your consent at any time by visiting our cookie management tool, available Cookie-Präferenzen;\"},{reference: \"GDPR-6-1-c\", description: \"As necessary to comply with our legal obligations: We process your personal data to comply with the legal obligations to which we are subject for the purposes of compliance with EEA laws, regulations, codes of practice, guidelines, or rules applicable to us, and for responses to requests from, and other communications with, competent EEA public, governmental, judicial, or other regulatory authorities. This includes detecting, investigating, preventing, and stopping fraudulent, harmful, unauthorized, or illegal activity (“fraud and abuse detection”) and compliance with privacy laws;\"},{reference: \"GDPR-6-1-d\", description: \"To protect your vital interests or those of others: We process certain personal data in order to protect vital interests for the purpose of detecting and preventing illicit activities that impact vital interests and public safety, including child sexual abuse material; and\"},{reference: \"GDPR-6-1-f\", description: \"As necessary for our (or others’) legitimate interests, unless those interests are overridden by your interests or fundamental rights and freedoms, which require protection of personal data: We process your personal data based on such legitimate interests to (i) enter and perform the contract with the account owner and/or reseller providing you with the Products (which includes billing, compliance with contractual obligations, and related administration and support); (ii) develop, test, and improve our Products and troubleshoot products and features; (iii) ensure authentication, integrity, security, and safety of accounts, activity, and Products, including detect and prevent malicious conduct and violations of our terms and policies, prevent or investigate bad or unsafe experiences, and address security threats; (iv) send marketing communications, advertising, and promotions related to the Products; and (v) comply with non-EEA laws, regulations, codes of practice, guidelines, or rules applicable to us and respond to requests from, and other communications with, competent non-EEA public, governmental, judicial, or other regulatory authorities, as well as meet our corporate and social responsibility commitments, protect our rights and property and the ones of our customers, resolve disputes, and enforce agreements.\"}]}legitimateInterests:{create:[{reasoning: \"As necessary for our (or others’) legitimate interests, unless those interests are overridden by your interests or fundamental rights and freedoms, which require protection of personal data: We process your personal data based on such legitimate interests to (i) enter and perform the contract with the account owner and/or reseller providing you with the Products (which includes billing, compliance with contractual obligations, and related administration and support); (ii) develop, test, and improve our Products and troubleshoot products and features; (iii) ensure authentication, integrity, security, and safety of accounts, activity, and Products, including detect and prevent malicious conduct and violations of our terms and policies, prevent or investigate bad or unsafe experiences, and address security threats; (iv) send marketing communications, advertising, and promotions related to the Products; and (v) comply with non-EEA laws, regulations, codes of practice, guidelines, or rules applicable to us and respond to requests from, and other communications with, competent non-EEA public, governmental, judicial, or other regulatory authorities, as well as meet our corporate and social responsibility commitments, protect our rights and property and the ones of our customers, resolve disputes, and enforce agreements.\", exists: \"True\"}]}recipients:{create:[{category: \"Reseller\"},{category: \"Vendors\"},{category: \"Marketing, Advertising\"}]}storage:{create:[{purposeConditional: [\"The length of time we have an ongoing relationship with you and provide Zoom Products to you (for example, for as long as you have an account with us or keep using our Products)\", \"Whether account owners modify or their users delete information through their accounts\", \"Whether we have a legal obligation to keep the data (for example, certain laws require us to keep records of your transactions for a certain period of time before we can delete them)\", \"Whether retention is advisable in light of our legal position (such as in regard to the enforcement of our agreements, the resolution of disputes, and applicable statutes of limitations, litigation, or regulatory investigation)\"]aggregationFunction: \"max\"}]}nonDisclosure:{create:[{legalRequirement: \"False\", contractualRegulation: \"False\", obligationToProvide: \"False\"}]}subcategories: [\"contact information\"]},{_id: \"d9f2876a-34ce-4b95-b0f8-b557e3034f6f\", category: \"Settings\", purposes:{create:[{purpose: \"Provide Zoom Products and Services\", description: \"To provide Products, features, and services to account owners, their users, and those they invite to join meetings and webinars hosted on their accounts, including to customize Zoom Product features and recommendations for accounts or their users. Zoom also uses personal data, including contact information, to route invitations and messages to recipients when people send invitations and messages using Zoom Products. This may also include using personal data for customer support, which may include accessing audio, video, files, and messages, at the direction of the account owner or their users. We also use personal data to manage our relationship and contracts with account owners, including billing, compliance with contractual obligations, and related administration.\"},{purpose: \"Product Research and Development\", description: \"To develop, test, and improve Zoom Products, including, for example, content-related features (such as background filters), and to troubleshoot products and features.\"},{purpose: \"Marketing, Promotions, and Third-Party Advertising\", description: \"To permit Zoom and/or its third party marketing partners to market, advertise, and promote Zoom Products, features, and services, including based on your product usage, information we receive from third-party partners, or if you visit our websites, information about how and when you visit, and your interactions with them. We may also use cookies or similar technology, including from third-party advertising partners, to show you ads within Zoom Products about products, services, or causes from third parties. Zoom does NOT use meeting, webinar, or messaging content (specifically, audio, video, files, and messages) for any marketing, promotions or third-party advertising purposes.\"},{purpose: \"Authentication, Integrity, Security, and Safety\", description: \"To authenticate accounts and activity, detect, investigate, and prevent malicious conduct or unsafe experiences, address security threats, protect public safety, and secure Zoom Products.\"},{purpose: \"Communicate with you\", description: \"We use personal data (including contact information) to communicate with you about Zoom Products, features, and services, including product updates, your account, and changes to our policies and terms. We also use your information to respond to you when you contact us.\"},{purpose: \"Legal Reasons\", description: \"To comply with applicable law or respond to valid legal process, including from law enforcement or government agencies, to investigate or participate in civil discovery, litigation, or other adversarial legal proceedings, and to enforce or investigate potential violations of our Terms of Service or policies.\"}]}legalBases:{create:[{reference: \"GDPR-6-1-a\", description: \"As necessary for our contract: When we enter into a contract directly with you, we process your personal data on the basis of our contract in order to prepare and enter into the contract, as well as to perform and manage our contract (i.e., providing Zoom Products, features and services to account owners, their users, and those they invite to join meetings and webinars hosted on their accounts, and manage our relationship and contract, including billing, compliance with contractual obligations, and related administration). If we do not process your personal data for these purposes, we may not be able to provide you with all Products, features, and services;\"},{reference: \"GDPR-6-1-b\", description: \"Consistent with specific revocable consents: We rely on your prior consent in order to utilize cookies to engage advertising and analytics partners to deliver tailored advertising and analysis of our website usage. You have the right to withdraw your consent at any time by visiting our cookie management tool, available Cookie-Präferenzen;\"},{reference: \"GDPR-6-1-c\", description: \"As necessary to comply with our legal obligations: We process your personal data to comply with the legal obligations to which we are subject for the purposes of compliance with EEA laws, regulations, codes of practice, guidelines, or rules applicable to us, and for responses to requests from, and other communications with, competent EEA public, governmental, judicial, or other regulatory authorities. This includes detecting, investigating, preventing, and stopping fraudulent, harmful, unauthorized, or illegal activity (“fraud and abuse detection”) and compliance with privacy laws;\"},{reference: \"GDPR-6-1-d\", description: \"To protect your vital interests or those of others: We process certain personal data in order to protect vital interests for the purpose of detecting and preventing illicit activities that impact vital interests and public safety, including child sexual abuse material; and\"},{reference: \"GDPR-6-1-f\", description: \"As necessary for our (or others’) legitimate interests, unless those interests are overridden by your interests or fundamental rights and freedoms, which require protection of personal data: We process your personal data based on such legitimate interests to (i) enter and perform the contract with the account owner and/or reseller providing you with the Products (which includes billing, compliance with contractual obligations, and related administration and support); (ii) develop, test, and improve our Products and troubleshoot products and features; (iii) ensure authentication, integrity, security, and safety of accounts, activity, and Products, including detect and prevent malicious conduct and violations of our terms and policies, prevent or investigate bad or unsafe experiences, and address security threats; (iv) send marketing communications, advertising, and promotions related to the Products; and (v) comply with non-EEA laws, regulations, codes of practice, guidelines, or rules applicable to us and respond to requests from, and other communications with, competent non-EEA public, governmental, judicial, or other regulatory authorities, as well as meet our corporate and social responsibility commitments, protect our rights and property and the ones of our customers, resolve disputes, and enforce agreements.\"}]}legitimateInterests:{create:[{reasoning: \"As necessary for our (or others’) legitimate interests, unless those interests are overridden by your interests or fundamental rights and freedoms, which require protection of personal data: We process your personal data based on such legitimate interests to (i) enter and perform the contract with the account owner and/or reseller providing you with the Products (which includes billing, compliance with contractual obligations, and related administration and support); (ii) develop, test, and improve our Products and troubleshoot products and features; (iii) ensure authentication, integrity, security, and safety of accounts, activity, and Products, including detect and prevent malicious conduct and violations of our terms and policies, prevent or investigate bad or unsafe experiences, and address security threats; (iv) send marketing communications, advertising, and promotions related to the Products; and (v) comply with non-EEA laws, regulations, codes of practice, guidelines, or rules applicable to us and respond to requests from, and other communications with, competent non-EEA public, governmental, judicial, or other regulatory authorities, as well as meet our corporate and social responsibility commitments, protect our rights and property and the ones of our customers, resolve disputes, and enforce agreements.\", exists: \"True\"}]}recipients:{create:[{category: \"Reseller\"},{category: \"Vendors\"},{category: \"Marketing, Advertising\"}]}storage:{create:[{purposeConditional: [\"The length of time we have an ongoing relationship with you and provide Zoom Products to you (for example, for as long as you have an account with us or keep using our Products)\", \"Whether account owners modify or their users delete information through their accounts\", \"Whether we have a legal obligation to keep the data (for example, certain laws require us to keep records of your transactions for a certain period of time before we can delete them)\", \"Whether retention is advisable in light of our legal position (such as in regard to the enforcement of our agreements, the resolution of disputes, and applicable statutes of limitations, litigation, or regulatory investigation)\"]aggregationFunction: \"max\"}]}nonDisclosure:{create:[{legalRequirement: \"False\", contractualRegulation: \"False\", obligationToProvide: \"False\"}]}subcategories: [\"audio settings\", \"video settings\", \"recording file location\", \"screen sharing setting\"]},{_id: \"ec8dd863-c9be-44e8-a5f3-293e94274795\", category: \"Registration Information\", purposes:{create:[{purpose: \"Provide Zoom Products and Services\", description: \"To provide Products, features, and services to account owners, their users, and those they invite to join meetings and webinars hosted on their accounts, including to customize Zoom Product features and recommendations for accounts or their users. Zoom also uses personal data, including contact information, to route invitations and messages to recipients when people send invitations and messages using Zoom Products. This may also include using personal data for customer support, which may include accessing audio, video, files, and messages, at the direction of the account owner or their users. We also use personal data to manage our relationship and contracts with account owners, including billing, compliance with contractual obligations, and related administration.\"},{purpose: \"Product Research and Development\", description: \"To develop, test, and improve Zoom Products, including, for example, content-related features (such as background filters), and to troubleshoot products and features.\"},{purpose: \"Marketing, Promotions, and Third-Party Advertising\", description: \"To permit Zoom and/or its third party marketing partners to market, advertise, and promote Zoom Products, features, and services, including based on your product usage, information we receive from third-party partners, or if you visit our websites, information about how and when you visit, and your interactions with them. We may also use cookies or similar technology, including from third-party advertising partners, to show you ads within Zoom Products about products, services, or causes from third parties. Zoom does NOT use meeting, webinar, or messaging content (specifically, audio, video, files, and messages) for any marketing, promotions or third-party advertising purposes.\"},{purpose: \"Authentication, Integrity, Security, and Safety\", description: \"To authenticate accounts and activity, detect, investigate, and prevent malicious conduct or unsafe experiences, address security threats, protect public safety, and secure Zoom Products.\"},{purpose: \"Communicate with you\", description: \"We use personal data (including contact information) to communicate with you about Zoom Products, features, and services, including product updates, your account, and changes to our policies and terms. We also use your information to respond to you when you contact us.\"},{purpose: \"Legal Reasons\", description: \"To comply with applicable law or respond to valid legal process, including from law enforcement or government agencies, to investigate or participate in civil discovery, litigation, or other adversarial legal proceedings, and to enforce or investigate potential violations of our Terms of Service or policies.\"}]}legalBases:{create:[{reference: \"GDPR-6-1-a\", description: \"As necessary for our contract: When we enter into a contract directly with you, we process your personal data on the basis of our contract in order to prepare and enter into the contract, as well as to perform and manage our contract (i.e., providing Zoom Products, features and services to account owners, their users, and those they invite to join meetings and webinars hosted on their accounts, and manage our relationship and contract, including billing, compliance with contractual obligations, and related administration). If we do not process your personal data for these purposes, we may not be able to provide you with all Products, features, and services;\"},{reference: \"GDPR-6-1-b\", description: \"Consistent with specific revocable consents: We rely on your prior consent in order to utilize cookies to engage advertising and analytics partners to deliver tailored advertising and analysis of our website usage. You have the right to withdraw your consent at any time by visiting our cookie management tool, available Cookie-Präferenzen;\"},{reference: \"GDPR-6-1-c\", description: \"As necessary to comply with our legal obligations: We process your personal data to comply with the legal obligations to which we are subject for the purposes of compliance with EEA laws, regulations, codes of practice, guidelines, or rules applicable to us, and for responses to requests from, and other communications with, competent EEA public, governmental, judicial, or other regulatory authorities. This includes detecting, investigating, preventing, and stopping fraudulent, harmful, unauthorized, or illegal activity (“fraud and abuse detection”) and compliance with privacy laws;\"},{reference: \"GDPR-6-1-d\", description: \"To protect your vital interests or those of others: We process certain personal data in order to protect vital interests for the purpose of detecting and preventing illicit activities that impact vital interests and public safety, including child sexual abuse material; and\"},{reference: \"GDPR-6-1-f\", description: \"As necessary for our (or others’) legitimate interests, unless those interests are overridden by your interests or fundamental rights and freedoms, which require protection of personal data: We process your personal data based on such legitimate interests to (i) enter and perform the contract with the account owner and/or reseller providing you with the Products (which includes billing, compliance with contractual obligations, and related administration and support); (ii) develop, test, and improve our Products and troubleshoot products and features; (iii) ensure authentication, integrity, security, and safety of accounts, activity, and Products, including detect and prevent malicious conduct and violations of our terms and policies, prevent or investigate bad or unsafe experiences, and address security threats; (iv) send marketing communications, advertising, and promotions related to the Products; and (v) comply with non-EEA laws, regulations, codes of practice, guidelines, or rules applicable to us and respond to requests from, and other communications with, competent non-EEA public, governmental, judicial, or other regulatory authorities, as well as meet our corporate and social responsibility commitments, protect our rights and property and the ones of our customers, resolve disputes, and enforce agreements.\"}]}legitimateInterests:{create:[{reasoning: \"As necessary for our (or others’) legitimate interests, unless those interests are overridden by your interests or fundamental rights and freedoms, which require protection of personal data: We process your personal data based on such legitimate interests to (i) enter and perform the contract with the account owner and/or reseller providing you with the Products (which includes billing, compliance with contractual obligations, and related administration and support); (ii) develop, test, and improve our Products and troubleshoot products and features; (iii) ensure authentication, integrity, security, and safety of accounts, activity, and Products, including detect and prevent malicious conduct and violations of our terms and policies, prevent or investigate bad or unsafe experiences, and address security threats; (iv) send marketing communications, advertising, and promotions related to the Products; and (v) comply with non-EEA laws, regulations, codes of practice, guidelines, or rules applicable to us and respond to requests from, and other communications with, competent non-EEA public, governmental, judicial, or other regulatory authorities, as well as meet our corporate and social responsibility commitments, protect our rights and property and the ones of our customers, resolve disputes, and enforce agreements.\", exists: \"True\"}]}recipients:{create:[{category: \"Reseller\"},{category: \"Vendors\"},{category: \"Marketing, Advertising\"}]}storage:{create:[{purposeConditional: [\"The length of time we have an ongoing relationship with you and provide Zoom Products to you (for example, for as long as you have an account with us or keep using our Products)\", \"Whether account owners modify or their users delete information through their accounts\", \"Whether we have a legal obligation to keep the data (for example, certain laws require us to keep records of your transactions for a certain period of time before we can delete them)\", \"Whether retention is advisable in light of our legal position (such as in regard to the enforcement of our agreements, the resolution of disputes, and applicable statutes of limitations, litigation, or regulatory investigation)\"]aggregationFunction: \"max\"}]}nonDisclosure:{create:[{legalRequirement: \"False\", contractualRegulation: \"False\", obligationToProvide: \"False\"}]}subcategories: [\"name\", \"contact information\", \"responses to registration questions\"]},{_id: \"79899483-2dcd-45f6-a068-f4adc8784c69\", category: \"Device Information\", purposes:{create:[{purpose: \"Provide Zoom Products and Services\", description: \"To provide Products, features, and services to account owners, their users, and those they invite to join meetings and webinars hosted on their accounts, including to customize Zoom Product features and recommendations for accounts or their users. Zoom also uses personal data, including contact information, to route invitations and messages to recipients when people send invitations and messages using Zoom Products. This may also include using personal data for customer support, which may include accessing audio, video, files, and messages, at the direction of the account owner or their users. We also use personal data to manage our relationship and contracts with account owners, including billing, compliance with contractual obligations, and related administration.\"},{purpose: \"Product Research and Development\", description: \"To develop, test, and improve Zoom Products, including, for example, content-related features (such as background filters), and to troubleshoot products and features.\"},{purpose: \"Marketing, Promotions, and Third-Party Advertising\", description: \"To permit Zoom and/or its third party marketing partners to market, advertise, and promote Zoom Products, features, and services, including based on your product usage, information we receive from third-party partners, or if you visit our websites, information about how and when you visit, and your interactions with them. We may also use cookies or similar technology, including from third-party advertising partners, to show you ads within Zoom Products about products, services, or causes from third parties. Zoom does NOT use meeting, webinar, or messaging content (specifically, audio, video, files, and messages) for any marketing, promotions or third-party advertising purposes.\"},{purpose: \"Authentication, Integrity, Security, and Safety\", description: \"To authenticate accounts and activity, detect, investigate, and prevent malicious conduct or unsafe experiences, address security threats, protect public safety, and secure Zoom Products.\"},{purpose: \"Communicate with you\", description: \"We use personal data (including contact information) to communicate with you about Zoom Products, features, and services, including product updates, your account, and changes to our policies and terms. We also use your information to respond to you when you contact us.\"},{purpose: \"Legal Reasons\", description: \"To comply with applicable law or respond to valid legal process, including from law enforcement or government agencies, to investigate or participate in civil discovery, litigation, or other adversarial legal proceedings, and to enforce or investigate potential violations of our Terms of Service or policies.\"}]}legalBases:{create:[{reference: \"GDPR-6-1-a\", description: \"As necessary for our contract: When we enter into a contract directly with you, we process your personal data on the basis of our contract in order to prepare and enter into the contract, as well as to perform and manage our contract (i.e., providing Zoom Products, features and services to account owners, their users, and those they invite to join meetings and webinars hosted on their accounts, and manage our relationship and contract, including billing, compliance with contractual obligations, and related administration). If we do not process your personal data for these purposes, we may not be able to provide you with all Products, features, and services;\"},{reference: \"GDPR-6-1-b\", description: \"Consistent with specific revocable consents: We rely on your prior consent in order to utilize cookies to engage advertising and analytics partners to deliver tailored advertising and analysis of our website usage. You have the right to withdraw your consent at any time by visiting our cookie management tool, available Cookie-Präferenzen;\"},{reference: \"GDPR-6-1-c\", description: \"As necessary to comply with our legal obligations: We process your personal data to comply with the legal obligations to which we are subject for the purposes of compliance with EEA laws, regulations, codes of practice, guidelines, or rules applicable to us, and for responses to requests from, and other communications with, competent EEA public, governmental, judicial, or other regulatory authorities. This includes detecting, investigating, preventing, and stopping fraudulent, harmful, unauthorized, or illegal activity (“fraud and abuse detection”) and compliance with privacy laws;\"},{reference: \"GDPR-6-1-d\", description: \"To protect your vital interests or those of others: We process certain personal data in order to protect vital interests for the purpose of detecting and preventing illicit activities that impact vital interests and public safety, including child sexual abuse material; and\"},{reference: \"GDPR-6-1-f\", description: \"As necessary for our (or others’) legitimate interests, unless those interests are overridden by your interests or fundamental rights and freedoms, which require protection of personal data: We process your personal data based on such legitimate interests to (i) enter and perform the contract with the account owner and/or reseller providing you with the Products (which includes billing, compliance with contractual obligations, and related administration and support); (ii) develop, test, and improve our Products and troubleshoot products and features; (iii) ensure authentication, integrity, security, and safety of accounts, activity, and Products, including detect and prevent malicious conduct and violations of our terms and policies, prevent or investigate bad or unsafe experiences, and address security threats; (iv) send marketing communications, advertising, and promotions related to the Products; and (v) comply with non-EEA laws, regulations, codes of practice, guidelines, or rules applicable to us and respond to requests from, and other communications with, competent non-EEA public, governmental, judicial, or other regulatory authorities, as well as meet our corporate and social responsibility commitments, protect our rights and property and the ones of our customers, resolve disputes, and enforce agreements.\"}]}legitimateInterests:{create:[{reasoning: \"As necessary for our (or others’) legitimate interests, unless those interests are overridden by your interests or fundamental rights and freedoms, which require protection of personal data: We process your personal data based on such legitimate interests to (i) enter and perform the contract with the account owner and/or reseller providing you with the Products (which includes billing, compliance with contractual obligations, and related administration and support); (ii) develop, test, and improve our Products and troubleshoot products and features; (iii) ensure authentication, integrity, security, and safety of accounts, activity, and Products, including detect and prevent malicious conduct and violations of our terms and policies, prevent or investigate bad or unsafe experiences, and address security threats; (iv) send marketing communications, advertising, and promotions related to the Products; and (v) comply with non-EEA laws, regulations, codes of practice, guidelines, or rules applicable to us and respond to requests from, and other communications with, competent non-EEA public, governmental, judicial, or other regulatory authorities, as well as meet our corporate and social responsibility commitments, protect our rights and property and the ones of our customers, resolve disputes, and enforce agreements.\", exists: \"True\"}]}recipients:{create:[{category: \"Reseller\"},{category: \"Vendors\"},{category: \"Marketing, Advertising\"}]}storage:{create:[{purposeConditional: [\"The length of time we have an ongoing relationship with you and provide Zoom Products to you (for example, for as long as you have an account with us or keep using our Products)\", \"Whether account owners modify or their users delete information through their accounts\", \"Whether we have a legal obligation to keep the data (for example, certain laws require us to keep records of your transactions for a certain period of time before we can delete them)\", \"Whether retention is advisable in light of our legal position (such as in regard to the enforcement of our agreements, the resolution of disputes, and applicable statutes of limitations, litigation, or regulatory investigation)\"]aggregationFunction: \"max\"}]}nonDisclosure:{create:[{legalRequirement: \"False\", contractualRegulation: \"False\", obligationToProvide: \"False\"}]}subcategories: [\"information about the speakers\", \"microphone\", \"camera\", \"OS version\", \"hard disk ID\", \"PC name\", \"MAC address\", \"IP address\", \"device attributes\", \"WIFI information\"]},{_id: \"772634c0-68fa-4e3f-9c3f-e050a92bc527\", category: \"marketing, Webinar, Messaging Content and Context\", purposes:{create:[{purpose: \"Provide Zoom Products and Services\", description: \"To provide Products, features, and services to account owners, their users, and those they invite to join meetings and webinars hosted on their accounts, including to customize Zoom Product features and recommendations for accounts or their users. Zoom also uses personal data, including contact information, to route invitations and messages to recipients when people send invitations and messages using Zoom Products. This may also include using personal data for customer support, which may include accessing audio, video, files, and messages, at the direction of the account owner or their users. We also use personal data to manage our relationship and contracts with account owners, including billing, compliance with contractual obligations, and related administration.\"},{purpose: \"Product Research and Development\", description: \"To develop, test, and improve Zoom Products, including, for example, content-related features (such as background filters), and to troubleshoot products and features.\"},{purpose: \"Marketing, Promotions, and Third-Party Advertising\", description: \"To permit Zoom and/or its third party marketing partners to market, advertise, and promote Zoom Products, features, and services, including based on your product usage, information we receive from third-party partners, or if you visit our websites, information about how and when you visit, and your interactions with them. We may also use cookies or similar technology, including from third-party advertising partners, to show you ads within Zoom Products about products, services, or causes from third parties. Zoom does NOT use meeting, webinar, or messaging content (specifically, audio, video, files, and messages) for any marketing, promotions or third-party advertising purposes.\"},{purpose: \"Authentication, Integrity, Security, and Safety\", description: \"To authenticate accounts and activity, detect, investigate, and prevent malicious conduct or unsafe experiences, address security threats, protect public safety, and secure Zoom Products.\"},{purpose: \"Communicate with you\", description: \"We use personal data (including contact information) to communicate with you about Zoom Products, features, and services, including product updates, your account, and changes to our policies and terms. We also use your information to respond to you when you contact us.\"},{purpose: \"Legal Reasons\", description: \"To comply with applicable law or respond to valid legal process, including from law enforcement or government agencies, to investigate or participate in civil discovery, litigation, or other adversarial legal proceedings, and to enforce or investigate potential violations of our Terms of Service or policies.\"}]}legalBases:{create:[{reference: \"GDPR-6-1-a\", description: \"As necessary for our contract: When we enter into a contract directly with you, we process your personal data on the basis of our contract in order to prepare and enter into the contract, as well as to perform and manage our contract (i.e., providing Zoom Products, features and services to account owners, their users, and those they invite to join meetings and webinars hosted on their accounts, and manage our relationship and contract, including billing, compliance with contractual obligations, and related administration). If we do not process your personal data for these purposes, we may not be able to provide you with all Products, features, and services;\"},{reference: \"GDPR-6-1-b\", description: \"Consistent with specific revocable consents: We rely on your prior consent in order to utilize cookies to engage advertising and analytics partners to deliver tailored advertising and analysis of our website usage. You have the right to withdraw your consent at any time by visiting our cookie management tool, available Cookie-Präferenzen;\"},{reference: \"GDPR-6-1-c\", description: \"As necessary to comply with our legal obligations: We process your personal data to comply with the legal obligations to which we are subject for the purposes of compliance with EEA laws, regulations, codes of practice, guidelines, or rules applicable to us, and for responses to requests from, and other communications with, competent EEA public, governmental, judicial, or other regulatory authorities. This includes detecting, investigating, preventing, and stopping fraudulent, harmful, unauthorized, or illegal activity (“fraud and abuse detection”) and compliance with privacy laws;\"},{reference: \"GDPR-6-1-d\", description: \"To protect your vital interests or those of others: We process certain personal data in order to protect vital interests for the purpose of detecting and preventing illicit activities that impact vital interests and public safety, including child sexual abuse material; and\"},{reference: \"GDPR-6-1-f\", description: \"As necessary for our (or others’) legitimate interests, unless those interests are overridden by your interests or fundamental rights and freedoms, which require protection of personal data: We process your personal data based on such legitimate interests to (i) enter and perform the contract with the account owner and/or reseller providing you with the Products (which includes billing, compliance with contractual obligations, and related administration and support); (ii) develop, test, and improve our Products and troubleshoot products and features; (iii) ensure authentication, integrity, security, and safety of accounts, activity, and Products, including detect and prevent malicious conduct and violations of our terms and policies, prevent or investigate bad or unsafe experiences, and address security threats; (iv) send marketing communications, advertising, and promotions related to the Products; and (v) comply with non-EEA laws, regulations, codes of practice, guidelines, or rules applicable to us and respond to requests from, and other communications with, competent non-EEA public, governmental, judicial, or other regulatory authorities, as well as meet our corporate and social responsibility commitments, protect our rights and property and the ones of our customers, resolve disputes, and enforce agreements.\"}]}legitimateInterests:{create:[{reasoning: \"As necessary for our (or others’) legitimate interests, unless those interests are overridden by your interests or fundamental rights and freedoms, which require protection of personal data: We process your personal data based on such legitimate interests to (i) enter and perform the contract with the account owner and/or reseller providing you with the Products (which includes billing, compliance with contractual obligations, and related administration and support); (ii) develop, test, and improve our Products and troubleshoot products and features; (iii) ensure authentication, integrity, security, and safety of accounts, activity, and Products, including detect and prevent malicious conduct and violations of our terms and policies, prevent or investigate bad or unsafe experiences, and address security threats; (iv) send marketing communications, advertising, and promotions related to the Products; and (v) comply with non-EEA laws, regulations, codes of practice, guidelines, or rules applicable to us and respond to requests from, and other communications with, competent non-EEA public, governmental, judicial, or other regulatory authorities, as well as meet our corporate and social responsibility commitments, protect our rights and property and the ones of our customers, resolve disputes, and enforce agreements.\", exists: \"True\"}]}recipients:{create:[{category: \"Reseller\"},{category: \"Vendors\"},{category: \"Marketing, Advertising\"}]}storage:{create:[{purposeConditional: [\"The length of time we have an ongoing relationship with you and provide Zoom Products to you (for example, for as long as you have an account with us or keep using our Products)\", \"Whether account owners modify or their users delete information through their accounts\", \"Whether we have a legal obligation to keep the data (for example, certain laws require us to keep records of your transactions for a certain period of time before we can delete them)\", \"Whether retention is advisable in light of our legal position (such as in regard to the enforcement of our agreements, the resolution of disputes, and applicable statutes of limitations, litigation, or regulatory investigation)\"]aggregationFunction: \"max\"}]}nonDisclosure:{create:[{legalRequirement: \"False\", contractualRegulation: \"False\", obligationToProvide: \"False\"}]}subcategories: [\"audio\", \"video\", \"in-meeting messages\", \"chat messaging content\", \"transcriptions\", \"written feedback\", \"responses to polls and Q&A\", \"files\", \"invitation details\", \"meeting or chat name\", \"meeting agenda\", \"voice\", \"image\"]},{_id: \"aaad0238-c8ba-4524-b75b-93cd29830f9b\", category: \"Product and Website Usage\", purposes:{create:[{purpose: \"Provide Zoom Products and Services\", description: \"To provide Products, features, and services to account owners, their users, and those they invite to join meetings and webinars hosted on their accounts, including to customize Zoom Product features and recommendations for accounts or their users. Zoom also uses personal data, including contact information, to route invitations and messages to recipients when people send invitations and messages using Zoom Products. This may also include using personal data for customer support, which may include accessing audio, video, files, and messages, at the direction of the account owner or their users. We also use personal data to manage our relationship and contracts with account owners, including billing, compliance with contractual obligations, and related administration.\"},{purpose: \"Product Research and Development\", description: \"To develop, test, and improve Zoom Products, including, for example, content-related features (such as background filters), and to troubleshoot products and features.\"},{purpose: \"Marketing, Promotions, and Third-Party Advertising\", description: \"To permit Zoom and/or its third party marketing partners to market, advertise, and promote Zoom Products, features, and services, including based on your product usage, information we receive from third-party partners, or if you visit our websites, information about how and when you visit, and your interactions with them. We may also use cookies or similar technology, including from third-party advertising partners, to show you ads within Zoom Products about products, services, or causes from third parties. Zoom does NOT use meeting, webinar, or messaging content (specifically, audio, video, files, and messages) for any marketing, promotions or third-party advertising purposes.\"},{purpose: \"Authentication, Integrity, Security, and Safety\", description: \"To authenticate accounts and activity, detect, investigate, and prevent malicious conduct or unsafe experiences, address security threats, protect public safety, and secure Zoom Products.\"},{purpose: \"Communicate with you\", description: \"We use personal data (including contact information) to communicate with you about Zoom Products, features, and services, including product updates, your account, and changes to our policies and terms. We also use your information to respond to you when you contact us.\"},{purpose: \"Legal Reasons\", description: \"To comply with applicable law or respond to valid legal process, including from law enforcement or government agencies, to investigate or participate in civil discovery, litigation, or other adversarial legal proceedings, and to enforce or investigate potential violations of our Terms of Service or policies.\"}]}legalBases:{create:[{reference: \"GDPR-6-1-a\", description: \"As necessary for our contract: When we enter into a contract directly with you, we process your personal data on the basis of our contract in order to prepare and enter into the contract, as well as to perform and manage our contract (i.e., providing Zoom Products, features and services to account owners, their users, and those they invite to join meetings and webinars hosted on their accounts, and manage our relationship and contract, including billing, compliance with contractual obligations, and related administration). If we do not process your personal data for these purposes, we may not be able to provide you with all Products, features, and services;\"},{reference: \"GDPR-6-1-b\", description: \"Consistent with specific revocable consents: We rely on your prior consent in order to utilize cookies to engage advertising and analytics partners to deliver tailored advertising and analysis of our website usage. You have the right to withdraw your consent at any time by visiting our cookie management tool, available Cookie-Präferenzen;\"},{reference: \"GDPR-6-1-c\", description: \"As necessary to comply with our legal obligations: We process your personal data to comply with the legal obligations to which we are subject for the purposes of compliance with EEA laws, regulations, codes of practice, guidelines, or rules applicable to us, and for responses to requests from, and other communications with, competent EEA public, governmental, judicial, or other regulatory authorities. This includes detecting, investigating, preventing, and stopping fraudulent, harmful, unauthorized, or illegal activity (“fraud and abuse detection”) and compliance with privacy laws;\"},{reference: \"GDPR-6-1-d\", description: \"To protect your vital interests or those of others: We process certain personal data in order to protect vital interests for the purpose of detecting and preventing illicit activities that impact vital interests and public safety, including child sexual abuse material; and\"},{reference: \"GDPR-6-1-f\", description: \"As necessary for our (or others’) legitimate interests, unless those interests are overridden by your interests or fundamental rights and freedoms, which require protection of personal data: We process your personal data based on such legitimate interests to (i) enter and perform the contract with the account owner and/or reseller providing you with the Products (which includes billing, compliance with contractual obligations, and related administration and support); (ii) develop, test, and improve our Products and troubleshoot products and features; (iii) ensure authentication, integrity, security, and safety of accounts, activity, and Products, including detect and prevent malicious conduct and violations of our terms and policies, prevent or investigate bad or unsafe experiences, and address security threats; (iv) send marketing communications, advertising, and promotions related to the Products; and (v) comply with non-EEA laws, regulations, codes of practice, guidelines, or rules applicable to us and respond to requests from, and other communications with, competent non-EEA public, governmental, judicial, or other regulatory authorities, as well as meet our corporate and social responsibility commitments, protect our rights and property and the ones of our customers, resolve disputes, and enforce agreements.\"}]}legitimateInterests:{create:[{reasoning: \"As necessary for our (or others’) legitimate interests, unless those interests are overridden by your interests or fundamental rights and freedoms, which require protection of personal data: We process your personal data based on such legitimate interests to (i) enter and perform the contract with the account owner and/or reseller providing you with the Products (which includes billing, compliance with contractual obligations, and related administration and support); (ii) develop, test, and improve our Products and troubleshoot products and features; (iii) ensure authentication, integrity, security, and safety of accounts, activity, and Products, including detect and prevent malicious conduct and violations of our terms and policies, prevent or investigate bad or unsafe experiences, and address security threats; (iv) send marketing communications, advertising, and promotions related to the Products; and (v) comply with non-EEA laws, regulations, codes of practice, guidelines, or rules applicable to us and respond to requests from, and other communications with, competent non-EEA public, governmental, judicial, or other regulatory authorities, as well as meet our corporate and social responsibility commitments, protect our rights and property and the ones of our customers, resolve disputes, and enforce agreements.\", exists: \"True\"}]}recipients:{create:[{category: \"Reseller\"},{category: \"Vendors\"},{category: \"Marketing, Advertising\"}]}storage:{create:[{purposeConditional: [\"The length of time we have an ongoing relationship with you and provide Zoom Products to you (for example, for as long as you have an account with us or keep using our Products)\", \"Whether account owners modify or their users delete information through their accounts\", \"Whether we have a legal obligation to keep the data (for example, certain laws require us to keep records of your transactions for a certain period of time before we can delete them)\", \"Whether retention is advisable in light of our legal position (such as in regard to the enforcement of our agreements, the resolution of disputes, and applicable statutes of limitations, litigation, or regulatory investigation)\"]aggregationFunction: \"max\"}]}nonDisclosure:{create:[{legalRequirement: \"False\", contractualRegulation: \"False\", obligationToProvide: \"False\"}]}subcategories: [\"when participants join and leave a meeting\", \"whether participants sent messages\", \"performance data\", \"mouse movements\", \"clicks\", \"keystrokes\", \"actions (such as mute/unmute or video on/off)\"]},{_id: \"723820fc-6c9d-4822-a4b0-38a13ce2f132\", category: \"Communications with Zoom\", purposes:{create:[{purpose: \"Provide Zoom Products and Services\", description: \"To provide Products, features, and services to account owners, their users, and those they invite to join meetings and webinars hosted on their accounts, including to customize Zoom Product features and recommendations for accounts or their users. Zoom also uses personal data, including contact information, to route invitations and messages to recipients when people send invitations and messages using Zoom Products. This may also include using personal data for customer support, which may include accessing audio, video, files, and messages, at the direction of the account owner or their users. We also use personal data to manage our relationship and contracts with account owners, including billing, compliance with contractual obligations, and related administration.\"},{purpose: \"Product Research and Development\", description: \"To develop, test, and improve Zoom Products, including, for example, content-related features (such as background filters), and to troubleshoot products and features.\"},{purpose: \"Marketing, Promotions, and Third-Party Advertising\", description: \"To permit Zoom and/or its third party marketing partners to market, advertise, and promote Zoom Products, features, and services, including based on your product usage, information we receive from third-party partners, or if you visit our websites, information about how and when you visit, and your interactions with them. We may also use cookies or similar technology, including from third-party advertising partners, to show you ads within Zoom Products about products, services, or causes from third parties. Zoom does NOT use meeting, webinar, or messaging content (specifically, audio, video, files, and messages) for any marketing, promotions or third-party advertising purposes.\"},{purpose: \"Authentication, Integrity, Security, and Safety\", description: \"To authenticate accounts and activity, detect, investigate, and prevent malicious conduct or unsafe experiences, address security threats, protect public safety, and secure Zoom Products.\"},{purpose: \"Communicate with you\", description: \"We use personal data (including contact information) to communicate with you about Zoom Products, features, and services, including product updates, your account, and changes to our policies and terms. We also use your information to respond to you when you contact us.\"},{purpose: \"Legal Reasons\", description: \"To comply with applicable law or respond to valid legal process, including from law enforcement or government agencies, to investigate or participate in civil discovery, litigation, or other adversarial legal proceedings, and to enforce or investigate potential violations of our Terms of Service or policies.\"}]}legalBases:{create:[{reference: \"GDPR-6-1-a\", description: \"As necessary for our contract: When we enter into a contract directly with you, we process your personal data on the basis of our contract in order to prepare and enter into the contract, as well as to perform and manage our contract (i.e., providing Zoom Products, features and services to account owners, their users, and those they invite to join meetings and webinars hosted on their accounts, and manage our relationship and contract, including billing, compliance with contractual obligations, and related administration). If we do not process your personal data for these purposes, we may not be able to provide you with all Products, features, and services;\"},{reference: \"GDPR-6-1-b\", description: \"Consistent with specific revocable consents: We rely on your prior consent in order to utilize cookies to engage advertising and analytics partners to deliver tailored advertising and analysis of our website usage. You have the right to withdraw your consent at any time by visiting our cookie management tool, available Cookie-Präferenzen;\"},{reference: \"GDPR-6-1-c\", description: \"As necessary to comply with our legal obligations: We process your personal data to comply with the legal obligations to which we are subject for the purposes of compliance with EEA laws, regulations, codes of practice, guidelines, or rules applicable to us, and for responses to requests from, and other communications with, competent EEA public, governmental, judicial, or other regulatory authorities. This includes detecting, investigating, preventing, and stopping fraudulent, harmful, unauthorized, or illegal activity (“fraud and abuse detection”) and compliance with privacy laws;\"},{reference: \"GDPR-6-1-d\", description: \"To protect your vital interests or those of others: We process certain personal data in order to protect vital interests for the purpose of detecting and preventing illicit activities that impact vital interests and public safety, including child sexual abuse material; and\"},{reference: \"GDPR-6-1-f\", description: \"As necessary for our (or others’) legitimate interests, unless those interests are overridden by your interests or fundamental rights and freedoms, which require protection of personal data: We process your personal data based on such legitimate interests to (i) enter and perform the contract with the account owner and/or reseller providing you with the Products (which includes billing, compliance with contractual obligations, and related administration and support); (ii) develop, test, and improve our Products and troubleshoot products and features; (iii) ensure authentication, integrity, security, and safety of accounts, activity, and Products, including detect and prevent malicious conduct and violations of our terms and policies, prevent or investigate bad or unsafe experiences, and address security threats; (iv) send marketing communications, advertising, and promotions related to the Products; and (v) comply with non-EEA laws, regulations, codes of practice, guidelines, or rules applicable to us and respond to requests from, and other communications with, competent non-EEA public, governmental, judicial, or other regulatory authorities, as well as meet our corporate and social responsibility commitments, protect our rights and property and the ones of our customers, resolve disputes, and enforce agreements.\"}]}legitimateInterests:{create:[{reasoning: \"As necessary for our (or others’) legitimate interests, unless those interests are overridden by your interests or fundamental rights and freedoms, which require protection of personal data: We process your personal data based on such legitimate interests to (i) enter and perform the contract with the account owner and/or reseller providing you with the Products (which includes billing, compliance with contractual obligations, and related administration and support); (ii) develop, test, and improve our Products and troubleshoot products and features; (iii) ensure authentication, integrity, security, and safety of accounts, activity, and Products, including detect and prevent malicious conduct and violations of our terms and policies, prevent or investigate bad or unsafe experiences, and address security threats; (iv) send marketing communications, advertising, and promotions related to the Products; and (v) comply with non-EEA laws, regulations, codes of practice, guidelines, or rules applicable to us and respond to requests from, and other communications with, competent non-EEA public, governmental, judicial, or other regulatory authorities, as well as meet our corporate and social responsibility commitments, protect our rights and property and the ones of our customers, resolve disputes, and enforce agreements.\", exists: \"True\"}]}recipients:{create:[{category: \"Reseller\"},{category: \"Vendors\"},{category: \"Marketing, Advertising\"}]}storage:{create:[{purposeConditional: [\"The length of time we have an ongoing relationship with you and provide Zoom Products to you (for example, for as long as you have an account with us or keep using our Products)\", \"Whether account owners modify or their users delete information through their accounts\", \"Whether we have a legal obligation to keep the data (for example, certain laws require us to keep records of your transactions for a certain period of time before we can delete them)\", \"Whether retention is advisable in light of our legal position (such as in regard to the enforcement of our agreements, the resolution of disputes, and applicable statutes of limitations, litigation, or regulatory investigation)\"]aggregationFunction: \"max\"}]}nonDisclosure:{create:[{legalRequirement: \"False\", contractualRegulation: \"False\", obligationToProvide: \"False\"}]}subcategories: [\"support questions\", \"your account\", \"other inquiries\"]},{_id: \"18d0a187-3946-4511-8a4d-4f99b1fb68d1\", category: \"Information from Partners\", purposes:{create:[{purpose: \"Provide Zoom Products and Services\", description: \"To provide Products, features, and services to account owners, their users, and those they invite to join meetings and webinars hosted on their accounts, including to customize Zoom Product features and recommendations for accounts or their users. Zoom also uses personal data, including contact information, to route invitations and messages to recipients when people send invitations and messages using Zoom Products. This may also include using personal data for customer support, which may include accessing audio, video, files, and messages, at the direction of the account owner or their users. We also use personal data to manage our relationship and contracts with account owners, including billing, compliance with contractual obligations, and related administration.\"},{purpose: \"Product Research and Development\", description: \"To develop, test, and improve Zoom Products, including, for example, content-related features (such as background filters), and to troubleshoot products and features.\"},{purpose: \"Marketing, Promotions, and Third-Party Advertising\", description: \"To permit Zoom and/or its third party marketing partners to market, advertise, and promote Zoom Products, features, and services, including based on your product usage, information we receive from third-party partners, or if you visit our websites, information about how and when you visit, and your interactions with them. We may also use cookies or similar technology, including from third-party advertising partners, to show you ads within Zoom Products about products, services, or causes from third parties. Zoom does NOT use meeting, webinar, or messaging content (specifically, audio, video, files, and messages) for any marketing, promotions or third-party advertising purposes.\"},{purpose: \"Authentication, Integrity, Security, and Safety\", description: \"To authenticate accounts and activity, detect, investigate, and prevent malicious conduct or unsafe experiences, address security threats, protect public safety, and secure Zoom Products.\"},{purpose: \"Communicate with you\", description: \"We use personal data (including contact information) to communicate with you about Zoom Products, features, and services, including product updates, your account, and changes to our policies and terms. We also use your information to respond to you when you contact us.\"},{purpose: \"Legal Reasons\", description: \"To comply with applicable law or respond to valid legal process, including from law enforcement or government agencies, to investigate or participate in civil discovery, litigation, or other adversarial legal proceedings, and to enforce or investigate potential violations of our Terms of Service or policies.\"}]}legalBases:{create:[{reference: \"GDPR-6-1-a\", description: \"As necessary for our contract: When we enter into a contract directly with you, we process your personal data on the basis of our contract in order to prepare and enter into the contract, as well as to perform and manage our contract (i.e., providing Zoom Products, features and services to account owners, their users, and those they invite to join meetings and webinars hosted on their accounts, and manage our relationship and contract, including billing, compliance with contractual obligations, and related administration). If we do not process your personal data for these purposes, we may not be able to provide you with all Products, features, and services;\"},{reference: \"GDPR-6-1-b\", description: \"Consistent with specific revocable consents: We rely on your prior consent in order to utilize cookies to engage advertising and analytics partners to deliver tailored advertising and analysis of our website usage. You have the right to withdraw your consent at any time by visiting our cookie management tool, available Cookie-Präferenzen;\"},{reference: \"GDPR-6-1-c\", description: \"As necessary to comply with our legal obligations: We process your personal data to comply with the legal obligations to which we are subject for the purposes of compliance with EEA laws, regulations, codes of practice, guidelines, or rules applicable to us, and for responses to requests from, and other communications with, competent EEA public, governmental, judicial, or other regulatory authorities. This includes detecting, investigating, preventing, and stopping fraudulent, harmful, unauthorized, or illegal activity (“fraud and abuse detection”) and compliance with privacy laws;\"},{reference: \"GDPR-6-1-d\", description: \"To protect your vital interests or those of others: We process certain personal data in order to protect vital interests for the purpose of detecting and preventing illicit activities that impact vital interests and public safety, including child sexual abuse material; and\"},{reference: \"GDPR-6-1-f\", description: \"As necessary for our (or others’) legitimate interests, unless those interests are overridden by your interests or fundamental rights and freedoms, which require protection of personal data: We process your personal data based on such legitimate interests to (i) enter and perform the contract with the account owner and/or reseller providing you with the Products (which includes billing, compliance with contractual obligations, and related administration and support); (ii) develop, test, and improve our Products and troubleshoot products and features; (iii) ensure authentication, integrity, security, and safety of accounts, activity, and Products, including detect and prevent malicious conduct and violations of our terms and policies, prevent or investigate bad or unsafe experiences, and address security threats; (iv) send marketing communications, advertising, and promotions related to the Products; and (v) comply with non-EEA laws, regulations, codes of practice, guidelines, or rules applicable to us and respond to requests from, and other communications with, competent non-EEA public, governmental, judicial, or other regulatory authorities, as well as meet our corporate and social responsibility commitments, protect our rights and property and the ones of our customers, resolve disputes, and enforce agreements.\"}]}legitimateInterests:{create:[{reasoning: \"As necessary for our (or others’) legitimate interests, unless those interests are overridden by your interests or fundamental rights and freedoms, which require protection of personal data: We process your personal data based on such legitimate interests to (i) enter and perform the contract with the account owner and/or reseller providing you with the Products (which includes billing, compliance with contractual obligations, and related administration and support); (ii) develop, test, and improve our Products and troubleshoot products and features; (iii) ensure authentication, integrity, security, and safety of accounts, activity, and Products, including detect and prevent malicious conduct and violations of our terms and policies, prevent or investigate bad or unsafe experiences, and address security threats; (iv) send marketing communications, advertising, and promotions related to the Products; and (v) comply with non-EEA laws, regulations, codes of practice, guidelines, or rules applicable to us and respond to requests from, and other communications with, competent non-EEA public, governmental, judicial, or other regulatory authorities, as well as meet our corporate and social responsibility commitments, protect our rights and property and the ones of our customers, resolve disputes, and enforce agreements.\", exists: \"True\"}]}recipients:{create:[{category: \"Reseller\"},{category: \"Vendors\"},{category: \"Marketing, Advertising\"}]}storage:{create:[{purposeConditional: [\"The length of time we have an ongoing relationship with you and provide Zoom Products to you (for example, for as long as you have an account with us or keep using our Products)\", \"Whether account owners modify or their users delete information through their accounts\", \"Whether we have a legal obligation to keep the data (for example, certain laws require us to keep records of your transactions for a certain period of time before we can delete them)\", \"Whether retention is advisable in light of our legal position (such as in regard to the enforcement of our agreements, the resolution of disputes, and applicable statutes of limitations, litigation, or regulatory investigation)\"]aggregationFunction: \"max\"}]}nonDisclosure:{create:[{legalRequirement: \"False\", contractualRegulation: \"False\", obligationToProvide: \"False\"}]}subcategories: [\"company size\", \"industry\", \"contact information\"]}]}thirdCountryTransfers:{create:[{country: \"US\", _comment: \"Therefore, by using Zoom Products or providing personal data for any of the purposes stated above, you acknowledge that your personal data may be transferred to or stored in the United States where we are established, as well as in other countries outside of the EEA, Switzerland, and the UK. Such countries may have data protection rules that are different and less protective than those of your country.\"}]}accessAndDataPortability:{create:[{available: \"True\", description: \"Whether retention is advisable in light of our legal position (such as in regard to the enforcement of our agreements, the resolution of disputes, and applicable statutes of limitations, litigation, or regulatory investigation)\", url: \"https://zoom-privacy.my.onetrust.com/webform/65962359-ef0d-4399-9db4-572d06de08aa/f277f9f7-bfee-4233-815e-80e290139bc2\", email: \"privacy@zoom.us\"}]}sources:{create:[{dataCategory: \"Information from Partners\", sources:{create:[{description: \"\", url: \"\", publiclyAvailable: \"False\", category: \"market data enrichment services\"}]}_comment: \"No data about possible sources available\"}]}rightToInformation:{create:[{available: \"True\", description: \" You have the right to access any personal data that we hold about you \", url: \"https://zoom-privacy.my.onetrust.com/webform/65962359-ef0d-4399-9db4-572d06de08aa/f277f9f7-bfee-4233-815e-80e290139bc2\", email: \"privacy@zoom.us\"}]}rightToRectificationOrDeletion:{create:[{available: \"True\", description: \" You have the right to require us to correct any inaccurate or incomplete personal data\", url: \"https://zoom-privacy.my.onetrust.com/webform/65962359-ef0d-4399-9db4-572d06de08aa/f277f9f7-bfee-4233-815e-80e290139bc2\", email: \"privacy@zoom.us\"}]}rightToDataPortability:{create:[{available: \"True\", description: \"Whether retention is advisable in light of our legal position (such as in regard to the enforcement of our agreements, the resolution of disputes, and applicable statutes of limitations, litigation, or regulatory investigation)\", url: \"https://zoom-privacy.my.onetrust.com/webform/65962359-ef0d-4399-9db4-572d06de08aa/f277f9f7-bfee-4233-815e-80e290139bc2\", email: \"privacy@zoom.us\"}]}rightToWithdrawConsent:{create:[{available: \"True\", description: \"You have the right to withdraw your consent at any time by visiting our cookie management tool\", url: \"httos://zoom.us\", email: \"privacy@zoom.us\"}]}rightToComplain:{create:[{available: \"True\", description: \"You also have the right to lodge a complaint to a data protection authority. For more information, please contact your local data protection authority.\", email: \"privacy@zoom.us\", supervisoryAuthority:{create:[{name: \"Data Protection Commission\", address: \"21 Fitzwilliam Square SouthDublin 2D02 RD28Ireland\", country: \"IE\", phone: \"+3531 7650100\", url: \"https://forms.dataprotection.ie/contact\"}]}}]}automatedDecisionMaking:{create:[{logicInvolved: \"Zoom uses advanced tools to automatically scan content such as virtual backgrounds, profile images, and files uploaded or exchanged through chat\", inUse: \"True\", scopeAndIntendedEffects: \"for the purpose of detecting and preventing violations of our terms or policies and illegal or other harmful activity, and its employees may investigate such content where required for legal, safety, or security reasons\"}]}}] ) {tilts {meta { name } } }}\n"
     ]
    }
   ],
   "source": [
    "print(\"mutation { createtilts( input: [ { \" + create_node(repo_tilts[9]) + \"}] ) {tilts {meta { name } } }}\")"
   ]
  },
  {
   "cell_type": "code",
   "execution_count": 213,
   "metadata": {},
   "outputs": [
    {
     "name": "stderr",
     "output_type": "stream",
     "text": [
      "100%|██████████| 71/71 [00:00<00:00, 1002.49it/s]\n"
     ]
    }
   ],
   "source": [
    "tilt_mutations = []\n",
    "for tilt_entry in tqdm(repo_tilts):\n",
    "    tilt_mutations.append((\"mutation { createtilts( input: [ { \" + create_node(tilt_entry) + \"}] ) {tilts {meta { name } } }}\").replace('representative: \"None\",',\"\"))\n",
    "    #tilt_mutations[-1] = tilt_mutations[-1].replace('representative: \"None\"','')"
   ]
  },
  {
   "cell_type": "code",
   "execution_count": 215,
   "metadata": {},
   "outputs": [
    {
     "name": "stderr",
     "output_type": "stream",
     "text": [
      "100%|██████████| 71/71 [03:10<00:00,  2.68s/it]"
     ]
    },
    {
     "name": "stdout",
     "output_type": "stream",
     "text": [
      "413 Client Error: Payload Too Large for url: http://localhost:4001/graphql\n",
      "Error With Tilt No. 70\n",
      "Successfully Uploaded: 98.59154929577466 per. of tilts\n"
     ]
    },
    {
     "name": "stderr",
     "output_type": "stream",
     "text": [
      "\n"
     ]
    }
   ],
   "source": [
    "successes = 0\n",
    "for i, query_string in enumerate(tqdm(tilt_mutations)):\n",
    "    #print(\"Query String: \", query_string)\n",
    "    try:\n",
    "        query = gql(query_string)\n",
    "        client.execute(query)\n",
    "        successes += 1\n",
    "    except Exception as syn:\n",
    "        print(syn)\n",
    "        print(\"Error With Tilt No.\", i)\n",
    "\n",
    "print(\"Successfully Uploaded:\", 100*(successes/(i+1)), \"per. of tilts\")"
   ]
  },
  {
   "cell_type": "markdown",
   "metadata": {},
   "source": [
    "# Analysis "
   ]
  },
  {
   "cell_type": "code",
   "execution_count": 216,
   "metadata": {},
   "outputs": [],
   "source": [
    "from neo4j import GraphDatabase"
   ]
  },
  {
   "cell_type": "code",
   "execution_count": 217,
   "metadata": {},
   "outputs": [],
   "source": [
    "class make_queries:\n",
    "\n",
    "    \"\"\"\n",
    "    class:  exampleTilt\n",
    "    input:  - uri: bolt uri from neo4j\n",
    "            - auth: credentials for neo4j\n",
    "            - no_nodes: number of nodes to create \n",
    "            - comp_df:  dataframe with company names and websites\n",
    "            - mu_poisson_*: average no. of samples for poisson distribution\n",
    "            - reset: whether to delete all nodes in database (default False, meant for experimentation)\n",
    "\n",
    "    \"\"\"\n",
    "\n",
    "    def __init__(self, uri, auth,  reset = False):\n",
    "        self.driver = GraphDatabase.driver(uri, auth=auth)\n",
    "        self.reset = reset\n",
    "\n",
    "\n",
    "    def close(self):\n",
    "        self.driver.close()\n",
    "        \n",
    "    # Match and display all friendships.\n",
    "    @classmethod\n",
    "    def print_friendships(cls, tx):\n",
    "        result = tx.run(\"MATCH (a)-[:KNOWS]->(b) RETURN a.name, b.name\")\n",
    "        for record in result:\n",
    "            print(\"{} knows {}\".format(record[\"a.name\"], record[\"b.name\"]))\n",
    "\n",
    "    @classmethod\n",
    "    def delete_nodes(cls, tx):\n",
    "        tx.run(\"MATCH (n) detach delete n\")\n",
    "\n",
    "    \n",
    "    def get_sorensen(self, tx, threshold = .9):\n",
    "        tx.run(\"MATCH (m:meta), (r:recipient) \"\n",
    "                f\"WHERE apoc.text.sorensenDiceSimilarity(apoc.text.clean(m.name), apoc.text.clean(r.name), 'en') > {threshold} \"\n",
    "                \"MERGE (m)-[c:has_sorensen]->(r)\")\n",
    "\n",
    "\n",
    "    def run_query(self, tx, cyper_statement):\n",
    "        \n",
    "        result = tx.run(cyper_statement)\n",
    "        return [point.data() for point in result] \n",
    "        \n",
    "\n",
    "    def main(self):\n",
    "        saved_bookmarks = []  # To collect the session bookmarks\n",
    "\n",
    "        if self.reset:\n",
    "            assurance = input(\"WARNING DELETING ALL DATA FROM THE GRAPH, TO CONTINUE WRITE 'yes'\")\n",
    "            if assurance == 'yes':\n",
    "                with self.driver.session() as session_del:\n",
    "                    session_del.write_transaction(self.delete_nodes)\n",
    "                    saved_bookmarks.append(session_del.last_bookmark())\n",
    "\n",
    "        #with self.driver.session() as session_sorensen: \n",
    "        #    session_sorensen.write_transaction(self.get_sorensen)\n",
    "\n",
    "infos = make_queries(uri = 'bolt://localhost:7687', \n",
    "                    auth = ('neo4j', 'letmein'), \n",
    "                    reset=False)"
   ]
  },
  {
   "cell_type": "code",
   "execution_count": 218,
   "metadata": {},
   "outputs": [],
   "source": [
    "dict_of_categories = [{'category':i['d.category'],'name':i['m.name']} for i in infos.driver.session().write_transaction(infos.run_query, \"match (m:meta)-[]-(t:tilt)-[]->(d:dataDisclosed) return m.name, d.category\")]\n",
    "\n",
    "list_of_categories = [i['category'] for i in dict_of_categories  if i['category'] != None ]\n",
    "\n",
    "with open('categories_tilt', 'wb') as fp:\n",
    "    pickle.dump(np.unique(np.asarray(list_of_categories)), fp)"
   ]
  },
  {
   "cell_type": "code",
   "execution_count": 219,
   "metadata": {},
   "outputs": [],
   "source": [
    "plt.rcParams.update(plt.rcParamsDefault)\n",
    "\n",
    "plt.rc('font',**{'family':'serif','serif':['Times']})\n",
    "plt.rc('text', usetex=True)"
   ]
  },
  {
   "cell_type": "code",
   "execution_count": 220,
   "metadata": {},
   "outputs": [],
   "source": [
    "grouped_by_name_df = pd.DataFrame(dict_of_categories).groupby('name').count()\n",
    "plt.grid()\n",
    "plt.hist(grouped_by_name_df['category'], color = 'black')\n",
    "plt.style.use('seaborn-pastel')\n",
    "\n",
    "plt.title(f\"Number of categories per controller \\n Mean: {round(grouped_by_name_df['category'].sum()/73)}\")\n",
    "plt.ylabel(\"Frequency\")\n",
    "plt.xlabel(\"No. of categories\")\n",
    "plt.savefig(\"No_categories per controller\")"
   ]
  },
  {
   "cell_type": "code",
   "execution_count": 221,
   "metadata": {},
   "outputs": [],
   "source": [
    "dict_of_purposes = [{'purpose':i['p.purpose'],'name': i['m.name']} for i in infos.driver.session().write_transaction(infos.run_query, \"match (m:meta)-[]-(t:tilt)-[]->(d:dataDisclosed)-[]-(p:purposes) return p.purpose, m.name\")]# if i['p.purpose'] != None ]\n",
    "\n",
    "list_of_purposes =  [i['purpose'] for i in dict_of_purposes if i['purpose'] != None]\n",
    "\n",
    "with open('purpose_tilt', 'wb') as fp:\n",
    "    pickle.dump(np.unique(np.asarray(list_of_purposes)), fp)"
   ]
  },
  {
   "cell_type": "code",
   "execution_count": 222,
   "metadata": {},
   "outputs": [
    {
     "data": {
      "text/plain": [
       "577"
      ]
     },
     "execution_count": 222,
     "metadata": {},
     "output_type": "execute_result"
    }
   ],
   "source": [
    "list_of_purposes.__len__()"
   ]
  },
  {
   "cell_type": "code",
   "execution_count": 223,
   "metadata": {},
   "outputs": [],
   "source": [
    "pd_purposes = pd.DataFrame(dict_of_purposes).groupby('name').count()\n",
    "plt.grid()\n",
    "plt.hist(pd_purposes['purpose'], color= 'black')\n",
    "plt.title(f\"No. of purposes per controller \\n Mean (including firms with None): {round(pd_purposes['purpose'].sum()/73)}\")\n",
    "plt.ylabel('Frequency')\n",
    "plt.xlabel(\"No. purposes\")\n",
    "plt.savefig(\"no_purposes_per_controller\")"
   ]
  },
  {
   "cell_type": "code",
   "execution_count": 224,
   "metadata": {},
   "outputs": [
    {
     "data": {
      "text/html": [
       "<div>\n",
       "<style scoped>\n",
       "    .dataframe tbody tr th:only-of-type {\n",
       "        vertical-align: middle;\n",
       "    }\n",
       "\n",
       "    .dataframe tbody tr th {\n",
       "        vertical-align: top;\n",
       "    }\n",
       "\n",
       "    .dataframe thead th {\n",
       "        text-align: right;\n",
       "    }\n",
       "</style>\n",
       "<table border=\"1\" class=\"dataframe\">\n",
       "  <thead>\n",
       "    <tr style=\"text-align: right;\">\n",
       "      <th></th>\n",
       "      <th>purpose</th>\n",
       "    </tr>\n",
       "    <tr>\n",
       "      <th>name</th>\n",
       "      <th></th>\n",
       "    </tr>\n",
       "  </thead>\n",
       "  <tbody>\n",
       "    <tr>\n",
       "      <th>ARD Mediathek</th>\n",
       "      <td>3</td>\n",
       "    </tr>\n",
       "    <tr>\n",
       "      <th>Adobe</th>\n",
       "      <td>16</td>\n",
       "    </tr>\n",
       "    <tr>\n",
       "      <th>Amazon Alexa Terms of Use</th>\n",
       "      <td>2</td>\n",
       "    </tr>\n",
       "    <tr>\n",
       "      <th>Apple</th>\n",
       "      <td>1</td>\n",
       "    </tr>\n",
       "    <tr>\n",
       "      <th>Bundestag.de</th>\n",
       "      <td>5</td>\n",
       "    </tr>\n",
       "  </tbody>\n",
       "</table>\n",
       "</div>"
      ],
      "text/plain": [
       "                           purpose\n",
       "name                              \n",
       "ARD Mediathek                    3\n",
       "Adobe                           16\n",
       "Amazon Alexa Terms of Use        2\n",
       "Apple                            1\n",
       "Bundestag.de                     5"
      ]
     },
     "execution_count": 224,
     "metadata": {},
     "output_type": "execute_result"
    }
   ],
   "source": [
    "pd_purposes.head()"
   ]
  },
  {
   "cell_type": "code",
   "execution_count": 225,
   "metadata": {},
   "outputs": [
    {
     "data": {
      "text/html": [
       "<div>\n",
       "<style scoped>\n",
       "    .dataframe tbody tr th:only-of-type {\n",
       "        vertical-align: middle;\n",
       "    }\n",
       "\n",
       "    .dataframe tbody tr th {\n",
       "        vertical-align: top;\n",
       "    }\n",
       "\n",
       "    .dataframe thead th {\n",
       "        text-align: right;\n",
       "    }\n",
       "</style>\n",
       "<table border=\"1\" class=\"dataframe\">\n",
       "  <thead>\n",
       "    <tr style=\"text-align: right;\">\n",
       "      <th></th>\n",
       "      <th>purpose</th>\n",
       "      <th>name</th>\n",
       "    </tr>\n",
       "  </thead>\n",
       "  <tbody>\n",
       "    <tr>\n",
       "      <th>0</th>\n",
       "      <td>None</td>\n",
       "      <td>rewe</td>\n",
       "    </tr>\n",
       "    <tr>\n",
       "      <th>1</th>\n",
       "      <td>None</td>\n",
       "      <td>rewe</td>\n",
       "    </tr>\n",
       "    <tr>\n",
       "      <th>2</th>\n",
       "      <td>None</td>\n",
       "      <td>rewe</td>\n",
       "    </tr>\n",
       "    <tr>\n",
       "      <th>3</th>\n",
       "      <td>None</td>\n",
       "      <td>rewe</td>\n",
       "    </tr>\n",
       "    <tr>\n",
       "      <th>4</th>\n",
       "      <td>None</td>\n",
       "      <td>rewe</td>\n",
       "    </tr>\n",
       "    <tr>\n",
       "      <th>...</th>\n",
       "      <td>...</td>\n",
       "      <td>...</td>\n",
       "    </tr>\n",
       "    <tr>\n",
       "      <th>924</th>\n",
       "      <td>Vertragsverhältnis mit Ihnen erfüllen</td>\n",
       "      <td>webde</td>\n",
       "    </tr>\n",
       "    <tr>\n",
       "      <th>925</th>\n",
       "      <td>Artikel kommentieren</td>\n",
       "      <td>webde</td>\n",
       "    </tr>\n",
       "    <tr>\n",
       "      <th>926</th>\n",
       "      <td>Bestellung unserer Mobilfunktarife</td>\n",
       "      <td>webde</td>\n",
       "    </tr>\n",
       "    <tr>\n",
       "      <th>927</th>\n",
       "      <td>Internetsuche</td>\n",
       "      <td>webde</td>\n",
       "    </tr>\n",
       "    <tr>\n",
       "      <th>928</th>\n",
       "      <td>Personalisierte Werbung und Inhalte</td>\n",
       "      <td>webde</td>\n",
       "    </tr>\n",
       "  </tbody>\n",
       "</table>\n",
       "<p>929 rows × 2 columns</p>\n",
       "</div>"
      ],
      "text/plain": [
       "                                   purpose   name\n",
       "0                                     None   rewe\n",
       "1                                     None   rewe\n",
       "2                                     None   rewe\n",
       "3                                     None   rewe\n",
       "4                                     None   rewe\n",
       "..                                     ...    ...\n",
       "924  Vertragsverhältnis mit Ihnen erfüllen  webde\n",
       "925                   Artikel kommentieren  webde\n",
       "926     Bestellung unserer Mobilfunktarife  webde\n",
       "927                          Internetsuche  webde\n",
       "928    Personalisierte Werbung und Inhalte  webde\n",
       "\n",
       "[929 rows x 2 columns]"
      ]
     },
     "execution_count": 225,
     "metadata": {},
     "output_type": "execute_result"
    }
   ],
   "source": [
    "pd.DataFrame(dict_of_purposes)"
   ]
  },
  {
   "cell_type": "markdown",
   "metadata": {},
   "source": [
    "## No. of legal bases in total and by sector"
   ]
  },
  {
   "cell_type": "code",
   "execution_count": 518,
   "metadata": {},
   "outputs": [],
   "source": [
    "# get the legal bases\n",
    "dict_of_legalBases = [{'legalBase':i['l.reference'],'name':i['m.name'],'sector':i['c.sector']} for i in infos.driver.session().write_transaction(infos.run_query, \"match (m:meta)-[]-(t:tilt)-[]->(d:dataDisclosed)-[]->(l: legalBases), (t)-[]->(c:controller) return m.name, c.sector, d.category, l.reference\")]\n",
    "pd_legalBases = pd.DataFrame(dict_of_legalBases)"
   ]
  },
  {
   "cell_type": "code",
   "execution_count": 531,
   "metadata": {},
   "outputs": [
    {
     "name": "stderr",
     "output_type": "stream",
     "text": [
      "/var/folders/zb/r42lnkhn1vjgbg6gmbnqxz6h0000gn/T/ipykernel_67489/94930859.py:2: FutureWarning: Indexing with multiple keys (implicitly converted to a tuple of keys) will be deprecated, use a list instead.\n",
      "  unique_by_company = pd_legalBases.groupby('name')['legalBase','sector'].agg(['unique'])\n"
     ]
    }
   ],
   "source": [
    "# group them by company and unique values\n",
    "unique_by_company = pd_legalBases.groupby('name')['legalBase','sector'].agg(['unique'])\n",
    "# count the number of companies per sector\n",
    "count_sector = pd_legalBases.groupby(['sector'])['name'].agg(lambda x: len(np.unique(x))).reset_index()\n",
    "unique_by_company['sector'] = unique_by_company['sector']['unique'].apply(lambda x: x[0])\n",
    "# find whether a legal base is inside at least once per tilt\n",
    "bases = ['GDPR-6-1-a', 'GDPR-6-1-b', 'GDPR-6-1-c', 'GDPR-6-1-d', 'GDPR-6-1-e', 'GDPR-6-1-f', 'None']\n",
    "\n",
    "for head in bases[:-1]:\n",
    "    col_list = []\n",
    "    for sublist in unique_by_company['legalBase']['unique']:\n",
    "\n",
    "        # try to find multiple formats of the Articles \n",
    "        if head in sublist or f'DSGVO{head[4:]}' in sublist or f'Artikel 6 Absatz 1 Buchstabe {head[-1]}' in sublist :\n",
    "            col_list.append(True)\n",
    "\n",
    "        else: \n",
    "            col_list.append(False)\n",
    "    unique_by_company[head] = col_list\n",
    "\n",
    "unique_by_company['None'] = [None in i for i in unique_by_company['legalBase']['unique']]"
   ]
  },
  {
   "cell_type": "code",
   "execution_count": 532,
   "metadata": {},
   "outputs": [],
   "source": [
    "# rename the columns to reindex everything\n",
    "unique_by_company.columns = ['legalBase','sector','GDPR-6-1-a', 'GDPR-6-1-b', 'GDPR-6-1-c', 'GDPR-6-1-d', 'GDPR-6-1-e', 'GDPR-6-1-f', 'None']"
   ]
  },
  {
   "cell_type": "code",
   "execution_count": 533,
   "metadata": {},
   "outputs": [],
   "source": [
    "#count the number of occurances by sector\n",
    "grouped = unique_by_company.groupby('sector')[bases].agg('sum').reset_index()\n",
    "# account for the number of companies in each sector\n",
    "grouped = grouped.merge(count_sector, on = 'sector')"
   ]
  },
  {
   "cell_type": "code",
   "execution_count": 534,
   "metadata": {},
   "outputs": [],
   "source": [
    "grouped['in_J'] = grouped['sector']==\"J\""
   ]
  },
  {
   "cell_type": "code",
   "execution_count": 535,
   "metadata": {},
   "outputs": [
    {
     "name": "stderr",
     "output_type": "stream",
     "text": [
      "/var/folders/zb/r42lnkhn1vjgbg6gmbnqxz6h0000gn/T/ipykernel_67489/654104676.py:1: FutureWarning: Indexing with multiple keys (implicitly converted to a tuple of keys) will be deprecated, use a list instead.\n",
      "  grouped_byJ = grouped.groupby('in_J')['GDPR-6-1-a',\n"
     ]
    },
    {
     "data": {
      "text/html": [
       "<div>\n",
       "<style scoped>\n",
       "    .dataframe tbody tr th:only-of-type {\n",
       "        vertical-align: middle;\n",
       "    }\n",
       "\n",
       "    .dataframe tbody tr th {\n",
       "        vertical-align: top;\n",
       "    }\n",
       "\n",
       "    .dataframe thead th {\n",
       "        text-align: right;\n",
       "    }\n",
       "</style>\n",
       "<table border=\"1\" class=\"dataframe\">\n",
       "  <thead>\n",
       "    <tr style=\"text-align: right;\">\n",
       "      <th></th>\n",
       "      <th>in_J</th>\n",
       "      <th>GDPR-6-1-a</th>\n",
       "      <th>GDPR-6-1-b</th>\n",
       "      <th>GDPR-6-1-c</th>\n",
       "      <th>GDPR-6-1-d</th>\n",
       "      <th>GDPR-6-1-e</th>\n",
       "      <th>GDPR-6-1-f</th>\n",
       "      <th>None</th>\n",
       "      <th>name</th>\n",
       "    </tr>\n",
       "  </thead>\n",
       "  <tbody>\n",
       "    <tr>\n",
       "      <th>0</th>\n",
       "      <td>False</td>\n",
       "      <td>6</td>\n",
       "      <td>4</td>\n",
       "      <td>4</td>\n",
       "      <td>1</td>\n",
       "      <td>1</td>\n",
       "      <td>3</td>\n",
       "      <td>27</td>\n",
       "      <td>33</td>\n",
       "    </tr>\n",
       "    <tr>\n",
       "      <th>1</th>\n",
       "      <td>True</td>\n",
       "      <td>8</td>\n",
       "      <td>8</td>\n",
       "      <td>5</td>\n",
       "      <td>3</td>\n",
       "      <td>3</td>\n",
       "      <td>10</td>\n",
       "      <td>10</td>\n",
       "      <td>22</td>\n",
       "    </tr>\n",
       "  </tbody>\n",
       "</table>\n",
       "</div>"
      ],
      "text/plain": [
       "    in_J  GDPR-6-1-a  GDPR-6-1-b  GDPR-6-1-c  GDPR-6-1-d  GDPR-6-1-e  \\\n",
       "0  False           6           4           4           1           1   \n",
       "1   True           8           8           5           3           3   \n",
       "\n",
       "   GDPR-6-1-f  None  name  \n",
       "0           3    27    33  \n",
       "1          10    10    22  "
      ]
     },
     "execution_count": 535,
     "metadata": {},
     "output_type": "execute_result"
    }
   ],
   "source": [
    "grouped_byJ = grouped.groupby('in_J')['GDPR-6-1-a',\n",
    " 'GDPR-6-1-b',\n",
    " 'GDPR-6-1-c',\n",
    " 'GDPR-6-1-d',\n",
    " 'GDPR-6-1-e',\n",
    " 'GDPR-6-1-f',\n",
    " 'None', 'name'].agg(\"sum\").reset_index()\n",
    "grouped_byJ"
   ]
  },
  {
   "cell_type": "code",
   "execution_count": 536,
   "metadata": {},
   "outputs": [
    {
     "data": {
      "text/plain": [
       "Index(['sector', 'GDPR-6-1-a', 'GDPR-6-1-b', 'GDPR-6-1-c', 'GDPR-6-1-d',\n",
       "       'GDPR-6-1-e', 'GDPR-6-1-f', 'None', 'name', 'in_J'],\n",
       "      dtype='object')"
      ]
     },
     "execution_count": 536,
     "metadata": {},
     "output_type": "execute_result"
    }
   ],
   "source": [
    "grouped.columns"
   ]
  },
  {
   "cell_type": "code",
   "execution_count": 537,
   "metadata": {},
   "outputs": [],
   "source": [
    "#calculate percentages by occurance\n",
    "for head in bases:\n",
    "    grouped[f\"{head}_per\"] = grouped[head]/grouped['name']\n",
    "\n",
    "for head in bases:\n",
    "    grouped_byJ[f\"{head}_per\"] = grouped_byJ[head]/grouped_byJ['name']"
   ]
  },
  {
   "cell_type": "code",
   "execution_count": 541,
   "metadata": {},
   "outputs": [
    {
     "data": {
      "text/plain": [
       "<Figure size 640x480 with 0 Axes>"
      ]
     },
     "metadata": {},
     "output_type": "display_data"
    },
    {
     "data": {
      "image/png": "[encoded data removed]",
      "text/plain": [
       "<Figure size 640x480 with 1 Axes>"
      ]
     },
     "metadata": {},
     "output_type": "display_data"
    }
   ],
   "source": [
    "# plot\n",
    "grouped.plot(x = 'sector', y = ['GDPR-6-1-a_per',\n",
    "       'GDPR-6-1-b_per', 'GDPR-6-1-c_per', 'GDPR-6-1-d_per', 'GDPR-6-1-e_per',\n",
    "       'GDPR-6-1-f_per'] , kind = 'bar')\n",
    "plt.grid()\n",
    "plt.ylabel(\"Firms using legal base at least once (\\%)\")\n",
    "plt.show()\n",
    "plt.savefig('legalBases_bySector')"
   ]
  },
  {
   "cell_type": "code",
   "execution_count": 543,
   "metadata": {},
   "outputs": [
    {
     "data": {
      "text/plain": [
       "<Figure size 640x480 with 0 Axes>"
      ]
     },
     "metadata": {},
     "output_type": "display_data"
    },
    {
     "data": {
      "image/png": "[encoded data removed]",
      "text/plain": [
       "<Figure size 640x480 with 1 Axes>"
      ]
     },
     "metadata": {},
     "output_type": "display_data"
    }
   ],
   "source": [
    "grouped_byJ.plot(x = 'in_J', y = ['GDPR-6-1-a_per',\n",
    "       'GDPR-6-1-b_per', 'GDPR-6-1-c_per', 'GDPR-6-1-d_per', 'GDPR-6-1-e_per',\n",
    "       'GDPR-6-1-f_per'], kind = 'bar')\n",
    "plt.xlabel('Firms in Information and Communication')\n",
    "plt.xticks(ticks = [0,1], labels = ['None IC Sectors', 'IC Sector'], rotation = 0)\n",
    "plt.legend(labels= ['GDPR-6-1-a',\n",
    " 'GDPR-6-1-b',\n",
    " 'GDPR-6-1-c',\n",
    " 'GDPR-6-1-d',\n",
    " 'GDPR-6-1-e',\n",
    " 'GDPR-6-1-f'])\n",
    "plt.ylabel(\"Firms using legal base at least once (\\%)\")\n",
    "plt.grid()\n",
    "plt.show()\n",
    "plt.savefig(\"legalBases_ITvsRest.png\")"
   ]
  },
  {
   "cell_type": "code",
   "execution_count": null,
   "metadata": {},
   "outputs": [],
   "source": []
  }
 ],
 "metadata": {
  "kernelspec": {
   "display_name": "Python 3.9.12 ('base')",
   "language": "python",
   "name": "python3"
  },
  "language_info": {
   "codemirror_mode": {
    "name": "ipython",
    "version": 3
   },
   "file_extension": ".py",
   "mimetype": "text/x-python",
   "name": "python",
   "nbconvert_exporter": "python",
   "pygments_lexer": "ipython3",
   "version": "3.9.12"
  },
  "orig_nbformat": 4,
  "vscode": {
   "interpreter": {
    "hash": "98a2b17e149e4e8a0b6acf04d01298b022c80a24b0767a95d910142ef5b4f869"
   }
  }
 },
 "nbformat": 4,
 "nbformat_minor": 2
}
